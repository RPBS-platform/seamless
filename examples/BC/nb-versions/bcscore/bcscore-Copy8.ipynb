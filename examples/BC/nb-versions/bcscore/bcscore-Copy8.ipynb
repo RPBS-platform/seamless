{
 "cells": [
  {
   "cell_type": "code",
   "execution_count": 1,
   "metadata": {},
   "outputs": [],
   "source": [
    "from seamless.highlevel import Context, Transformer\n",
    "\n",
    "ctx = Context()"
   ]
  },
  {
   "cell_type": "code",
   "execution_count": 2,
   "metadata": {},
   "outputs": [],
   "source": [
    "ctx.pdb = open(\"1AKE-flanks.pdb\").read()\n",
    "ctx.load_pdb = Transformer()\n",
    "ctx.load_pdb.pdb = ctx.pdb\n",
    "ctx.load_pdb.code.mount(\"load_pdb.py\")\n",
    "ctx.coor = ctx.load_pdb"
   ]
  },
  {
   "cell_type": "code",
   "execution_count": 3,
   "metadata": {},
   "outputs": [
    {
     "name": "stdout",
     "output_type": "stream",
     "text": [
      "Execute local\n",
      "Execute local\n"
     ]
    },
    {
     "name": "stderr",
     "output_type": "stream",
     "text": [
      "************************************************************\n",
      "Exception in Seamless transformer: .bcscore.tf.gen_header, stream element None:\n",
      "Traceback (most recent call last):\n",
      "  File \"/home/sjoerd/seamless/seamless/core/jobscheduler.py\", line 236, in _execute_local\n",
      "    raise Exception(msg)\n",
      "Exception: Traceback (most recent call last):\n",
      "  File \"/home/sjoerd/seamless/seamless/core/execute.py\", line 79, in execute\n",
      "    exec_code(code, identifier, namespace, inputs, output_name)\n",
      "  File \"/home/sjoerd/seamless/seamless/core/cached_compile.py\", line 58, in exec_code\n",
      "    exec(code_obj, namespace)\n",
      "  File \"Seamless transformer: .bcscore.tf.gen_header\", line 16, in <module>\n",
      "    raise TypeError(\"Input schema needs to be defined\")\n",
      "TypeError: Input schema needs to be defined\n",
      "\n",
      "************************************************************\n",
      "\n"
     ]
    },
    {
     "name": "stdout",
     "output_type": "stream",
     "text": [
      "Warning: File path 'bcscore.c' has a different value, overwriting cell\n"
     ]
    },
    {
     "name": "stderr",
     "output_type": "stream",
     "text": [
      "************************************************************\n",
      "Exception in Seamless transformer: .bcscore.tf.gen_header, stream element None:\n",
      "Traceback (most recent call last):\n",
      "  File \"/home/sjoerd/seamless/seamless/core/jobscheduler.py\", line 236, in _execute_local\n",
      "    raise Exception(msg)\n",
      "Exception: Traceback (most recent call last):\n",
      "  File \"/home/sjoerd/seamless/seamless/core/execute.py\", line 79, in execute\n",
      "    exec_code(code, identifier, namespace, inputs, output_name)\n",
      "  File \"/home/sjoerd/seamless/seamless/core/cached_compile.py\", line 58, in exec_code\n",
      "    exec(code_obj, namespace)\n",
      "  File \"Seamless transformer: .bcscore.tf.gen_header\", line 16, in <module>\n",
      "    raise TypeError(\"Input schema needs to be defined\")\n",
      "TypeError: Input schema needs to be defined\n",
      "\n",
      "************************************************************\n",
      "\n"
     ]
    }
   ],
   "source": [
    "def bcscore(coor1, coor2):\n",
    "    print(\"BCSCORE\", \"coor1\", coor1.shape, \"coor2\", coor2.shape)\n",
    "    return 0.5\n",
    "\n",
    "ctx.bcscore = bcscore\n",
    "ctx.bcscore.coor1 = ctx.coor\n",
    "ctx.bcscore.coor2 = ctx.coor\n",
    "\n",
    "ctx.bcscore.language = \"c\"\n",
    "\n",
    "ctx.bcscore.inp.schema.mount(\"bcscore-schema.json\")\n",
    "ctx.bcscore.code.mount(\"bcscore.c\", authority=\"file\")\n",
    "ctx.bcscore.result.example.set(1.0)\n",
    "ctx.bcscore.result.schema[\"form\"] = {\"bytesize\": 4}\n",
    "\n",
    "ctx.bc_result = ctx.bcscore"
   ]
  },
  {
   "cell_type": "code",
   "execution_count": 4,
   "metadata": {},
   "outputs": [
    {
     "name": "stdout",
     "output_type": "stream",
     "text": [
      "Execute local\n",
      "Execute local\n"
     ]
    },
    {
     "name": "stderr",
     "output_type": "stream",
     "text": [
      "************************************************************\n",
      "Exception in Seamless transformer: .bcscore.tf.gen_header, stream element None:\n",
      "Traceback (most recent call last):\n",
      "  File \"/home/sjoerd/seamless/seamless/core/jobscheduler.py\", line 236, in _execute_local\n",
      "    raise Exception(msg)\n",
      "Exception: Traceback (most recent call last):\n",
      "  File \"/home/sjoerd/seamless/seamless/core/execute.py\", line 79, in execute\n",
      "    exec_code(code, identifier, namespace, inputs, output_name)\n",
      "  File \"/home/sjoerd/seamless/seamless/core/cached_compile.py\", line 58, in exec_code\n",
      "    exec(code_obj, namespace)\n",
      "  File \"Seamless transformer: .bcscore.tf.gen_header\", line 16, in <module>\n",
      "    raise TypeError(\"Input schema needs to be defined\")\n",
      "TypeError: Input schema needs to be defined\n",
      "\n",
      "************************************************************\n",
      "\n"
     ]
    },
    {
     "name": "stdout",
     "output_type": "stream",
     "text": [
      "Execute local\n",
      "Execute local\n",
      "Execute local\n",
      "Waiting for: [Seamless transformer: .bcscore.tf.translator]\n",
      "Waiting for: [Seamless transformer: .bcscore.tf.translator]\n",
      "gcc -c main.c -O3 -ffast-math -march=native -fPIC -p -g -o main.o\n",
      "\n"
     ]
    },
    {
     "data": {
      "text/plain": [
       "'OK'"
      ]
     },
     "execution_count": 4,
     "metadata": {},
     "output_type": "execute_result"
    }
   ],
   "source": [
    "await ctx.computation()\n",
    "ctx.bcscore.status"
   ]
  },
  {
   "cell_type": "code",
   "execution_count": 5,
   "metadata": {},
   "outputs": [
    {
     "name": "stdout",
     "output_type": "stream",
     "text": [
      "{'properties': {'coor1': {'form': {'contiguous': True,\n",
      "                                   'ndim': 2,\n",
      "                                   'shape': [-1, 3]},\n",
      "                          'items': {'form': {'bytesize': 8, 'type': 'number'}},\n",
      "                          'storage': 'binary',\n",
      "                          'type': 'array'},\n",
      "                'coor2': {'form': {'contiguous': True,\n",
      "                                   'ndim': 2,\n",
      "                                   'shape': [-1, 3]},\n",
      "                          'items': {'form': {'bytesize': 8, 'type': 'number'}},\n",
      "                          'storage': 'binary',\n",
      "                          'type': 'array'}},\n",
      " 'type': 'object',\n",
      " 'validators': [{'code': 'def validate_shape(self):\\n'\n",
      "                         '    assert self.coor1.shape == self.coor2.shape\\n',\n",
      "                 'language': 'python',\n",
      "                 'name': 'validate_shape'}]}\n",
      "{'form': {'bytesize': 4}, 'type': 'number'}\n",
      "\n",
      "/*\n",
      "The following C header has been auto-generated from the transformer schema\n",
      "It will be used to generate bindings, but it will not be automatically\n",
      "added to the compiled transformer code.\n",
      "\n",
      "If your transformer code is written in C/C++, you may do so yourself.\n",
      "For C, you may need to include \"stdint.h\" and \"stdbool.h\".\n",
      "If your transform() function is written in C++, don't forget to add \"extern C\"\n",
      "*/\n",
      "\n",
      "typedef struct Coor1Struct {\n",
      "  const double *data;\n",
      "  unsigned int shape[2];\n",
      "} Coor1Struct;\n",
      "\n",
      "typedef struct Coor2Struct {\n",
      "  const double *data;\n",
      "  unsigned int shape[2];\n",
      "} Coor2Struct;\n",
      "\n",
      "float transform(const Coor1Struct* coor1, const Coor2Struct* coor2);\n"
     ]
    }
   ],
   "source": [
    "await ctx.computation()\n",
    "print(ctx.bcscore.schema)\n",
    "print(ctx.bcscore.result.schema)\n",
    "print(ctx.bcscore.header.value)"
   ]
  },
  {
   "cell_type": "code",
   "execution_count": 6,
   "metadata": {},
   "outputs": [
    {
     "name": "stdout",
     "output_type": "stream",
     "text": [
      "0.41999998688697815\n"
     ]
    }
   ],
   "source": [
    "await ctx.computation()\n",
    "print(ctx.bc_result.value)"
   ]
  },
  {
   "cell_type": "code",
   "execution_count": null,
   "metadata": {},
   "outputs": [],
   "source": []
  }
 ],
 "metadata": {
  "kernelspec": {
   "display_name": "Python 3",
   "language": "python",
   "name": "python3"
  },
  "language_info": {
   "codemirror_mode": {
    "name": "ipython",
    "version": 3
   },
   "file_extension": ".py",
   "mimetype": "text/x-python",
   "name": "python",
   "nbconvert_exporter": "python",
   "pygments_lexer": "ipython3",
   "version": "3.6.7"
  }
 },
 "nbformat": 4,
 "nbformat_minor": 2
}
