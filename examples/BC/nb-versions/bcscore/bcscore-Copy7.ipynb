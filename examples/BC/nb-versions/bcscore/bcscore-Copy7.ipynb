{
 "cells": [
  {
   "cell_type": "code",
   "execution_count": 1,
   "metadata": {},
   "outputs": [],
   "source": [
    "from seamless.highlevel import Context, Transformer\n",
    "\n",
    "ctx = Context()"
   ]
  },
  {
   "cell_type": "code",
   "execution_count": 2,
   "metadata": {},
   "outputs": [],
   "source": [
    "ctx.pdb = open(\"1AKE-flanks.pdb\").read()\n",
    "ctx.load_pdb = Transformer()\n",
    "ctx.load_pdb.pdb = ctx.pdb\n",
    "ctx.load_pdb.code.mount(\"load_pdb.py\")\n",
    "ctx.coor = ctx.load_pdb"
   ]
  },
  {
   "cell_type": "code",
   "execution_count": 3,
   "metadata": {},
   "outputs": [
    {
     "name": "stdout",
     "output_type": "stream",
     "text": [
      "Execute local\n",
      "Execute local\n"
     ]
    },
    {
     "name": "stderr",
     "output_type": "stream",
     "text": [
      "************************************************************\n",
      "Exception in Seamless transformer: .bcscore.tf.gen_header, stream element None:\n",
      "Traceback (most recent call last):\n",
      "  File \"/home/sjoerd/seamless/seamless/core/jobscheduler.py\", line 236, in _execute_local\n",
      "    raise Exception(msg)\n",
      "Exception: Traceback (most recent call last):\n",
      "  File \"/home/sjoerd/seamless/seamless/core/execute.py\", line 79, in execute\n",
      "    exec_code(code, identifier, namespace, inputs, output_name)\n",
      "  File \"/home/sjoerd/seamless/seamless/core/cached_compile.py\", line 58, in exec_code\n",
      "    exec(code_obj, namespace)\n",
      "  File \"Seamless transformer: .bcscore.tf.gen_header\", line 16, in <module>\n",
      "    raise TypeError(\"Input schema needs to be defined\")\n",
      "TypeError: Input schema needs to be defined\n",
      "\n",
      "************************************************************\n",
      "\n"
     ]
    },
    {
     "name": "stdout",
     "output_type": "stream",
     "text": [
      "Execute local\n"
     ]
    },
    {
     "name": "stderr",
     "output_type": "stream",
     "text": [
      "************************************************************\n",
      "Exception in Seamless transformer: .bcscore.tf.gen_header, stream element None:\n",
      "Traceback (most recent call last):\n",
      "  File \"/home/sjoerd/seamless/seamless/core/jobscheduler.py\", line 236, in _execute_local\n",
      "    raise Exception(msg)\n",
      "Exception: Traceback (most recent call last):\n",
      "  File \"/home/sjoerd/seamless/seamless/core/execute.py\", line 79, in execute\n",
      "    exec_code(code, identifier, namespace, inputs, output_name)\n",
      "  File \"/home/sjoerd/seamless/seamless/core/cached_compile.py\", line 58, in exec_code\n",
      "    exec(code_obj, namespace)\n",
      "  File \"Seamless transformer: .bcscore.tf.gen_header\", line 16, in <module>\n",
      "    raise TypeError(\"Input schema needs to be defined\")\n",
      "TypeError: Input schema needs to be defined\n",
      "\n",
      "************************************************************\n",
      "\n"
     ]
    },
    {
     "name": "stdout",
     "output_type": "stream",
     "text": [
      "Execute local\n"
     ]
    },
    {
     "name": "stderr",
     "output_type": "stream",
     "text": [
      "************************************************************\n",
      "Exception in Seamless transformer: .bcscore.tf.gen_header, stream element None:\n",
      "Traceback (most recent call last):\n",
      "  File \"/home/sjoerd/seamless/seamless/core/jobscheduler.py\", line 236, in _execute_local\n",
      "    raise Exception(msg)\n",
      "Exception: Traceback (most recent call last):\n",
      "  File \"/home/sjoerd/seamless/seamless/core/execute.py\", line 79, in execute\n",
      "    exec_code(code, identifier, namespace, inputs, output_name)\n",
      "  File \"/home/sjoerd/seamless/seamless/core/cached_compile.py\", line 58, in exec_code\n",
      "    exec(code_obj, namespace)\n",
      "  File \"Seamless transformer: .bcscore.tf.gen_header\", line 16, in <module>\n",
      "    raise TypeError(\"Input schema needs to be defined\")\n",
      "TypeError: Input schema needs to be defined\n",
      "\n",
      "************************************************************\n",
      "\n"
     ]
    },
    {
     "name": "stdout",
     "output_type": "stream",
     "text": [
      "Execute local\n",
      "Execute local\n",
      "Execute local\n",
      "Waiting for: [Seamless transformer: .bcscore.tf.translator]\n",
      "gcc -c main.c -O3 -ffast-math -march=native -fPIC -p -g -o main.o\n",
      "main.c:1:1: error: unknown type name 'def'\n",
      " def bcscore(coor1, coor2):\n",
      " ^~~\n",
      "main.c: In function 'bcscore':\n",
      "main.c:1:26: error: expected declaration specifiers before ':' token\n",
      " def bcscore(coor1, coor2):\n",
      "                          ^\n",
      "main.c:1:5: warning: type of 'coor1' defaults to 'int' [-Wimplicit-int]\n",
      " def bcscore(coor1, coor2):\n",
      "     ^~~~~~~\n",
      "main.c:1:5: warning: type of 'coor2' defaults to 'int' [-Wimplicit-int]\n",
      "\n",
      "Execute local\n",
      "gcc -c main.c -O3 -ffast-math -march=native -fPIC -p -g -o main.o\n",
      "main.c:1:1: error: unknown type name 'def'\n",
      " def bcscore(coor1, coor2):\n",
      " ^~~\n",
      "main.c: In function 'bcscore':\n",
      "main.c:1:26: error: expected declaration specifiers before ':' token\n",
      " def bcscore(coor1, coor2):\n",
      "                          ^\n",
      "main.c:1:5: warning: type of 'coor1' defaults to 'int' [-Wimplicit-int]\n",
      " def bcscore(coor1, coor2):\n",
      "     ^~~~~~~\n",
      "main.c:1:5: warning: type of 'coor2' defaults to 'int' [-Wimplicit-int]\n",
      "\n"
     ]
    },
    {
     "name": "stderr",
     "output_type": "stream",
     "text": [
      "************************************************************\n",
      "Exception in Seamless transformer: .bcscore.tf.translator, stream element None:\n",
      "Traceback (most recent call last):\n",
      "  File \"/home/sjoerd/seamless/seamless/core/jobscheduler.py\", line 208, in _execute_local\n",
      "    mod = build_module(value)\n",
      "  File \"/home/sjoerd/seamless/seamless/core/build_module.py\", line 140, in build_module\n",
      "    full_module_name, completed_checksum, completed_module_definition\n",
      "  File \"/home/sjoerd/seamless/seamless/core/build_module.py\", line 103, in build_compiled_module\n",
      "    remaining_objects, build_dir, compiler_verbose=COMPILE_VERBOSE\n",
      "  File \"/home/sjoerd/seamless/seamless/compiler/compile.py\", line 81, in compile\n",
      "    assert process.returncode == 0\n",
      "AssertionError\n",
      "************************************************************\n",
      "\n",
      "************************************************************\n",
      "Exception in Seamless transformer: .bcscore.tf.translator, stream element None:\n",
      "Traceback (most recent call last):\n",
      "  File \"/home/sjoerd/seamless/seamless/core/jobscheduler.py\", line 208, in _execute_local\n",
      "    mod = build_module(value)\n",
      "  File \"/home/sjoerd/seamless/seamless/core/build_module.py\", line 140, in build_module\n",
      "    full_module_name, completed_checksum, completed_module_definition\n",
      "  File \"/home/sjoerd/seamless/seamless/core/build_module.py\", line 103, in build_compiled_module\n",
      "    remaining_objects, build_dir, compiler_verbose=COMPILE_VERBOSE\n",
      "  File \"/home/sjoerd/seamless/seamless/compiler/compile.py\", line 81, in compile\n",
      "    assert process.returncode == 0\n",
      "AssertionError\n",
      "************************************************************\n",
      "\n"
     ]
    },
    {
     "data": {
      "text/plain": [
       "set()"
      ]
     },
     "execution_count": 3,
     "metadata": {},
     "output_type": "execute_result"
    }
   ],
   "source": [
    "def bcscore(coor1, coor2):\n",
    "    print(\"BCSCORE\", \"coor1\", coor1.shape, \"coor2\", coor2.shape)\n",
    "    return 0.5\n",
    "\n",
    "ctx.bcscore = bcscore\n",
    "ctx.bcscore.coor1 = ctx.coor\n",
    "ctx.bcscore.coor2 = ctx.coor\n",
    "\n",
    "ctx.bcscore.language = \"c\"\n",
    "\n",
    "ctx.bcscore.inp.schema.mount(\"bcscore-schema.json\")\n",
    "ctx.bcscore.result.example.set(1.0)\n",
    "ctx.bcscore.result.schema[\"form\"] = {\"bytesize\": 4}\n",
    "\n",
    "ctx.bc_result = ctx.bcscore\n",
    "await ctx.computation()"
   ]
  },
  {
   "cell_type": "code",
   "execution_count": 4,
   "metadata": {},
   "outputs": [
    {
     "name": "stdout",
     "output_type": "stream",
     "text": [
      "Execute local\n",
      "Waiting for: [Seamless transformer: .bcscore.tf.translator]\n",
      "Execute local\n",
      "gcc -c main.c -O3 -ffast-math -march=native -fPIC -p -g -o main.o\n",
      "\n"
     ]
    },
    {
     "data": {
      "text/plain": [
       "set()"
      ]
     },
     "execution_count": 4,
     "metadata": {},
     "output_type": "execute_result"
    }
   ],
   "source": [
    "ctx.bcscore.code = ctx.bcscore.header.value + \"\\n\" + \\\n",
    " \"float transform(const Coor1Struct* coor1, const Coor2Struct* coor2){return 99;}\"\n",
    "await ctx.computation()"
   ]
  },
  {
   "cell_type": "code",
   "execution_count": 5,
   "metadata": {},
   "outputs": [
    {
     "data": {
      "text/plain": [
       "99.0"
      ]
     },
     "execution_count": 5,
     "metadata": {},
     "output_type": "execute_result"
    }
   ],
   "source": [
    "ctx.bc_result.value"
   ]
  }
 ],
 "metadata": {
  "kernelspec": {
   "display_name": "Python 3",
   "language": "python",
   "name": "python3"
  },
  "language_info": {
   "codemirror_mode": {
    "name": "ipython",
    "version": 3
   },
   "file_extension": ".py",
   "mimetype": "text/x-python",
   "name": "python",
   "nbconvert_exporter": "python",
   "pygments_lexer": "ipython3",
   "version": "3.6.7"
  }
 },
 "nbformat": 4,
 "nbformat_minor": 2
}
