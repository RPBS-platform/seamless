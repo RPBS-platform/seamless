{
 "cells": [
  {
   "cell_type": "code",
   "execution_count": 1,
   "metadata": {},
   "outputs": [],
   "source": [
    "from seamless.highlevel import Context, Transformer\n",
    "\n",
    "ctx = Context()"
   ]
  },
  {
   "cell_type": "code",
   "execution_count": 2,
   "metadata": {},
   "outputs": [],
   "source": [
    "ctx.pdb = open(\"1AKE-flanks.pdb\").read()\n",
    "ctx.load_pdb = Transformer()\n",
    "ctx.load_pdb.pdb = ctx.pdb\n",
    "ctx.load_pdb.code.mount(\"load_pdb.py\")\n",
    "ctx.coor = ctx.load_pdb"
   ]
  },
  {
   "cell_type": "code",
   "execution_count": 3,
   "metadata": {},
   "outputs": [
    {
     "name": "stdout",
     "output_type": "stream",
     "text": [
      "Execute local\n"
     ]
    },
    {
     "data": {
      "text/plain": [
       "Status: {'coor': 'UNDEFINED'}"
      ]
     },
     "execution_count": 3,
     "metadata": {},
     "output_type": "execute_result"
    }
   ],
   "source": [
    "ctx.equilibrate()\n",
    "ctx.status"
   ]
  },
  {
   "cell_type": "code",
   "execution_count": 4,
   "metadata": {},
   "outputs": [
    {
     "name": "stdout",
     "output_type": "stream",
     "text": [
      "ATOM    963  CA  ALA A 127      26.322  54.841  13.688  1.00 27.42           C  \n",
      "ATOM    964  C   ALA A 127      27.277  55.648  14.511  1.00 35.22           C  \n",
      "ATOM    965  O   ALA A 127      27.802  55.137  15.509  1.00 40.67           O  \n",
      "ATOM    966  CB  ALA A 127      27.041  54.387  12.447  1.00 26.91           C  \n",
      "ATOM    967  N   PRO A 128      27.458  56.954  14.262  1.00 40.32           N  \n",
      "ATOM    968  CA  PRO A 128      28.355  57.764  15.058  1.00 35.72           C  \n",
      "ATOM    969  C   PRO A 128      27.943  57.745  16.524  1.00 39.27           C  \n",
      "ATOM    970  O   PRO A 128      28.805  57.752  17.407  1.00 46.54           O  \n",
      "ATOM    971  CB  PRO A 128      28.277  59.143  14.438  1.00 36.83           C  \n",
      "ATOM    972  CG  PRO A 128      27.812  58.895  13.050  1.00 36.86           C  \n",
      "ATOM    973  CD  PRO A 128      26.822  57.781  13.235  1.00 36.44           C  \n",
      "ATOM    974  N   SER A 129      26.656  57.667  16.849  1.00 35.27           N  \n",
      "ATOM    975  CA  SER A 129      26.333  57.776  18.239  1.00 23.47           C  \n",
      "ATOM    976  C   SER A 129      25.926  56.464  18.824  1.00 32.54           C  \n",
      "ATOM    977  O   SER A 129      25.808  56.334  20.061  1.00 35.53           O  \n",
      "ATOM    978  CB  SER A 129      25.223  58.760  18.417  1.00 30.16           C  \n",
      "ATOM    979  OG  SER A 129      24.044  58.377  17.705  1.00 35.12           O  \n",
      "ATOM    980  N   GLY A 130      25.612  55.532  17.923  1.00 26.18           N  \n",
      "ATOM    981  CA  GLY A 130      25.086  54\n",
      "None\n"
     ]
    }
   ],
   "source": [
    "print(ctx.pdb.value[:1500])\n",
    "print(ctx.coor.value)"
   ]
  },
  {
   "cell_type": "code",
   "execution_count": null,
   "metadata": {},
   "outputs": [],
   "source": []
  }
 ],
 "metadata": {
  "kernelspec": {
   "display_name": "Python 3",
   "language": "python",
   "name": "python3"
  },
  "language_info": {
   "codemirror_mode": {
    "name": "ipython",
    "version": 3
   },
   "file_extension": ".py",
   "mimetype": "text/x-python",
   "name": "python",
   "nbconvert_exporter": "python",
   "pygments_lexer": "ipython3",
   "version": "3.6.7"
  }
 },
 "nbformat": 4,
 "nbformat_minor": 2
}
