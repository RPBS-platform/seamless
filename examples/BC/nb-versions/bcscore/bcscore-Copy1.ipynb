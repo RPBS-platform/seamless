{
 "cells": [
  {
   "cell_type": "code",
   "execution_count": 1,
   "metadata": {},
   "outputs": [],
   "source": [
    "from seamless.highlevel import Context\n",
    "\n",
    "ctx = Context()"
   ]
  },
  {
   "cell_type": "code",
   "execution_count": 2,
   "metadata": {},
   "outputs": [],
   "source": [
    "ctx.pdb = open(\"1AKE-flanks.pdb\").read()"
   ]
  },
  {
   "cell_type": "code",
   "execution_count": 5,
   "metadata": {},
   "outputs": [
    {
     "data": {
      "text/plain": [
       "'OK'"
      ]
     },
     "execution_count": 5,
     "metadata": {},
     "output_type": "execute_result"
    }
   ],
   "source": [
    "await ctx.computation()\n",
    "ctx.status"
   ]
  },
  {
   "cell_type": "code",
   "execution_count": 6,
   "metadata": {},
   "outputs": [
    {
     "name": "stdout",
     "output_type": "stream",
     "text": [
      "ATOM    963  CA  ALA A 127      26.322  54.841  13.688  1.00 27.42           C  \n",
      "ATOM    964  C   ALA A 127      27.277  55.648  14.511  1.00 35.22           C  \n",
      "ATOM    965  O   ALA A 127      27.802  55.137  15.509  1.00 40.67           O  \n",
      "ATOM    966  CB  ALA A 127      27.041  54.387  12.447  1.00 26.91           C  \n",
      "ATOM    967  N   PRO A 128      27.458  56.954  14.262  1.00 40.32           N  \n",
      "ATOM    968  CA  PRO A 128      28.355  57.764  15.058  1.00 35.72           C  \n",
      "ATOM    969  C   PRO A 128      27.943  57.745  16.524  1.00 39.27           C  \n",
      "ATOM    970  O   PRO A 128      28.805  57.752  17.407  1.00 46.54           O  \n",
      "ATOM    971  CB  PRO A 128      28.277  59.143  14.438  1.00 36.83           C  \n",
      "ATOM    972  CG  PRO A 128      27.812  58.895  13.050  1.00 36.86           C  \n",
      "ATOM    973  CD  PRO A 128      26.822  57.781  13.235  1.00 36.44           C  \n",
      "ATOM    974  N   SER A 129      26.656  57.667  16.849  1.00 35.27           N  \n",
      "ATOM    975  CA  SER A 129      26.333  57.776  18.239  1.00 23.47           C  \n",
      "ATOM    976  C   SER A 129      25.926  56.464  18.824  1.00 32.54           C  \n",
      "ATOM    977  O   SER A 129      25.808  56.334  20.061  1.00 35.53           O  \n",
      "ATOM    978  CB  SER A 129      25.223  58.760  18.417  1.00 30.16           C  \n",
      "ATOM    979  OG  SER A 129      24.044  58.377  17.705  1.00 35.12           O  \n",
      "ATOM    980  N   GLY A 130      25.612  55.532  17.923  1.00 26.18           N  \n",
      "ATOM    981  CA  GLY A 130      25.086  54.264  18.402  1.00 31.57           C  \n",
      "ATOM    982  C   GLY A 130      23.598  54.425  18.751  1.00 32.35           C  \n",
      "ATOM    983  O   GLY A 130      23.027  53.495  19.323  1.00 34.98           O  \n",
      "ATOM    984  N   ASN A 138       9.642  51.947  17.056  1.00 20.34           N  \n",
      "ATOM    985  CA  ASN A 138      10.221  53.056  17.749  1.00 23.14           C  \n",
      "ATOM    986  C   ASN A 138      10.871  53.923  16.696  1.00 25.33           C  \n",
      "ATOM    987  O   ASN A 138      12.104  54.056  16.622  1.00 24.22           O  \n",
      "ATOM    988  CB  ASN A 138      11.246  52.544  18.729  1.00 25.40           C  \n",
      "ATOM    989  CG  ASN A 138      11.698  53.585  19.740  1.00 30.80           C  \n",
      "ATOM    990  ND2 ASN A 138      10.944  54.633  20.051  1.00 31.30           N  \n",
      "ATOM    991  OD1 ASN A 138      12.777  53.462  20.329  1.00 31.43           O  \n",
      "ATOM    992  N   PRO A 139      10.068  54.516  15.808  1.00 25.18           N  \n",
      "ATOM    993  CA  PRO A 139      10.584  55.204  14.637  1.00 26.60           C  \n",
      "ATOM    994  C   PRO A 139      11.249  56.549  14.973  1.00 28.04           C  \n",
      "ATOM    995  O   PRO A 139      10.957  57.118  16.053  1.00 20.41           O  \n",
      "ATOM    996  CB  PRO A 139       9.361  55.282  13.743  1.00 24.06           C  \n",
      "ATOM    997  CG  PRO A 139       8.226  55.412  14.673  1.00 25.14           C  \n",
      "ATOM    998  CD  PRO A 139       8.622  54.613  15.916  1.00 25.14           C  \n",
      "ATOM    999  N   PRO A 140      12.156  57.097  14.143  1.00 21.89           N  \n",
      "ATOM   1000  CA  PRO A 140      12.639  58.484  14.325  1.00 24.94           C  \n",
      "ATOM   1001  C   PRO A 140      11.489  59.513  14.106  1.00 32.79           C  \n",
      "ATOM   1002  O   PRO A 140      10.477  59.167  13.475  1.00 33.82           O  \n",
      "ATOM   1003  CB  PRO A 140      13.777  58.555  13.334  1.00 14.35           C  \n",
      "ATOM   1004  CG  PRO A 140      13.249  57.750  12.177  1.00 18.38           C  \n",
      "ATOM   1005  CD  PRO A 140      12.651  56.529  12.894  1.00 22.17           C  \n",
      "ATOM   1006  N   LYS A 141      11.577  60.786  14.571  1.00 33.28           N  \n",
      "ATOM   1007  CA  LYS A 141      10.533  61.820  14.450  1.00 28.49           C  \n",
      "ATOM   1008  C   LYS A 141      10.428  62.236  13.006  1.00 20.79           C  \n",
      "ATOM   1009  O   LYS A 141       9.377  62.640  12.524  1.00 34.52           O  \n",
      "ATOM   1010  CB  LYS A 141      10.883  63.022  15.357  1.00 28.74           C  \n",
      "ATOM   1011  CG  LYS A 141      10.754  62.565  16.817  1.00 28.76           C  \n",
      "ATOM   1012  CD  LYS A 141      11.473  63.536  17.715  1.00 39.32           C  \n",
      "ATOM   1013  CE  LYS A 141      11.519  63.023  19.151  1.00 53.53           C  \n",
      "ATOM   1014  NZ  LYS A 141      12.323  63.885  20.020  1.00 60.63           N1+\n",
      "\n"
     ]
    }
   ],
   "source": [
    "print(ctx.pdb.value)"
   ]
  },
  {
   "cell_type": "code",
   "execution_count": null,
   "metadata": {},
   "outputs": [],
   "source": []
  }
 ],
 "metadata": {
  "kernelspec": {
   "display_name": "Python 3",
   "language": "python",
   "name": "python3"
  },
  "language_info": {
   "codemirror_mode": {
    "name": "ipython",
    "version": 3
   },
   "file_extension": ".py",
   "mimetype": "text/x-python",
   "name": "python",
   "nbconvert_exporter": "python",
   "pygments_lexer": "ipython3",
   "version": "3.6.7"
  }
 },
 "nbformat": 4,
 "nbformat_minor": 2
}
