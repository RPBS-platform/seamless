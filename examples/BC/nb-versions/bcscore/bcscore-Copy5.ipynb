{
 "cells": [
  {
   "cell_type": "code",
   "execution_count": 1,
   "metadata": {},
   "outputs": [],
   "source": [
    "from seamless.highlevel import Context, Transformer\n",
    "\n",
    "ctx = Context()"
   ]
  },
  {
   "cell_type": "code",
   "execution_count": 2,
   "metadata": {},
   "outputs": [],
   "source": [
    "ctx.pdb = open(\"1AKE-flanks.pdb\").read()\n",
    "ctx.load_pdb = Transformer()\n",
    "ctx.load_pdb.pdb = ctx.pdb\n",
    "ctx.load_pdb.code.mount(\"load_pdb.py\")\n",
    "ctx.coor = ctx.load_pdb"
   ]
  },
  {
   "cell_type": "code",
   "execution_count": 3,
   "metadata": {},
   "outputs": [
    {
     "name": "stdout",
     "output_type": "stream",
     "text": [
      "Execute local\n"
     ]
    },
    {
     "name": "stderr",
     "output_type": "stream",
     "text": [
      "************************************************************\n",
      "Exception in Seamless transformer: .bcscore.tf.gen_header, stream element None:\n",
      "Traceback (most recent call last):\n",
      "  File \"/home/sjoerd/seamless/seamless/core/jobscheduler.py\", line 236, in _execute_local\n",
      "    raise Exception(msg)\n",
      "Exception: Traceback (most recent call last):\n",
      "  File \"/home/sjoerd/seamless/seamless/core/execute.py\", line 79, in execute\n",
      "    exec_code(code, identifier, namespace, inputs, output_name)\n",
      "  File \"/home/sjoerd/seamless/seamless/core/cached_compile.py\", line 58, in exec_code\n",
      "    exec(code_obj, namespace)\n",
      "  File \"Seamless transformer: .bcscore.tf.gen_header\", line 16, in <module>\n",
      "    raise TypeError(\"Input schema needs to be defined\")\n",
      "TypeError: Input schema needs to be defined\n",
      "\n",
      "************************************************************\n",
      "\n"
     ]
    }
   ],
   "source": [
    "def bcscore(coor1, coor2):\n",
    "    print(\"BCSCORE\", \"coor1\", coor1.shape, \"coor2\", coor2.shape)\n",
    "    return 0.5\n",
    "\n",
    "ctx.bcscore = bcscore\n",
    "ctx.bcscore.coor1 = ctx.coor\n",
    "ctx.bcscore.coor2 = ctx.coor\n",
    "\n",
    "ctx.bcscore.language = \"c\""
   ]
  },
  {
   "cell_type": "code",
   "execution_count": 4,
   "metadata": {},
   "outputs": [
    {
     "name": "stdout",
     "output_type": "stream",
     "text": [
      "Execute local\n",
      "Warning: exception in buffered Silk structure\n"
     ]
    },
    {
     "name": "stderr",
     "output_type": "stream",
     "text": [
      "Traceback (most recent call last):\n",
      "  File \"/home/sjoerd/seamless/seamless/silk/Silk.py\", line 893, in validate\n",
      "    self._validate(full=full, accept_none=accept_none)\n",
      "  File \"/home/sjoerd/seamless/seamless/silk/Silk.py\", line 876, in _validate\n",
      "    validator_func(proxy)\n",
      "  File \"Silk validator 1\", line 2, in validate_shape\n",
      "    assert self.coor1.shape == self.coor2.shape\n",
      "  File \"/home/sjoerd/seamless/seamless/silk/Silk.py\", line 759, in __getattribute__\n",
      "    raise AttributeError(attr) from None\n",
      "AttributeError: coor1\n"
     ]
    }
   ],
   "source": [
    "await ctx.computation()\n",
    "example = ctx.bcscore.example\n",
    "example.coor1 = ctx.coor.value\n",
    "example.coor2 = ctx.coor.value\n",
    "schema = ctx.bcscore.schema\n",
    "schema.coor1.form.contiguous = True\n",
    "schema.coor2.form.contiguous = True\n",
    "schema.coor1.form.shape = (-1, 3)\n",
    "schema.coor2.form.shape = (-1, 3)\n",
    "\n",
    "def validate_shape(self):\n",
    "    assert self.coor1.shape == self.coor2.shape\n",
    "\n",
    "ctx.bcscore.schema.add_validator(validate_shape, name=\"validate_shape\")"
   ]
  },
  {
   "cell_type": "code",
   "execution_count": 5,
   "metadata": {},
   "outputs": [
    {
     "name": "stdout",
     "output_type": "stream",
     "text": [
      "Execute local\n",
      "Execute local\n"
     ]
    },
    {
     "name": "stderr",
     "output_type": "stream",
     "text": [
      "************************************************************\n",
      "Exception in Seamless transformer: .bcscore.tf.gen_header, stream element None:\n",
      "Traceback (most recent call last):\n",
      "  File \"/home/sjoerd/seamless/seamless/core/jobscheduler.py\", line 236, in _execute_local\n",
      "    raise Exception(msg)\n",
      "Exception: Traceback (most recent call last):\n",
      "  File \"/home/sjoerd/seamless/seamless/core/execute.py\", line 79, in execute\n",
      "    exec_code(code, identifier, namespace, inputs, output_name)\n",
      "  File \"/home/sjoerd/seamless/seamless/core/cached_compile.py\", line 58, in exec_code\n",
      "    exec(code_obj, namespace)\n",
      "  File \"Seamless transformer: .bcscore.tf.gen_header\", line 234, in <module>\n",
      "    raise TypeError(\"Result schema needs to be defined\")\n",
      "TypeError: Result schema needs to be defined\n",
      "\n",
      "************************************************************\n",
      "\n"
     ]
    },
    {
     "name": "stdout",
     "output_type": "stream",
     "text": [
      "Execute local\n",
      "Execute local\n",
      "gcc -c main.c -O3 -ffast-math -march=native -fPIC -p -g -o main.o\n",
      "main.c:1:1: error: unknown type name 'def'\n",
      " def bcscore(coor1, coor2):\n",
      " ^~~\n",
      "main.c: In function 'bcscore':\n",
      "main.c:1:26: error: expected declaration specifiers before ':' token\n",
      " def bcscore(coor1, coor2):\n",
      "                          ^\n",
      "main.c:1:5: warning: type of 'coor1' defaults to 'int' [-Wimplicit-int]\n",
      " def bcscore(coor1, coor2):\n",
      "     ^~~~~~~\n",
      "main.c:1:5: warning: type of 'coor2' defaults to 'int' [-Wimplicit-int]\n",
      "\n"
     ]
    },
    {
     "name": "stderr",
     "output_type": "stream",
     "text": [
      "************************************************************\n",
      "Exception in Seamless transformer: .bcscore.tf.translator, stream element None:\n",
      "Traceback (most recent call last):\n",
      "  File \"/home/sjoerd/seamless/seamless/core/jobscheduler.py\", line 208, in _execute_local\n",
      "    mod = build_module(value)\n",
      "  File \"/home/sjoerd/seamless/seamless/core/build_module.py\", line 140, in build_module\n",
      "    full_module_name, completed_checksum, completed_module_definition\n",
      "  File \"/home/sjoerd/seamless/seamless/core/build_module.py\", line 103, in build_compiled_module\n",
      "    remaining_objects, build_dir, compiler_verbose=COMPILE_VERBOSE\n",
      "  File \"/home/sjoerd/seamless/seamless/compiler/compile.py\", line 81, in compile\n",
      "    assert process.returncode == 0\n",
      "AssertionError\n",
      "************************************************************\n",
      "\n"
     ]
    },
    {
     "name": "stdout",
     "output_type": "stream",
     "text": [
      "Execute local\n",
      "gcc -c main.c -O3 -ffast-math -march=native -fPIC -p -g -o main.o\n",
      "main.c:1:1: error: unknown type name 'def'\n",
      " def bcscore(coor1, coor2):\n",
      " ^~~\n",
      "main.c: In function 'bcscore':\n",
      "main.c:1:26: error: expected declaration specifiers before ':' token\n",
      " def bcscore(coor1, coor2):\n",
      "                          ^\n",
      "main.c:1:5: warning: type of 'coor1' defaults to 'int' [-Wimplicit-int]\n",
      " def bcscore(coor1, coor2):\n",
      "     ^~~~~~~\n",
      "main.c:1:5: warning: type of 'coor2' defaults to 'int' [-Wimplicit-int]\n",
      "\n",
      "Execute local\n",
      "gcc -c main.c -O3 -ffast-math -march=native -fPIC -p -g -o main.o\n",
      "main.c:1:1: error: unknown type name 'def'\n",
      " def bcscore(coor1, coor2):\n",
      " ^~~\n",
      "main.c: In function 'bcscore':\n",
      "main.c:1:26: error: expected declaration specifiers before ':' token\n",
      " def bcscore(coor1, coor2):\n",
      "                          ^\n",
      "main.c:1:5: warning: type of 'coor1' defaults to 'int' [-Wimplicit-int]\n",
      " def bcscore(coor1, coor2):\n",
      "     ^~~~~~~\n",
      "main.c:1:5: warning: type of 'coor2' defaults to 'int' [-Wimplicit-int]\n",
      "\n"
     ]
    },
    {
     "name": "stderr",
     "output_type": "stream",
     "text": [
      "************************************************************\n",
      "Exception in Seamless transformer: .bcscore.tf.translator, stream element None:\n",
      "Traceback (most recent call last):\n",
      "  File \"/home/sjoerd/seamless/seamless/core/jobscheduler.py\", line 208, in _execute_local\n",
      "    mod = build_module(value)\n",
      "  File \"/home/sjoerd/seamless/seamless/core/build_module.py\", line 140, in build_module\n",
      "    full_module_name, completed_checksum, completed_module_definition\n",
      "  File \"/home/sjoerd/seamless/seamless/core/build_module.py\", line 103, in build_compiled_module\n",
      "    remaining_objects, build_dir, compiler_verbose=COMPILE_VERBOSE\n",
      "  File \"/home/sjoerd/seamless/seamless/compiler/compile.py\", line 81, in compile\n",
      "    assert process.returncode == 0\n",
      "AssertionError\n",
      "************************************************************\n",
      "\n",
      "************************************************************\n",
      "Exception in Seamless transformer: .bcscore.tf.translator, stream element None:\n",
      "Traceback (most recent call last):\n",
      "  File \"/home/sjoerd/seamless/seamless/core/jobscheduler.py\", line 208, in _execute_local\n",
      "    mod = build_module(value)\n",
      "  File \"/home/sjoerd/seamless/seamless/core/build_module.py\", line 140, in build_module\n",
      "    full_module_name, completed_checksum, completed_module_definition\n",
      "  File \"/home/sjoerd/seamless/seamless/core/build_module.py\", line 103, in build_compiled_module\n",
      "    remaining_objects, build_dir, compiler_verbose=COMPILE_VERBOSE\n",
      "  File \"/home/sjoerd/seamless/seamless/compiler/compile.py\", line 81, in compile\n",
      "    assert process.returncode == 0\n",
      "AssertionError\n",
      "************************************************************\n",
      "\n"
     ]
    },
    {
     "data": {
      "text/plain": [
       "set()"
      ]
     },
     "execution_count": 5,
     "metadata": {},
     "output_type": "execute_result"
    }
   ],
   "source": [
    "await ctx.computation()\n",
    "ctx.bcscore.result.example.set(1.0)\n",
    "ctx.bcscore.result.schema[\"form\"] = {\"bytesize\": 4}\n",
    "\n",
    "ctx.bc_result = ctx.bcscore\n",
    "await ctx.computation()"
   ]
  },
  {
   "cell_type": "code",
   "execution_count": 6,
   "metadata": {},
   "outputs": [
    {
     "name": "stdout",
     "output_type": "stream",
     "text": [
      "{'properties': {'coor1': {'form': {'contiguous': True,\n",
      "                                   'ndim': 2,\n",
      "                                   'shape': [-1, 3]},\n",
      "                          'items': {'form': {'bytesize': 8, 'type': 'number'}},\n",
      "                          'storage': 'binary',\n",
      "                          'type': 'array'},\n",
      "                'coor2': {'form': {'contiguous': True,\n",
      "                                   'ndim': 2,\n",
      "                                   'shape': [-1, 3]},\n",
      "                          'items': {'form': {'bytesize': 8, 'type': 'number'}},\n",
      "                          'storage': 'binary',\n",
      "                          'type': 'array'}},\n",
      " 'type': 'object',\n",
      " 'validators': [{'code': 'def validate_shape(self):\\n'\n",
      "                         '    assert self.coor1.shape == self.coor2.shape\\n',\n",
      "                 'language': 'python',\n",
      "                 'name': 'validate_shape'}]}\n",
      "{'form': {'bytesize': 4}, 'type': 'number'}\n"
     ]
    }
   ],
   "source": [
    "await ctx.computation()\n",
    "print(ctx.bcscore.schema)\n",
    "print(ctx.bcscore.result.schema)"
   ]
  },
  {
   "cell_type": "code",
   "execution_count": 7,
   "metadata": {},
   "outputs": [
    {
     "name": "stdout",
     "output_type": "stream",
     "text": [
      "\n",
      "/*\n",
      "The following C header has been auto-generated from the transformer schema\n",
      "It will be used to generate bindings, but it will not be automatically\n",
      "added to the compiled transformer code.\n",
      "\n",
      "If your transformer code is written in C/C++, you may do so yourself.\n",
      "For C, you may need to include \"stdint.h\" and \"stdbool.h\".\n",
      "If your transform() function is written in C++, don't forget to add \"extern C\"\n",
      "*/\n",
      "\n",
      "typedef struct Coor1Struct {\n",
      "  const double *data;\n",
      "  unsigned int shape[2];\n",
      "} Coor1Struct;\n",
      "\n",
      "typedef struct Coor2Struct {\n",
      "  const double *data;\n",
      "  unsigned int shape[2];\n",
      "} Coor2Struct;\n",
      "\n",
      "float transform(const Coor1Struct* coor1, const Coor2Struct* coor2);\n"
     ]
    }
   ],
   "source": [
    "print(ctx.bcscore.header.value)"
   ]
  },
  {
   "cell_type": "code",
   "execution_count": 8,
   "metadata": {},
   "outputs": [
    {
     "name": "stdout",
     "output_type": "stream",
     "text": [
      "Execute local\n",
      "Waiting for: [Seamless transformer: .bcscore.tf.translator]\n",
      "Execute local\n",
      "gcc -c main.c -O3 -ffast-math -march=native -fPIC -p -g -o main.o\n",
      "\n"
     ]
    },
    {
     "data": {
      "text/plain": [
       "set()"
      ]
     },
     "execution_count": 8,
     "metadata": {},
     "output_type": "execute_result"
    }
   ],
   "source": [
    "ctx.bcscore.code = ctx.bcscore.header.value + \"\\n\" + \\\n",
    " \"float transform(const Coor1Struct* coor1, const Coor2Struct* coor2){return 99;}\"\n",
    "await ctx.computation()"
   ]
  },
  {
   "cell_type": "code",
   "execution_count": 9,
   "metadata": {
    "scrolled": true
   },
   "outputs": [
    {
     "data": {
      "text/plain": [
       "99.0"
      ]
     },
     "execution_count": 9,
     "metadata": {},
     "output_type": "execute_result"
    }
   ],
   "source": [
    "ctx.bc_result.value"
   ]
  },
  {
   "cell_type": "code",
   "execution_count": 10,
   "metadata": {},
   "outputs": [
    {
     "data": {
      "text/plain": [
       "set()"
      ]
     },
     "execution_count": 10,
     "metadata": {},
     "output_type": "execute_result"
    }
   ],
   "source": [
    "ctx.bcscore.inp.schema.mount(\"bcscore-schema.json\")\n",
    "await ctx.computation()"
   ]
  }
 ],
 "metadata": {
  "kernelspec": {
   "display_name": "Python 3",
   "language": "python",
   "name": "python3"
  },
  "language_info": {
   "codemirror_mode": {
    "name": "ipython",
    "version": 3
   },
   "file_extension": ".py",
   "mimetype": "text/x-python",
   "name": "python",
   "nbconvert_exporter": "python",
   "pygments_lexer": "ipython3",
   "version": "3.6.7"
  }
 },
 "nbformat": 4,
 "nbformat_minor": 2
}
