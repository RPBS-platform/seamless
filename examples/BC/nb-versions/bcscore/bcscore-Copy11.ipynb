{
 "cells": [
  {
   "cell_type": "code",
   "execution_count": 1,
   "metadata": {},
   "outputs": [],
   "source": [
    "from seamless.highlevel import Context, Transformer\n",
    "\n",
    "ctx = Context()"
   ]
  },
  {
   "cell_type": "code",
   "execution_count": 2,
   "metadata": {},
   "outputs": [],
   "source": [
    "ctx.pdb1 = open(\"1AKE-flanks.pdb\").read()\n",
    "ctx.pdb2 = open(\"1AKE-B-hit-flanks.pdb\").read()\n",
    "ctx.load_pdb1 = Transformer()\n",
    "ctx.load_pdb1.pdb = ctx.pdb1\n",
    "ctx.load_pdb_code >> ctx.load_pdb1.code\n",
    "ctx.load_pdb_code.mount(\"load_pdb.py\")\n",
    "ctx.coor1 = ctx.load_pdb1\n",
    "ctx.load_pdb2 = Transformer()\n",
    "ctx.load_pdb2.pdb = ctx.pdb2\n",
    "ctx.load_pdb2.code = ctx.load_pdb_code\n",
    "ctx.coor2 = ctx.load_pdb2"
   ]
  },
  {
   "cell_type": "code",
   "execution_count": 3,
   "metadata": {},
   "outputs": [
    {
     "name": "stdout",
     "output_type": "stream",
     "text": [
      "Execute local\n",
      "Execute local\n"
     ]
    },
    {
     "name": "stderr",
     "output_type": "stream",
     "text": [
      "************************************************************\n",
      "Exception in Seamless transformer: .bcscore.tf.gen_header, stream element None:\n",
      "Traceback (most recent call last):\n",
      "  File \"/home/sjoerd/seamless/seamless/core/jobscheduler.py\", line 236, in _execute_local\n",
      "    raise Exception(msg)\n",
      "Exception: Traceback (most recent call last):\n",
      "  File \"/home/sjoerd/seamless/seamless/core/execute.py\", line 79, in execute\n",
      "    exec_code(code, identifier, namespace, inputs, output_name)\n",
      "  File \"/home/sjoerd/seamless/seamless/core/cached_compile.py\", line 58, in exec_code\n",
      "    exec(code_obj, namespace)\n",
      "  File \"Seamless transformer: .bcscore.tf.gen_header\", line 16, in <module>\n",
      "    raise TypeError(\"Input schema needs to be defined\")\n",
      "TypeError: Input schema needs to be defined\n",
      "\n",
      "************************************************************\n",
      "\n"
     ]
    },
    {
     "name": "stdout",
     "output_type": "stream",
     "text": [
      "Warning: File path 'bcscore.c' has a different value, overwriting cell\n",
      "Execute local\n"
     ]
    },
    {
     "name": "stderr",
     "output_type": "stream",
     "text": [
      "************************************************************\n",
      "Exception in Seamless transformer: .bcscore.tf.gen_header, stream element None:\n",
      "Traceback (most recent call last):\n",
      "  File \"/home/sjoerd/seamless/seamless/core/jobscheduler.py\", line 236, in _execute_local\n",
      "    raise Exception(msg)\n",
      "Exception: Traceback (most recent call last):\n",
      "  File \"/home/sjoerd/seamless/seamless/core/execute.py\", line 79, in execute\n",
      "    exec_code(code, identifier, namespace, inputs, output_name)\n",
      "  File \"/home/sjoerd/seamless/seamless/core/cached_compile.py\", line 58, in exec_code\n",
      "    exec(code_obj, namespace)\n",
      "  File \"Seamless transformer: .bcscore.tf.gen_header\", line 16, in <module>\n",
      "    raise TypeError(\"Input schema needs to be defined\")\n",
      "TypeError: Input schema needs to be defined\n",
      "\n",
      "************************************************************\n",
      "\n"
     ]
    }
   ],
   "source": [
    "def bcscore(coor1, coor2, flanksize, gapsize):\n",
    "    print(\"BCSCORE\", flanksize, gapsize)\n",
    "    return 0.5\n",
    "\n",
    "ctx.bcscore = bcscore\n",
    "ctx.bcscore.coor1 = ctx.coor1\n",
    "ctx.bcscore.coor2 = ctx.coor2\n",
    "ctx.bcscore.flanksize = 4\n",
    "ctx.bcscore.gapsize = 7\n",
    "\n",
    "ctx.bcscore.language = \"c\"\n",
    "await ctx.translation()\n",
    "\n",
    "ctx.bcscore.inp.schema.mount(\"bcscore-schema.json\") # modify by hand\n",
    "ctx.bcscore.code.mount(\"bcscore.c\", authority=\"file\")\n",
    "ctx.bcscore.result.example.set(1.0)\n",
    "ctx.bcscore.result.schema[\"form\"] = {\"bytesize\": 4}\n",
    "await ctx.translation()\n",
    "\n",
    "ctx.bcscore.main_module.bclib.language = \"c\"\n",
    "ctx.bclib_code >> ctx.bcscore.main_module.bclib.code \n",
    "ctx.bclib_code.mount(\"BClib.c\")\n",
    "\n",
    "ctx.bc_result = ctx.bcscore"
   ]
  },
  {
   "cell_type": "code",
   "execution_count": 4,
   "metadata": {},
   "outputs": [
    {
     "name": "stdout",
     "output_type": "stream",
     "text": [
      "Execute local\n"
     ]
    },
    {
     "name": "stderr",
     "output_type": "stream",
     "text": [
      "************************************************************\n",
      "Exception in <Unknown transformer>, stream element None:\n",
      "Traceback (most recent call last):\n",
      "  File \"/home/sjoerd/seamless/seamless/core/jobscheduler.py\", line 236, in _execute_local\n",
      "    raise Exception(msg)\n",
      "Exception: Traceback (most recent call last):\n",
      "  File \"/home/sjoerd/seamless/seamless/core/execute.py\", line 79, in execute\n",
      "    exec_code(code, identifier, namespace, inputs, output_name)\n",
      "  File \"/home/sjoerd/seamless/seamless/core/cached_compile.py\", line 58, in exec_code\n",
      "    exec(code_obj, namespace)\n",
      "  File \"Seamless transformer: .bcscore.tf.gen_header\", line 16, in <module>\n",
      "    raise TypeError(\"Input schema needs to be defined\")\n",
      "TypeError: Input schema needs to be defined\n",
      "\n",
      "************************************************************\n",
      "\n",
      "************************************************************\n",
      "Exception in Seamless transformer: .bcscore.tf.gen_header, stream element None:\n",
      "Traceback (most recent call last):\n",
      "  File \"/home/sjoerd/seamless/seamless/core/jobscheduler.py\", line 236, in _execute_local\n",
      "    raise Exception(msg)\n",
      "Exception: Traceback (most recent call last):\n",
      "  File \"/home/sjoerd/seamless/seamless/core/execute.py\", line 79, in execute\n",
      "    exec_code(code, identifier, namespace, inputs, output_name)\n",
      "  File \"/home/sjoerd/seamless/seamless/core/cached_compile.py\", line 58, in exec_code\n",
      "    exec(code_obj, namespace)\n",
      "  File \"Seamless transformer: .bcscore.tf.gen_header\", line 16, in <module>\n",
      "    raise TypeError(\"Input schema needs to be defined\")\n",
      "TypeError: Input schema needs to be defined\n",
      "\n",
      "************************************************************\n",
      "\n"
     ]
    },
    {
     "name": "stdout",
     "output_type": "stream",
     "text": [
      "Execute local\n",
      "Execute local\n",
      "Execute local\n",
      "Execute local\n",
      "Execute local\n",
      "gcc -c bclib.c -O3 -ffast-math -march=native -fPIC -p -g -o bclib.o\n",
      "\n",
      "gcc -c main.c -O3 -ffast-math -march=native -fPIC -p -g -o main.o\n",
      "\n",
      "Execute local\n"
     ]
    },
    {
     "name": "stderr",
     "output_type": "stream",
     "text": [
      "************************************************************\n",
      "Exception in Seamless transformer: .bcscore.tf.translator, stream element None:\n",
      "Traceback (most recent call last):\n",
      "  File \"/home/sjoerd/seamless/seamless/core/jobscheduler.py\", line 236, in _execute_local\n",
      "    raise Exception(msg)\n",
      "Exception: Traceback (most recent call last):\n",
      "  File \"/home/sjoerd/seamless/seamless/core/execute.py\", line 77, in execute\n",
      "    exec_code(code, identifier, namespace, inputs, output_name)\n",
      "  File \"/home/sjoerd/seamless/seamless/core/cached_compile.py\", line 58, in exec_code\n",
      "    exec(code_obj, namespace)\n",
      "  File \"Seamless transformer: .bcscore.tf.translator\", line 147, in <module>\n",
      "    value = kwargs[prop]\n",
      "KeyError: 'coor1'\n",
      "\n",
      "************************************************************\n",
      "\n"
     ]
    },
    {
     "name": "stdout",
     "output_type": "stream",
     "text": [
      "Waiting for: [Seamless transformer: .bcscore.tf.translator]\n",
      "Execute local\n"
     ]
    },
    {
     "name": "stderr",
     "output_type": "stream",
     "text": [
      "************************************************************\n",
      "Exception in Seamless transformer: .bcscore.tf.translator, stream element None:\n",
      "Traceback (most recent call last):\n",
      "  File \"/home/sjoerd/seamless/seamless/core/jobscheduler.py\", line 236, in _execute_local\n",
      "    raise Exception(msg)\n",
      "Exception: Traceback (most recent call last):\n",
      "  File \"/home/sjoerd/seamless/seamless/core/execute.py\", line 77, in execute\n",
      "    exec_code(code, identifier, namespace, inputs, output_name)\n",
      "  File \"/home/sjoerd/seamless/seamless/core/cached_compile.py\", line 58, in exec_code\n",
      "    exec(code_obj, namespace)\n",
      "  File \"Seamless transformer: .bcscore.tf.translator\", line 147, in <module>\n",
      "    value = kwargs[prop]\n",
      "KeyError: 'coor1'\n",
      "\n",
      "************************************************************\n",
      "\n"
     ]
    },
    {
     "data": {
      "text/plain": [
       "'OK'"
      ]
     },
     "execution_count": 4,
     "metadata": {},
     "output_type": "execute_result"
    }
   ],
   "source": [
    "await ctx.computation()\n",
    "ctx.bcscore.status"
   ]
  },
  {
   "cell_type": "code",
   "execution_count": 5,
   "metadata": {},
   "outputs": [
    {
     "name": "stdout",
     "output_type": "stream",
     "text": [
      "{'properties': {'coor1': {'form': {'contiguous': True,\n",
      "                                   'ndim': 2,\n",
      "                                   'shape': [-1, 3]},\n",
      "                          'items': {'form': {'bytesize': 8, 'type': 'number'}},\n",
      "                          'storage': 'binary',\n",
      "                          'type': 'array'},\n",
      "                'coor2': {'form': {'contiguous': True,\n",
      "                                   'ndim': 2,\n",
      "                                   'shape': [-1, 3]},\n",
      "                          'items': {'form': {'bytesize': 8, 'type': 'number'}},\n",
      "                          'storage': 'binary',\n",
      "                          'type': 'array'},\n",
      "                'flanksize': {'type': 'integer'},\n",
      "                'gapsize': {'type': 'integer'}},\n",
      " 'type': 'object',\n",
      " 'validators': [{'code': 'def validate_shape(self):\\n'\n",
      "                         '    assert self.coor1.shape == self.coor2.shape\\n',\n",
      "                 'language': 'python',\n",
      "                 'name': 'validate_shape'}]}\n",
      "{'form': {'bytesize': 4}, 'type': 'number'}\n",
      "\n",
      "/*\n",
      "The following C header has been auto-generated from the transformer schema\n",
      "It will be used to generate bindings, but it will not be automatically\n",
      "added to the compiled transformer code.\n",
      "\n",
      "If your transformer code is written in C/C++, you may do so yourself.\n",
      "For C, you may need to include \"stdint.h\" and \"stdbool.h\".\n",
      "If your transform() function is written in C++, don't forget to add \"extern C\"\n",
      "*/\n",
      "\n",
      "typedef struct Coor1Struct {\n",
      "  const double *data;\n",
      "  unsigned int shape[2];\n",
      "} Coor1Struct;\n",
      "\n",
      "typedef struct Coor2Struct {\n",
      "  const double *data;\n",
      "  unsigned int shape[2];\n",
      "} Coor2Struct;\n",
      "\n",
      "float transform(const Coor1Struct* coor1, const Coor2Struct* coor2, int flanksize, int gapsize);\n"
     ]
    }
   ],
   "source": [
    "await ctx.computation()\n",
    "print(ctx.bcscore.schema)\n",
    "print(ctx.bcscore.result.schema)\n",
    "print(ctx.bcscore.header.value)"
   ]
  },
  {
   "cell_type": "code",
   "execution_count": 6,
   "metadata": {},
   "outputs": [
    {
     "name": "stdout",
     "output_type": "stream",
     "text": [
      "0.9981744289398193\n"
     ]
    }
   ],
   "source": [
    "await ctx.computation()\n",
    "print(ctx.bc_result.value)"
   ]
  }
 ],
 "metadata": {
  "kernelspec": {
   "display_name": "Python 3",
   "language": "python",
   "name": "python3"
  },
  "language_info": {
   "codemirror_mode": {
    "name": "ipython",
    "version": 3
   },
   "file_extension": ".py",
   "mimetype": "text/x-python",
   "name": "python",
   "nbconvert_exporter": "python",
   "pygments_lexer": "ipython3",
   "version": "3.6.7"
  }
 },
 "nbformat": 4,
 "nbformat_minor": 2
}
