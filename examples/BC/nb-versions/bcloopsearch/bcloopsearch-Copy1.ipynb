{
 "cells": [
  {
   "cell_type": "code",
   "execution_count": 1,
   "metadata": {},
   "outputs": [],
   "source": [
    "from seamless.highlevel import Context, Transformer\n",
    "import numpy as np\n",
    "\n",
    "ctx = Context()"
   ]
  },
  {
   "cell_type": "code",
   "execution_count": 2,
   "metadata": {
    "scrolled": true
   },
   "outputs": [
    {
     "name": "stdout",
     "output_type": "stream",
     "text": [
      "Execute local\n",
      "Execute local\n",
      "Execute local\n",
      "Waiting for: [Seamless transformer: .get_flank1.tf, Seamless transformer: .get_flank2.tf]\n",
      "Execute local\n",
      "[[26.3220005  54.8409996  13.68799973]\n",
      " [28.35499954 57.76399994 15.05799961]\n",
      " [26.33300018 57.77600098 18.23900032]\n",
      " [25.08600044 54.26399994 18.40200043]]\n",
      "[[10.22099972 53.05599976 17.74900055]\n",
      " [10.58399963 55.20399857 14.63700008]\n",
      " [12.63899994 58.48400116 14.32499981]\n",
      " [10.53299999 61.81999969 14.44999981]]\n"
     ]
    }
   ],
   "source": [
    "ctx.pdb1 = open(\"1AKE-flanks.pdb\").read()\n",
    "ctx.pdb2 = open(\"1AKE-B-hit.pdb\").read()\n",
    "ctx.load_pdb1 = Transformer()\n",
    "ctx.load_pdb1.pdb = ctx.pdb1\n",
    "ctx.load_pdb_code >> ctx.load_pdb1.code\n",
    "ctx.load_pdb_code.mount(\"load_pdb.py\")\n",
    "ctx.flanks = ctx.load_pdb1\n",
    "\n",
    "ctx.load_pdb2 = Transformer()\n",
    "ctx.load_pdb2.pdb = ctx.pdb2\n",
    "ctx.load_pdb2.code = ctx.load_pdb_code\n",
    "ctx.dbca = ctx.load_pdb2\n",
    "\n",
    "ctx.get_flank1 = lambda flanks: flanks[:4]\n",
    "ctx.get_flank1.flanks = ctx.flanks\n",
    "ctx.flank1 = ctx.get_flank1\n",
    "\n",
    "ctx.get_flank2 = lambda flanks: flanks[-4:]\n",
    "ctx.get_flank2.flanks = ctx.flanks\n",
    "ctx.flank2 = ctx.get_flank2\n",
    "\n",
    "await ctx.computation()\n",
    "print(ctx.flank1.value)\n",
    "print(ctx.flank2.value)"
   ]
  },
  {
   "cell_type": "markdown",
   "metadata": {},
   "source": [
    "```\n",
    "int BCLoopSearch (const Coord *atoms1, int nr_atoms1, const Coord *atoms2, int nr_atoms2,  //flank1 and flank2\n",
    "                  int looplength, //size of the gap/loop we are searching\n",
    "                  int minloopmatch, int maxloopgap, //for partial matches: minimum total length, maximum gap\n",
    "                  int mirror, //looking for mirrors?\n",
    "                  float minBC, float maxR, //minimum BC score, maximum rigidity\n",
    "                  const Coord *dbca, //CA database\n",
    "                  int seg_index[][3], //(dbca offset, segment resnr, segment length)\n",
    "                  int pdb_index[][2], int nr_pdbindex, //(seg_index offset, number of segments), total number of PDBs\n",
    "                  int hits[][3], //pdbindex line, seg_index line, segment offset\n",
    "                  float hitstats[][2] //score, rigidity\n",
    "                 )\n",
    "{\n",
    "```"
   ]
  },
  {
   "cell_type": "code",
   "execution_count": 3,
   "metadata": {},
   "outputs": [
    {
     "name": "stdout",
     "output_type": "stream",
     "text": [
      "Execute local\n",
      "Execute local\n"
     ]
    },
    {
     "name": "stderr",
     "output_type": "stream",
     "text": [
      "************************************************************\n",
      "Exception in Seamless transformer: .bcloopsearch.tf.gen_header, stream element None:\n",
      "Traceback (most recent call last):\n",
      "  File \"/home/sjoerd/seamless/seamless/core/jobscheduler.py\", line 236, in _execute_local\n",
      "    raise Exception(msg)\n",
      "Exception: Traceback (most recent call last):\n",
      "  File \"/home/sjoerd/seamless/seamless/core/execute.py\", line 79, in execute\n",
      "    exec_code(code, identifier, namespace, inputs, output_name)\n",
      "  File \"/home/sjoerd/seamless/seamless/core/cached_compile.py\", line 58, in exec_code\n",
      "    exec(code_obj, namespace)\n",
      "  File \"Seamless transformer: .bcloopsearch.tf.gen_header\", line 16, in <module>\n",
      "    raise TypeError(\"Input schema needs to be defined\")\n",
      "TypeError: Input schema needs to be defined\n",
      "\n",
      "************************************************************\n",
      "\n",
      "************************************************************\n",
      "Exception in Seamless transformer: .bcloopsearch.tf.gen_header, stream element None:\n",
      "Traceback (most recent call last):\n",
      "  File \"/home/sjoerd/seamless/seamless/core/jobscheduler.py\", line 236, in _execute_local\n",
      "    raise Exception(msg)\n",
      "Exception: Traceback (most recent call last):\n",
      "  File \"/home/sjoerd/seamless/seamless/core/execute.py\", line 79, in execute\n",
      "    exec_code(code, identifier, namespace, inputs, output_name)\n",
      "  File \"/home/sjoerd/seamless/seamless/core/cached_compile.py\", line 58, in exec_code\n",
      "    exec(code_obj, namespace)\n",
      "  File \"Seamless transformer: .bcloopsearch.tf.gen_header\", line 16, in <module>\n",
      "    raise TypeError(\"Input schema needs to be defined\")\n",
      "TypeError: Input schema needs to be defined\n",
      "\n",
      "************************************************************\n",
      "\n"
     ]
    }
   ],
   "source": [
    "ctx.bcloopsearch = Transformer()\n",
    "ctx.bcloopsearch.language = \"c\"\n",
    "ctx.bcloopsearch.main_module.compiler_verbose = False\n",
    "ctx.bcloopsearch.code.mount(\"bcloopsearch.c\", authority=\"file\")\n",
    "\n",
    "ctx.bcloopsearch.main_module.lib.language = \"c\"\n",
    "ctx.bclib_code >> ctx.bcloopsearch.main_module.lib.code \n",
    "ctx.bclib_code.mount(\"BCLoopSearch-lib.c\", authority=\"file\")\n",
    "\n",
    "ctx.bc_hits = ctx.bcloopsearch"
   ]
  },
  {
   "cell_type": "code",
   "execution_count": 4,
   "metadata": {},
   "outputs": [
    {
     "name": "stdout",
     "output_type": "stream",
     "text": [
      "Execute local\n"
     ]
    },
    {
     "name": "stderr",
     "output_type": "stream",
     "text": [
      "************************************************************\n",
      "Exception in Seamless transformer: .bcloopsearch.tf.gen_header, stream element None:\n",
      "Traceback (most recent call last):\n",
      "  File \"/home/sjoerd/seamless/seamless/core/jobscheduler.py\", line 236, in _execute_local\n",
      "    raise Exception(msg)\n",
      "Exception: Traceback (most recent call last):\n",
      "  File \"/home/sjoerd/seamless/seamless/core/execute.py\", line 79, in execute\n",
      "    exec_code(code, identifier, namespace, inputs, output_name)\n",
      "  File \"/home/sjoerd/seamless/seamless/core/cached_compile.py\", line 58, in exec_code\n",
      "    exec(code_obj, namespace)\n",
      "  File \"Seamless transformer: .bcloopsearch.tf.gen_header\", line 16, in <module>\n",
      "    raise TypeError(\"Input schema needs to be defined\")\n",
      "TypeError: Input schema needs to be defined\n",
      "\n",
      "************************************************************\n",
      "\n"
     ]
    },
    {
     "name": "stdout",
     "output_type": "stream",
     "text": [
      "Execute local\n"
     ]
    },
    {
     "name": "stderr",
     "output_type": "stream",
     "text": [
      "************************************************************\n",
      "Exception in Seamless transformer: .bcloopsearch.tf.gen_header, stream element None:\n",
      "Traceback (most recent call last):\n",
      "  File \"/home/sjoerd/seamless/seamless/core/jobscheduler.py\", line 236, in _execute_local\n",
      "    raise Exception(msg)\n",
      "Exception: Traceback (most recent call last):\n",
      "  File \"/home/sjoerd/seamless/seamless/core/execute.py\", line 79, in execute\n",
      "    exec_code(code, identifier, namespace, inputs, output_name)\n",
      "  File \"/home/sjoerd/seamless/seamless/core/cached_compile.py\", line 58, in exec_code\n",
      "    exec(code_obj, namespace)\n",
      "  File \"Seamless transformer: .bcloopsearch.tf.gen_header\", line 16, in <module>\n",
      "    raise TypeError(\"Input schema needs to be defined\")\n",
      "TypeError: Input schema needs to be defined\n",
      "\n",
      "************************************************************\n",
      "\n"
     ]
    },
    {
     "name": "stdout",
     "output_type": "stream",
     "text": [
      "Execute local\n"
     ]
    },
    {
     "name": "stderr",
     "output_type": "stream",
     "text": [
      "************************************************************\n",
      "Exception in Seamless transformer: .bcloopsearch.tf.gen_header, stream element None:\n",
      "Traceback (most recent call last):\n",
      "  File \"/home/sjoerd/seamless/seamless/core/jobscheduler.py\", line 236, in _execute_local\n",
      "    raise Exception(msg)\n",
      "Exception: Traceback (most recent call last):\n",
      "  File \"/home/sjoerd/seamless/seamless/core/execute.py\", line 79, in execute\n",
      "    exec_code(code, identifier, namespace, inputs, output_name)\n",
      "  File \"/home/sjoerd/seamless/seamless/core/cached_compile.py\", line 58, in exec_code\n",
      "    exec(code_obj, namespace)\n",
      "  File \"Seamless transformer: .bcloopsearch.tf.gen_header\", line 16, in <module>\n",
      "    raise TypeError(\"Input schema needs to be defined\")\n",
      "TypeError: Input schema needs to be defined\n",
      "\n",
      "************************************************************\n",
      "\n"
     ]
    },
    {
     "name": "stdout",
     "output_type": "stream",
     "text": [
      "Execute local\n"
     ]
    },
    {
     "name": "stderr",
     "output_type": "stream",
     "text": [
      "************************************************************\n",
      "Exception in Seamless transformer: .bcloopsearch.tf.gen_header, stream element None:\n",
      "Traceback (most recent call last):\n",
      "  File \"/home/sjoerd/seamless/seamless/core/jobscheduler.py\", line 236, in _execute_local\n",
      "    raise Exception(msg)\n",
      "Exception: Traceback (most recent call last):\n",
      "  File \"/home/sjoerd/seamless/seamless/core/execute.py\", line 79, in execute\n",
      "    exec_code(code, identifier, namespace, inputs, output_name)\n",
      "  File \"/home/sjoerd/seamless/seamless/core/cached_compile.py\", line 58, in exec_code\n",
      "    exec(code_obj, namespace)\n",
      "  File \"Seamless transformer: .bcloopsearch.tf.gen_header\", line 16, in <module>\n",
      "    raise TypeError(\"Input schema needs to be defined\")\n",
      "TypeError: Input schema needs to be defined\n",
      "\n",
      "************************************************************\n",
      "\n"
     ]
    },
    {
     "name": "stdout",
     "output_type": "stream",
     "text": [
      "Execute local\n"
     ]
    },
    {
     "name": "stderr",
     "output_type": "stream",
     "text": [
      "************************************************************\n",
      "Exception in Seamless transformer: .bcloopsearch.tf.gen_header, stream element None:\n",
      "Traceback (most recent call last):\n",
      "  File \"/home/sjoerd/seamless/seamless/core/jobscheduler.py\", line 236, in _execute_local\n",
      "    raise Exception(msg)\n",
      "Exception: Traceback (most recent call last):\n",
      "  File \"/home/sjoerd/seamless/seamless/core/execute.py\", line 79, in execute\n",
      "    exec_code(code, identifier, namespace, inputs, output_name)\n",
      "  File \"/home/sjoerd/seamless/seamless/core/cached_compile.py\", line 58, in exec_code\n",
      "    exec(code_obj, namespace)\n",
      "  File \"Seamless transformer: .bcloopsearch.tf.gen_header\", line 16, in <module>\n",
      "    raise TypeError(\"Input schema needs to be defined\")\n",
      "TypeError: Input schema needs to be defined\n",
      "\n",
      "************************************************************\n",
      "\n"
     ]
    },
    {
     "name": "stdout",
     "output_type": "stream",
     "text": [
      "Execute local\n"
     ]
    },
    {
     "name": "stderr",
     "output_type": "stream",
     "text": [
      "************************************************************\n",
      "Exception in Seamless transformer: .bcloopsearch.tf.gen_header, stream element None:\n",
      "Traceback (most recent call last):\n",
      "  File \"/home/sjoerd/seamless/seamless/core/jobscheduler.py\", line 236, in _execute_local\n",
      "    raise Exception(msg)\n",
      "Exception: Traceback (most recent call last):\n",
      "  File \"/home/sjoerd/seamless/seamless/core/execute.py\", line 79, in execute\n",
      "    exec_code(code, identifier, namespace, inputs, output_name)\n",
      "  File \"/home/sjoerd/seamless/seamless/core/cached_compile.py\", line 58, in exec_code\n",
      "    exec(code_obj, namespace)\n",
      "  File \"Seamless transformer: .bcloopsearch.tf.gen_header\", line 16, in <module>\n",
      "    raise TypeError(\"Input schema needs to be defined\")\n",
      "TypeError: Input schema needs to be defined\n",
      "\n",
      "************************************************************\n",
      "\n"
     ]
    },
    {
     "name": "stdout",
     "output_type": "stream",
     "text": [
      "Execute local\n",
      "WARNING: 'atoms1' form schema does not contain 'contiguous'.      Explicit stride values will be provided.\n",
      "WARNING: 'atoms2' form schema does not contain 'contiguous'.      Explicit stride values will be provided.\n",
      "WARNING: 'dbca' form schema does not contain 'contiguous'.      Explicit stride values will be provided.\n",
      "WARNING: 'pdb_index' form schema does not contain 'contiguous'.      Explicit stride values will be provided.\n",
      "WARNING: 'seg_index' form schema does not contain 'contiguous'.      Explicit stride values will be provided.\n",
      "Waiting for: [Seamless transformer: .bcloopsearch.tf.integrator]\n",
      "Execute local\n",
      "Waiting for: [Seamless transformer: .bcloopsearch.tf.translator]\n",
      "Execute local\n",
      "gcc -c lib.c -O3 -ffast-math -march=native -fPIC -p -g -o lib.o\n",
      "\n",
      "gcc -c main.c -O3 -ffast-math -march=native -fPIC -p -g -o main.o\n",
      "\n"
     ]
    },
    {
     "name": "stderr",
     "output_type": "stream",
     "text": [
      "BCLoopSearch C function runs!\n"
     ]
    },
    {
     "data": {
      "text/plain": [
       "set()"
      ]
     },
     "execution_count": 4,
     "metadata": {},
     "output_type": "execute_result"
    }
   ],
   "source": [
    "def set_example(bc):\n",
    "    bc.atoms1 = np.zeros((4, 3))\n",
    "    bc.atoms2 = np.zeros((4, 3))\n",
    "    bc.looplength = 5\n",
    "    bc.minloopmatch = 5\n",
    "    bc.maxloopgap = 0\n",
    "    bc.mirror = False\n",
    "    bc.minBC = 0.9\n",
    "    bc.maxR = 9999\n",
    "    bc.dbca = np.zeros((10, 3))\n",
    "    bc.seg_index = np.zeros((10,3), dtype=np.uint32)\n",
    "    bc.pdb_index = np.zeros((10,2), dtype=np.uint32)\n",
    "\n",
    "set_example(ctx.bcloopsearch)\n",
    "set_example(ctx.bcloopsearch.example)\n",
    "\n",
    "bcrx = ctx.bcloopsearch.result.example\n",
    "bcrx.nhits = 0\n",
    "bcrx.hits = np.zeros((10,3), dtype=np.uint32)\n",
    "bcrx.hits.schema.form.shape = (10,3)\n",
    "bcrx.hitstats = np.zeros((10,2), dtype=np.float32)\n",
    "bcrx.hitstats.schema.form.shape = (10,2)\n",
    "await ctx.computation()"
   ]
  },
  {
   "cell_type": "code",
   "execution_count": 5,
   "metadata": {},
   "outputs": [
    {
     "name": "stdout",
     "output_type": "stream",
     "text": [
      "{'properties': {'atoms1': {'form': {'ndim': 2},\n",
      "                           'items': {'form': {'bytesize': 8, 'type': 'number'}},\n",
      "                           'storage': 'binary',\n",
      "                           'type': 'array'},\n",
      "                'atoms2': {'form': {'ndim': 2},\n",
      "                           'items': {'form': {'bytesize': 8, 'type': 'number'}},\n",
      "                           'storage': 'binary',\n",
      "                           'type': 'array'},\n",
      "                'dbca': {'form': {'ndim': 2},\n",
      "                         'items': {'form': {'bytesize': 8, 'type': 'number'}},\n",
      "                         'storage': 'binary',\n",
      "                         'type': 'array'},\n",
      "                'looplength': {'type': 'integer'},\n",
      "                'maxR': {'type': 'integer'},\n",
      "                'maxloopgap': {'type': 'integer'},\n",
      "                'minBC': {'type': 'number'},\n",
      "                'minloopmatch': {'type': 'integer'},\n",
      "                'mirror': {'type': 'boolean'},\n",
      "                'pdb_index': {'form': {'ndim': 2},\n",
      "                              'items': {'form': {'bytesize': 4,\n",
      "                                                 'type': 'integer',\n",
      "                                                 'unsigned': True}},\n",
      "                              'storage': 'binary',\n",
      "                              'type': 'array'},\n",
      "                'seg_index': {'form': {'ndim': 2},\n",
      "                              'items': {'form': {'bytesize': 4,\n",
      "                                                 'type': 'integer',\n",
      "                                                 'unsigned': True}},\n",
      "                              'storage': 'binary',\n",
      "                              'type': 'array'}},\n",
      " 'type': 'object'}\n",
      "{'properties': {'hits': {'form': {'ndim': 2, 'shape': (10, 3)},\n",
      "                         'items': {'form': {'bytesize': 4,\n",
      "                                            'type': 'integer',\n",
      "                                            'unsigned': True}},\n",
      "                         'storage': 'binary',\n",
      "                         'type': 'array'},\n",
      "                'hitstats': {'form': {'ndim': 2, 'shape': (10, 2)},\n",
      "                             'items': {'form': {'bytesize': 4,\n",
      "                                                'type': 'number'}},\n",
      "                             'storage': 'binary',\n",
      "                             'type': 'array'},\n",
      "                'nhits': {'type': 'integer'}},\n",
      " 'type': 'object'}\n",
      "\n",
      "/*\n",
      "The following C header has been auto-generated from the transformer schema\n",
      "It will be used to generate bindings, but it will not be automatically\n",
      "added to the compiled transformer code.\n",
      "\n",
      "If your transformer code is written in C/C++, you may do so yourself.\n",
      "For C, you may need to include \"stdint.h\" and \"stdbool.h\".\n",
      "If your transform() function is written in C++, don't forget to add \"extern C\"\n",
      "*/\n",
      "\n",
      "typedef struct Atoms1Struct {\n",
      "  const double *data;\n",
      "  unsigned int shape[2];\n",
      "  unsigned int strides[2];\n",
      "} Atoms1Struct;\n",
      "\n",
      "typedef struct Atoms2Struct {\n",
      "  const double *data;\n",
      "  unsigned int shape[2];\n",
      "  unsigned int strides[2];\n",
      "} Atoms2Struct;\n",
      "\n",
      "typedef struct DbcaStruct {\n",
      "  const double *data;\n",
      "  unsigned int shape[2];\n",
      "  unsigned int strides[2];\n",
      "} DbcaStruct;\n",
      "\n",
      "typedef struct PdbIndexStruct {\n",
      "  const uint32_t *data;\n",
      "  unsigned int shape[2];\n",
      "  unsigned int strides[2];\n",
      "} PdbIndexStruct;\n",
      "\n",
      "typedef struct SegIndexStruct {\n",
      "  const uint32_t *data;\n",
      "  unsigned int shape[2];\n",
      "  unsigned int strides[2];\n",
      "} SegIndexStruct;\n",
      "\n",
      "typedef struct ResultHitsStruct {\n",
      "  uint32_t *data;\n",
      "  unsigned int shape[2];\n",
      "} ResultHitsStruct;\n",
      "\n",
      "typedef struct ResultHitstatsStruct {\n",
      "  float *data;\n",
      "  unsigned int shape[2];\n",
      "} ResultHitstatsStruct;\n",
      "\n",
      "typedef struct ResultStruct {\n",
      "  ResultHitsStruct *hits;\n",
      "  ResultHitstatsStruct *hitstats;\n",
      "  int nhits;\n",
      "} ResultStruct;\n",
      "\n",
      "void transform(const Atoms1Struct* atoms1, const Atoms2Struct* atoms2, const DbcaStruct* dbca, int looplength, int maxR, int maxloopgap, double minBC, int minloopmatch, bool mirror, const PdbIndexStruct* pdb_index, const SegIndexStruct* seg_index, ResultStruct *result);\n"
     ]
    },
    {
     "data": {
      "text/plain": [
       "'OK'"
      ]
     },
     "execution_count": 5,
     "metadata": {},
     "output_type": "execute_result"
    }
   ],
   "source": [
    "await ctx.computation()\n",
    "print(ctx.bcloopsearch.schema)\n",
    "print(ctx.bcloopsearch.result.schema)\n",
    "print(ctx.bcloopsearch.header.value)\n",
    "ctx.bcloopsearch.status"
   ]
  },
  {
   "cell_type": "code",
   "execution_count": 6,
   "metadata": {},
   "outputs": [
    {
     "data": {
      "text/plain": [
       "set()"
      ]
     },
     "execution_count": 6,
     "metadata": {},
     "output_type": "execute_result"
    }
   ],
   "source": [
    "ctx.bcloopsearch.inp.schema.mount(\"bcloopsearch-schema.json\")\n",
    "await ctx.computation()"
   ]
  },
  {
   "cell_type": "code",
   "execution_count": 7,
   "metadata": {},
   "outputs": [
    {
     "data": {
      "text/plain": [
       "42"
      ]
     },
     "execution_count": 7,
     "metadata": {},
     "output_type": "execute_result"
    }
   ],
   "source": [
    "ctx.bc_hits.value.nhits"
   ]
  }
 ],
 "metadata": {
  "kernelspec": {
   "display_name": "Python 3",
   "language": "python",
   "name": "python3"
  },
  "language_info": {
   "codemirror_mode": {
    "name": "ipython",
    "version": 3
   },
   "file_extension": ".py",
   "mimetype": "text/x-python",
   "name": "python",
   "nbconvert_exporter": "python",
   "pygments_lexer": "ipython3",
   "version": "3.6.7"
  }
 },
 "nbformat": 4,
 "nbformat_minor": 2
}
