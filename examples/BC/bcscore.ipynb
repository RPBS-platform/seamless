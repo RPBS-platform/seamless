{
 "cells": [
  {
   "cell_type": "code",
   "execution_count": 1,
   "metadata": {},
   "outputs": [],
   "source": [
    "from seamless.highlevel import Context, Transformer, Cell\n",
    "\n",
    "ctx = Context()\n",
    "#ctx.auto_translate = True"
   ]
  },
  {
   "cell_type": "code",
   "execution_count": 2,
   "metadata": {},
   "outputs": [],
   "source": [
    "ctx.pdb1 = open(\"1AKE-flanks.pdb\").read()\n",
    "ctx.pdb2 = open(\"1AKE-B-hit.pdb\").read()\n",
    "ctx.load_pdb1 = Transformer()\n",
    "ctx.load_pdb1.pdb = ctx.pdb1\n",
    "ctx.load_pdb_code >> ctx.load_pdb1.code\n",
    "ctx.load_pdb_code.mount(\"load_pdb.py\")\n",
    "ctx.coor1 = ctx.load_pdb1\n",
    "ctx.load_pdb2 = Transformer()\n",
    "ctx.load_pdb2.pdb = ctx.pdb2\n",
    "ctx.load_pdb2.code = ctx.load_pdb_code\n",
    "ctx.coor2 = ctx.load_pdb2"
   ]
  },
  {
   "cell_type": "code",
   "execution_count": 3,
   "metadata": {},
   "outputs": [
    {
     "name": "stdout",
     "output_type": "stream",
     "text": [
      "<Silk: 0.5 >\n"
     ]
    }
   ],
   "source": [
    "def bcscore(coor1, coor2, flanksize, gapsize):\n",
    "    print(\"BCSCORE\", flanksize, gapsize)\n",
    "    return 0.5\n",
    "\n",
    "ctx.bcscore = bcscore\n",
    "ctx.bcscore.coor1 = ctx.coor1\n",
    "ctx.bcscore.coor2 = ctx.coor2\n",
    "ctx.bcscore.flanksize = 4\n",
    "ctx.bcscore.gapsize = 7\n",
    "\n",
    "ctx.bc_result = ctx.bcscore\n",
    "ctx.equilibrate()\n",
    "print(ctx.bc_result.value)"
   ]
  },
  {
   "cell_type": "code",
   "execution_count": 4,
   "metadata": {},
   "outputs": [],
   "source": [
    "ctx.bcscore.language = \"c\"\n",
    "\n",
    "ctx.bcscore_schema = Cell()\n",
    "ctx.bcscore_schema.celltype = \"plain\"\n",
    "ctx.bcscore_schema.mount(\"bcscore-schema.json\", \"r\", authority=\"file\")\n",
    "ctx.bcscore.result.example.set(1.0)\n",
    "ctx.bcscore.result.schema[\"form\"] = {\"bytesize\": 8}\n",
    "ctx.translate()\n",
    "ctx.link(ctx.bcscore_schema, ctx.bcscore.inp.schema)\n",
    "ctx.header = ctx.bcscore.header\n",
    "ctx.header.mimetype = \"h\"\n",
    "ctx.translate()"
   ]
  },
  {
   "cell_type": "code",
   "execution_count": 26,
   "metadata": {},
   "outputs": [
    {
     "data": {
      "application/vnd.jupyter.widget-view+json": {
       "model_id": "59349c9d5de74340aca1dfed5597f6c7",
       "version_major": 2,
       "version_minor": 0
      },
      "text/html": [
       "<p>Failed to display Jupyter Widget of type <code>Output</code>.</p>\n",
       "<p>\n",
       "  If you're reading this message in the Jupyter Notebook or JupyterLab Notebook, it may mean\n",
       "  that the widgets JavaScript is still loading. If this message persists, it\n",
       "  likely means that the widgets JavaScript library is either not installed or\n",
       "  not enabled. See the <a href=\"https://ipywidgets.readthedocs.io/en/stable/user_install.html\">Jupyter\n",
       "  Widgets Documentation</a> for setup instructions.\n",
       "</p>\n",
       "<p>\n",
       "  If you're reading this message in another frontend (for example, a static\n",
       "  rendering on GitHub or <a href=\"https://nbviewer.jupyter.org/\">NBViewer</a>),\n",
       "  it may mean that your frontend doesn't currently support widgets.\n",
       "</p>\n"
      ],
      "text/plain": [
       "Output()"
      ]
     },
     "metadata": {},
     "output_type": "display_data"
    }
   ],
   "source": [
    "ctx.bcscore.header.mount(\"bcscore.h\", \"w\")\n",
    "ctx.header.output_widget()"
   ]
  },
  {
   "cell_type": "code",
   "execution_count": 27,
   "metadata": {},
   "outputs": [
    {
     "name": "stdout",
     "output_type": "stream",
     "text": [
      "Warning: File path 'bcscore-schema.json' has a different value, overwriting cell\n"
     ]
    }
   ],
   "source": [
    "ctx.bcscore.code.mount(\"bcscore.c\", authority=\"file\")\n",
    "ctx.bcscore.result.example.set(1.0)\n",
    "ctx.bcscore.result.schema[\"form\"] = {\"bytesize\": 4}\n",
    "ctx.bcscore.main_module.bclib.language = \"c\"\n",
    "ctx.bclib_code >> ctx.bcscore.main_module.bclib.code \n",
    "ctx.bclib_code.mount(\"BClib.c\")\n",
    "ctx.translate()\n"
   ]
  },
  {
   "cell_type": "code",
   "execution_count": 37,
   "metadata": {
    "scrolled": true
   },
   "outputs": [
    {
     "name": "stdout",
     "output_type": "stream",
     "text": [
      "None\n",
      "None\n"
     ]
    }
   ],
   "source": [
    "ctx.equilibrate()\n",
    "print(ctx.bcscore.inp.exception)\n",
    "print(ctx.bcscore.exception)"
   ]
  },
  {
   "cell_type": "code",
   "execution_count": 29,
   "metadata": {},
   "outputs": [],
   "source": [
    "import numpy as np\n",
    "\n",
    "def validate_shape(self):\n",
    "    assert self.coor1.shape[0] == 2 * self.flanksize, self.coor1.shape\n",
    "    assert self.coor2.shape[0] == 2 * self.flanksize + self.gapsize, self.coor2.shape\n",
    "\n",
    "example = ctx.bcscore.example\n",
    "example.coor1 = np.zeros((10, 3))\n",
    "example.coor2 = np.zeros((14, 3))\n",
    "example.flanksize = 5\n",
    "example.gapsize = 4\n",
    "example.add_validator(validate_shape, name=\"validate_shape\")"
   ]
  },
  {
   "cell_type": "code",
   "execution_count": 30,
   "metadata": {},
   "outputs": [
    {
     "name": "stdout",
     "output_type": "stream",
     "text": [
      "{'properties': {'coor1': {'form': {'contiguous': True, 'ndim': 2, 'shape': [-1, 3]}, 'items': {'form': {'bytesize': 8, 'type': 'number'}}, 'storage': 'binary', 'type': 'array'}, 'coor2': {'form': {'contiguous': True, 'ndim': 2, 'shape': [-1, 3]}, 'items': {'form': {'bytesize': 8, 'type': 'number'}}, 'storage': 'binary', 'type': 'array'}, 'flanksize': {'type': 'integer'}, 'gapsize': {'type': 'integer'}}, 'type': 'object', 'validators': [{'code': 'def validate_shape(self):\\n    assert self.coor1.shape[0] == 2 * self.flanksize, self.coor1.shape\\n    assert self.coor2.shape[0] == 2 * self.flanksize + self.gapsize, self.coor2.shape\\n', 'language': 'python', 'name': 'validate_shape'}]}\n",
      "{'form': {'bytesize': 4}, 'type': 'number'}\n"
     ]
    }
   ],
   "source": [
    "ctx.equilibrate()\n",
    "print(ctx.bcscore.schema)\n",
    "print(ctx.bcscore.result.schema)"
   ]
  },
  {
   "cell_type": "code",
   "execution_count": 36,
   "metadata": {},
   "outputs": [
    {
     "name": "stdout",
     "output_type": "stream",
     "text": [
      "<Silk: None >\n"
     ]
    }
   ],
   "source": [
    "ctx.equilibrate()\n",
    "print(ctx.bc_result.value)"
   ]
  }
 ],
 "metadata": {
  "kernelspec": {
   "display_name": "Python 3",
   "language": "python",
   "name": "python3"
  },
  "language_info": {
   "codemirror_mode": {
    "name": "ipython",
    "version": 3
   },
   "file_extension": ".py",
   "mimetype": "text/x-python",
   "name": "python",
   "nbconvert_exporter": "python",
   "pygments_lexer": "ipython3",
   "version": "3.6.8"
  }
 },
 "nbformat": 4,
 "nbformat_minor": 2
}
