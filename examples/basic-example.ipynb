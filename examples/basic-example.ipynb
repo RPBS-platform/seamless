{
 "cells": [
  {
   "cell_type": "markdown",
   "metadata": {},
   "source": [
    "# Basic example"
   ]
  },
  {
   "cell_type": "markdown",
   "metadata": {},
   "source": [
    "### 1. Import Seamless in IPython or Jupyter "
   ]
  },
  {
   "cell_type": "code",
   "execution_count": 1,
   "metadata": {},
   "outputs": [],
   "source": [
    "from seamless.highlevel import Context\n",
    "ctx = Context()"
   ]
  },
  {
   "cell_type": "markdown",
   "metadata": {},
   "source": [
    "### 2. Set up a simple Seamless context"
   ]
  },
  {
   "cell_type": "code",
   "execution_count": 2,
   "metadata": {},
   "outputs": [
    {
     "name": "stderr",
     "output_type": "stream",
     "text": [
      "Seamless buffer cache cleanup is currently disabled.\n",
      "This prevents data loss from bugs in Seamless's buffer caching.\n",
      "If you have memory issues, restart Python periodically,\n",
      " and/or use Redis to store buffers\n"
     ]
    },
    {
     "data": {
      "text/plain": [
       "<Silk: 30 >"
      ]
     },
     "execution_count": 2,
     "metadata": {},
     "output_type": "execute_result"
    }
   ],
   "source": [
    "def add(a, b):\n",
    "    return a + b\n",
    "\n",
    "ctx.a = 10          # ctx.a => Seamless cell\n",
    "ctx.b = 20          # ctx.b => Seamless cell\n",
    "ctx.add = add       # ctx.add => Seamless transformer\n",
    "ctx.add.a = ctx.a\n",
    "ctx.add.b = ctx.b\n",
    "ctx.c = ctx.add     # ctx.c => Seamless cell\n",
    "await ctx.computation()\n",
    "ctx.c.value"
   ]
  },
  {
   "cell_type": "code",
   "execution_count": 3,
   "metadata": {},
   "outputs": [
    {
     "data": {
      "text/plain": [
       "<Silk: 35 >"
      ]
     },
     "execution_count": 3,
     "metadata": {},
     "output_type": "execute_result"
    }
   ],
   "source": [
    "ctx.a += 5 \n",
    "await ctx.computation()\n",
    "ctx.c.value"
   ]
  },
  {
   "cell_type": "markdown",
   "metadata": {},
   "source": [
    "### 3. Define schemas and validation rules"
   ]
  },
  {
   "cell_type": "code",
   "execution_count": 4,
   "metadata": {},
   "outputs": [
    {
     "name": "stdout",
     "output_type": "stream",
     "text": [
      "None\n"
     ]
    }
   ],
   "source": [
    "ctx.add.example.a = 0.0  # declares that add.a must be a number\n",
    "ctx.add.example.b = 0.0  \n",
    "\n",
    "def validate(self):\n",
    "    assert self.a < self.b\n",
    "\n",
    "ctx.add.add_validator(validate, name=\"validate\")\n",
    "\n",
    "await ctx.computation()\n",
    "print(ctx.add.exception)\n",
    "# Validation passes => exception is None"
   ]
  },
  {
   "cell_type": "markdown",
   "metadata": {},
   "source": [
    "### 4. Create an API for a Seamless cell"
   ]
  },
  {
   "cell_type": "code",
   "execution_count": 5,
   "metadata": {},
   "outputs": [
    {
     "name": "stdout",
     "output_type": "stream",
     "text": [
      "The result is: 35\n"
     ]
    }
   ],
   "source": [
    "def report(self): \n",
    "    value = self.unsilk \n",
    "    if value is None: \n",
    "        print(\"Sorry, there is no result\") \n",
    "    else: \n",
    "        print(\"The result is: {}\".format(value))\n",
    "\n",
    "ctx.c.example.report = report\n",
    "await ctx.computation()\n",
    "ctx.c.value.report()"
   ]
  },
  {
   "cell_type": "markdown",
   "metadata": {},
   "source": [
    "### 5. Control cells from Jupyter"
   ]
  },
  {
   "cell_type": "code",
   "execution_count": 6,
   "metadata": {},
   "outputs": [
    {
     "data": {
      "application/vnd.jupyter.widget-view+json": {
       "model_id": "ea1d9780ffab4f0785a7af004346085e",
       "version_major": 2,
       "version_minor": 0
      },
      "text/plain": [
       "IntSlider(value=15, max=30, min=-10)"
      ]
     },
     "metadata": {},
     "output_type": "display_data"
    },
    {
     "data": {
      "application/vnd.jupyter.widget-view+json": {
       "model_id": "e0498e74fef6486f89ce968c94d23e9f",
       "version_major": 2,
       "version_minor": 0
      },
      "text/plain": [
       "IntSlider(value=20, max=30, min=-10)"
      ]
     },
     "metadata": {},
     "output_type": "display_data"
    },
    {
     "data": {
      "application/vnd.jupyter.widget-view+json": {
       "model_id": "7caa57d5b4f4459c962dd1d74a95450a",
       "version_major": 2,
       "version_minor": 0
      },
      "text/plain": [
       "Output(outputs=({'output_type': 'display_data', 'data': {'text/plain': '35'}, 'metadata': {}},))"
      ]
     },
     "metadata": {},
     "output_type": "display_data"
    }
   ],
   "source": [
    "from ipywidgets import IntSlider, IntText\n",
    "\n",
    "a = IntSlider(min=-10,max=30)\n",
    "b = IntSlider(min=-10,max=30)\n",
    "c = ctx.c.output()\n",
    "ctx.a.traitlet().link(a)\n",
    "ctx.b.traitlet().link(b)\n",
    "display(a)\n",
    "display(b)\n",
    "display(c)"
   ]
  },
  {
   "cell_type": "markdown",
   "metadata": {},
   "source": [
    "### 6. Mount cells to the file system"
   ]
  },
  {
   "cell_type": "code",
   "execution_count": 7,
   "metadata": {},
   "outputs": [],
   "source": [
    "ctx.a.celltype = \"plain\"\n",
    "ctx.a.mount(\"/tmp/a.txt\")\n",
    "ctx.b.celltype = \"plain\"\n",
    "ctx.b.mount(\"/tmp/b.txt\")\n",
    "ctx.c.celltype = \"plain\"\n",
    "ctx.c.mount(\"/tmp/c.txt\", mode=\"w\")\n",
    "ctx.add.code.mount(\"/tmp/code.py\")\n",
    "await ctx.translation()"
   ]
  },
  {
   "cell_type": "markdown",
   "metadata": {},
   "source": [
    "### 7. Share a cell over HTTP"
   ]
  },
  {
   "cell_type": "code",
   "execution_count": 8,
   "metadata": {},
   "outputs": [],
   "source": [
    "ctx.c.mimetype = \"text\"\n",
    "ctx.c.share()\n",
    "await ctx.translation()"
   ]
  },
  {
   "cell_type": "markdown",
   "metadata": {},
   "source": [
    "### http://localhost:5813/ctx/c"
   ]
  },
  {
   "cell_type": "markdown",
   "metadata": {},
   "source": [
    "### 8. Save the entire state of the context"
   ]
  },
  {
   "cell_type": "code",
   "execution_count": 9,
   "metadata": {},
   "outputs": [],
   "source": [
    "# Graph and checksums, as JSON\n",
    "ctx.save_graph(\"basic-example.seamless\")\n",
    "# Checksum-to-buffer cache, as ZIP file\n",
    "ctx.save_zip(\"basic-example.zip\")"
   ]
  },
  {
   "cell_type": "markdown",
   "metadata": {},
   "source": [
    "### 9. In a new notebook / IPython console:"
   ]
  },
  {
   "cell_type": "code",
   "execution_count": 11,
   "metadata": {},
   "outputs": [
    {
     "data": {
      "text/plain": [
       "35"
      ]
     },
     "execution_count": 11,
     "metadata": {},
     "output_type": "execute_result"
    }
   ],
   "source": [
    "from seamless.highlevel import load_graph\n",
    "ctx = load_graph(\n",
    "    \"basic-example.seamless\", \n",
    "    zip=\"basic-example.zip\"\n",
    ")\n",
    "await ctx.computation()\n",
    "ctx.c.value"
   ]
  },
  {
   "cell_type": "markdown",
   "metadata": {},
   "source": [
    "### http://localhost:5813/ctx/c"
   ]
  }
 ],
 "metadata": {
  "kernelspec": {
   "display_name": "Python 3",
   "language": "python",
   "name": "python3"
  },
  "language_info": {
   "codemirror_mode": {
    "name": "ipython",
    "version": 3
   },
   "file_extension": ".py",
   "mimetype": "text/x-python",
   "name": "python",
   "nbconvert_exporter": "python",
   "pygments_lexer": "ipython3",
   "version": "3.7.3"
  }
 },
 "nbformat": 4,
 "nbformat_minor": 2
}
