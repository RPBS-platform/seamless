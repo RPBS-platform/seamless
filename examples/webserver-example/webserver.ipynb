{
 "cells": [
  {
   "cell_type": "markdown",
   "id": "50007ea8-204f-473a-a28c-a9f0582222b5",
   "metadata": {
    "tags": []
   },
   "source": [
    "# Interactive collaborative web server"
   ]
  },
  {
   "cell_type": "markdown",
   "id": "93378670-20e5-4949-a282-f280ae708abd",
   "metadata": {},
   "source": [
    "## Starting point: a simplistic Jupyter workflow. \n",
    "### - *Generate a random dataset, and then plot it.*\n",
    "### - *Optionally, cluster it first.*"
   ]
  },
  {
   "cell_type": "markdown",
   "id": "2d57aa4b-cf41-49e4-95a9-8c84cb5bcca9",
   "metadata": {},
   "source": [
    "### **1. Generate dataset**"
   ]
  },
  {
   "cell_type": "code",
   "execution_count": 1,
   "id": "661484b4-53eb-41cf-94b4-719d41f8fe78",
   "metadata": {
    "scrolled": true,
    "tags": []
   },
   "outputs": [
    {
     "data": {
      "text/plain": [
       "array([[ -2.35127   ,  -1.16717908],\n",
       "       [  3.85691982,   2.69615047],\n",
       "       [ -2.14770319,   1.54185122],\n",
       "       [ -2.42406088,  -7.91266977],\n",
       "       [ -6.19825806,  -4.83098092],\n",
       "       [  2.72002116,   2.09962494],\n",
       "       [ -2.11572669,  -7.30607788],\n",
       "       [ -1.84170217,  -9.51817432],\n",
       "       [  4.32305538,   1.71159257],\n",
       "       [ -2.88753829,  -0.36281051],\n",
       "       [ -5.45167981,  -4.96451286],\n",
       "       [  3.72208577,   1.0951292 ],\n",
       "       [  4.55315406,   0.10081535],\n",
       "       [  4.28924726,   3.06201444],\n",
       "       [  4.38034016,   1.56801767],\n",
       "       [  4.59954009,   2.48719487],\n",
       "       [ -3.20867286,  10.25682243],\n",
       "       [ -2.2472624 ,  -8.88750099],\n",
       "       [  3.41165184,   0.5931986 ],\n",
       "       [ -1.30091757,  -8.47734061],\n",
       "       [ -3.22859105,   7.67486248],\n",
       "       [ 10.15748148,  -7.77482394],\n",
       "       [ -3.41177983,  -5.40490971],\n",
       "       [  4.80492933,   4.10870563],\n",
       "       [ -1.5109031 ,   1.70595493],\n",
       "       [ -5.63657527,   8.22148365],\n",
       "       [  9.28916018, -10.33058019],\n",
       "       [ -3.65850975,  -4.79020653],\n",
       "       [ -2.58652775,  10.37167076],\n",
       "       [ -1.83460948,   0.6160586 ],\n",
       "       [ -4.08322226,  -4.50341441],\n",
       "       [ -5.12904477,  -5.42980431],\n",
       "       [ -0.83915636,   1.02599342],\n",
       "       [ -2.75708227,  -7.53752677],\n",
       "       [ -2.09250302,   1.59628683],\n",
       "       [ -3.50642614,   2.79574999],\n",
       "       [ -6.4575154 ,  -4.14391309],\n",
       "       [  3.43017763,   2.04234136],\n",
       "       [  9.59904362,  -7.77422163],\n",
       "       [ -2.35529388,   1.28731041],\n",
       "       [  9.14785475, -10.65224713],\n",
       "       [  8.58813761,  -8.59606607],\n",
       "       [ -1.64481542, -10.16005482],\n",
       "       [ -1.87178752,  -7.97561582],\n",
       "       [ -1.77144919,   1.37695432],\n",
       "       [ 10.30642164,  -7.38346827],\n",
       "       [ -3.68693188,  -4.14340226],\n",
       "       [ -3.38014365,   9.23138714],\n",
       "       [ -3.08472154,  -7.6233912 ],\n",
       "       [ -3.89470626,  -7.01746601],\n",
       "       [ 10.23160934, -10.50815418],\n",
       "       [ -3.9529633 ,  -4.28554109],\n",
       "       [  4.54526808,   1.93937648],\n",
       "       [ -2.59940553,  -6.10182139],\n",
       "       [  3.24569291,   1.92358614],\n",
       "       [ -5.21521005,  10.04340938],\n",
       "       [ 10.81348941,  -8.52969511],\n",
       "       [  9.29808976,  -9.82711527],\n",
       "       [ 10.28037201,  -8.53973933],\n",
       "       [ -2.80273066,   8.23579378],\n",
       "       [ -5.68742332,  -3.37907149],\n",
       "       [  3.35388347,   1.64141013],\n",
       "       [ 11.06674599,  -8.44935704],\n",
       "       [  8.68070694,  -8.77902391],\n",
       "       [  4.39928928,  -0.27302367],\n",
       "       [ -4.1053642 ,  -5.46036982],\n",
       "       [ -2.21714718,  -6.22404902],\n",
       "       [ -5.16175224,  -5.65459986],\n",
       "       [  4.41284561,   2.46899308],\n",
       "       [  9.38228215,  -8.88795455],\n",
       "       [ -5.42517089,  10.41666002],\n",
       "       [ -5.20338157,  -6.43451612],\n",
       "       [ -2.06928588,  -9.1305105 ],\n",
       "       [  3.14623281,   1.01440181],\n",
       "       [ -3.46703371,  -4.09814161],\n",
       "       [ -5.32366254,  -4.71678254],\n",
       "       [  3.41227983,   2.37087417],\n",
       "       [ -1.08090769,   1.28612826],\n",
       "       [ 11.04160449,  -9.38136748],\n",
       "       [ -0.48503103, -10.88635714],\n",
       "       [  3.96953229,   1.24124319],\n",
       "       [ -5.36938604,  -4.19148326],\n",
       "       [ -2.66747553,   0.79621882],\n",
       "       [ -2.68101729,  10.05484826],\n",
       "       [ -3.66089457,   0.0278105 ],\n",
       "       [  8.54667771,  -8.84538047],\n",
       "       [ -4.47980866,   9.42752681],\n",
       "       [ -3.16625039,  -5.96771696],\n",
       "       [ 11.10838772,  -9.50023824],\n",
       "       [ -2.98763057,   2.68267275],\n",
       "       [  5.89280095,   2.00532656],\n",
       "       [ -1.67560131, -10.03211858],\n",
       "       [ -3.1243062 ,  -8.91079418],\n",
       "       [  8.10699503, -10.35135445],\n",
       "       [  6.04774046,   0.28857235],\n",
       "       [ -0.97707538,  -8.51396058],\n",
       "       [ -2.2685261 ,  -8.83307801],\n",
       "       [ -2.74729713,  -7.95420971],\n",
       "       [ -4.96709244,  10.89536515],\n",
       "       [ -0.5300179 ,  -8.49744749],\n",
       "       [ -4.61324512,  11.68927357],\n",
       "       [  4.11881069,   1.59036608],\n",
       "       [  4.05472694,   2.30417029],\n",
       "       [  9.92901245,  -6.8367044 ],\n",
       "       [ -4.03423792,  10.16583264],\n",
       "       [ -1.8733622 ,  -8.65887566],\n",
       "       [ -1.86329178,   1.80803683],\n",
       "       [ -4.24972386,  -4.48454615],\n",
       "       [ -3.89746177,  -4.9570998 ],\n",
       "       [  2.79395382,  -0.64486079],\n",
       "       [ -4.00206103,   6.95701504],\n",
       "       [ -2.54858083,   8.61467296],\n",
       "       [ -2.561518  ,   1.20357826],\n",
       "       [  8.4895558 ,  -9.06825162],\n",
       "       [ -3.82721464,   9.81873832],\n",
       "       [  3.69004006,   1.9674893 ],\n",
       "       [ -4.43016366,  -5.1386941 ],\n",
       "       [ -3.25882409, -11.1346578 ],\n",
       "       [ -0.64523093, -10.62783033],\n",
       "       [  0.48158088,   0.86350825],\n",
       "       [ -3.39651118,   6.65140314],\n",
       "       [  4.75829852,   1.01657451],\n",
       "       [ -1.83048241,  -7.79513647],\n",
       "       [  9.69298078,  -9.93932699],\n",
       "       [ -3.83759247,  -3.79953114],\n",
       "       [  9.61690056,  -7.70808433],\n",
       "       [ -2.86498385,  10.00515276],\n",
       "       [ -4.39291968,  -6.41502518],\n",
       "       [  9.30168223,  -8.20545773],\n",
       "       [ -1.72241705,  -0.75612867],\n",
       "       [ -1.88821012,  -9.35952151],\n",
       "       [  4.71745039,   0.93291167],\n",
       "       [ -2.42774089,  -0.03009169],\n",
       "       [ -4.97863462,  -5.03095411],\n",
       "       [ -4.25867636,  -5.63893254],\n",
       "       [ -1.62347304,   2.18922248],\n",
       "       [  5.07168625,   1.81064846],\n",
       "       [ -3.61287816,  11.72027063],\n",
       "       [ -5.6161518 ,  11.17279583],\n",
       "       [ -3.87143714,  -4.42506922],\n",
       "       [ -4.67620097,  11.40320301],\n",
       "       [ -0.62885544,  -7.97374585],\n",
       "       [ -3.47899814,   7.85430364],\n",
       "       [  8.84163261,  -6.99927302],\n",
       "       [ -2.8388297 ,   1.80674708],\n",
       "       [ -1.75596139,  -8.60323627],\n",
       "       [ -2.58481028, -10.17686433],\n",
       "       [ -4.68869231,  -4.71449007],\n",
       "       [ 10.26426461, -10.18729012],\n",
       "       [ -1.91635196,   1.38537697],\n",
       "       [ -3.38981678,  -4.60351562],\n",
       "       [ -2.03870277,  -7.87108514],\n",
       "       [  9.73657741,  -9.24119238],\n",
       "       [  4.18528766,   1.30075907],\n",
       "       [  8.67439382,  -6.53788897],\n",
       "       [ -6.14166478,  -3.81555261],\n",
       "       [  8.95005544, -11.15008288],\n",
       "       [ -3.3824753 ,   9.54387105],\n",
       "       [ -2.1679064 ,  -8.25854582],\n",
       "       [ 11.08478379,  -8.75558024],\n",
       "       [ -4.02046451,  -5.04192573],\n",
       "       [ -3.04202418,   9.31023625],\n",
       "       [ -2.42089354,   1.41610148],\n",
       "       [  4.86916425,   1.56048605],\n",
       "       [  7.97151771,  -7.39817155],\n",
       "       [ -3.70954148,   8.96267975],\n",
       "       [  3.7538268 ,   2.79166605],\n",
       "       [ -2.30364355,   0.81507948],\n",
       "       [ -3.10345866,   1.0057726 ],\n",
       "       [ -6.38862246,  -4.25667646],\n",
       "       [ -4.59724428,   8.39425828],\n",
       "       [ -4.06819197,   0.01355275],\n",
       "       [ -5.31112064,   9.62428151],\n",
       "       [ -0.8812381 , -10.57468643],\n",
       "       [ -0.81430063,   0.86625713],\n",
       "       [ -3.13109691,  -9.40677974],\n",
       "       [ -4.0175019 ,  10.96575089],\n",
       "       [ -2.42677047,  -9.75417393],\n",
       "       [ -2.33177635,   9.95545455],\n",
       "       [  9.04627585,  -9.13359686],\n",
       "       [ -2.97273104,  -1.47469306],\n",
       "       [ -3.3720886 ,  -4.62266397],\n",
       "       [  8.86790527,  -7.17295427],\n",
       "       [ -2.05258571,   1.91710367],\n",
       "       [ -4.95611872,  -5.37322476],\n",
       "       [  7.88344917,  -8.1152515 ],\n",
       "       [  3.09449222,   2.03240644],\n",
       "       [ -0.59458088,  -8.17626179],\n",
       "       [ -3.47668043,   8.83648325],\n",
       "       [  8.93546968,  -9.07351231],\n",
       "       [ -1.68005747, -10.48617232],\n",
       "       [ 10.31342411,  -9.77737267],\n",
       "       [ -4.18816078,   9.7717736 ],\n",
       "       [ -3.10637551,  11.11569913],\n",
       "       [  8.6703753 ,  -7.70319321],\n",
       "       [  3.98994003,   2.06438525],\n",
       "       [ -0.533934  ,  -9.09289239],\n",
       "       [ -3.65550185,  10.55821595],\n",
       "       [ -4.53820317,  -5.57798251],\n",
       "       [ -2.23343647,   1.6364748 ],\n",
       "       [ -3.25213326,  -5.91903775],\n",
       "       [  8.8033116 ,  -8.24793735],\n",
       "       [ -1.05009541,  -9.18467658],\n",
       "       [  5.47321421,   1.83130948],\n",
       "       [ -1.84398264,   2.20510542],\n",
       "       [  8.77483527,  -7.95024945],\n",
       "       [  8.41255503,  -7.77744082],\n",
       "       [ -4.38358508,  -3.42870812],\n",
       "       [  4.2966955 ,   2.50411261],\n",
       "       [ -2.64509032,   9.43002087],\n",
       "       [ -6.7431213 ,  -5.2880541 ],\n",
       "       [ -4.45231162,   9.02729034],\n",
       "       [ -2.95422293,  -9.41790112],\n",
       "       [ -1.24664288,  -9.64866701],\n",
       "       [ -2.16051293,   2.48729889],\n",
       "       [ -3.69796559,   1.44613835],\n",
       "       [  8.19713848,  -8.26733802],\n",
       "       [ -1.59549308,   1.25807731],\n",
       "       [ -2.67393494,  -9.59524508],\n",
       "       [ -3.89815238,   9.44834491],\n",
       "       [ -2.57945502,  -8.91806809],\n",
       "       [ -1.85420084,   1.88049333],\n",
       "       [  9.56067075,  -7.78833811],\n",
       "       [ -2.4905847 ,   0.63709438],\n",
       "       [ -2.55457349,  10.86768762],\n",
       "       [ -0.81531942,   0.93199187],\n",
       "       [  3.15001714,   2.22643319],\n",
       "       [ -3.92155048,  -4.80071937],\n",
       "       [  7.95214741,  -9.76935259],\n",
       "       [  4.15278379,   2.26660243],\n",
       "       [ -1.7202607 ,   2.08983328],\n",
       "       [ -3.54706697,   9.55541105],\n",
       "       [  2.62807545,   1.57698657],\n",
       "       [ -3.67230423,   7.518295  ],\n",
       "       [ -3.69126739,  -0.03485164],\n",
       "       [ -4.49231376,  -4.76354536],\n",
       "       [  3.36161547,   0.84561329],\n",
       "       [  8.93839811,  -8.77903195],\n",
       "       [ -2.72929343,   7.91689249],\n",
       "       [ -0.35179075,  -0.82441562],\n",
       "       [  4.14015409,   1.38587244],\n",
       "       [  5.04194485,   1.04569299],\n",
       "       [ -1.46591839,  -8.02660764],\n",
       "       [  3.28032439,   0.61822707],\n",
       "       [ -0.79711942,  -8.26124055],\n",
       "       [ -4.19398848,   9.74518844],\n",
       "       [ -2.80759672,  -6.50768563],\n",
       "       [ -3.03558871,   1.9231    ],\n",
       "       [ -1.83245352,  -8.75701763],\n",
       "       [ -3.99883104,   9.4471859 ]])"
      ]
     },
     "execution_count": 1,
     "metadata": {},
     "output_type": "execute_result"
    }
   ],
   "source": [
    "from sklearn.datasets import make_blobs\n",
    "\n",
    "dataset, dataset_classes = make_blobs(n_samples=250, centers=6)\n",
    "dataset"
   ]
  },
  {
   "cell_type": "markdown",
   "id": "208cd0d6-fa36-4595-b083-67c66319dbe9",
   "metadata": {},
   "source": [
    "### **2. Plot without clustering**"
   ]
  },
  {
   "cell_type": "code",
   "execution_count": 2,
   "id": "d374d8db-1676-4ea7-8fe7-ff49ef185a74",
   "metadata": {},
   "outputs": [],
   "source": [
    "import matplotlib.pyplot as plt\n",
    "\n",
    "def plot_dataset(dataset, colors):\n",
    "    x, y = dataset[:, 0], dataset[:, 1]\n",
    "    plt.scatter(x,y, c=colors)"
   ]
  },
  {
   "cell_type": "code",
   "execution_count": 3,
   "id": "96a60aa5-33bf-47d0-92dc-5842696cba85",
   "metadata": {},
   "outputs": [
    {
     "data": {
      "image/png": "[encoded data removed]",
      "text/plain": [
       "<Figure size 432x288 with 1 Axes>"
      ]
     },
     "metadata": {
      "needs_background": "light"
     },
     "output_type": "display_data"
    }
   ],
   "source": [
    "plot_dataset(dataset, dataset_classes)"
   ]
  },
  {
   "cell_type": "markdown",
   "id": "72c6ba5e-df32-42a5-925d-7d5adbe016a5",
   "metadata": {},
   "source": [
    "### **3. Plot with clustering**"
   ]
  },
  {
   "cell_type": "code",
   "execution_count": 4,
   "id": "9f57b527-0eab-48e8-8a1c-e61092f0ab7a",
   "metadata": {},
   "outputs": [
    {
     "data": {
      "image/png": "[encoded data removed]",
      "text/plain": [
       "<Figure size 432x288 with 1 Axes>"
      ]
     },
     "metadata": {
      "needs_background": "light"
     },
     "output_type": "display_data"
    }
   ],
   "source": [
    "from sklearn.cluster import KMeans\n",
    "k = 4\n",
    "clustering = KMeans(n_clusters=k).fit_predict(dataset)\n",
    "plot_dataset(dataset, clustering)"
   ]
  },
  {
   "cell_type": "markdown",
   "id": "5f6907db-29ab-46c8-b0ed-37fdacea5431",
   "metadata": {},
   "source": [
    "## Before we start: clean up the workflow\n",
    "### - *Make it deterministic (explicit random state)*\n",
    "### - *Put all computation in functions.*\n",
    "### - *Self-contained functions: don't rely on global variables or external imports.*\n",
    "### - *Self-contained functions: return the plot as image bytes.*"
   ]
  },
  {
   "cell_type": "markdown",
   "id": "c6303799-b0a7-4a07-a162-e445356e3682",
   "metadata": {},
   "source": [
    "### **1. Generate dataset**"
   ]
  },
  {
   "cell_type": "code",
   "execution_count": 5,
   "id": "570d8bf5-145f-4351-9b4f-fd51e5e6c8fe",
   "metadata": {},
   "outputs": [],
   "source": [
    "def generate_dataset(n_samples, random_state, delay, n_clusters):\n",
    "    # create artifical delay, so that the workflow status can be monitored\n",
    "    import time\n",
    "    time.sleep(delay)\n",
    "    \n",
    "    from sklearn.datasets import make_blobs\n",
    "    dataset, dataset_classes = make_blobs(n_samples=n_samples, random_state=random_state, centers=n_clusters)\n",
    "    return dataset, dataset_classes"
   ]
  },
  {
   "cell_type": "code",
   "execution_count": 6,
   "id": "c0fab4e4-4688-435d-b57c-80f47833af24",
   "metadata": {
    "scrolled": true,
    "tags": []
   },
   "outputs": [
    {
     "data": {
      "text/plain": [
       "array([[-3.90742801e+00,  8.44177954e+00],\n",
       "       [ 9.25757310e+00, -2.17024146e+00],\n",
       "       [ 2.15504965e+00,  4.12386249e+00],\n",
       "       [-9.73739417e-01,  6.94454493e+00],\n",
       "       [-7.55113462e-01,  3.74138642e+00],\n",
       "       [ 3.03809631e-01,  3.94423417e+00],\n",
       "       [ 1.07932501e+01, -6.11580316e-01],\n",
       "       [ 2.18217961e+00,  1.29965302e+00],\n",
       "       [-2.16434104e+00,  2.52061045e+00],\n",
       "       [-1.36641982e+00,  7.15528181e+00],\n",
       "       [ 2.45127423e+00, -1.95397849e-01],\n",
       "       [ 1.00877750e+01, -2.27224403e+00],\n",
       "       [ 2.20656076e+00,  5.50616718e+00],\n",
       "       [ 2.46452227e+00,  6.19967650e+00],\n",
       "       [ 9.14314826e+00, -2.23721639e+00],\n",
       "       [ 9.08260172e+00, -2.72601914e+00],\n",
       "       [ 1.44193252e+00,  2.76754364e+00],\n",
       "       [ 4.92573752e+00,  1.53580774e-01],\n",
       "       [ 7.07656534e-01,  8.22555334e+00],\n",
       "       [ 2.63185834e+00,  6.89364904e-01],\n",
       "       [ 2.50904929e+00,  5.77314610e+00],\n",
       "       [-7.22828865e-02,  2.88376939e+00],\n",
       "       [ 8.08035174e-02,  4.69068983e+00],\n",
       "       [ 1.98702592e+00,  2.61100638e+00],\n",
       "       [ 1.84070628e+00,  3.56162231e+00],\n",
       "       [ 1.36069966e+00,  7.48029120e-01],\n",
       "       [ 7.43018566e+00, -2.80914363e+00],\n",
       "       [ 2.66934689e+00,  1.81987033e+00],\n",
       "       [-2.37508158e+00,  7.10478226e+00],\n",
       "       [-2.95096492e+00,  2.42456238e+00],\n",
       "       [-1.24697941e+00,  2.81973187e+00],\n",
       "       [-1.29042723e+00,  7.54857282e+00],\n",
       "       [ 8.82144116e-01,  2.84128485e+00],\n",
       "       [ 7.34782884e+00,  1.13103046e+00],\n",
       "       [-1.95295605e+00,  8.77872074e+00],\n",
       "       [-1.96786016e+00,  7.02246703e+00],\n",
       "       [-1.38195733e+00,  8.91320382e+00],\n",
       "       [ 1.02051036e+01, -1.99120464e+00],\n",
       "       [ 6.65608647e+00,  5.83191041e-01],\n",
       "       [ 2.43169305e+00, -2.01737131e-01],\n",
       "       [ 5.73093132e-01,  5.52623240e+00],\n",
       "       [-6.16725105e-01,  3.23510048e+00],\n",
       "       [-2.06976549e+00,  3.33393231e+00],\n",
       "       [ 1.14244530e+00,  2.01467995e+00],\n",
       "       [ 1.06377871e+01, -3.02061881e+00],\n",
       "       [-2.48284901e+00,  2.57190049e+00],\n",
       "       [ 1.15369622e+00,  3.90200639e+00],\n",
       "       [ 1.41942144e+00,  1.57409695e+00],\n",
       "       [ 8.67460127e+00, -3.44706661e+00],\n",
       "       [-2.47135027e+00,  2.50783257e+00],\n",
       "       [ 8.79359940e+00, -1.71081133e+00],\n",
       "       [ 5.17594779e+00,  6.36644291e-02],\n",
       "       [ 1.73730780e+00,  4.42546234e+00],\n",
       "       [ 3.41947985e-01,  3.94104616e+00],\n",
       "       [ 1.13121750e+00,  4.68194985e+00],\n",
       "       [ 3.00251949e+00,  7.42653567e-01],\n",
       "       [-1.38420548e+00,  8.97235138e+00],\n",
       "       [ 4.86339619e+00,  8.92715600e-01],\n",
       "       [-1.64770480e+00,  8.20551590e+00],\n",
       "       [ 6.17340489e+00,  2.59894196e+00],\n",
       "       [-5.01067441e-01,  6.64651506e+00],\n",
       "       [ 2.11567076e+00,  3.06896151e+00],\n",
       "       [ 1.28535145e+00,  1.43691285e+00],\n",
       "       [-1.83591698e+00,  1.24187846e+00],\n",
       "       [-7.40576051e-01,  2.45146316e+00],\n",
       "       [ 8.98141785e+00, -3.09266184e+00],\n",
       "       [-9.01672562e-01,  1.31582461e+00],\n",
       "       [ 5.31698172e+00, -4.00931464e-01],\n",
       "       [ 3.97820955e+00,  2.37817845e+00],\n",
       "       [ 4.77987230e+00,  1.39814623e+00],\n",
       "       [ 6.96309483e+00,  1.07389934e+00],\n",
       "       [-5.58437610e-01,  9.13730625e+00],\n",
       "       [ 2.06576754e+00,  2.68353415e+00],\n",
       "       [ 1.05472929e-01,  3.72493766e+00],\n",
       "       [ 8.53072481e+00,  5.03973729e-01],\n",
       "       [ 9.84054549e+00, -2.55384472e+00],\n",
       "       [-1.88089792e+00,  1.54293097e+00],\n",
       "       [ 3.54588072e+00,  8.29382810e-01],\n",
       "       [-1.88879762e-01,  5.20461381e+00],\n",
       "       [ 1.55723507e+00,  2.82719571e+00],\n",
       "       [-2.40561103e+00,  7.52316776e+00],\n",
       "       [-3.18453558e+00,  8.02423861e+00],\n",
       "       [ 6.60590671e+00,  1.60733722e+00],\n",
       "       [ 6.29763109e+00,  8.56994159e-01],\n",
       "       [ 7.57337344e+00,  1.57229279e+00],\n",
       "       [ 8.91982346e+00, -3.94764381e+00],\n",
       "       [-2.76525282e-01,  5.08127768e+00],\n",
       "       [ 1.64164854e+00,  1.50208848e-01],\n",
       "       [ 4.43841230e+00,  1.84214315e+00],\n",
       "       [ 1.33263648e+00,  5.01036050e+00],\n",
       "       [-1.35879643e+00,  8.85563273e+00],\n",
       "       [-1.00583914e+00,  2.34209429e+00],\n",
       "       [-4.75002797e-01,  6.65157938e+00],\n",
       "       [-1.89608585e+00,  2.67850308e+00],\n",
       "       [ 3.92282648e+00,  1.80370832e+00],\n",
       "       [-1.79746375e-01,  7.38207421e+00],\n",
       "       [ 9.91656968e+00, -3.90179303e+00],\n",
       "       [-1.57671974e+00,  4.95740592e+00],\n",
       "       [-1.55914195e+00,  7.93286018e+00],\n",
       "       [ 6.69709677e+00, -2.07772070e+00],\n",
       "       [ 1.09213901e+01, -2.16694187e+00],\n",
       "       [ 1.05505217e+00, -6.47107437e-01],\n",
       "       [ 3.00468833e+00,  9.85214901e-01],\n",
       "       [-2.63128735e+00,  2.97004734e+00],\n",
       "       [-2.71576327e+00,  2.41106591e+00],\n",
       "       [-2.12422008e+00,  2.67996053e+00],\n",
       "       [-1.00362735e+00,  2.74633593e+00],\n",
       "       [-7.54513997e-01,  7.71935608e+00],\n",
       "       [ 3.93841822e+00, -4.50095401e-01],\n",
       "       [ 1.10059764e+01, -1.64666852e+00],\n",
       "       [ 9.64408021e+00, -2.18910782e+00],\n",
       "       [ 4.65464941e-01,  3.12315514e+00],\n",
       "       [ 7.17865214e+00, -2.20744771e+00],\n",
       "       [-1.68917841e+00,  7.55510452e+00],\n",
       "       [-6.37627769e-01,  4.09104705e+00],\n",
       "       [ 5.88943261e-01,  4.00148458e+00],\n",
       "       [ 5.74856999e+00,  7.72191333e-01],\n",
       "       [-1.38495085e+00,  2.59855384e+00],\n",
       "       [-1.61294932e+00,  7.99216387e+00],\n",
       "       [-7.24364751e-01,  7.92388210e+00],\n",
       "       [ 8.96414077e+00, -2.56463629e+00],\n",
       "       [-6.53928268e-01,  4.76656958e+00],\n",
       "       [ 1.95681500e+00,  2.34185374e-01],\n",
       "       [ 9.85177671e+00, -1.98151517e+00],\n",
       "       [-2.12321805e+00,  2.86531497e+00],\n",
       "       [-1.15053081e+00,  8.41841370e+00],\n",
       "       [ 1.04278730e+00,  4.60625923e+00],\n",
       "       [ 1.62011397e+00,  2.74692739e+00],\n",
       "       [ 1.01311791e+01, -1.19006776e+00],\n",
       "       [-1.37039748e+00,  3.15006330e+00],\n",
       "       [-8.86772487e-01,  1.30092622e+00],\n",
       "       [ 1.19404184e+00,  2.80772861e+00],\n",
       "       [ 1.02163013e+01, -5.07084679e+00],\n",
       "       [ 8.70394316e+00, -2.06126527e+00],\n",
       "       [-2.29350914e+00,  9.04660531e+00],\n",
       "       [ 9.48087850e-01,  4.73211920e+00],\n",
       "       [ 1.31051270e+00,  7.12251213e-02],\n",
       "       [ 2.91209813e+00,  2.46638067e-01],\n",
       "       [-1.99049999e+00,  3.39936374e+00],\n",
       "       [ 8.84843309e-02,  2.32299086e+00],\n",
       "       [ 1.05566092e+00,  6.77544419e+00],\n",
       "       [ 5.55883023e+00, -1.31829571e-01],\n",
       "       [ 8.62096161e+00, -2.85235894e+00],\n",
       "       [-5.54482622e-01,  7.67588658e+00],\n",
       "       [ 2.97612635e+00,  1.21639131e+00],\n",
       "       [ 1.37861172e+00,  3.61897724e+00],\n",
       "       [ 5.64009929e-01,  1.33705536e+00],\n",
       "       [ 4.87399638e+00, -2.15218968e-01],\n",
       "       [ 1.59973502e+00,  9.15142819e-01],\n",
       "       [ 8.50911129e+00, -3.76896110e+00],\n",
       "       [ 3.18190344e+00, -1.82267848e-01],\n",
       "       [ 1.18454506e+00,  5.28042636e+00],\n",
       "       [-1.30988218e+00,  7.72815474e+00],\n",
       "       [ 6.64717546e-01,  4.35995267e+00],\n",
       "       [ 7.57514939e+00, -1.94388915e+00],\n",
       "       [ 1.42013331e+00,  4.63746165e+00],\n",
       "       [-2.55478263e+00,  9.49359070e+00],\n",
       "       [ 5.43927178e+00, -5.81522121e-01],\n",
       "       [ 4.80456548e+00,  2.27955030e-01],\n",
       "       [-3.00414636e+00,  8.28639448e+00],\n",
       "       [ 9.32275019e+00, -1.83733285e+00],\n",
       "       [ 4.81645889e+00,  5.00043639e-01],\n",
       "       [ 6.72976103e+00,  1.95286246e+00],\n",
       "       [ 8.29832003e-01,  1.74202664e+00],\n",
       "       [ 2.22194102e+00,  1.53269510e+00],\n",
       "       [ 4.65534283e+00,  1.87932647e+00],\n",
       "       [ 8.28774447e+00, -3.80300463e+00],\n",
       "       [ 2.72756228e+00,  1.30512550e+00],\n",
       "       [ 9.00552167e+00, -3.45918095e+00],\n",
       "       [-3.06770103e+00,  2.98114426e+00],\n",
       "       [-1.90066436e+00,  7.44450664e+00],\n",
       "       [ 6.29191637e+00, -3.86713619e-01],\n",
       "       [ 1.02102468e+00,  1.57925818e+00],\n",
       "       [ 9.08820154e+00, -3.13881811e+00],\n",
       "       [ 1.07398339e+01, -1.47861768e+00],\n",
       "       [-9.61912086e-01,  8.44430385e+00],\n",
       "       [ 9.07798869e-01,  4.59843615e-01],\n",
       "       [-2.17052242e+00,  6.94479109e-01],\n",
       "       [ 6.89717142e-02,  4.35573272e+00],\n",
       "       [-5.81872693e-01,  7.37474023e+00],\n",
       "       [-8.49209429e-01,  5.06286726e+00],\n",
       "       [ 6.63506557e+00,  6.56158570e-01],\n",
       "       [-3.10984241e+00,  3.52826164e+00],\n",
       "       [ 1.38093486e+00,  9.29494218e-01],\n",
       "       [ 3.81809413e+00,  3.84437617e-02],\n",
       "       [ 9.31188576e+00, -3.98788473e+00],\n",
       "       [ 6.93478510e+00,  1.87592037e+00],\n",
       "       [ 6.71033352e+00,  4.62790927e-01],\n",
       "       [ 1.70536064e+00,  4.43277024e+00],\n",
       "       [-1.94030562e+00,  9.37183707e+00],\n",
       "       [-1.93609339e+00,  6.62138261e+00],\n",
       "       [ 6.93084761e+00,  3.43682594e-01],\n",
       "       [ 1.25185786e+00,  2.08113882e-01],\n",
       "       [ 1.02027603e+01, -1.74894503e+00],\n",
       "       [ 5.36765522e+00, -8.39007718e-01],\n",
       "       [ 6.36331936e-01,  4.25441021e+00],\n",
       "       [ 7.01769098e+00, -3.35367647e+00],\n",
       "       [-1.65978459e+00,  2.62009138e+00],\n",
       "       [-3.74572448e-01,  3.99750085e+00],\n",
       "       [ 7.39360111e-01,  4.36079055e-01],\n",
       "       [ 7.15363764e+00, -3.04520423e-01],\n",
       "       [ 2.35350570e+00,  2.22404956e+00],\n",
       "       [ 6.03380096e+00,  5.27294854e-01],\n",
       "       [ 1.00399184e+01, -1.97487681e+00],\n",
       "       [-1.87634333e+00,  7.35443290e+00],\n",
       "       [-1.10064528e+00,  3.59479030e+00],\n",
       "       [ 9.06635153e+00, -1.45099071e+00],\n",
       "       [ 5.36563657e+00, -1.62354289e+00],\n",
       "       [ 6.70346425e+00,  8.54770301e-01],\n",
       "       [-1.54392443e+00,  3.29703400e+00],\n",
       "       [ 9.55369692e+00, -3.32429323e+00],\n",
       "       [ 1.02202860e+00,  4.11660348e+00],\n",
       "       [-2.34026827e+00,  1.45145793e+00],\n",
       "       [ 7.32404937e-01,  2.87562511e+00],\n",
       "       [ 1.01148865e+01, -2.58062820e+00],\n",
       "       [-1.93226667e+00,  9.49501081e+00],\n",
       "       [ 3.24329731e+00,  1.21460627e+00],\n",
       "       [-7.30000112e-01,  6.25456272e+00],\n",
       "       [ 7.82672051e+00, -1.53087167e+00],\n",
       "       [-8.35365262e-01,  3.61263140e+00],\n",
       "       [-3.27894024e+00,  9.89995288e+00],\n",
       "       [ 2.47034915e+00,  4.09862906e+00],\n",
       "       [-1.40592279e+00,  1.00921835e+01],\n",
       "       [-2.25250139e+00,  1.53451831e+00],\n",
       "       [ 9.97171236e+00, -2.32739873e+00],\n",
       "       [-1.56618683e+00,  1.74978876e+00],\n",
       "       [ 1.28933778e+00,  3.44969159e+00],\n",
       "       [ 5.05187161e+00,  4.67509096e-01],\n",
       "       [-1.63313558e+00,  7.92981160e+00],\n",
       "       [ 4.66617897e-01,  3.86571303e+00],\n",
       "       [ 1.78726415e+00,  1.70012006e+00],\n",
       "       [-9.44825430e-02,  5.35823905e+00],\n",
       "       [-2.26646701e+00,  4.46089686e+00],\n",
       "       [-2.81976092e+00,  3.18493313e+00],\n",
       "       [ 3.24602470e+00,  2.84942165e+00],\n",
       "       [ 7.84782523e-01,  1.86706037e+00],\n",
       "       [-4.27244417e-01,  3.57314599e+00],\n",
       "       [ 6.21723319e+00,  5.43656115e-01],\n",
       "       [ 1.63123797e-01,  2.57750473e+00],\n",
       "       [ 5.39531124e+00,  7.59236824e-01],\n",
       "       [ 5.48705011e+00, -3.37008180e-03],\n",
       "       [-3.24194687e-02,  8.47897236e-01],\n",
       "       [-2.58251425e+00,  6.48874251e+00],\n",
       "       [ 5.78879680e+00,  7.98406051e-01],\n",
       "       [-1.55123014e+00,  2.17985135e+00],\n",
       "       [ 4.20186624e+00, -9.89869329e-01],\n",
       "       [ 6.28357929e-01,  4.46013630e+00],\n",
       "       [ 5.33168406e+00,  2.99035207e+00],\n",
       "       [-2.68308645e+00,  3.69908036e+00],\n",
       "       [ 7.50471676e+00, -1.97568783e+00]])"
      ]
     },
     "execution_count": 6,
     "metadata": {},
     "output_type": "execute_result"
    }
   ],
   "source": [
    "n_samples = 250\n",
    "random_state = 0\n",
    "delay = 2\n",
    "n_clusters = 6\n",
    "dataset, dataset_classes = generate_dataset(n_samples, random_state, delay, n_clusters)\n",
    "dataset"
   ]
  },
  {
   "cell_type": "markdown",
   "id": "3fb2034b-a17e-44cd-b589-a302ee83bfbd",
   "metadata": {},
   "source": [
    "### **2. Plot without clustering**"
   ]
  },
  {
   "cell_type": "code",
   "execution_count": 7,
   "id": "17c840e9-fc82-489b-bf31-2c53644fd631",
   "metadata": {},
   "outputs": [],
   "source": [
    "def plot_dataset(dataset, colors):\n",
    "    import matplotlib.pyplot as plt    \n",
    "    x, y = dataset[:, 0], dataset[:, 1]\n",
    "    plt.scatter(x,y, c=colors)    \n",
    "    \n",
    "    # We need to return the image bytes. Unfortunately, there is no Matplotlib built-in function for this\n",
    "    from io import BytesIO\n",
    "    image = BytesIO()\n",
    "    plt.savefig(image)\n",
    "    return image.getvalue()"
   ]
  },
  {
   "cell_type": "code",
   "execution_count": 8,
   "id": "3520a024-04a9-44d5-b41e-f67c841c350c",
   "metadata": {},
   "outputs": [
    {
     "data": {
      "image/png": "[encoded data removed]",
      "text/plain": [
       "<IPython.core.display.Image object>"
      ]
     },
     "execution_count": 8,
     "metadata": {},
     "output_type": "execute_result"
    },
    {
     "data": {
      "image/png": "[encoded data removed]",
      "text/plain": [
       "<Figure size 432x288 with 1 Axes>"
      ]
     },
     "metadata": {
      "needs_background": "light"
     },
     "output_type": "display_data"
    }
   ],
   "source": [
    "plot = plot_dataset(dataset, dataset_classes)\n",
    "from IPython.display import Image\n",
    "Image(plot)"
   ]
  },
  {
   "cell_type": "markdown",
   "id": "e9e92d4a-c1ef-45cc-9c04-477a57623e2f",
   "metadata": {},
   "source": [
    "### **3. Plot with clustering**"
   ]
  },
  {
   "cell_type": "code",
   "execution_count": 9,
   "id": "5f3cde2c-ccd0-40cc-81cd-74044962fa11",
   "metadata": {},
   "outputs": [],
   "source": [
    "def get_clustering(dataset, k):\n",
    "    from sklearn.cluster import KMeans\n",
    "    clustering = KMeans(n_clusters=k).fit_predict(dataset)\n",
    "    return clustering"
   ]
  },
  {
   "cell_type": "code",
   "execution_count": 10,
   "id": "41b8ae1b-d7c3-40c4-a017-87a676508e26",
   "metadata": {},
   "outputs": [
    {
     "data": {
      "image/png": "[encoded data removed]",
      "text/plain": [
       "<IPython.core.display.Image object>"
      ]
     },
     "execution_count": 10,
     "metadata": {},
     "output_type": "execute_result"
    },
    {
     "data": {
      "image/png": "[encoded data removed]",
      "text/plain": [
       "<Figure size 432x288 with 1 Axes>"
      ]
     },
     "metadata": {
      "needs_background": "light"
     },
     "output_type": "display_data"
    }
   ],
   "source": [
    "k = 4\n",
    "clustering = get_clustering(dataset, k)\n",
    "plot = plot_dataset(dataset, clustering)\n",
    "Image(plot)"
   ]
  },
  {
   "cell_type": "markdown",
   "id": "45559ba0-27ed-4dfc-923b-69021f85e76c",
   "metadata": {},
   "source": [
    "# Porting the workflow to Seamless"
   ]
  },
  {
   "cell_type": "markdown",
   "id": "98a2f6e5-7c23-4bba-a169-8ca297468be3",
   "metadata": {},
   "source": [
    "### Create a new Seamless project\n",
    "(If Seamless is installed locally, you would use the `seamless-new-project` command instead)"
   ]
  },
  {
   "cell_type": "code",
   "execution_count": 11,
   "id": "7ab1de2d-79bd-4a61-9d7e-cf280a91e894",
   "metadata": {
    "tags": []
   },
   "outputs": [
    {
     "data": {
      "text/plain": [
       "0"
      ]
     },
     "execution_count": 11,
     "metadata": {},
     "output_type": "execute_result"
    }
   ],
   "source": [
    "import os\n",
    "if not os.path.exists(\"web/\"):\n",
    "    os.system(\"python3 ~/seamless-scripts/new-project.py webserver-example\")\n",
    "else:\n",
    "    # To avoid merge conflicts, remove all existing customized web content\n",
    "    os.system(\"rm -f web/webform.json web/index.html web/index.js web/*CONFLICT.*\")\n",
    "\n",
    "# new-project.py will generate a default Notebook for the project. Link it to the current notebook instead\n",
    "os.system(\"rm -f webserver-example.ipynb\")\n",
    "os.system(\"ln -s webserver.ipynb webserver-example.ipynb\")"
   ]
  },
  {
   "cell_type": "markdown",
   "id": "e1d8c286-4bb0-4265-a15d-700ebe098151",
   "metadata": {},
   "source": [
    "### Load the project"
   ]
  },
  {
   "cell_type": "code",
   "execution_count": 12,
   "id": "4f2b5045-c6cc-4686-b473-d59270f669ba",
   "metadata": {
    "tags": []
   },
   "outputs": [
    {
     "name": "stderr",
     "output_type": "stream",
     "text": [
      "*** define_graph() function is empty. Loading 'graph/webserver-example.seamless' ***\n",
      "\n",
      "/opt/conda/lib/python3.8/site-packages/seamless/core/mount.py:123: RuntimeWarning: coroutine 'sleep' was never awaited\n",
      "  pass\n",
      "RuntimeWarning: Enable tracemalloc to get the object allocation traceback\n",
      "Project loaded.\n",
      "\n",
      "    Main context is \"ctx\"\n",
      "    Web/status context is \"webctx\"\n",
      "\n",
      "    Open http://localhost:<REST server port> to see the web page\n",
      "    Open http://localhost:<REST server port>/status/status.html to see the status\n",
      "\n",
      "    Run save() to save the project\n",
      "    \n"
     ]
    },
    {
     "name": "stdout",
     "output_type": "stream",
     "text": [
      "Opened the seamless share update server at port 5138\n",
      "Opened the seamless REST server at port 5813\n"
     ]
    }
   ],
   "source": [
    "%run -i load-project.py\n",
    "await load()"
   ]
  },
  {
   "cell_type": "markdown",
   "id": "cfe44286-d9ab-4c35-9753-08660eebcf2b",
   "metadata": {},
   "source": [
    "### **1. Generate dataset**"
   ]
  },
  {
   "cell_type": "code",
   "execution_count": 13,
   "id": "bac10e49-7704-4dd5-b1ea-48ff4ff07207",
   "metadata": {
    "scrolled": true,
    "tags": []
   },
   "outputs": [
    {
     "name": "stdout",
     "output_type": "stream",
     "text": [
      "\n",
      "Status: OK Exception:  None\n",
      "Result:\n"
     ]
    },
    {
     "data": {
      "text/plain": [
       "array([[-3.90742801e+00,  8.44177954e+00],\n",
       "       [ 9.25757310e+00, -2.17024146e+00],\n",
       "       [ 2.15504965e+00,  4.12386249e+00],\n",
       "       [-9.73739417e-01,  6.94454493e+00],\n",
       "       [-7.55113462e-01,  3.74138642e+00],\n",
       "       [ 3.03809631e-01,  3.94423417e+00],\n",
       "       [ 1.07932501e+01, -6.11580316e-01],\n",
       "       [ 2.18217961e+00,  1.29965302e+00],\n",
       "       [-2.16434104e+00,  2.52061045e+00],\n",
       "       [-1.36641982e+00,  7.15528181e+00],\n",
       "       [ 2.45127423e+00, -1.95397849e-01],\n",
       "       [ 1.00877750e+01, -2.27224403e+00],\n",
       "       [ 2.20656076e+00,  5.50616718e+00],\n",
       "       [ 2.46452227e+00,  6.19967650e+00],\n",
       "       [ 9.14314826e+00, -2.23721639e+00],\n",
       "       [ 9.08260172e+00, -2.72601914e+00],\n",
       "       [ 1.44193252e+00,  2.76754364e+00],\n",
       "       [ 4.92573752e+00,  1.53580774e-01],\n",
       "       [ 7.07656534e-01,  8.22555334e+00],\n",
       "       [ 2.63185834e+00,  6.89364904e-01],\n",
       "       [ 2.50904929e+00,  5.77314610e+00],\n",
       "       [-7.22828865e-02,  2.88376939e+00],\n",
       "       [ 8.08035174e-02,  4.69068983e+00],\n",
       "       [ 1.98702592e+00,  2.61100638e+00],\n",
       "       [ 1.84070628e+00,  3.56162231e+00],\n",
       "       [ 1.36069966e+00,  7.48029120e-01],\n",
       "       [ 7.43018566e+00, -2.80914363e+00],\n",
       "       [ 2.66934689e+00,  1.81987033e+00],\n",
       "       [-2.37508158e+00,  7.10478226e+00],\n",
       "       [-2.95096492e+00,  2.42456238e+00],\n",
       "       [-1.24697941e+00,  2.81973187e+00],\n",
       "       [-1.29042723e+00,  7.54857282e+00],\n",
       "       [ 8.82144116e-01,  2.84128485e+00],\n",
       "       [ 7.34782884e+00,  1.13103046e+00],\n",
       "       [-1.95295605e+00,  8.77872074e+00],\n",
       "       [-1.96786016e+00,  7.02246703e+00],\n",
       "       [-1.38195733e+00,  8.91320382e+00],\n",
       "       [ 1.02051036e+01, -1.99120464e+00],\n",
       "       [ 6.65608647e+00,  5.83191041e-01],\n",
       "       [ 2.43169305e+00, -2.01737131e-01],\n",
       "       [ 5.73093132e-01,  5.52623240e+00],\n",
       "       [-6.16725105e-01,  3.23510048e+00],\n",
       "       [-2.06976549e+00,  3.33393231e+00],\n",
       "       [ 1.14244530e+00,  2.01467995e+00],\n",
       "       [ 1.06377871e+01, -3.02061881e+00],\n",
       "       [-2.48284901e+00,  2.57190049e+00],\n",
       "       [ 1.15369622e+00,  3.90200639e+00],\n",
       "       [ 1.41942144e+00,  1.57409695e+00],\n",
       "       [ 8.67460127e+00, -3.44706661e+00],\n",
       "       [-2.47135027e+00,  2.50783257e+00],\n",
       "       [ 8.79359940e+00, -1.71081133e+00],\n",
       "       [ 5.17594779e+00,  6.36644291e-02],\n",
       "       [ 1.73730780e+00,  4.42546234e+00],\n",
       "       [ 3.41947985e-01,  3.94104616e+00],\n",
       "       [ 1.13121750e+00,  4.68194985e+00],\n",
       "       [ 3.00251949e+00,  7.42653567e-01],\n",
       "       [-1.38420548e+00,  8.97235138e+00],\n",
       "       [ 4.86339619e+00,  8.92715600e-01],\n",
       "       [-1.64770480e+00,  8.20551590e+00],\n",
       "       [ 6.17340489e+00,  2.59894196e+00],\n",
       "       [-5.01067441e-01,  6.64651506e+00],\n",
       "       [ 2.11567076e+00,  3.06896151e+00],\n",
       "       [ 1.28535145e+00,  1.43691285e+00],\n",
       "       [-1.83591698e+00,  1.24187846e+00],\n",
       "       [-7.40576051e-01,  2.45146316e+00],\n",
       "       [ 8.98141785e+00, -3.09266184e+00],\n",
       "       [-9.01672562e-01,  1.31582461e+00],\n",
       "       [ 5.31698172e+00, -4.00931464e-01],\n",
       "       [ 3.97820955e+00,  2.37817845e+00],\n",
       "       [ 4.77987230e+00,  1.39814623e+00],\n",
       "       [ 6.96309483e+00,  1.07389934e+00],\n",
       "       [-5.58437610e-01,  9.13730625e+00],\n",
       "       [ 2.06576754e+00,  2.68353415e+00],\n",
       "       [ 1.05472929e-01,  3.72493766e+00],\n",
       "       [ 8.53072481e+00,  5.03973729e-01],\n",
       "       [ 9.84054549e+00, -2.55384472e+00],\n",
       "       [-1.88089792e+00,  1.54293097e+00],\n",
       "       [ 3.54588072e+00,  8.29382810e-01],\n",
       "       [-1.88879762e-01,  5.20461381e+00],\n",
       "       [ 1.55723507e+00,  2.82719571e+00],\n",
       "       [-2.40561103e+00,  7.52316776e+00],\n",
       "       [-3.18453558e+00,  8.02423861e+00],\n",
       "       [ 6.60590671e+00,  1.60733722e+00],\n",
       "       [ 6.29763109e+00,  8.56994159e-01],\n",
       "       [ 7.57337344e+00,  1.57229279e+00],\n",
       "       [ 8.91982346e+00, -3.94764381e+00],\n",
       "       [-2.76525282e-01,  5.08127768e+00],\n",
       "       [ 1.64164854e+00,  1.50208848e-01],\n",
       "       [ 4.43841230e+00,  1.84214315e+00],\n",
       "       [ 1.33263648e+00,  5.01036050e+00],\n",
       "       [-1.35879643e+00,  8.85563273e+00],\n",
       "       [-1.00583914e+00,  2.34209429e+00],\n",
       "       [-4.75002797e-01,  6.65157938e+00],\n",
       "       [-1.89608585e+00,  2.67850308e+00],\n",
       "       [ 3.92282648e+00,  1.80370832e+00],\n",
       "       [-1.79746375e-01,  7.38207421e+00],\n",
       "       [ 9.91656968e+00, -3.90179303e+00],\n",
       "       [-1.57671974e+00,  4.95740592e+00],\n",
       "       [-1.55914195e+00,  7.93286018e+00],\n",
       "       [ 6.69709677e+00, -2.07772070e+00],\n",
       "       [ 1.09213901e+01, -2.16694187e+00],\n",
       "       [ 1.05505217e+00, -6.47107437e-01],\n",
       "       [ 3.00468833e+00,  9.85214901e-01],\n",
       "       [-2.63128735e+00,  2.97004734e+00],\n",
       "       [-2.71576327e+00,  2.41106591e+00],\n",
       "       [-2.12422008e+00,  2.67996053e+00],\n",
       "       [-1.00362735e+00,  2.74633593e+00],\n",
       "       [-7.54513997e-01,  7.71935608e+00],\n",
       "       [ 3.93841822e+00, -4.50095401e-01],\n",
       "       [ 1.10059764e+01, -1.64666852e+00],\n",
       "       [ 9.64408021e+00, -2.18910782e+00],\n",
       "       [ 4.65464941e-01,  3.12315514e+00],\n",
       "       [ 7.17865214e+00, -2.20744771e+00],\n",
       "       [-1.68917841e+00,  7.55510452e+00],\n",
       "       [-6.37627769e-01,  4.09104705e+00],\n",
       "       [ 5.88943261e-01,  4.00148458e+00],\n",
       "       [ 5.74856999e+00,  7.72191333e-01],\n",
       "       [-1.38495085e+00,  2.59855384e+00],\n",
       "       [-1.61294932e+00,  7.99216387e+00],\n",
       "       [-7.24364751e-01,  7.92388210e+00],\n",
       "       [ 8.96414077e+00, -2.56463629e+00],\n",
       "       [-6.53928268e-01,  4.76656958e+00],\n",
       "       [ 1.95681500e+00,  2.34185374e-01],\n",
       "       [ 9.85177671e+00, -1.98151517e+00],\n",
       "       [-2.12321805e+00,  2.86531497e+00],\n",
       "       [-1.15053081e+00,  8.41841370e+00],\n",
       "       [ 1.04278730e+00,  4.60625923e+00],\n",
       "       [ 1.62011397e+00,  2.74692739e+00],\n",
       "       [ 1.01311791e+01, -1.19006776e+00],\n",
       "       [-1.37039748e+00,  3.15006330e+00],\n",
       "       [-8.86772487e-01,  1.30092622e+00],\n",
       "       [ 1.19404184e+00,  2.80772861e+00],\n",
       "       [ 1.02163013e+01, -5.07084679e+00],\n",
       "       [ 8.70394316e+00, -2.06126527e+00],\n",
       "       [-2.29350914e+00,  9.04660531e+00],\n",
       "       [ 9.48087850e-01,  4.73211920e+00],\n",
       "       [ 1.31051270e+00,  7.12251213e-02],\n",
       "       [ 2.91209813e+00,  2.46638067e-01],\n",
       "       [-1.99049999e+00,  3.39936374e+00],\n",
       "       [ 8.84843309e-02,  2.32299086e+00],\n",
       "       [ 1.05566092e+00,  6.77544419e+00],\n",
       "       [ 5.55883023e+00, -1.31829571e-01],\n",
       "       [ 8.62096161e+00, -2.85235894e+00],\n",
       "       [-5.54482622e-01,  7.67588658e+00],\n",
       "       [ 2.97612635e+00,  1.21639131e+00],\n",
       "       [ 1.37861172e+00,  3.61897724e+00],\n",
       "       [ 5.64009929e-01,  1.33705536e+00],\n",
       "       [ 4.87399638e+00, -2.15218968e-01],\n",
       "       [ 1.59973502e+00,  9.15142819e-01],\n",
       "       [ 8.50911129e+00, -3.76896110e+00],\n",
       "       [ 3.18190344e+00, -1.82267848e-01],\n",
       "       [ 1.18454506e+00,  5.28042636e+00],\n",
       "       [-1.30988218e+00,  7.72815474e+00],\n",
       "       [ 6.64717546e-01,  4.35995267e+00],\n",
       "       [ 7.57514939e+00, -1.94388915e+00],\n",
       "       [ 1.42013331e+00,  4.63746165e+00],\n",
       "       [-2.55478263e+00,  9.49359070e+00],\n",
       "       [ 5.43927178e+00, -5.81522121e-01],\n",
       "       [ 4.80456548e+00,  2.27955030e-01],\n",
       "       [-3.00414636e+00,  8.28639448e+00],\n",
       "       [ 9.32275019e+00, -1.83733285e+00],\n",
       "       [ 4.81645889e+00,  5.00043639e-01],\n",
       "       [ 6.72976103e+00,  1.95286246e+00],\n",
       "       [ 8.29832003e-01,  1.74202664e+00],\n",
       "       [ 2.22194102e+00,  1.53269510e+00],\n",
       "       [ 4.65534283e+00,  1.87932647e+00],\n",
       "       [ 8.28774447e+00, -3.80300463e+00],\n",
       "       [ 2.72756228e+00,  1.30512550e+00],\n",
       "       [ 9.00552167e+00, -3.45918095e+00],\n",
       "       [-3.06770103e+00,  2.98114426e+00],\n",
       "       [-1.90066436e+00,  7.44450664e+00],\n",
       "       [ 6.29191637e+00, -3.86713619e-01],\n",
       "       [ 1.02102468e+00,  1.57925818e+00],\n",
       "       [ 9.08820154e+00, -3.13881811e+00],\n",
       "       [ 1.07398339e+01, -1.47861768e+00],\n",
       "       [-9.61912086e-01,  8.44430385e+00],\n",
       "       [ 9.07798869e-01,  4.59843615e-01],\n",
       "       [-2.17052242e+00,  6.94479109e-01],\n",
       "       [ 6.89717142e-02,  4.35573272e+00],\n",
       "       [-5.81872693e-01,  7.37474023e+00],\n",
       "       [-8.49209429e-01,  5.06286726e+00],\n",
       "       [ 6.63506557e+00,  6.56158570e-01],\n",
       "       [-3.10984241e+00,  3.52826164e+00],\n",
       "       [ 1.38093486e+00,  9.29494218e-01],\n",
       "       [ 3.81809413e+00,  3.84437617e-02],\n",
       "       [ 9.31188576e+00, -3.98788473e+00],\n",
       "       [ 6.93478510e+00,  1.87592037e+00],\n",
       "       [ 6.71033352e+00,  4.62790927e-01],\n",
       "       [ 1.70536064e+00,  4.43277024e+00],\n",
       "       [-1.94030562e+00,  9.37183707e+00],\n",
       "       [-1.93609339e+00,  6.62138261e+00],\n",
       "       [ 6.93084761e+00,  3.43682594e-01],\n",
       "       [ 1.25185786e+00,  2.08113882e-01],\n",
       "       [ 1.02027603e+01, -1.74894503e+00],\n",
       "       [ 5.36765522e+00, -8.39007718e-01],\n",
       "       [ 6.36331936e-01,  4.25441021e+00],\n",
       "       [ 7.01769098e+00, -3.35367647e+00],\n",
       "       [-1.65978459e+00,  2.62009138e+00],\n",
       "       [-3.74572448e-01,  3.99750085e+00],\n",
       "       [ 7.39360111e-01,  4.36079055e-01],\n",
       "       [ 7.15363764e+00, -3.04520423e-01],\n",
       "       [ 2.35350570e+00,  2.22404956e+00],\n",
       "       [ 6.03380096e+00,  5.27294854e-01],\n",
       "       [ 1.00399184e+01, -1.97487681e+00],\n",
       "       [-1.87634333e+00,  7.35443290e+00],\n",
       "       [-1.10064528e+00,  3.59479030e+00],\n",
       "       [ 9.06635153e+00, -1.45099071e+00],\n",
       "       [ 5.36563657e+00, -1.62354289e+00],\n",
       "       [ 6.70346425e+00,  8.54770301e-01],\n",
       "       [-1.54392443e+00,  3.29703400e+00],\n",
       "       [ 9.55369692e+00, -3.32429323e+00],\n",
       "       [ 1.02202860e+00,  4.11660348e+00],\n",
       "       [-2.34026827e+00,  1.45145793e+00],\n",
       "       [ 7.32404937e-01,  2.87562511e+00],\n",
       "       [ 1.01148865e+01, -2.58062820e+00],\n",
       "       [-1.93226667e+00,  9.49501081e+00],\n",
       "       [ 3.24329731e+00,  1.21460627e+00],\n",
       "       [-7.30000112e-01,  6.25456272e+00],\n",
       "       [ 7.82672051e+00, -1.53087167e+00],\n",
       "       [-8.35365262e-01,  3.61263140e+00],\n",
       "       [-3.27894024e+00,  9.89995288e+00],\n",
       "       [ 2.47034915e+00,  4.09862906e+00],\n",
       "       [-1.40592279e+00,  1.00921835e+01],\n",
       "       [-2.25250139e+00,  1.53451831e+00],\n",
       "       [ 9.97171236e+00, -2.32739873e+00],\n",
       "       [-1.56618683e+00,  1.74978876e+00],\n",
       "       [ 1.28933778e+00,  3.44969159e+00],\n",
       "       [ 5.05187161e+00,  4.67509096e-01],\n",
       "       [-1.63313558e+00,  7.92981160e+00],\n",
       "       [ 4.66617897e-01,  3.86571303e+00],\n",
       "       [ 1.78726415e+00,  1.70012006e+00],\n",
       "       [-9.44825430e-02,  5.35823905e+00],\n",
       "       [-2.26646701e+00,  4.46089686e+00],\n",
       "       [-2.81976092e+00,  3.18493313e+00],\n",
       "       [ 3.24602470e+00,  2.84942165e+00],\n",
       "       [ 7.84782523e-01,  1.86706037e+00],\n",
       "       [-4.27244417e-01,  3.57314599e+00],\n",
       "       [ 6.21723319e+00,  5.43656115e-01],\n",
       "       [ 1.63123797e-01,  2.57750473e+00],\n",
       "       [ 5.39531124e+00,  7.59236824e-01],\n",
       "       [ 5.48705011e+00, -3.37008180e-03],\n",
       "       [-3.24194687e-02,  8.47897236e-01],\n",
       "       [-2.58251425e+00,  6.48874251e+00],\n",
       "       [ 5.78879680e+00,  7.98406051e-01],\n",
       "       [-1.55123014e+00,  2.17985135e+00],\n",
       "       [ 4.20186624e+00, -9.89869329e-01],\n",
       "       [ 6.28357929e-01,  4.46013630e+00],\n",
       "       [ 5.33168406e+00,  2.99035207e+00],\n",
       "       [-2.68308645e+00,  3.69908036e+00],\n",
       "       [ 7.50471676e+00, -1.97568783e+00]])"
      ]
     },
     "execution_count": 13,
     "metadata": {},
     "output_type": "execute_result"
    },
    {
     "name": "stdout",
     "output_type": "stream",
     "text": [
      "\n",
      "\n"
     ]
    }
   ],
   "source": [
    "ctx.generate_dataset = generate_dataset  # Python function \"generate_dataset\" => Seamless transformer ctx.generate_dataset\n",
    "ctx.generate_dataset.delay = 0\n",
    "ctx.generate_dataset.n_clusters = 6\n",
    "ctx.generate_dataset.n_samples = 250\n",
    "ctx.generate_dataset.random_state = 0\n",
    "\n",
    "ctx.generated_dataset = ctx.generate_dataset.result\n",
    "ctx.dataset = ctx.generated_dataset[0]\n",
    "ctx.dataset.celltype = \"binary\"    # \"binary\" means \"Numpy array\"\n",
    "ctx.dataset_classes = ctx.generated_dataset[1]\n",
    "ctx.dataset_classes.celltype = \"binary\"\n",
    "\n",
    "await ctx.computation()\n",
    "print(ctx.generate_dataset.status, \"Exception: \", ctx.generate_dataset.exception)\n",
    "print(\"Result:\")\n",
    "ctx.dataset.value"
   ]
  },
  {
   "cell_type": "markdown",
   "id": "d529ffeb-1fcf-4526-a135-57dd1b672171",
   "metadata": {
    "tags": []
   },
   "source": [
    "### **2. Plot without clustering**"
   ]
  },
  {
   "cell_type": "code",
   "execution_count": 14,
   "id": "efa4a9a6-181c-4ac8-af73-0f67cbdf20e6",
   "metadata": {
    "tags": []
   },
   "outputs": [
    {
     "name": "stdout",
     "output_type": "stream",
     "text": [
      "Status: OK Exception: None\n"
     ]
    }
   ],
   "source": [
    "ctx.plot_dataset = plot_dataset   # Python function \"plot_dataset\" => Seamless transformer ctx.plot_dataset\n",
    "ctx.plot_dataset.dataset = ctx.dataset\n",
    "ctx.plot_dataset.colors = ctx.dataset_classes\n",
    "ctx.plot = ctx.plot_dataset.result\n",
    "ctx.plot.celltype = \"bytes\"\n",
    "ctx.plot.mimetype = \"png\"\n",
    "await ctx.computation()\n",
    "print(ctx.plot.status, \"Exception:\", ctx.plot_dataset.exception)"
   ]
  },
  {
   "cell_type": "code",
   "execution_count": 15,
   "id": "22ec238f-8b5c-4a03-8485-a2cc43015dd7",
   "metadata": {},
   "outputs": [
    {
     "data": {
      "image/png": "[encoded data removed]",
      "text/plain": [
       "<IPython.core.display.Image object>"
      ]
     },
     "execution_count": 15,
     "metadata": {},
     "output_type": "execute_result"
    }
   ],
   "source": [
    "Image(ctx.plot.value)"
   ]
  },
  {
   "cell_type": "markdown",
   "id": "e0147e3d-97ef-4652-9314-42d14ffd21c6",
   "metadata": {},
   "source": [
    "### Add some cells that control the workflow parameters\n"
   ]
  },
  {
   "cell_type": "code",
   "execution_count": 16,
   "id": "86503773-9994-48fc-b259-7cb3a0446ec2",
   "metadata": {},
   "outputs": [],
   "source": [
    "ctx.delay = Cell(\"float\").set(0)\n",
    "ctx.random_state = Cell(\"int\").set(0)\n",
    "ctx.generate_dataset.delay = ctx.delay\n",
    "ctx.generate_dataset.random_state = ctx.random_state\n",
    "\n",
    "await ctx.computation()"
   ]
  },
  {
   "cell_type": "markdown",
   "id": "9f652b6d-120a-4958-801f-0ef25ede7041",
   "metadata": {},
   "source": [
    "### Generate a little Jupyter dashboard to control the workflow\n",
    "\n",
    "#### Changing the random state will change the graph\n",
    "\n",
    "#### Increasing the \"delay\" slider will slow down execution\n",
    "\n",
    "#### Once execution has finished, the plot will be updated"
   ]
  },
  {
   "cell_type": "code",
   "execution_count": 17,
   "id": "e6d97452-3d41-46c7-a52a-a722d4e99bff",
   "metadata": {
    "tags": []
   },
   "outputs": [
    {
     "data": {
      "application/vnd.jupyter.widget-view+json": {
       "model_id": "f3c083ab6afa4a11b0f98c5b51063e01",
       "version_major": 2,
       "version_minor": 0
      },
      "text/plain": [
       "IntSlider(value=0, description='Rand state')"
      ]
     },
     "metadata": {},
     "output_type": "display_data"
    },
    {
     "data": {
      "application/vnd.jupyter.widget-view+json": {
       "model_id": "d551da586a3848b48880b18e483a0c32",
       "version_major": 2,
       "version_minor": 0
      },
      "text/plain": [
       "FloatSlider(value=0.0, description='Delay', max=10.0)"
      ]
     },
     "metadata": {},
     "output_type": "display_data"
    },
    {
     "name": "stdout",
     "output_type": "stream",
     "text": [
      "Plot\n"
     ]
    },
    {
     "data": {
      "application/vnd.jupyter.widget-view+json": {
       "model_id": "524bdfab48bd415c8ab5b480b2ecba07",
       "version_major": 2,
       "version_minor": 0
      },
      "text/plain": [
       "Output(outputs=({'output_type': 'display_data', 'data': {'image/png': 'iVBORw0KGgoAAAANSUhEUgAAAbAAAAEgCAYAAAD…"
      ]
     },
     "metadata": {},
     "output_type": "display_data"
    }
   ],
   "source": [
    "from ipywidgets import IntSlider, FloatSlider\n",
    "\n",
    "widget_random_state = IntSlider(min=0,max=100, description=\"Rand state\")\n",
    "widget_delay = FloatSlider(min=0,max=10, description=\"Delay\")\n",
    "ctx.random_state.traitlet().link(widget_random_state)\n",
    "ctx.delay.traitlet().link(widget_delay)\n",
    "\n",
    "display(widget_random_state)\n",
    "display(widget_delay)\n",
    "print(\"Plot\")\n",
    "display(ctx.plot.output())"
   ]
  },
  {
   "cell_type": "markdown",
   "id": "9663172d-9617-414d-b0dd-67fa5ef66893",
   "metadata": {},
   "source": [
    "#### The cells can still be changed programmatically. \n",
    "#### This will update the slider above, and re-build the plot"
   ]
  },
  {
   "cell_type": "code",
   "execution_count": 18,
   "id": "493b57c3-6570-4f90-978b-4b2f7f05e8d9",
   "metadata": {},
   "outputs": [],
   "source": [
    "ctx.random_state = 6"
   ]
  },
  {
   "cell_type": "markdown",
   "id": "16abb7a9-a6b2-4667-9707-785c44cec16a",
   "metadata": {
    "tags": []
   },
   "source": [
    "### **3. Plot with clustering**"
   ]
  },
  {
   "cell_type": "code",
   "execution_count": 19,
   "id": "8a81dfc6-92fa-4074-a865-9c266de630f6",
   "metadata": {
    "tags": []
   },
   "outputs": [],
   "source": [
    "ctx.k = Cell(\"int\").set(3)\n",
    "ctx.get_clustering = get_clustering  # Python function \"get_clustering\" => Seamless transformer ctx.get_clustering\n",
    "ctx.get_clustering.dataset = ctx.dataset\n",
    "ctx.get_clustering.k = ctx.k\n",
    "ctx.clustering = ctx.get_clustering.result\n",
    "ctx.clustering.celltype = \"binary\"\n",
    "ctx.plot_dataset.colors = ctx.clustering\n",
    "await ctx.computation()"
   ]
  },
  {
   "cell_type": "markdown",
   "id": "d1df90ca-8d39-4df1-aa0b-aa9f93ab9d5b",
   "metadata": {},
   "source": [
    "### Generate a new Jupyter dashboard to control the updated workflow"
   ]
  },
  {
   "cell_type": "code",
   "execution_count": 20,
   "id": "05573b73-83a3-4a4b-b8c5-e4af380508e4",
   "metadata": {},
   "outputs": [
    {
     "data": {
      "application/vnd.jupyter.widget-view+json": {
       "model_id": "70d6b519b80c4d6fbe9de9a84053e083",
       "version_major": 2,
       "version_minor": 0
      },
      "text/plain": [
       "IntSlider(value=6, description='Rand state')"
      ]
     },
     "metadata": {},
     "output_type": "display_data"
    },
    {
     "data": {
      "application/vnd.jupyter.widget-view+json": {
       "model_id": "d5e6f4ef1279449a92adfc258d2906ce",
       "version_major": 2,
       "version_minor": 0
      },
      "text/plain": [
       "FloatSlider(value=0.0, description='Delay', max=10.0)"
      ]
     },
     "metadata": {},
     "output_type": "display_data"
    },
    {
     "data": {
      "application/vnd.jupyter.widget-view+json": {
       "model_id": "306bea7086054da98d69b17e4f4506d6",
       "version_major": 2,
       "version_minor": 0
      },
      "text/plain": [
       "IntSlider(value=3, description='K Clusters', max=20, min=1)"
      ]
     },
     "metadata": {},
     "output_type": "display_data"
    },
    {
     "name": "stdout",
     "output_type": "stream",
     "text": [
      "Plot\n"
     ]
    },
    {
     "data": {
      "application/vnd.jupyter.widget-view+json": {
       "model_id": "ea21ec3b89524e9f880a51016f9d2974",
       "version_major": 2,
       "version_minor": 0
      },
      "text/plain": [
       "Output(outputs=({'output_type': 'display_data', 'data': {'image/png': 'iVBORw0KGgoAAAANSUhEUgAAAbAAAAEgCAYAAAD…"
      ]
     },
     "metadata": {},
     "output_type": "display_data"
    }
   ],
   "source": [
    "widget_random_state = IntSlider(min=0,max=100, description=\"Rand state\")\n",
    "widget_delay = FloatSlider(min=0,max=10, description=\"Delay\")\n",
    "widget_k = IntSlider(min=1,max=20, description=\"K Clusters\")\n",
    "ctx.random_state.traitlet().link(widget_random_state)\n",
    "ctx.delay.traitlet().link(widget_delay)\n",
    "ctx.k.traitlet().link(widget_k)\n",
    "\n",
    "display(widget_random_state)\n",
    "display(widget_delay)\n",
    "display(widget_k)\n",
    "print(\"Plot\")\n",
    "display(ctx.plot.output())"
   ]
  },
  {
   "cell_type": "markdown",
   "id": "1e06b6fc-b0c0-411e-a186-e839dee0c9a9",
   "metadata": {},
   "source": [
    "# Building a web server\n",
    "### Now we will share the plot directly over the web"
   ]
  },
  {
   "cell_type": "code",
   "execution_count": 21,
   "id": "caae79a6-7d6a-4c43-a19d-16e6488156da",
   "metadata": {},
   "outputs": [],
   "source": [
    "ctx.plot.share()\n",
    "await ctx.translation()"
   ]
  },
  {
   "cell_type": "markdown",
   "id": "28834e9f-37c7-4088-bb65-468fe67eb9b9",
   "metadata": {
    "tags": []
   },
   "source": [
    "### The following link will display the plot (new tab)\n",
    "### http://localhost:5813/ctx/plot"
   ]
  },
  {
   "cell_type": "markdown",
   "id": "cb76c4f8-a014-4c12-bcf7-120dd96ef3d8",
   "metadata": {
    "tags": []
   },
   "source": [
    "### We can do the same for the input parameters. \n",
    "#### In fact, the URL is the same, ending with **/ctx/random_state** and **/ctx/delay** instead of **/ctx/plot**"
   ]
  },
  {
   "cell_type": "code",
   "execution_count": 22,
   "id": "d249b5a4-6c4b-4e00-81a5-c8280949d063",
   "metadata": {},
   "outputs": [],
   "source": [
    "ctx.random_state.share(readonly=False)  # readonly=False, so we can modify it via the web page\n",
    "ctx.delay.share(readonly=False)\n",
    "ctx.k.share(readonly=False)\n",
    "await ctx.computation()"
   ]
  },
  {
   "cell_type": "markdown",
   "id": "c3c295b1",
   "metadata": {
    "tags": []
   },
   "source": [
    "### The following link will display the input parameters (new tab)\n",
    "### http://localhost:5813/ctx/random_state\n",
    "### http://localhost:5813/ctx/delay\n",
    "### http://localhost:5813/ctx/k"
   ]
  },
  {
   "cell_type": "markdown",
   "id": "4d799d0d-7ec1-4565-87b5-c38f0e271021",
   "metadata": {
    "tags": []
   },
   "source": [
    "## Auto-generated web interface\n",
    "### Seamless projects embed a generator for a web interface. Shared cells are added automatically.\n",
    "### It also maintains a status web page that visualizes the workflow graph, and its execution status\n",
    "### The following link will display the web form (new tab)\n",
    "### http://localhost:5813/\n",
    "### The following link will display the status page (new tab)\n",
    "### http://localhost:5813/status/status.html"
   ]
  },
  {
   "cell_type": "markdown",
   "id": "76e21049-5ae2-471c-8fca-5b71732dc8fa",
   "metadata": {},
   "source": [
    "\n",
    "#### The cell values are in sync with the Jupyter dashboard above. \n",
    "\n",
    "#### The web interface is also collaborative. When multiple users connect, their updates are synchronized as well."
   ]
  },
  {
   "cell_type": "markdown",
   "id": "5dd2d6ce-b499-4575-a94d-aa94e8c6860e",
   "metadata": {},
   "source": [
    "## Customizing the web interface\n",
    "### Edit the files in the /web directory to customize the web interface.\n",
    "### The web page can be customized at different levels. The web page is updated immediately upon browser refresh.\n",
    "- **Customizing webform.json**\n",
    "\n",
    "  For example, you can copy `webform-CUSTOM.json` to `web/webform.json`. This will show the output plot in the webform.\n",
    "\n",
    "- **Modifying the generated index.html and index.js by hand**\n",
    "\n",
    "- **Modifying the webform.json components in /web/components**\n",
    "\n",
    "### Modifications can lead to merge conflicts, that must be resolved in the -CONFLICT files"
   ]
  },
  {
   "cell_type": "code",
   "execution_count": 23,
   "id": "2b22830a-a31c-48f9-81c3-2c1ee55c6d42",
   "metadata": {},
   "outputs": [],
   "source": [
    "#!cp webform-CUSTOM.json web/webform.json"
   ]
  }
 ],
 "metadata": {
  "kernelspec": {
   "display_name": "Python 3",
   "language": "python",
   "name": "python3"
  },
  "language_info": {
   "codemirror_mode": {
    "name": "ipython",
    "version": 3
   },
   "file_extension": ".py",
   "mimetype": "text/x-python",
   "name": "python",
   "nbconvert_exporter": "python",
   "pygments_lexer": "ipython3",
   "version": "3.8.10"
  }
 },
 "nbformat": 4,
 "nbformat_minor": 5
}
