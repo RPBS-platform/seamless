{
 "cells": [
  {
   "cell_type": "code",
   "execution_count": 1,
   "metadata": {},
   "outputs": [],
   "source": [
    "import seamless\n",
    "from seamless.core import macro_mode_on\n",
    "from seamless.core import context,textcell, cell, transformer, pytransformercell"
   ]
  },
  {
   "cell_type": "code",
   "execution_count": 2,
   "metadata": {},
   "outputs": [
    {
     "name": "stdout",
     "output_type": "stream",
     "text": [
      "FLUSH!\n",
      "Warning: Directory path '/tmp/mount-test' already exists\n",
      "Warning: Directory path '/tmp/mount-test/sub' already exists\n",
      "Execute local\n",
      "READ Seamless plain cell: .result\n",
      "WORK 1560847239.7303224\n"
     ]
    },
    {
     "data": {
      "text/plain": [
       "set()"
      ]
     },
     "execution_count": 2,
     "metadata": {},
     "output_type": "execute_result"
    }
   ],
   "source": [
    "with macro_mode_on():\n",
    "    ctx = context(toplevel=True)\n",
    "    ctx.cell1 = cell().set(1)\n",
    "    ctx.cell2 = cell().set(2)\n",
    "    ctx.result = cell()\n",
    "    ctx.tf = transformer({\n",
    "        \"a\": \"input\",\n",
    "        \"b\": \"input\",\n",
    "        \"c\": \"output\"\n",
    "    })\n",
    "    ctx.cell1.connect(ctx.tf.a)\n",
    "    ctx.cell2.connect(ctx.tf.b)\n",
    "    ctx.code = pytransformercell().set(\"c = a + b\")\n",
    "    ctx.code.connect(ctx.tf.code)\n",
    "    ctx.tf.c.connect(ctx.result)\n",
    "    ctx.result.mount(\"/tmp/mount-test/myresult\", persistent=True)\n",
    "    ctx.mount(\"/tmp/mount-test\", persistent=True)\n",
    "    ctx.sub = context(toplevel=False)\n",
    "    ctx.sub.mycell = textcell().set(\"This is my cell\\nend\")\n",
    "\n",
    "ctx.equilibrate()"
   ]
  },
  {
   "cell_type": "code",
   "execution_count": 3,
   "metadata": {},
   "outputs": [
    {
     "name": "stdout",
     "output_type": "stream",
     "text": [
      "FLUSH!\n",
      "3\n",
      "Execute local\n",
      "12\n",
      "12\n",
      "Execute local\n",
      "FLUSH!\n",
      "1012.0\n",
      "OK\n",
      "FLUSH!\n",
      "FLUSH!\n",
      "FLUSH!\n",
      "FLUSH!\n",
      "FLUSH!\n",
      "FLUSH!\n",
      "FLUSH!\n",
      "FLUSH!\n",
      "FLUSH!\n",
      "FLUSH!\n",
      "FLUSH!\n",
      "FLUSH!\n",
      "FLUSH!\n",
      "FLUSH!\n",
      "FLUSH!\n",
      "FLUSH!\n",
      "FLUSH!\n",
      "FLUSH!\n",
      "FLUSH!\n",
      "FLUSH!\n",
      "FLUSH!\n",
      "FLUSH!\n",
      "FLUSH!\n",
      "FLUSH!\n",
      "FLUSH!\n",
      "FLUSH!\n",
      "FLUSH!\n",
      "FLUSH!\n",
      "FLUSH!\n",
      "FLUSH!\n",
      "FLUSH!\n",
      "FLUSH!\n",
      "FLUSH!\n",
      "FLUSH!\n",
      "FLUSH!\n",
      "FLUSH!\n",
      "FLUSH!\n",
      "FLUSH!\n",
      "FLUSH!\n",
      "FLUSH!\n",
      "FLUSH!\n",
      "FLUSH!\n",
      "FLUSH!\n"
     ]
    }
   ],
   "source": [
    "print(ctx.result.value)\n",
    "ctx.cell1.set(10)\n",
    "ctx.equilibrate()\n",
    "print(ctx.result.value)\n",
    "print(ctx.result.value)\n",
    "ctx.code.set(\"c = float(a) + float(b) + 1000\")\n",
    "ctx.equilibrate()\n",
    "print(ctx.result.value)\n",
    "print(ctx.status)"
   ]
  },
  {
   "cell_type": "code",
   "execution_count": null,
   "metadata": {},
   "outputs": [],
   "source": [
    "ctx.code.value"
   ]
  },
  {
   "cell_type": "code",
   "execution_count": null,
   "metadata": {},
   "outputs": [],
   "source": [
    "ctx.equilibrate()"
   ]
  },
  {
   "cell_type": "code",
   "execution_count": null,
   "metadata": {},
   "outputs": [],
   "source": [
    "ctx.equilibrate()"
   ]
  },
  {
   "cell_type": "code",
   "execution_count": null,
   "metadata": {},
   "outputs": [],
   "source": [
    "ctx.equilibrate()"
   ]
  },
  {
   "cell_type": "code",
   "execution_count": null,
   "metadata": {},
   "outputs": [],
   "source": []
  }
 ],
 "metadata": {
  "kernelspec": {
   "display_name": "Python 3",
   "language": "python",
   "name": "python3"
  },
  "language_info": {
   "codemirror_mode": {
    "name": "ipython",
    "version": 3
   },
   "file_extension": ".py",
   "mimetype": "text/x-python",
   "name": "python",
   "nbconvert_exporter": "python",
   "pygments_lexer": "ipython3",
   "version": "3.6.7"
  }
 },
 "nbformat": 4,
 "nbformat_minor": 2
}
