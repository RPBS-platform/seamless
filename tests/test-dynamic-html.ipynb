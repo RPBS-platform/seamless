{
 "cells": [
  {
   "cell_type": "code",
   "execution_count": 1,
   "metadata": {
    "collapsed": true,
    "deletable": true,
    "editable": true
   },
   "outputs": [],
   "source": [
    "import seamless\n",
    "from seamless import context, cell, reactor, transformer\n",
    "from seamless.lib.gui.browser import browse\n",
    "from seamless.lib.dynamic_html import dynamic_html\n",
    "from seamless.lib.templateer import templateer\n",
    "ctx = context()"
   ]
  },
  {
   "cell_type": "code",
   "execution_count": 2,
   "metadata": {
    "collapsed": true,
    "deletable": true,
    "editable": true
   },
   "outputs": [],
   "source": [
    "params = {\n",
    "    \"var_bird\": {\"type\": \"var\",\n",
    "                  \"var\": \"bird\",\n",
    "                  \"dtype\": \"str\",\n",
    "                  \"evals\":[\"eval_bird\"]\n",
    "                },\n",
    "    \"eval_bird\": {\"type\": \"eval\"},\n",
    "    \"html_bird\": {\"type\": \"html\", \"id\": \"divbird2\"},\n",
    "}"
   ]
  },
  {
   "cell_type": "code",
   "execution_count": 3,
   "metadata": {
    "collapsed": true,
    "deletable": true,
    "editable": true
   },
   "outputs": [],
   "source": [
    "tmpl = \"\"\"\n",
    "<!DOCTYPE html>\n",
    "<html>\n",
    "<head></head>\n",
    "<body>\n",
    "<b>First bird:</b><br>\n",
    "<div id=\"divbird\">No bird</div>\n",
    "<b>Second bird:</b><br>\n",
    "<div id=\"divbird2\">No bird either</div>\n",
    "<br>\n",
    "{{body}}\n",
    "</body>\n",
    "</html>\n",
    "\"\"\"\n",
    "ctx.html_tmpl = cell(\"text\").set(tmpl)\n",
    "ctx.templateer = templateer({\"templates\": [\"html_tmpl\"], \"environment\": {\"body\": (\"text\", \"html\")}})\n",
    "ctx.html_tmpl.connect(ctx.templateer.html_tmpl)"
   ]
  },
  {
   "cell_type": "code",
   "execution_count": 4,
   "metadata": {
    "collapsed": false,
    "deletable": true,
    "editable": true
   },
   "outputs": [
    {
     "data": {
      "text/plain": [
       "Seamless cell: .cell2"
      ]
     },
     "execution_count": 4,
     "metadata": {},
     "output_type": "execute_result"
    }
   ],
   "source": [
    "ctx.dynamic_html = dynamic_html(params)\n",
    "ctx.dynamic_html.dynamic_html.connect(ctx.templateer.body.cell())\n",
    "js =  \"\"\"\n",
    "var ele = document.getElementById(\"divbird\");\n",
    "ele.innerHTML = bird;\n",
    "\"\"\"\n",
    "ctx.dynamic_html.eval_bird.cell().set(js)"
   ]
  },
  {
   "cell_type": "code",
   "execution_count": 5,
   "metadata": {
    "collapsed": false,
    "deletable": true,
    "editable": true
   },
   "outputs": [
    {
     "name": "stdout",
     "output_type": "stream",
     "text": [
      "Opened a server at socket 5678\n"
     ]
    }
   ],
   "source": [
    "ctx.bird1 = cell(\"text\").set(\"Kakapo\")\n",
    "ctx.bird2 = cell(\"text\").set(\"Owl\")\n",
    "ctx.bird1.connect(ctx.dynamic_html.var_bird)\n",
    "ctx.bird2.connect(ctx.dynamic_html.html_bird)"
   ]
  },
  {
   "cell_type": "code",
   "execution_count": 6,
   "metadata": {
    "collapsed": false,
    "deletable": true,
    "editable": true
   },
   "outputs": [
    {
     "data": {
      "text/plain": [
       "Seamless context: .ctx2"
      ]
     },
     "execution_count": 6,
     "metadata": {},
     "output_type": "execute_result"
    }
   ],
   "source": [
    "html = ctx.templateer.RESULT.cell()\n",
    "browse(html)\n",
    "browse(html)"
   ]
  },
  {
   "cell_type": "code",
   "execution_count": 7,
   "metadata": {
    "collapsed": false,
    "deletable": true,
    "editable": true
   },
   "outputs": [
    {
     "data": {
      "text/plain": [
       "Seamless cell: .bird1"
      ]
     },
     "execution_count": 7,
     "metadata": {},
     "output_type": "execute_result"
    }
   ],
   "source": [
    "ctx.bird1.set(\"Parrot\")"
   ]
  },
  {
   "cell_type": "code",
   "execution_count": 8,
   "metadata": {
    "collapsed": false,
    "deletable": true,
    "editable": true
   },
   "outputs": [
    {
     "data": {
      "application/vnd.jupyter.widget-view+json": {
       "model_id": "3bc8e790f3d6484da0ff83c001ce069c"
      }
     },
     "metadata": {},
     "output_type": "display_data"
    },
    {
     "data": {
      "application/vnd.jupyter.widget-view+json": {
       "model_id": "9ecdc0fa2367441bae2f9421d09d6d9e"
      }
     },
     "metadata": {},
     "output_type": "display_data"
    }
   ],
   "source": [
    "import IPython\n",
    "from seamless.gui.widgetlink import widgetlink\n",
    "from ipywidgets import Text\n",
    "t1 = Text(\"\", description=\"bird 1\")\n",
    "t2 = Text(\"\", description=\"bird 2\")\n",
    "obs1 = widgetlink(ctx.bird1, t1)\n",
    "obs2 = widgetlink(ctx.bird2, t2)\n",
    "IPython.display.display(t1)\n",
    "IPython.display.display(t2)"
   ]
  },
  {
   "cell_type": "code",
   "execution_count": 11,
   "metadata": {
    "collapsed": false,
    "deletable": true,
    "editable": true
   },
   "outputs": [
    {
     "data": {
      "text/plain": [
       "'Parrots'"
      ]
     },
     "execution_count": 11,
     "metadata": {},
     "output_type": "execute_result"
    },
    {
     "name": "stderr",
     "output_type": "stream",
     "text": [
      "Error in connection handler\n",
      "Traceback (most recent call last):\n",
      "  File \"/usr/local/lib/python3.5/dist-packages/websockets/server.py\", line 84, in handler\n",
      "    yield from self.ws_handler(self, path)\n",
      "  File \"/home/sjoerd/data/seamless/seamless/websocketserver.py\", line 63, in _serve\n",
      "    connection_id = await websocket.recv()\n",
      "  File \"/usr/local/lib/python3.5/dist-packages/websockets/protocol.py\", line 299, in recv\n",
      "    raise ConnectionClosed(self.close_code, self.close_reason)\n",
      "websockets.exceptions.ConnectionClosed: WebSocket connection is closed: code = 1006, no reason.\n"
     ]
    }
   ],
   "source": [
    "ctx.bird1.value"
   ]
  },
  {
   "cell_type": "code",
   "execution_count": 10,
   "metadata": {
    "collapsed": false,
    "deletable": true,
    "editable": true
   },
   "outputs": [
    {
     "data": {
      "text/html": [
       "\n",
       "<!DOCTYPE html>\n",
       "<html>\n",
       "<head></head>\n",
       "<body>\n",
       "<b>First bird:</b><br>\n",
       "<div id=\"divbird\">No bird</div>\n",
       "<b>Second bird:</b><br>\n",
       "<div id=\"divbird2\">No bird either</div>\n",
       "<br>\n",
       "<script>\n",
       "\n",
       "    var bird = null;\n",
       "\n",
       "    var ws = new WebSocket(\"ws://127.0.0.1:5678/\");\n",
       "    ws.onopen = function () {\n",
       "        ws.send(\".dynamic_html.rc\");\n",
       "    }\n",
       "    ws.onmessage = function (event) {\n",
       "        var message = JSON.parse(event.data);\n",
       "        if (message.type == \"var\") {\n",
       "          if (0) {}\n",
       "          \n",
       "          else if (message.var == \"bird\") {\n",
       "            bird = message.value;\n",
       "          }\n",
       "          \n",
       "        }\n",
       "        else if (message.type == \"html\") {\n",
       "          var ele = document.getElementById(message.id);\n",
       "          ele.innerHTML = message.value;\n",
       "        }\n",
       "        else if (message.type == \"eval\") {\n",
       "          eval(message.value);\n",
       "        }\n",
       "    };\n",
       "</script>\n",
       "</body>\n",
       "</html>"
      ],
      "text/plain": [
       "<IPython.core.display.HTML object>"
      ]
     },
     "execution_count": 10,
     "metadata": {},
     "output_type": "execute_result"
    }
   ],
   "source": [
    "import IPython\n",
    "IPython.display.HTML(html.value)"
   ]
  },
  {
   "cell_type": "code",
   "execution_count": null,
   "metadata": {
    "collapsed": true,
    "deletable": true,
    "editable": true
   },
   "outputs": [],
   "source": []
  }
 ],
 "metadata": {
  "kernelspec": {
   "display_name": "Python 3",
   "language": "python",
   "name": "python3"
  },
  "language_info": {
   "codemirror_mode": {
    "name": "ipython",
    "version": 3
   },
   "file_extension": ".py",
   "mimetype": "text/x-python",
   "name": "python",
   "nbconvert_exporter": "python",
   "pygments_lexer": "ipython3",
   "version": "3.5.2"
  }
 },
 "nbformat": 4,
 "nbformat_minor": 2
}
