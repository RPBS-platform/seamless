{
 "cells": [
  {
   "cell_type": "code",
   "execution_count": 1,
   "metadata": {},
   "outputs": [
    {
     "name": "stdout",
     "output_type": "stream",
     "text": [
      "Opened the seamless share update server at port 5138\n",
      "Opened the seamless REST server at port 5813\n",
      "Open http://localhost:5813/status in the browser\n"
     ]
    }
   ],
   "source": [
    "# %load visualize-graph.py\n",
    "from seamless.highlevel import Context, Transformer, Cell\n",
    "from functools import partial\n",
    "\n",
    "ctx = Context()\n",
    "ctx.auto_translate = True\n",
    "ctx.a = 42\n",
    "ctx.b = ctx.a\n",
    "\n",
    "ctx2 = Context()\n",
    "ctx2.share_namespace = \"status\"\n",
    "ctx2.graph = {}\n",
    "ctx2.graph.celltype = \"plain\"\n",
    "ctx2.status_ = {}\n",
    "ctx2.status_data = ctx2.status_\n",
    "ctx2.status_data.celltype = \"plain\"\n",
    "await ctx2.translation()\n",
    "\n",
    "status_callbacks = {}\n",
    "\n",
    "def status_callback(path, status):\n",
    "    if ctx._gen_context is None or ctx2._gen_context is None:\n",
    "        return\n",
    "    if ctx._gen_context._destroyed or ctx2._gen_context._destroyed:\n",
    "        return\n",
    "    handle = ctx2.status_.handle\n",
    "    path2 = \".\".join(path)\n",
    "    handle[path2] = status\n",
    "\n",
    "def observe_graph(graph):\n",
    "    ctx2.graph.set(graph)    \n",
    "    paths_to_delete = set(status_callbacks.keys())\n",
    "    for node in graph[\"nodes\"]:\n",
    "        path = tuple(node[\"path\"])\n",
    "        if node[\"type\"] == \"cell\":\n",
    "            paths = [path]\n",
    "        elif node[\"type\"] == \"transformer\":\n",
    "            paths = [\n",
    "                path,\n",
    "                path + (node[\"INPUT\"],),\n",
    "            ]\n",
    "        else: # TODO: libmacro, macro, reactor\n",
    "            continue        \n",
    "        for path in paths:            \n",
    "            if path in status_callbacks:\n",
    "                paths_to_delete.discard(path)\n",
    "                continue\n",
    "            #print(\"OBSERVE\", path)\n",
    "            observers = {}\n",
    "            for attr in (\"status\", \"exception\"):\n",
    "                subpath = path + (attr,)\n",
    "                callback = partial(status_callback, subpath)\n",
    "                status_callback(subpath, None)\n",
    "                observer = ctx.observe(subpath, callback, 2, observe_none=True)\n",
    "                observers[subpath] = observer\n",
    "            status_callbacks[path] = observers\n",
    "    for dpath in paths_to_delete:\n",
    "        #print(\"DELETE\", dpath)\n",
    "        observers = status_callbacks.pop(dpath)\n",
    "        for subpath, observer in observers.items():\n",
    "            status_callback(subpath, None)\n",
    "            observer.destroy()\n",
    "    #print(\"DONE\")\n",
    "\n",
    "ctx.observe((\"get_graph\",), observe_graph, 0.5)\n",
    "\n",
    "gvs = ctx2.gen_vis_status = Transformer()\n",
    "gvs.graph = ctx2.graph\n",
    "gvs.status_ = ctx2.status_\n",
    "gvs.code.mount(\"gen_vis_status.py\", authority=\"file\")\n",
    "ctx2.vis_status = ctx2.gen_vis_status\n",
    "ctx2.vis_status.celltype = \"plain\"\n",
    "ctx2.vis_status.share(readonly=True)\n",
    "\n",
    "c = ctx2.html = Cell()\n",
    "c.set(open(\"status-visualization.html\").read())\n",
    "c.celltype = \"text\"\n",
    "c.mimetype = \"text/html\"\n",
    "c.share(path=\"index.html\")\n",
    "\n",
    "import seamless, os\n",
    "seamless_dir = os.path.dirname(seamless.__file__)\n",
    "c = ctx2.js = Cell()\n",
    "c.celltype = \"text\"\n",
    "c.set(open(seamless_dir + \"/js/seamless-client.js\").read())\n",
    "c.mimetype = \"text/javascript\"\n",
    "c.share(path=\"seamless-client.js\")\n",
    "\n",
    "c = ctx2.css = Cell()\n",
    "c.celltype = \"text\"\n",
    "c.set(open(\"status-visualization.css\").read())\n",
    "c.mimetype = \"text/css\"\n",
    "c.share(path=\"status-visualization.css\")\n",
    "\n",
    "await ctx2.translation()\n",
    "from seamless import shareserver\n",
    "if shareserver.started:\n",
    "    update_port = shareserver.update_port\n",
    "    rest_port = shareserver.rest_port\n",
    "    share_namespace = ctx2.live_share_namespace \n",
    "\n",
    "    c = ctx2.js2 = Cell()\n",
    "    c.celltype = \"text\"\n",
    "    status_vis = open(\"status-visualization.js\").read()\n",
    "    m1, m2 = \"// START of config block\", \"// END of config block\" \n",
    "    marker1 = status_vis.find(m1)\n",
    "    marker2 = status_vis.find(m2)\n",
    "    if marker1 > -1 and marker2 > marker1:\n",
    "        config_block = \"\"\"\n",
    "    SEAMLESS_UPDATE_PORT={}\n",
    "    SEAMLESS_REST_PORT={}\n",
    "    SEAMLESS_SHARE_NAMESPACE=\"{}\"\n",
    "        \"\"\".format(update_port, rest_port, share_namespace)    \n",
    "        status_vis = status_vis[:marker1] + config_block + status_vis[marker2+len(m2):]\n",
    "    c.set(status_vis)\n",
    "    c.mimetype = \"text/javascript\"\n",
    "    c.share(path=\"status-visualization.js\")\n",
    "\n",
    "    await ctx2.translation()\n",
    "\n",
    "    msg = \"Open http://localhost:{}/{} in the browser\"\n",
    "    print(msg.format(rest_port, share_namespace))"
   ]
  },
  {
   "cell_type": "code",
   "execution_count": 2,
   "metadata": {},
   "outputs": [],
   "source": [
    "import asyncio\n",
    "await asyncio.sleep(5)"
   ]
  },
  {
   "cell_type": "code",
   "execution_count": 3,
   "metadata": {},
   "outputs": [],
   "source": [
    "import json\n",
    "await ctx.translation()\n",
    "ctx.add_zip(\"../../../examples/BC/bcscore.zip\")\n",
    "graph = json.load(open(\"../../../examples/BC/bcscore.json\"))\n",
    "ctx.set_graph(graph)\n",
    "await ctx.translation()"
   ]
  },
  {
   "cell_type": "code",
   "execution_count": 4,
   "metadata": {},
   "outputs": [],
   "source": [
    "import asyncio\n",
    "await asyncio.sleep(5)"
   ]
  },
  {
   "cell_type": "code",
   "execution_count": 5,
   "metadata": {},
   "outputs": [],
   "source": [
    "ctx.bcscore.flanksize = 0.5"
   ]
  },
  {
   "cell_type": "code",
   "execution_count": 6,
   "metadata": {},
   "outputs": [],
   "source": [
    "import asyncio\n",
    "await asyncio.sleep(5)"
   ]
  },
  {
   "cell_type": "code",
   "execution_count": 11,
   "metadata": {},
   "outputs": [],
   "source": [
    "ctx.bcscore.flanksize = 4"
   ]
  }
 ],
 "metadata": {
  "kernelspec": {
   "display_name": "Python 3",
   "language": "python",
   "name": "python3"
  },
  "language_info": {
   "codemirror_mode": {
    "name": "ipython",
    "version": 3
   },
   "file_extension": ".py",
   "mimetype": "text/x-python",
   "name": "python",
   "nbconvert_exporter": "python",
   "pygments_lexer": "ipython3",
   "version": "3.7.3"
  }
 },
 "nbformat": 4,
 "nbformat_minor": 2
}
