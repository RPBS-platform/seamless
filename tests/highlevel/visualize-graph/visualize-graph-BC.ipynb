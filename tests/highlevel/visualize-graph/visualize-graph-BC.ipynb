{
 "cells": [
  {
   "cell_type": "code",
   "execution_count": 1,
   "metadata": {},
   "outputs": [
    {
     "name": "stdout",
     "output_type": "stream",
     "text": [
      "Open http://localhost:5813/ctx/state-visualization.html in the browser\n"
     ]
    },
    {
     "name": "stderr",
     "output_type": "stream",
     "text": [
      "Qt could not be started. Qt widgets will not work\n"
     ]
    },
    {
     "name": "stdout",
     "output_type": "stream",
     "text": [
      "Opened the seamless share update server at port 5138\n"
     ]
    }
   ],
   "source": [
    "# %load visualize-graph.py\n",
    "from seamless.highlevel import Context, Transformer, Cell\n",
    "from functools import partial\n",
    "\n",
    "ctx = Context()\n",
    "ctx.auto_translate = True\n",
    "ctx.a = 42\n",
    "ctx.b = ctx.a\n",
    "\n",
    "ctx2 = Context()\n",
    "ctx2.graph = {}\n",
    "ctx2.graph.celltype = \"plain\"\n",
    "ctx2.state = {}\n",
    "ctx2.state_data = ctx2.state\n",
    "ctx2.state_data.celltype = \"plain\"\n",
    "ctx2.state_data.mount(\"/tmp/state.json\", \"w\")\n",
    "await ctx2.translation()\n",
    "\n",
    "state_callbacks = {}\n",
    "\n",
    "def state_callback(path, state):\n",
    "    if ctx._gen_context is None or ctx2._gen_context is None:\n",
    "        return\n",
    "    if ctx._gen_context._destroyed or ctx2._gen_context._destroyed:\n",
    "        return\n",
    "    handle = ctx2.state.handle\n",
    "    path2 = \".\".join(path)\n",
    "    handle[path2] = state\n",
    "\n",
    "def observe_graph(graph):\n",
    "    ctx2.graph.set(graph)    \n",
    "    paths_to_delete = set(state_callbacks.keys())\n",
    "    for node in graph[\"nodes\"]:\n",
    "        path = tuple(node[\"path\"])\n",
    "        if node[\"type\"] == \"cell\":\n",
    "            paths = [path]\n",
    "        elif node[\"type\"] == \"transformer\":\n",
    "            paths = [\n",
    "                path,\n",
    "                path + (node[\"INPUT\"],),\n",
    "            ]\n",
    "        else: # TODO: libmacro, macro, reactor\n",
    "            continue        \n",
    "        for path in paths:            \n",
    "            if path in state_callbacks:\n",
    "                paths_to_delete.discard(path)\n",
    "                continue\n",
    "            #print(\"OBSERVE\", path)\n",
    "            observers = {}\n",
    "            for attr in (\"status\", \"exception\"):\n",
    "                subpath = path + (attr,)\n",
    "                callback = partial(state_callback, subpath)\n",
    "                state_callback(subpath, None)\n",
    "                observer = ctx.observe(subpath, callback, 2, observe_none=True)\n",
    "                observers[subpath] = observer\n",
    "            state_callbacks[path] = observers\n",
    "    for dpath in paths_to_delete:\n",
    "        #print(\"DELETE\", dpath)\n",
    "        observers = state_callbacks.pop(dpath)\n",
    "        for subpath, observer in observers.items():\n",
    "            state_callback(subpath, None)\n",
    "            observer.destroy()\n",
    "    #print(\"DONE\")\n",
    "\n",
    "ctx.observe((\"get_graph\",), observe_graph, 0.5)\n",
    "\n",
    "gvs = ctx2.gen_vis_state = Transformer()\n",
    "gvs.graph = ctx2.graph\n",
    "gvs.state = ctx2.state\n",
    "gvs.code.mount(\"gen_vis_state.py\", authority=\"file\")\n",
    "ctx2.vis_state = ctx2.gen_vis_state\n",
    "ctx2.vis_state.celltype = \"plain\"\n",
    "ctx2.vis_state.share(readonly=True)\n",
    "\n",
    "c = ctx2.html = Cell()\n",
    "c.set(open(\"state-visualization.html\").read())\n",
    "c.celltype = \"text\"\n",
    "c.mimetype = \"text/html\"\n",
    "c.share(path=\"state-visualization.html\")\n",
    "\n",
    "import seamless, os\n",
    "seamless_dir = os.path.dirname(seamless.__file__)\n",
    "c = ctx2.js = Cell()\n",
    "c.set(open(seamless_dir + \"/js/seamless-client.js\").read())\n",
    "c.celltype = \"text\"\n",
    "c.mimetype = \"text/javascript\"\n",
    "c.share(path=\"seamless-client.js\")\n",
    "\n",
    "c = ctx2.js2 = Cell()\n",
    "c.set(open(\"state-visualization.js\").read())\n",
    "c.celltype = \"text\"\n",
    "c.mimetype = \"text/javascript\"\n",
    "c.share(path=\"state-visualization.js\")\n",
    "\n",
    "c = ctx2.css = Cell()\n",
    "c.set(open(\"state-visualization.css\").read())\n",
    "c.celltype = \"text\"\n",
    "c.mimetype = \"text/css\"\n",
    "c.share(path=\"state-visualization.css\")\n",
    "\n",
    "await ctx2.translation()\n",
    "print(\"Open http://localhost:5813/ctx/state-visualization.html in the browser\")"
   ]
  },
  {
   "cell_type": "code",
   "execution_count": 2,
   "metadata": {},
   "outputs": [
    {
     "name": "stdout",
     "output_type": "stream",
     "text": [
      "Opened the seamless REST server at port 5813\n"
     ]
    }
   ],
   "source": [
    "import asyncio\n",
    "await asyncio.sleep(5)"
   ]
  },
  {
   "cell_type": "code",
   "execution_count": 3,
   "metadata": {},
   "outputs": [],
   "source": [
    "import json\n",
    "await ctx.translation()\n",
    "ctx.add_zip(\"../../../examples/BC/bcscore.zip\")\n",
    "graph = json.load(open(\"../../../examples/BC/bcscore.json\"))\n",
    "ctx.set_graph(graph)\n",
    "await ctx.translation()"
   ]
  },
  {
   "cell_type": "code",
   "execution_count": 4,
   "metadata": {},
   "outputs": [],
   "source": [
    "import asyncio\n",
    "await asyncio.sleep(5)"
   ]
  },
  {
   "cell_type": "code",
   "execution_count": 5,
   "metadata": {},
   "outputs": [],
   "source": [
    "ctx.bcscore.flanksize = 0.5"
   ]
  },
  {
   "cell_type": "code",
   "execution_count": 6,
   "metadata": {},
   "outputs": [],
   "source": [
    "import asyncio\n",
    "await asyncio.sleep(5)"
   ]
  },
  {
   "cell_type": "code",
   "execution_count": 7,
   "metadata": {},
   "outputs": [],
   "source": [
    "ctx.bcscore.flanksize = 4"
   ]
  }
 ],
 "metadata": {
  "kernelspec": {
   "display_name": "Python 3",
   "language": "python",
   "name": "python3"
  },
  "language_info": {
   "codemirror_mode": {
    "name": "ipython",
    "version": 3
   },
   "file_extension": ".py",
   "mimetype": "text/x-python",
   "name": "python",
   "nbconvert_exporter": "python",
   "pygments_lexer": "ipython3",
   "version": "3.7.3"
  }
 },
 "nbformat": 4,
 "nbformat_minor": 2
}
