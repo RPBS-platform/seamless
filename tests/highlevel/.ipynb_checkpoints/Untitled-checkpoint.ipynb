{
 "cells": [
  {
   "cell_type": "code",
   "execution_count": 1,
   "metadata": {},
   "outputs": [
    {
     "name": "stdout",
     "output_type": "stream",
     "text": [
      "TODO: Runtime wrapper around StructuredCell that protects against .foo = bar where .handle.foo = bar is intended\n",
      "Equilibrate: waiting for: ['.translated.compiler.tf', '.translated.gen_header.tf', '.translated.translator.tf']\n"
     ]
    }
   ],
   "source": [
    "import os\n",
    "os.environ[\"SEAMLESS_USE_PROCESSES\"] = \"0\"\n",
    "from seamless.highlevel import Context\n",
    "ctx = Context()"
   ]
  },
  {
   "cell_type": "code",
   "execution_count": 2,
   "metadata": {},
   "outputs": [],
   "source": [
    "from ipywidgets import IntSlider, IntText"
   ]
  },
  {
   "cell_type": "code",
   "execution_count": 3,
   "metadata": {},
   "outputs": [],
   "source": [
    "ctx.a = 20\n",
    "ctx.b = 30\n",
    "def add(a,b):\n",
    "    try:\n",
    "        import time; time.sleep(5)\n",
    "    except SystemError:\n",
    "        pass\n",
    "    return a + b\n",
    "ctx.func = add\n",
    "ctx.func.a = ctx.a\n",
    "ctx.func.b = ctx.b\n",
    "ctx.c = ctx.func"
   ]
  },
  {
   "cell_type": "code",
   "execution_count": 4,
   "metadata": {},
   "outputs": [
    {
     "data": {
      "application/vnd.jupyter.widget-view+json": {
       "model_id": "26aa62e96ed647e79a122188637574f7",
       "version_major": 2,
       "version_minor": 0
      },
      "text/html": [
       "<p>Failed to display Jupyter Widget of type <code>IntSlider</code>.</p>\n",
       "<p>\n",
       "  If you're reading this message in the Jupyter Notebook or JupyterLab Notebook, it may mean\n",
       "  that the widgets JavaScript is still loading. If this message persists, it\n",
       "  likely means that the widgets JavaScript library is either not installed or\n",
       "  not enabled. See the <a href=\"https://ipywidgets.readthedocs.io/en/stable/user_install.html\">Jupyter\n",
       "  Widgets Documentation</a> for setup instructions.\n",
       "</p>\n",
       "<p>\n",
       "  If you're reading this message in another frontend (for example, a static\n",
       "  rendering on GitHub or <a href=\"https://nbviewer.jupyter.org/\">NBViewer</a>),\n",
       "  it may mean that your frontend doesn't currently support widgets.\n",
       "</p>\n"
      ],
      "text/plain": [
       "IntSlider(value=10, max=30, min=-10)"
      ]
     },
     "metadata": {},
     "output_type": "display_data"
    },
    {
     "name": "stdout",
     "output_type": "stream",
     "text": [
      "KILL\n",
      "KILL\n",
      "Traceback (most recent call last):\n",
      "  File \"/home/sjoerd/seamless/seamless/core/asynckernel/transformer.py\", line 48, in execute\n",
      "    exec(code_object, namespace)\n",
      "  File \"Seamless transformer: .translated.func.tf\", line 5, in <module>\n",
      "    result = add(a=a,b=b)\n",
      "  File \"Seamless transformer: .translated.func.tf\", line 2, in add\n",
      "    import time; time.sleep(5)\n",
      "SystemError\n",
      "\n",
      "Traceback (most recent call last):\n",
      "  File \"/home/sjoerd/seamless/seamless/core/asynckernel/transformer.py\", line 48, in execute\n",
      "    exec(code_object, namespace)\n",
      "  File \"Seamless transformer: .translated.func.tf\", line 5, in <module>\n",
      "    result = add(a=a,b=b)\n",
      "  File \"Seamless transformer: .translated.func.tf\", line 2, in add\n",
      "    import time; time.sleep(5)\n",
      "SystemError\n",
      "\n",
      "KILL\n",
      "Traceback (most recent call last):\n",
      "  File \"/home/sjoerd/seamless/seamless/core/asynckernel/transformer.py\", line 48, in execute\n",
      "    exec(code_object, namespace)\n",
      "  File \"Seamless transformer: .translated.func.tf\", line 5, in <module>\n",
      "    result = add(a=a,b=b)\n",
      "  File \"Seamless transformer: .translated.func.tf\", line 2, in add\n",
      "    import time; time.sleep(5)\n",
      "SystemError\n",
      "\n",
      "Traceback (most recent call last):\n",
      "  File \"/home/sjoerd/seamless/seamless/core/asynckernel/transformer.py\", line 48, in execute\n",
      "    exec(code_object, namespace)\n",
      "  File \"Seamless transformer: .translated.func.tf\", line 5, in <module>\n",
      "    result = add(a=a,b=b)\n",
      "  File \"Seamless transformer: .translated.func.tf\", line 2, in add\n",
      "    import time; time.sleep(5)\n",
      "SystemError\n",
      "\n"
     ]
    }
   ],
   "source": [
    "a = IntSlider(min=-10,max=30,step=1,value=10)\n",
    "a"
   ]
  },
  {
   "cell_type": "code",
   "execution_count": 5,
   "metadata": {},
   "outputs": [
    {
     "data": {
      "application/vnd.jupyter.widget-view+json": {
       "model_id": "4212930ae7c34c59b7be5f57873058d0",
       "version_major": 2,
       "version_minor": 0
      },
      "text/html": [
       "<p>Failed to display Jupyter Widget of type <code>IntSlider</code>.</p>\n",
       "<p>\n",
       "  If you're reading this message in the Jupyter Notebook or JupyterLab Notebook, it may mean\n",
       "  that the widgets JavaScript is still loading. If this message persists, it\n",
       "  likely means that the widgets JavaScript library is either not installed or\n",
       "  not enabled. See the <a href=\"https://ipywidgets.readthedocs.io/en/stable/user_install.html\">Jupyter\n",
       "  Widgets Documentation</a> for setup instructions.\n",
       "</p>\n",
       "<p>\n",
       "  If you're reading this message in another frontend (for example, a static\n",
       "  rendering on GitHub or <a href=\"https://nbviewer.jupyter.org/\">NBViewer</a>),\n",
       "  it may mean that your frontend doesn't currently support widgets.\n",
       "</p>\n"
      ],
      "text/plain": [
       "IntSlider(value=10, max=30, min=-10)"
      ]
     },
     "metadata": {},
     "output_type": "display_data"
    }
   ],
   "source": [
    "b = IntSlider(min=-10,max=30,step=1,value=10)\n",
    "b"
   ]
  },
  {
   "cell_type": "code",
   "execution_count": 6,
   "metadata": {},
   "outputs": [
    {
     "data": {
      "application/vnd.jupyter.widget-view+json": {
       "model_id": "689d2c40ad5c4b219ccd4b31378c0461",
       "version_major": 2,
       "version_minor": 0
      },
      "text/html": [
       "<p>Failed to display Jupyter Widget of type <code>IntText</code>.</p>\n",
       "<p>\n",
       "  If you're reading this message in the Jupyter Notebook or JupyterLab Notebook, it may mean\n",
       "  that the widgets JavaScript is still loading. If this message persists, it\n",
       "  likely means that the widgets JavaScript library is either not installed or\n",
       "  not enabled. See the <a href=\"https://ipywidgets.readthedocs.io/en/stable/user_install.html\">Jupyter\n",
       "  Widgets Documentation</a> for setup instructions.\n",
       "</p>\n",
       "<p>\n",
       "  If you're reading this message in another frontend (for example, a static\n",
       "  rendering on GitHub or <a href=\"https://nbviewer.jupyter.org/\">NBViewer</a>),\n",
       "  it may mean that your frontend doesn't currently support widgets.\n",
       "</p>\n"
      ],
      "text/plain": [
       "IntText(value=0)"
      ]
     },
     "metadata": {},
     "output_type": "display_data"
    }
   ],
   "source": [
    "c = IntText()\n",
    "c"
   ]
  },
  {
   "cell_type": "code",
   "execution_count": 7,
   "metadata": {},
   "outputs": [
    {
     "name": "stdout",
     "output_type": "stream",
     "text": [
      "traitlet ('a',):None, observingKILL\n",
      "\n",
      "traitlet ('b',):None, observing\n",
      "traitlet ('c',):None, observing\n"
     ]
    },
    {
     "data": {
      "text/plain": [
       "<traitlets.traitlets.link at 0x7f371296ca90>"
      ]
     },
     "execution_count": 7,
     "metadata": {},
     "output_type": "execute_result"
    }
   ],
   "source": [
    "from traitlets import link\n",
    "link((a, \"value\"), (ctx.a.traitlet(), \"value\"))\n",
    "link((b, \"value\"), (ctx.b.traitlet(), \"value\"))\n",
    "link((c, \"value\"), (ctx.c.traitlet(), \"value\"))"
   ]
  },
  {
   "cell_type": "code",
   "execution_count": 8,
   "metadata": {},
   "outputs": [],
   "source": [
    "ctx.c.set(10)"
   ]
  },
  {
   "cell_type": "code",
   "execution_count": 9,
   "metadata": {},
   "outputs": [
    {
     "data": {
      "text/plain": [
       "<traitlets.traitlets.link at 0x7f371296c860>"
      ]
     },
     "execution_count": 9,
     "metadata": {},
     "output_type": "execute_result"
    }
   ],
   "source": [
    "link((c, \"value\"), (ctx.c.traitlet(), \"value\"))"
   ]
  },
  {
   "cell_type": "code",
   "execution_count": null,
   "metadata": {},
   "outputs": [],
   "source": []
  }
 ],
 "metadata": {
  "kernelspec": {
   "display_name": "Python 3",
   "language": "python",
   "name": "python3"
  },
  "language_info": {
   "codemirror_mode": {
    "name": "ipython",
    "version": 3
   },
   "file_extension": ".py",
   "mimetype": "text/x-python",
   "name": "python",
   "nbconvert_exporter": "python",
   "pygments_lexer": "ipython3",
   "version": "3.6.6"
  }
 },
 "nbformat": 4,
 "nbformat_minor": 2
}
