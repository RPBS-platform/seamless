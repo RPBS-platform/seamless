{
 "cells": [
  {
   "cell_type": "code",
   "execution_count": 1,
   "metadata": {},
   "outputs": [],
   "source": [
    "from seamless.highlevel import load_graph, Context\n",
    "files = \"observe-cpp.seamless\", \"observe-cpp.zip\"\n",
    "ctx = load_graph(files[0], zip=files[1], mounts=True)\n",
    "\n",
    "def save():\n",
    "    ctx.save_graph(files[0])\n",
    "    ctx.save_zip(files[1])"
   ]
  },
  {
   "cell_type": "code",
   "execution_count": 2,
   "metadata": {},
   "outputs": [],
   "source": [
    "ctx2 = Context()    \n",
    "ctx2.tf_exc = \"\"\n",
    "ctx2.tf_exc.celltype = \"text\"\n",
    "ctx2.tf_stat = \"\"\n",
    "ctx2.tf_stat.celltype = \"text\"\n",
    "ctx2.tf_header = \"\"\n",
    "ctx2.tf_header.celltype = \"text\"\n",
    "await ctx2.translation()"
   ]
  },
  {
   "cell_type": "code",
   "execution_count": 3,
   "metadata": {},
   "outputs": [],
   "source": [
    "def observe(v):\n",
    "    ctx2.tf_stat.set(v)\n",
    "obs1 = ctx.tf.observe(\"status\", observe, 2)\n",
    "\n",
    "def observe(v):\n",
    "    if v is None:\n",
    "        v = \"\"\n",
    "    ctx2.tf_exc.set(v)\n",
    "obs2 = ctx.tf.observe(\"exception\", observe, 2, observe_none=True)"
   ]
  },
  {
   "cell_type": "code",
   "execution_count": 4,
   "metadata": {},
   "outputs": [
    {
     "data": {
      "application/vnd.jupyter.widget-view+json": {
       "model_id": "eae11e9ca7814df58e72533549ff868f",
       "version_major": 2,
       "version_minor": 0
      },
      "text/plain": [
       "Output(outputs=({'output_type': 'display_data', 'data': {'text/plain': ''}, 'metadata': {}},))"
      ]
     },
     "metadata": {},
     "output_type": "display_data"
    }
   ],
   "source": [
    "ctx2.tf_stat.output()"
   ]
  },
  {
   "cell_type": "code",
   "execution_count": 5,
   "metadata": {},
   "outputs": [
    {
     "data": {
      "application/vnd.jupyter.widget-view+json": {
       "model_id": "185538409fd5479b832fa9f65b02baa0",
       "version_major": 2,
       "version_minor": 0
      },
      "text/plain": [
       "Output(outputs=({'output_type': 'display_data', 'data': {'text/plain': ''}, 'metadata': {}},))"
      ]
     },
     "metadata": {},
     "output_type": "display_data"
    }
   ],
   "source": [
    "ctx2.tf_exc.output()"
   ]
  },
  {
   "cell_type": "code",
   "execution_count": 6,
   "metadata": {},
   "outputs": [
    {
     "data": {
      "application/vnd.jupyter.widget-view+json": {
       "model_id": "159f7113d28c4319bc901443daf8a7ec",
       "version_major": 2,
       "version_minor": 0
      },
      "text/plain": [
       "Output(outputs=({'output_type': 'display_data', 'data': {'text/plain': '\\n/*\\nThe following C header has been …"
      ]
     },
     "metadata": {},
     "output_type": "display_data"
    }
   ],
   "source": [
    "ctx.h.output()"
   ]
  },
  {
   "cell_type": "code",
   "execution_count": 7,
   "metadata": {},
   "outputs": [
    {
     "data": {
      "application/vnd.jupyter.widget-view+json": {
       "model_id": "6c09d40452fa449dae3de9fe747797de",
       "version_major": 2,
       "version_minor": 0
      },
      "text/plain": [
       "Output()"
      ]
     },
     "metadata": {},
     "output_type": "display_data"
    }
   ],
   "source": [
    "ctx.result.output()"
   ]
  },
  {
   "cell_type": "code",
   "execution_count": 8,
   "metadata": {},
   "outputs": [],
   "source": [
    "ctx2.schema_exc = \"\"\n",
    "ctx2.schema_exc.celltype = \"text\"\n",
    "await ctx2.translation()\n",
    "def observe(v):\n",
    "    if v is None:\n",
    "        v = \"\"\n",
    "    ctx2.schema_exc.set(v)\n",
    "obs3 = ctx.schema.observe(\"exception\", observe, 2, observe_none=True)"
   ]
  },
  {
   "cell_type": "code",
   "execution_count": 11,
   "metadata": {},
   "outputs": [
    {
     "data": {
      "application/vnd.jupyter.widget-view+json": {
       "model_id": "778f7e22995e4b378b3a26db0308f5b1",
       "version_major": 2,
       "version_minor": 0
      },
      "text/plain": [
       "Output(outputs=({'output_type': 'display_data', 'data': {'text/plain': 'Traceback (most recent call last):\\n  …"
      ]
     },
     "metadata": {},
     "output_type": "display_data"
    }
   ],
   "source": [
    "ctx2.schema_exc.output()"
   ]
  },
  {
   "cell_type": "code",
   "execution_count": null,
   "metadata": {},
   "outputs": [],
   "source": []
  }
 ],
 "metadata": {
  "kernelspec": {
   "display_name": "Python 3",
   "language": "python",
   "name": "python3"
  },
  "language_info": {
   "codemirror_mode": {
    "name": "ipython",
    "version": 3
   },
   "file_extension": ".py",
   "mimetype": "text/x-python",
   "name": "python",
   "nbconvert_exporter": "python",
   "pygments_lexer": "ipython3",
   "version": "3.7.3"
  }
 },
 "nbformat": 4,
 "nbformat_minor": 2
}