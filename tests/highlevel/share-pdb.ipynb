{
 "cells": [
  {
   "cell_type": "code",
   "execution_count": 1,
   "metadata": {},
   "outputs": [],
   "source": [
    "import seamless"
   ]
  },
  {
   "cell_type": "code",
   "execution_count": 2,
   "metadata": {},
   "outputs": [
    {
     "name": "stderr",
     "output_type": "stream",
     "text": [
      "Qt could not be started. Qt widgets will not work\n"
     ]
    },
    {
     "name": "stdout",
     "output_type": "stream",
     "text": [
      "Opened the seamless share update server at port 5138\n",
      "Opened the seamless REST server at port 5813\n",
      "Execute local\n",
      "Execute local\n",
      "TODO: Manager.set_transformer_result: expand code properly, see evaluate.py\n",
      "TODO: Manager.set_transformer_result: expand code properly, see evaluate.py\n",
      "Waiting for: [Seamless transformer: .fix_pdb.tf]\n",
      "Execute local\n",
      "TODO: Manager.set_transformer_result: expand code properly, see evaluate.py\n"
     ]
    },
    {
     "data": {
      "text/plain": [
       "set()"
      ]
     },
     "execution_count": 2,
     "metadata": {},
     "output_type": "execute_result"
    }
   ],
   "source": [
    "from seamless.highlevel import Context, Transformer\n",
    "\n",
    "try:\n",
    "    import seamless\n",
    "    redis_sink = seamless.RedisSink()\n",
    "    import asyncio\n",
    "    asyncio.get_event_loop().run_until_complete(asyncio.sleep(0.5))\n",
    "    redis_sink.connection.info()\n",
    "except:\n",
    "    print(\"No Redis found!\")\n",
    "\n",
    "ctx = Context()\n",
    "\n",
    "ctx.pdb0 = open(\"1crn.pdb\").read()\n",
    "ctx.pdb0.celltype = \"text\"\n",
    "ctx.pdb0.share()\n",
    "\n",
    "ctx.filter_pdb = Transformer()\n",
    "ctx.filter_pdb.language = \"bash\"\n",
    "ctx.filter_pdb.code = 'grep ATOM pdb0 | awk \\'$3 == \"CA\" || $3 == \"C\" || $3 == \"O\" || $3 == \"N\"\\' '\n",
    "ctx.filter_pdb.pdb0 = ctx.pdb0\n",
    "\n",
    "ctx.bb_pdb = ctx.filter_pdb\n",
    "ctx.bb_pdb.celltype = \"text\"\n",
    "ctx.bb_pdb.share()\n",
    "\n",
    "ctx.bb_pdb = ctx.filter_pdb\n",
    "ctx.bb_pdb.celltype = \"text\"\n",
    "ctx.bb_pdb.share()\n",
    "\n",
    "ctx.fix_pdb = Transformer()\n",
    "ctx.fix_pdb.language = \"bash\"\n",
    "ctx.fix_pdb.code = 'cat bb_pdb0'\n",
    "ctx.fix_pdb.bb_pdb0 = ctx.bb_pdb\n",
    "\n",
    "ctx.pdb = ctx.fix_pdb\n",
    "ctx.pdb.celltype = \"text\"\n",
    "ctx.pdb.share()\n",
    "\n",
    "ctx.code >> ctx.fix_pdb.code\n",
    "ctx.code.share()\n",
    "\n",
    "graph = ctx.get_graph()\n",
    "import json\n",
    "json.dump(graph, open(\"share-pdb.seamless\", \"w\"), indent=2, sort_keys=True)\n",
    "\n",
    "ctx.code.mount(\"/tmp/code.bash\")\n",
    "ctx.equilibrate()\n",
    "\n"
   ]
  },
  {
   "cell_type": "code",
   "execution_count": 4,
   "metadata": {},
   "outputs": [],
   "source": [
    "ctx.code.set(\"tail bb_pdb0\")"
   ]
  },
  {
   "cell_type": "code",
   "execution_count": 5,
   "metadata": {},
   "outputs": [
    {
     "data": {
      "text/plain": [
       "'tail bb_pdb0'"
      ]
     },
     "execution_count": 5,
     "metadata": {},
     "output_type": "execute_result"
    },
    {
     "name": "stderr",
     "output_type": "stream",
     "text": [
      "Error in connection handler\n",
      "Traceback (most recent call last):\n",
      "  File \"/opt/conda/lib/python3.6/site-packages/websockets/protocol.py\", line 674, in transfer_data\n",
      "    message = yield from self.read_message()\n",
      "  File \"/opt/conda/lib/python3.6/site-packages/websockets/protocol.py\", line 742, in read_message\n",
      "    frame = yield from self.read_data_frame(max_size=self.max_size)\n",
      "  File \"/opt/conda/lib/python3.6/site-packages/websockets/protocol.py\", line 815, in read_data_frame\n",
      "    frame = yield from self.read_frame(max_size)\n",
      "  File \"/opt/conda/lib/python3.6/site-packages/websockets/protocol.py\", line 884, in read_frame\n",
      "    extensions=self.extensions,\n",
      "  File \"/opt/conda/lib/python3.6/site-packages/websockets/framing.py\", line 99, in read\n",
      "    data = yield from reader(2)\n",
      "  File \"/opt/conda/lib/python3.6/asyncio/streams.py\", line 672, in readexactly\n",
      "    raise IncompleteReadError(incomplete, n)\n",
      "asyncio.streams.IncompleteReadError: 0 bytes read on a total of 2 expected bytes\n",
      "\n",
      "The above exception was the direct cause of the following exception:\n",
      "\n",
      "Traceback (most recent call last):\n",
      "  File \"/opt/conda/lib/python3.6/site-packages/websockets/server.py\", line 169, in handler\n",
      "    yield from self.ws_handler(self, path)\n",
      "  File \"/seamless/seamless/shareserver.py\", line 112, in _serve_update\n",
      "    async for message in websocket: #keep connection open forever\n",
      "  File \"/opt/conda/lib/python3.6/site-packages/websockets/py36/protocol.py\", line 15, in __aiter__\n",
      "    yield await self.recv()\n",
      "  File \"/opt/conda/lib/python3.6/site-packages/websockets/protocol.py\", line 434, in recv\n",
      "    yield from self.ensure_open()\n",
      "  File \"/opt/conda/lib/python3.6/site-packages/websockets/protocol.py\", line 646, in ensure_open\n",
      "    ) from self.transfer_data_exc\n",
      "websockets.exceptions.ConnectionClosed: WebSocket connection is closed: code = 1006 (connection closed abnormally [internal]), no reason\n",
      "Error in connection handler\n",
      "Traceback (most recent call last):\n",
      "  File \"/opt/conda/lib/python3.6/site-packages/websockets/protocol.py\", line 674, in transfer_data\n",
      "    message = yield from self.read_message()\n",
      "  File \"/opt/conda/lib/python3.6/site-packages/websockets/protocol.py\", line 742, in read_message\n",
      "    frame = yield from self.read_data_frame(max_size=self.max_size)\n",
      "  File \"/opt/conda/lib/python3.6/site-packages/websockets/protocol.py\", line 815, in read_data_frame\n",
      "    frame = yield from self.read_frame(max_size)\n",
      "  File \"/opt/conda/lib/python3.6/site-packages/websockets/protocol.py\", line 884, in read_frame\n",
      "    extensions=self.extensions,\n",
      "  File \"/opt/conda/lib/python3.6/site-packages/websockets/framing.py\", line 99, in read\n",
      "    data = yield from reader(2)\n",
      "  File \"/opt/conda/lib/python3.6/asyncio/streams.py\", line 672, in readexactly\n",
      "    raise IncompleteReadError(incomplete, n)\n",
      "asyncio.streams.IncompleteReadError: 0 bytes read on a total of 2 expected bytes\n",
      "\n",
      "The above exception was the direct cause of the following exception:\n",
      "\n",
      "Traceback (most recent call last):\n",
      "  File \"/opt/conda/lib/python3.6/site-packages/websockets/server.py\", line 169, in handler\n",
      "    yield from self.ws_handler(self, path)\n",
      "  File \"/seamless/seamless/shareserver.py\", line 112, in _serve_update\n",
      "    async for message in websocket: #keep connection open forever\n",
      "  File \"/opt/conda/lib/python3.6/site-packages/websockets/py36/protocol.py\", line 15, in __aiter__\n",
      "    yield await self.recv()\n",
      "  File \"/opt/conda/lib/python3.6/site-packages/websockets/protocol.py\", line 434, in recv\n",
      "    yield from self.ensure_open()\n",
      "  File \"/opt/conda/lib/python3.6/site-packages/websockets/protocol.py\", line 646, in ensure_open\n",
      "    ) from self.transfer_data_exc\n",
      "websockets.exceptions.ConnectionClosed: WebSocket connection is closed: code = 1006 (connection closed abnormally [internal]), no reason\n"
     ]
    }
   ],
   "source": [
    "ctx.code.value"
   ]
  },
  {
   "cell_type": "code",
   "execution_count": null,
   "metadata": {},
   "outputs": [],
   "source": []
  }
 ],
 "metadata": {
  "kernelspec": {
   "display_name": "Python 3",
   "language": "python",
   "name": "python3"
  },
  "language_info": {
   "codemirror_mode": {
    "name": "ipython",
    "version": 3
   },
   "file_extension": ".py",
   "mimetype": "text/x-python",
   "name": "python",
   "nbconvert_exporter": "python",
   "pygments_lexer": "ipython3",
   "version": "3.6.7"
  }
 },
 "nbformat": 4,
 "nbformat_minor": 2
}
