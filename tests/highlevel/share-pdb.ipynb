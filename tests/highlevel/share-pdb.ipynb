{
 "cells": [
  {
   "cell_type": "code",
   "execution_count": 4,
   "metadata": {},
   "outputs": [],
   "source": [
    "import seamless"
   ]
  },
  {
   "cell_type": "code",
   "execution_count": 5,
   "metadata": {},
   "outputs": [
    {
     "name": "stdout",
     "output_type": "stream",
     "text": [
      "Execute local\n",
      "Execute local\n",
      "TODO: Manager.set_transformer_result: expand code properly, see evaluate.py\n",
      "TODO: Manager.set_transformer_result: expand code properly, see evaluate.py\n",
      "Waiting for: [Seamless transformer: .fix_pdb.tf]\n",
      "Execute local\n",
      "TODO: Manager.set_transformer_result: expand code properly, see evaluate.py\n"
     ]
    },
    {
     "data": {
      "text/plain": [
       "set()"
      ]
     },
     "execution_count": 5,
     "metadata": {},
     "output_type": "execute_result"
    }
   ],
   "source": [
    "from seamless.highlevel import Context, Transformer\n",
    "\n",
    "try:\n",
    "    import seamless\n",
    "    redis_sink = seamless.RedisSink()\n",
    "    import asyncio\n",
    "    asyncio.get_event_loop().run_until_complete(asyncio.sleep(0.5))\n",
    "    redis_sink.connection.info()\n",
    "except:\n",
    "    print(\"No Redis found!\")\n",
    "\n",
    "ctx = Context()\n",
    "\n",
    "ctx.pdb0 = open(\"1crn.pdb\").read()\n",
    "ctx.pdb0.celltype = \"text\"\n",
    "ctx.pdb0.share()\n",
    "\n",
    "ctx.filter_pdb = Transformer()\n",
    "ctx.filter_pdb.language = \"bash\"\n",
    "ctx.filter_pdb.code = 'grep ATOM pdb0 | awk \\'$3 == \"CA\" || $3 == \"C\" || $3 == \"O\" || $3 == \"N\"\\' '\n",
    "ctx.filter_pdb.pdb0 = ctx.pdb0\n",
    "\n",
    "ctx.bb_pdb = ctx.filter_pdb\n",
    "ctx.bb_pdb.celltype = \"text\"\n",
    "ctx.bb_pdb.share()\n",
    "\n",
    "ctx.bb_pdb = ctx.filter_pdb\n",
    "ctx.bb_pdb.celltype = \"text\"\n",
    "ctx.bb_pdb.share()\n",
    "\n",
    "ctx.fix_pdb = Transformer()\n",
    "ctx.fix_pdb.language = \"bash\"\n",
    "ctx.fix_pdb.code = 'cat bb_pdb0'\n",
    "ctx.fix_pdb.bb_pdb0 = ctx.bb_pdb\n",
    "\n",
    "ctx.pdb = ctx.fix_pdb\n",
    "ctx.pdb.celltype = \"text\"\n",
    "ctx.pdb.share()\n",
    "\n",
    "ctx.code >> ctx.fix_pdb.code\n",
    "ctx.code.share()\n",
    "\n",
    "graph = ctx.get_graph()\n",
    "import json\n",
    "json.dump(graph, open(\"share-pdb.seamless\", \"w\"), indent=2, sort_keys=True)\n",
    "\n",
    "ctx.code.mount(\"/tmp/code.bash\")\n",
    "ctx.equilibrate()\n",
    "\n"
   ]
  },
  {
   "cell_type": "code",
   "execution_count": 8,
   "metadata": {},
   "outputs": [
    {
     "name": "stdout",
     "output_type": "stream",
     "text": [
      "Execute local\n",
      "TODO: Manager.set_transformer_result: expand code properly, see evaluate.py\n",
      "Execute local\n",
      "TODO: Manager.set_transformer_result: expand code properly, see evaluate.py\n"
     ]
    }
   ],
   "source": [
    "ctx.code.set(\"tail bb_pdb0\")"
   ]
  },
  {
   "cell_type": "code",
   "execution_count": null,
   "metadata": {},
   "outputs": [],
   "source": []
  }
 ],
 "metadata": {
  "kernelspec": {
   "display_name": "Python 3",
   "language": "python",
   "name": "python3"
  },
  "language_info": {
   "codemirror_mode": {
    "name": "ipython",
    "version": 3
   },
   "file_extension": ".py",
   "mimetype": "text/x-python",
   "name": "python",
   "nbconvert_exporter": "python",
   "pygments_lexer": "ipython3",
   "version": "3.6.7"
  }
 },
 "nbformat": 4,
 "nbformat_minor": 2
}
