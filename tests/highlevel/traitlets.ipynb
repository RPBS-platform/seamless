{
 "cells": [
  {
   "cell_type": "code",
   "execution_count": 1,
   "metadata": {},
   "outputs": [],
   "source": [
    "from seamless.highlevel import Context\n",
    "ctx = Context()"
   ]
  },
  {
   "cell_type": "code",
   "execution_count": 2,
   "metadata": {},
   "outputs": [],
   "source": [
    "from ipywidgets import IntSlider, IntText"
   ]
  },
  {
   "cell_type": "code",
   "execution_count": 3,
   "metadata": {},
   "outputs": [],
   "source": [
    "ctx.a = 20\n",
    "#ctx.a.celltype = \"float\"\n",
    "ctx.b = 30\n",
    "#ctx.b.celltype = \"float\"\n",
    "def add(a,b):\n",
    "    try:\n",
    "        import time; time.sleep(0.1)\n",
    "    except SystemError:\n",
    "        pass\n",
    "    return a + b\n",
    "ctx.func = add\n",
    "ctx.func.a = ctx.a\n",
    "ctx.func.b = ctx.b\n",
    "ctx.c = ctx.func\n",
    "#ctx.c.celltype = \"float\"\n",
    "await ctx.translation()"
   ]
  },
  {
   "cell_type": "code",
   "execution_count": 7,
   "metadata": {},
   "outputs": [
    {
     "data": {
      "application/vnd.jupyter.widget-view+json": {
       "model_id": "9eada54d23f641608989071e7884d1a3",
       "version_major": 2,
       "version_minor": 0
      },
      "text/plain": [
       "IntSlider(value=8, max=30, min=-10)"
      ]
     },
     "metadata": {},
     "output_type": "display_data"
    },
    {
     "data": {
      "application/vnd.jupyter.widget-view+json": {
       "model_id": "f9e8249cdf0548c6a14a574fa19aaeb1",
       "version_major": 2,
       "version_minor": 0
      },
      "text/plain": [
       "IntSlider(value=22, max=30, min=-10)"
      ]
     },
     "metadata": {},
     "output_type": "display_data"
    },
    {
     "data": {
      "application/vnd.jupyter.widget-view+json": {
       "model_id": "2b3091e34fe94f98ba7e4e2c6c6e2adb",
       "version_major": 2,
       "version_minor": 0
      },
      "text/plain": [
       "IntText(value=30)"
      ]
     },
     "metadata": {},
     "output_type": "display_data"
    }
   ],
   "source": [
    "from IPython.display import display\n",
    "a = IntSlider(min=-10,max=30,step=1,value=10)\n",
    "b = IntSlider(min=-10,max=30,step=1,value=10)\n",
    "c = IntText()\n",
    "ctx.a.traitlet().link(a)\n",
    "ctx.b.traitlet().link(b)\n",
    "ctx.c.traitlet().connect(c)\n",
    "display(a)\n",
    "display(b)\n",
    "display(c)"
   ]
  },
  {
   "cell_type": "code",
   "execution_count": 5,
   "metadata": {},
   "outputs": [
    {
     "data": {
      "application/vnd.jupyter.widget-view+json": {
       "model_id": "5910f1b6237c45728b03e6c90ebf8e0c",
       "version_major": 2,
       "version_minor": 0
      },
      "text/plain": [
       "Output()"
      ]
     },
     "metadata": {},
     "output_type": "display_data"
    }
   ],
   "source": [
    "ctx.c.output()"
   ]
  },
  {
   "cell_type": "code",
   "execution_count": 6,
   "metadata": {},
   "outputs": [],
   "source": [
    "ctx.a = -2"
   ]
  }
 ],
 "metadata": {
  "kernelspec": {
   "display_name": "Python 3",
   "language": "python",
   "name": "python3"
  },
  "language_info": {
   "codemirror_mode": {
    "name": "ipython",
    "version": 3
   },
   "file_extension": ".py",
   "mimetype": "text/x-python",
   "name": "python",
   "nbconvert_exporter": "python",
   "pygments_lexer": "ipython3",
   "version": "3.7.3"
  }
 },
 "nbformat": 4,
 "nbformat_minor": 2
}
