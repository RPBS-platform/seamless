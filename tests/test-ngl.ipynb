{
 "cells": [
  {
   "cell_type": "code",
   "execution_count": null,
   "metadata": {
    "collapsed": false,
    "deletable": true,
    "editable": true
   },
   "outputs": [],
   "source": [
    "import seamless\n",
    "from seamless import context, cell, reactor, transformer\n",
    "ctx = context()\n",
    "from seamless.websocketserver import websocketserver\n",
    "websocketserver.start()\n",
    "print(\"\"\"If you are seeing this page via local port forwarding to an ssh server, please forward port {0} also\n",
    "e.g.: \n",
    "    ssh -L {0}:localhost:{0} ssh-server\n",
    "\n",
    "If you choose another port on localhost, please inform the websocketserver:\n",
    "    ssh -L 7777:localhost:{0} ssh-server\n",
    "    \n",
    "    websocketserver.public_port = 7777\n",
    "\"\"\".format(websocketserver.port))"
   ]
  },
  {
   "cell_type": "code",
   "execution_count": null,
   "metadata": {
    "collapsed": false,
    "deletable": true,
    "editable": true
   },
   "outputs": [],
   "source": [
    "from seamless.lib.ngl import ngl\n",
    "ctx.ngl = ngl([\"pdb\"], remote_ngl = True)\n",
    "ctx.pdb = cell(\"text\")\n",
    "ctx.representations = cell(\"cson\")\n",
    "ctx.ngl_html = cell((\"text\", \"html\"))\n",
    "ctx.ngl.html.connect(ctx.ngl_html)\n",
    "ctx.pdb.connect(ctx.ngl.data_pdb)\n",
    "ctx.representations.connect(ctx.ngl.representations)"
   ]
  },
  {
   "cell_type": "code",
   "execution_count": null,
   "metadata": {
    "collapsed": false,
    "deletable": true,
    "editable": true
   },
   "outputs": [],
   "source": [
    "ctx.pdb.set(open(\"1AVX-bound.pdb\").read())\n",
    "ctx.representations.set(\"\"\"\n",
    "[\n",
    "  {\n",
    "    color: \"red\"\n",
    "    sele: \":A\"\n",
    "  }\n",
    "  {\n",
    "    color: \"blue\"\n",
    "    sele: \":B\"\n",
    "  }\n",
    "  {\n",
    "    repr: \"ball+stick\"\n",
    "    color: \"green\"\n",
    "    sele: \"560-570:B\"\n",
    "  }\n",
    "]\n",
    "\"\"\")\n"
   ]
  },
  {
   "cell_type": "code",
   "execution_count": null,
   "metadata": {
    "collapsed": false,
    "deletable": true,
    "editable": true
   },
   "outputs": [],
   "source": [
    "ctx.status()"
   ]
  },
  {
   "cell_type": "code",
   "execution_count": null,
   "metadata": {
    "collapsed": false
   },
   "outputs": [],
   "source": [
    "# External browser (Qt) (doesn't work remotely)\n",
    "from seamless.lib.gui.browser import browse\n",
    "browse(ctx.ngl_html)"
   ]
  },
  {
   "cell_type": "code",
   "execution_count": null,
   "metadata": {
    "collapsed": false
   },
   "outputs": [],
   "source": [
    "# External browser (Chrome) (doesn't work remotely)\n",
    "from seamless.lib import link\n",
    "link(ctx.ngl_html, \".\", \"test-ngl.html\")\n",
    "!google-chrome test-ngl.html"
   ]
  },
  {
   "cell_type": "code",
   "execution_count": null,
   "metadata": {
    "collapsed": false,
    "deletable": true,
    "editable": true
   },
   "outputs": [],
   "source": [
    "# Embedded browsing\n",
    "# Execute the \"hack\" cell as well (three cells below) to make it work properly (Jupyter/browser bug)\n",
    "import IPython\n",
    "h = IPython.display.HTML(ctx.ngl_html.value)\n",
    "IPython.display.display_html(h,  metadata={\"isolated\": True})"
   ]
  },
  {
   "cell_type": "markdown",
   "metadata": {},
   "source": [
    "## Representations\n",
    "See http://arose.github.io/ngl/api/manual/usage/molecular-representations.html"
   ]
  },
  {
   "cell_type": "code",
   "execution_count": null,
   "metadata": {
    "collapsed": false
   },
   "outputs": [],
   "source": [
    "import ipywidgets\n",
    "from seamless.gui.widgetlink import widgetlink\n",
    "t = ipywidgets.Textarea()\n",
    "obs = widgetlink(ctx.representations, t, as_data=True)\n",
    "t.layout.height = \"400px\"\n",
    "t.layout.width = \"800px\"\n",
    "t"
   ]
  },
  {
   "cell_type": "code",
   "execution_count": null,
   "metadata": {
    "collapsed": false
   },
   "outputs": [],
   "source": [
    "%%javascript\n",
    "// Hack to make the rendering work\n",
    "// This is a Jupyter/browser bug: https://github.com/jupyter/notebook/issues/1282\n",
    "v = document.getElementsByTagName(\"iframe\");\n",
    "for (var i = 0; i < v.length; i++) {\n",
    "        elem = v[i];\n",
    "        if (elem.className == \"box-flex1\")\n",
    "            elem.style.height = \"480px\";\n",
    "}    "
   ]
  },
  {
   "cell_type": "code",
   "execution_count": null,
   "metadata": {
    "collapsed": false
   },
   "outputs": [],
   "source": [
    "# For template development\n",
    "from seamless.lib import link\n",
    "link(ctx.ngl.tmpl.cell())"
   ]
  },
  {
   "cell_type": "code",
   "execution_count": null,
   "metadata": {
    "collapsed": true
   },
   "outputs": [],
   "source": []
  }
 ],
 "metadata": {
  "kernelspec": {
   "display_name": "Python 3",
   "language": "python",
   "name": "python3"
  },
  "language_info": {
   "codemirror_mode": {
    "name": "ipython",
    "version": 3
   },
   "file_extension": ".py",
   "mimetype": "text/x-python",
   "name": "python",
   "nbconvert_exporter": "python",
   "pygments_lexer": "ipython3",
   "version": "3.5.2+"
  }
 },
 "nbformat": 4,
 "nbformat_minor": 2
}
