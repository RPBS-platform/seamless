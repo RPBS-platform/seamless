{
 "cells": [
  {
   "cell_type": "markdown",
   "metadata": {},
   "source": [
    "# Introduction to seamless\n",
    "\n",
    "Seamless is a reactive framework that consists of cells. It's a bit like a spreadsheet like Microsoft Excel. But a spreadsheet is only for simple formulas and plotting. \n",
    "\n",
    "Seamless is more powerful and can be used also for serious programming: algorithms, scientific workflows, 3D shaders, and graphical user interfaces, including web interfaces. \n",
    "\n",
    "For now, seamless is less convenient than a spreadsheet. A spreadsheet gives you already a table of cells that can access each other.  In seamless, you have to define and connect the cells yourself. \n",
    "\n",
    "Future versions of seamless will contain a GUI for this. But for now, you have to use seamless from IPython."
   ]
  },
  {
   "cell_type": "code",
   "execution_count": 4,
   "metadata": {
    "collapsed": true
   },
   "outputs": [],
   "source": [
    "import seamless\n",
    "from seamless import context, cell\n",
    "\n",
    "ctx = context()"
   ]
  },
  {
   "cell_type": "markdown",
   "metadata": {},
   "source": [
    "This defines a main context for our cells. Let's create some:"
   ]
  },
  {
   "cell_type": "code",
   "execution_count": 5,
   "metadata": {
    "collapsed": false
   },
   "outputs": [],
   "source": [
    "ctx.a = cell(int).set(2)\n",
    "ctx.b = cell(int).set(3)\n",
    "ctx.result = cell(int)"
   ]
  },
  {
   "cell_type": "markdown",
   "metadata": {},
   "source": [
    "Let's define a formula for the result cell: a + b\n",
    "\n",
    "In a spreadsheet, you would write the formula **inside** the result cell. \n",
    "\n",
    "But in seamless, you create a separate code cell. Usually, code cells contain Python code:"
   ]
  },
  {
   "cell_type": "code",
   "execution_count": 10,
   "metadata": {
    "collapsed": true
   },
   "outputs": [],
   "source": [
    "from seamless import pythoncell\n",
    "ctx.code = pythoncell().set(\"return a + b\")"
   ]
  },
  {
   "cell_type": "markdown",
   "metadata": {},
   "source": [
    "To perform computations, we need to define a **transformer**.\n",
    "\n",
    "Our transformer has two <font color=\"green\"> **int** </font> inputs, called *a* and *b*, and one <font color=\"green\"> **int** </font> outputs, called *result*. \n",
    "\n",
    "Each of them is declared as a transformer **pin**:"
   ]
  },
  {
   "cell_type": "code",
   "execution_count": 12,
   "metadata": {
    "collapsed": false
   },
   "outputs": [],
   "source": [
    "from seamless import transformer\n",
    "t = ctx.transform = transformer({\n",
    "    \"a\": {\"pin\": \"input\", \"dtype\": \"int\"},\n",
    "    \"b\": {\"pin\": \"input\", \"dtype\": \"int\"},\n",
    "    \"result\": {\"pin\": \"output\", \"dtype\": \"int\"}\n",
    "})"
   ]
  },
  {
   "cell_type": "code",
   "execution_count": 13,
   "metadata": {
    "collapsed": false
   },
   "outputs": [
    {
     "data": {
      "text/plain": [
       "Seamless object: .transform.a"
      ]
     },
     "execution_count": 13,
     "metadata": {},
     "output_type": "execute_result"
    }
   ],
   "source": [
    "t.a"
   ]
  },
  {
   "cell_type": "code",
   "execution_count": null,
   "metadata": {
    "collapsed": true
   },
   "outputs": [],
   "source": []
  }
 ],
 "metadata": {
  "kernelspec": {
   "display_name": "Python 3",
   "language": "python",
   "name": "python3"
  },
  "language_info": {
   "codemirror_mode": {
    "name": "ipython",
    "version": 3
   },
   "file_extension": ".py",
   "mimetype": "text/x-python",
   "name": "python",
   "nbconvert_exporter": "python",
   "pygments_lexer": "ipython3",
   "version": "3.5.2+"
  }
 },
 "nbformat": 4,
 "nbformat_minor": 2
}
