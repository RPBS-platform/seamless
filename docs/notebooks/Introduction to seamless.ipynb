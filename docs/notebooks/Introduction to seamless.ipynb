{
 "cells": [
  {
   "cell_type": "markdown",
   "metadata": {
    "deletable": true,
    "editable": true
   },
   "source": [
    "# Introduction to seamless\n",
    "\n",
    "Seamless is a reactive framework that consists of cells. It's a bit like a spreadsheet like Microsoft Excel. But a spreadsheet is only for simple formulas and plotting. \n",
    "\n",
    "Seamless is more powerful and can be used also for serious programming: algorithm development, scientific workflows, 3D shaders, and prototype graphical user interfaces. \n",
    "\n",
    "> For now, seamless is also less convenient than a spreadsheet, which provides out-of-the-box a table of cells that can access each other.  In seamless, you have to define and connect the cells yourself. \n",
    "\n",
    "> Future versions of seamless will contain a GUI for this. But for now, you must use seamless from IPython.\n",
    "\n",
    "### 1. Setting up a simple transformer "
   ]
  },
  {
   "cell_type": "code",
   "execution_count": 1,
   "metadata": {
    "collapsed": true,
    "deletable": true,
    "editable": true
   },
   "outputs": [],
   "source": [
    "import seamless\n",
    "from seamless import context, cell\n",
    "\n",
    "ctx = context()"
   ]
  },
  {
   "cell_type": "markdown",
   "metadata": {
    "deletable": true,
    "editable": true
   },
   "source": [
    "This defines a main context for our cells. Let's create some:"
   ]
  },
  {
   "cell_type": "code",
   "execution_count": 2,
   "metadata": {
    "collapsed": false,
    "deletable": true,
    "editable": true
   },
   "outputs": [],
   "source": [
    "ctx.a = cell(int).set(2)\n",
    "ctx.b = cell(int).set(3)\n",
    "ctx.result = cell(int)"
   ]
  },
  {
   "cell_type": "markdown",
   "metadata": {
    "deletable": true,
    "editable": true
   },
   "source": [
    "Let's define a formula for the result cell: ``a + b``\n",
    "\n",
    "In a spreadsheet, you would write the formula **inside** the result cell. \n",
    "\n",
    "But in seamless, you create a separate code cell. Usually, code cells contain Python code:"
   ]
  },
  {
   "cell_type": "code",
   "execution_count": 3,
   "metadata": {
    "collapsed": true,
    "deletable": true,
    "editable": true
   },
   "outputs": [],
   "source": [
    "from seamless import pythoncell\n",
    "ctx.formula = pythoncell().set(\"return a + b\")"
   ]
  },
  {
   "cell_type": "markdown",
   "metadata": {
    "deletable": true,
    "editable": true
   },
   "source": [
    "To perform computations, we need to define a **transformer**.\n",
    "\n",
    "Our transformer has two <font color=\"green\"> **int** </font> inputs, called *a* and *b*, and one <font color=\"green\"> **int** </font> output, called *result*. \n",
    "\n",
    "Each of them is declared as a **pin** of the transformer:"
   ]
  },
  {
   "cell_type": "code",
   "execution_count": 4,
   "metadata": {
    "collapsed": false,
    "deletable": true,
    "editable": true
   },
   "outputs": [],
   "source": [
    "from seamless import transformer\n",
    "t = ctx.transform = transformer({\n",
    "    \"a\": {\"pin\": \"input\", \"dtype\": \"int\"},\n",
    "    \"b\": {\"pin\": \"input\", \"dtype\": \"int\"},\n",
    "    \"result\": {\"pin\": \"output\", \"dtype\": \"int\"}\n",
    "})"
   ]
  },
  {
   "cell_type": "code",
   "execution_count": 5,
   "metadata": {
    "collapsed": false,
    "deletable": true,
    "editable": true
   },
   "outputs": [
    {
     "name": "stdout",
     "output_type": "stream",
     "text": [
      "Seamless input pin: .transform.a\n",
      "Seamless input pin: .transform.b\n",
      "Seamless output pin: .transform.result\n"
     ]
    }
   ],
   "source": [
    "print(t.a)\n",
    "print(t.b)\n",
    "print(t.result)"
   ]
  },
  {
   "cell_type": "markdown",
   "metadata": {
    "collapsed": true,
    "deletable": true,
    "editable": true
   },
   "source": [
    "Every transformer has an additional (implicitly declared) input pin, called *code*, for Python code:"
   ]
  },
  {
   "cell_type": "code",
   "execution_count": 6,
   "metadata": {
    "collapsed": false,
    "deletable": true,
    "editable": true
   },
   "outputs": [
    {
     "name": "stdout",
     "output_type": "stream",
     "text": [
      "Seamless input pin: .transform.code\n"
     ]
    }
   ],
   "source": [
    "print(t.code)"
   ]
  },
  {
   "cell_type": "markdown",
   "metadata": {
    "deletable": true,
    "editable": true
   },
   "source": [
    "To activate the transformer, we connect cells to the input pins:"
   ]
  },
  {
   "cell_type": "code",
   "execution_count": 7,
   "metadata": {
    "collapsed": false,
    "deletable": true,
    "editable": true
   },
   "outputs": [],
   "source": [
    "ctx.a.connect(t.a)\n",
    "ctx.b.connect(t.b)"
   ]
  },
  {
   "cell_type": "markdown",
   "metadata": {
    "deletable": true,
    "editable": true
   },
   "source": [
    "... and the output pin to a cell:"
   ]
  },
  {
   "cell_type": "code",
   "execution_count": 8,
   "metadata": {
    "collapsed": false,
    "deletable": true,
    "editable": true
   },
   "outputs": [],
   "source": [
    "t.result.connect(ctx.result)"
   ]
  },
  {
   "cell_type": "markdown",
   "metadata": {
    "deletable": true,
    "editable": true
   },
   "source": [
    "Normally, the result cell will contain the computed value:"
   ]
  },
  {
   "cell_type": "code",
   "execution_count": 9,
   "metadata": {
    "collapsed": false,
    "deletable": true,
    "editable": true
   },
   "outputs": [
    {
     "name": "stdout",
     "output_type": "stream",
     "text": [
      "None\n"
     ]
    }
   ],
   "source": [
    "print(ctx.result.value)"
   ]
  },
  {
   "cell_type": "markdown",
   "metadata": {
    "deletable": true,
    "editable": true
   },
   "source": [
    "Something went wrong... what is the status?"
   ]
  },
  {
   "cell_type": "code",
   "execution_count": 10,
   "metadata": {
    "collapsed": false,
    "deletable": true,
    "editable": true
   },
   "outputs": [
    {
     "data": {
      "text/plain": [
       "{'result': 'UNDEFINED',\n",
       " 'transform': {'code': 'UNCONNECTED', 'result': 'UNDEFINED'}}"
      ]
     },
     "execution_count": 10,
     "metadata": {},
     "output_type": "execute_result"
    }
   ],
   "source": [
    "ctx.status()"
   ]
  },
  {
   "cell_type": "markdown",
   "metadata": {
    "deletable": true,
    "editable": true
   },
   "source": [
    "*result* is undefined, we knew that already... but ah, we forgot to connect the formula:"
   ]
  },
  {
   "cell_type": "code",
   "execution_count": 11,
   "metadata": {
    "collapsed": true,
    "deletable": true,
    "editable": true
   },
   "outputs": [],
   "source": [
    "ctx.formula.connect(t.code)"
   ]
  },
  {
   "cell_type": "markdown",
   "metadata": {
    "deletable": true,
    "editable": true
   },
   "source": [
    "The following step is only necessary if you run the entire IPython script at once.\n",
    "When typing the commands one-by-one, you can omit it.\n"
   ]
  },
  {
   "cell_type": "code",
   "execution_count": 12,
   "metadata": {
    "collapsed": false,
    "deletable": true,
    "editable": true
   },
   "outputs": [
    {
     "data": {
      "text/plain": [
       "[]"
      ]
     },
     "execution_count": 12,
     "metadata": {},
     "output_type": "execute_result"
    }
   ],
   "source": [
    "ctx.equilibrate()   # The transformer runs asynchronously, it needs few milliseconds to complete\n",
    "                    # Typically, time.sleep(0.01) will work too"
   ]
  },
  {
   "cell_type": "code",
   "execution_count": 13,
   "metadata": {
    "collapsed": false,
    "deletable": true,
    "editable": true
   },
   "outputs": [
    {
     "data": {
      "text/plain": [
       "'OK'"
      ]
     },
     "execution_count": 13,
     "metadata": {},
     "output_type": "execute_result"
    }
   ],
   "source": [
    "ctx.status()"
   ]
  },
  {
   "cell_type": "code",
   "execution_count": 14,
   "metadata": {
    "collapsed": false,
    "deletable": true,
    "editable": true
   },
   "outputs": [
    {
     "name": "stdout",
     "output_type": "stream",
     "text": [
      "5\n"
     ]
    }
   ],
   "source": [
    "print(ctx.result.value)"
   ]
  },
  {
   "cell_type": "markdown",
   "metadata": {
    "deletable": true,
    "editable": true
   },
   "source": [
    "And there we have it. \n",
    "\n",
    "The transformer now responds to updates of any connected input cell:"
   ]
  },
  {
   "cell_type": "code",
   "execution_count": 15,
   "metadata": {
    "collapsed": false,
    "deletable": true,
    "editable": true
   },
   "outputs": [
    {
     "name": "stdout",
     "output_type": "stream",
     "text": [
      "8\n"
     ]
    }
   ],
   "source": [
    "ctx.a.set(5)\n",
    "ctx.equilibrate()\n",
    "print(ctx.result.value)"
   ]
  },
  {
   "cell_type": "code",
   "execution_count": 16,
   "metadata": {
    "collapsed": false,
    "deletable": true,
    "editable": true
   },
   "outputs": [
    {
     "name": "stdout",
     "output_type": "stream",
     "text": [
      "12\n"
     ]
    }
   ],
   "source": [
    "ctx.b.set(7)\n",
    "ctx.equilibrate()\n",
    "print(ctx.result.value)"
   ]
  },
  {
   "cell_type": "markdown",
   "metadata": {
    "deletable": true,
    "editable": true
   },
   "source": [
    "In the same way, it responds to changes in the formula. Seamless considers a code cell as just another input cell."
   ]
  },
  {
   "cell_type": "code",
   "execution_count": 17,
   "metadata": {
    "collapsed": false,
    "deletable": true,
    "editable": true
   },
   "outputs": [
    {
     "name": "stdout",
     "output_type": "stream",
     "text": [
      "2\n"
     ]
    }
   ],
   "source": [
    "ctx.formula.set(\"return b - a\")\n",
    "ctx.equilibrate()\n",
    "print(ctx.result.value)"
   ]
  },
  {
   "cell_type": "markdown",
   "metadata": {
    "deletable": true,
    "editable": true
   },
   "source": [
    "Admittedly, setting up a seamless context is a bit clunky. In future versions of seamless, there will be a GUI that can take care of setting up things like cells, connections and transformers.\n",
    "\n",
    "In the meantime, if you want, you could write some convenience functions. For example:"
   ]
  },
  {
   "cell_type": "code",
   "execution_count": 18,
   "metadata": {
    "collapsed": false,
    "deletable": true,
    "editable": true
   },
   "outputs": [],
   "source": [
    "def make_transformer(*, code, output, **kwargs):\n",
    "    from seamless import transformer, cell, pythoncell\n",
    "    ctx = seamless.core.context.get_active_context()\n",
    "    \n",
    "    assert output in kwargs  # The \"output\" parameter says which of the pins is output \n",
    "    \n",
    "    # Construct transformer parameter dict\n",
    "    transformer_params = {}\n",
    "    for k in kwargs:        \n",
    "        dtype = kwargs[k]\n",
    "        if isinstance(dtype, type):\n",
    "            dtype = dtype.__name__\n",
    "        pin = \"output\" if k == output else \"input\"\n",
    "        transformer_params[k] = {\"pin\": pin, \"dtype\": dtype}\n",
    "        \n",
    "    # Create the transformer\n",
    "    t = transformer(transformer_params)\n",
    "\n",
    "    # Connect a code cell, whose name is in the variable \"code\"\n",
    "    # If the code cell does not exist, create it\n",
    "    try:\n",
    "        cell_code = getattr(ctx, code)\n",
    "    except AttributeError:\n",
    "        cell_code = pythoncell()\n",
    "        setattr(ctx, code, cell_code)\n",
    "    cell_code.connect(t.code)\n",
    "\n",
    "    \n",
    "    # For every pin, connect it to the cell of the same name\n",
    "    # If that cell does not exist, create it\n",
    "    for k in kwargs:\n",
    "        dtype = kwargs[k]        \n",
    "        try:\n",
    "            cell_k = getattr(ctx, k)\n",
    "        except AttributeError:\n",
    "            cell_k = cell(dtype)\n",
    "            setattr(ctx, k, cell_k)\n",
    "        pin = getattr(t, k)\n",
    "        if k == output:\n",
    "            pin.connect(cell_k)\n",
    "        else:\n",
    "            cell_k.connect(pin)\n",
    "\n",
    "    return t "
   ]
  },
  {
   "cell_type": "markdown",
   "metadata": {
    "deletable": true,
    "editable": true
   },
   "source": [
    "With this, we can set up a transformer in just a few lines of code:"
   ]
  },
  {
   "cell_type": "code",
   "execution_count": 19,
   "metadata": {
    "collapsed": false,
    "deletable": true,
    "editable": true
   },
   "outputs": [
    {
     "data": {
      "text/plain": [
       "Seamless cell: .formula2"
      ]
     },
     "execution_count": 19,
     "metadata": {},
     "output_type": "execute_result"
    }
   ],
   "source": [
    "ctx.result2 = cell(int)\n",
    "ctx.transformer2 = make_transformer(a=int, b=int, result2=int, output=\"result2\", code=\"formula2\")\n",
    "ctx.formula2.set(\"return a * b\")   #  ctx.a.value * ctx.b.value = 5 * 7 = 35"
   ]
  },
  {
   "cell_type": "code",
   "execution_count": 20,
   "metadata": {
    "collapsed": false,
    "deletable": true,
    "editable": true
   },
   "outputs": [
    {
     "name": "stdout",
     "output_type": "stream",
     "text": [
      "35\n"
     ]
    }
   ],
   "source": [
    "ctx.equilibrate()\n",
    "print(ctx.result2.value)"
   ]
  },
  {
   "cell_type": "markdown",
   "metadata": {
    "deletable": true,
    "editable": true
   },
   "source": [
    "But this only works if you want your cell names and transformer pin names to be identical. It is the equivalent of using global variables instead of function parameters: convenient on a small scale, bad design on a large scale. Use with care!\n",
    "\n",
    "### 2. Setting up a reactor"
   ]
  },
  {
   "cell_type": "markdown",
   "metadata": {
    "deletable": true,
    "editable": true
   },
   "source": [
    "In addition to transformers, seamless has another construct to do computations in a reactive way: **reactors**\n",
    "\n",
    "Reactors work just like transformers, except that they have three code input pins: *code_start*, *code_update* and *code_stop*. The code in the connected cells is all executed in the same Python namespace. For example:"
   ]
  },
  {
   "cell_type": "code",
   "execution_count": 21,
   "metadata": {
    "collapsed": false,
    "deletable": true,
    "editable": true
   },
   "outputs": [
    {
     "name": "stdout",
     "output_type": "stream",
     "text": [
      "START\n",
      "UPDATE 42\n"
     ]
    },
    {
     "data": {
      "text/plain": [
       "[]"
      ]
     },
     "execution_count": 21,
     "metadata": {},
     "output_type": "execute_result"
    }
   ],
   "source": [
    "from seamless import reactor\n",
    "ctx.code_start, ctx.code_update, ctx.code_stop = pythoncell(), pythoncell(), pythoncell()\n",
    "ctx.reactor = reactor({\"a\": {\"pin\": \"input\", \"dtype\": \"int\"}})\n",
    "ctx.a.connect(ctx.reactor.a)\n",
    "ctx.code_start.connect(ctx.reactor.code_start)\n",
    "ctx.code_update.connect(ctx.reactor.code_update)\n",
    "ctx.code_stop.connect(ctx.reactor.code_stop)\n",
    "\n",
    "ctx.code_start.set(\"print('START'); somevalue = 42\")\n",
    "ctx.code_update.set(\"print('UPDATE', somevalue)\")\n",
    "ctx.code_stop.set(\"\")\n",
    "ctx.equilibrate()"
   ]
  },
  {
   "cell_type": "markdown",
   "metadata": {
    "deletable": true,
    "editable": true
   },
   "source": [
    "A reactor has access to its pins via the `PINS` object:"
   ]
  },
  {
   "cell_type": "code",
   "execution_count": 22,
   "metadata": {
    "collapsed": false,
    "deletable": true,
    "editable": true
   },
   "outputs": [
    {
     "name": "stdout",
     "output_type": "stream",
     "text": [
      "Setting value: 5\n"
     ]
    },
    {
     "name": "stderr",
     "output_type": "stream",
     "text": [
      "Traceback (most recent call last):\n",
      "  File \"/home/sjoerd/seamless/seamless/core/pysynckernel/reactor.py\", line 144, in process_input\n",
      "    self.update(updated)\n",
      "  File \"/home/sjoerd/seamless/seamless/core/pysynckernel/reactor.py\", line 282, in update\n",
      "    self._code_update(updated)\n",
      "  File \"/home/sjoerd/seamless/seamless/core/pysynckernel/reactor.py\", line 185, in _code_update\n",
      "    self._execute(self.code_update_block)\n",
      "  File \"/home/sjoerd/seamless/seamless/core/pysynckernel/reactor.py\", line 157, in _execute\n",
      "    exec(code_obj.code, self.namespace)\n",
      "  File \"pin: .reactor.code_update\", line 1, in <module>\n",
      "    print('UPDATE', somevalue)\n",
      "NameError: name 'somevalue' is not defined\n"
     ]
    },
    {
     "data": {
      "text/plain": [
       "'OK'"
      ]
     },
     "execution_count": 22,
     "metadata": {},
     "output_type": "execute_result"
    }
   ],
   "source": [
    "ctx.code_start.set(\"value = PINS.a.get()\")\n",
    "ctx.code_update.set(\"\"\"\n",
    "new_value = PINS.a.get()\n",
    "if new_value == value:\n",
    "    print(\"Setting value: {0}\".format(new_value))\n",
    "else:\n",
    "    print(\"Updating value: {0} (was {1})\".format(new_value, value))\n",
    "value = new_value    \n",
    "\"\"\")\n",
    "ctx.equilibrate()\n",
    "ctx.status()"
   ]
  },
  {
   "cell_type": "markdown",
   "metadata": {
    "deletable": true,
    "editable": true
   },
   "source": [
    "As you can see, seamless prints an error message, but it is harmless. \n",
    "\n",
    "Right after you change `code_start`, the reactor is re-evaluated with the new `code_start` and the old `code_update`. But as soon as you enter the new `code_update`, everything is OK again. This glitchy behavior is also like a spreadsheet.\n",
    "\n",
    "The reactor now tracks the value of `a`, reporting any changes:"
   ]
  },
  {
   "cell_type": "code",
   "execution_count": 23,
   "metadata": {
    "collapsed": false,
    "deletable": true,
    "editable": true
   },
   "outputs": [
    {
     "name": "stdout",
     "output_type": "stream",
     "text": [
      "Updating value: 8 (was 5)\n",
      "Updating value: 5 (was 8)\n"
     ]
    },
    {
     "data": {
      "text/plain": [
       "[]"
      ]
     },
     "execution_count": 23,
     "metadata": {},
     "output_type": "execute_result"
    }
   ],
   "source": [
    "ctx.a.set(8)\n",
    "ctx.a.set(5)\n",
    "ctx.equilibrate()"
   ]
  },
  {
   "cell_type": "markdown",
   "metadata": {
    "deletable": true,
    "editable": true
   },
   "source": [
    "## 3. Editing cells via a GUI\n",
    "Seamless comes with a library that contains a basic GUI to display and edit cells:"
   ]
  },
  {
   "cell_type": "code",
   "execution_count": 24,
   "metadata": {
    "collapsed": true,
    "deletable": true,
    "editable": true
   },
   "outputs": [],
   "source": [
    "from seamless.lib import edit, display\n",
    "\n",
    "ctx.gui = context()  # Create a subcontext to organize our cells better\n",
    "ctx.gui.a = edit(ctx.a, \"Input a\")\n",
    "ctx.gui.b = edit(ctx.b, \"Input b\")\n",
    "ctx.gui.result = display(ctx.result, \"Result\")"
   ]
  },
  {
   "cell_type": "markdown",
   "metadata": {
    "deletable": true,
    "editable": true
   },
   "source": [
    "![](img/picture.png)"
   ]
  },
  {
   "cell_type": "markdown",
   "metadata": {
    "deletable": true,
    "editable": true
   },
   "source": [
    "![Input a](images/Input_a.png)\n",
    "\n",
    "*and the same for \"Input b\" and \"Result\"*\n",
    "\n",
    "Changing the input values will immediately update the result.\n",
    "\n",
    "We can do the same for the code cell, this creates a text editor. The code is updated as soon as you press Ctrl+S or click \"Save\"."
   ]
  },
  {
   "cell_type": "code",
   "execution_count": 25,
   "metadata": {
    "collapsed": true,
    "deletable": true,
    "editable": true
   },
   "outputs": [],
   "source": [
    "ctx.gui.formula = edit(ctx.formula, \"Transformer code\")"
   ]
  },
  {
   "cell_type": "markdown",
   "metadata": {
    "deletable": true,
    "editable": true
   },
   "source": [
    "![Transformer code](images/Transformer_code.png)"
   ]
  },
  {
   "cell_type": "markdown",
   "metadata": {
    "collapsed": true,
    "deletable": true,
    "editable": true
   },
   "source": [
    "Execute the following command, or copy-paste the code into the \"Transformer code\" window:"
   ]
  },
  {
   "cell_type": "code",
   "execution_count": 26,
   "metadata": {
    "collapsed": false,
    "deletable": true,
    "editable": true
   },
   "outputs": [
    {
     "data": {
      "text/plain": [
       "[]"
      ]
     },
     "execution_count": 26,
     "metadata": {},
     "output_type": "execute_result"
    }
   ],
   "source": [
    "ctx.formula.set(\"\"\"\n",
    "def fibonacci(n):\n",
    "    def fib(n):\n",
    "        if n <= 1:\n",
    "            return [1]\n",
    "        elif n == 2:\n",
    "            return [1, 1]\n",
    "        else:\n",
    "            fib0 = fib(n-1)\n",
    "            return fib0 + [ fib0[-1] + fib0[-2] ]\n",
    "    fib0 = fib(n)\n",
    "    return fib0[-1]\n",
    "return fibonacci(a) + fibonacci(b)\n",
    "\"\"\")\n",
    "ctx.equilibrate()"
   ]
  },
  {
   "cell_type": "code",
   "execution_count": 27,
   "metadata": {
    "collapsed": false,
    "deletable": true,
    "editable": true
   },
   "outputs": [
    {
     "name": "stdout",
     "output_type": "stream",
     "text": [
      "Updating value: 10 (was 5)\n",
      "6820\n"
     ]
    }
   ],
   "source": [
    "ctx.a.set(10)\n",
    "ctx.b.set(20)\n",
    "ctx.equilibrate()\n",
    "print(ctx.result.value)"
   ]
  },
  {
   "cell_type": "markdown",
   "metadata": {
    "deletable": true,
    "editable": true
   },
   "source": [
    "The seamless library itself consists of seamless cells:"
   ]
  },
  {
   "cell_type": "code",
   "execution_count": 28,
   "metadata": {
    "collapsed": false,
    "deletable": true,
    "editable": true
   },
   "outputs": [
    {
     "name": "stdout",
     "output_type": "stream",
     "text": [
      "Seamless context: .gui.formula\n",
      "Seamless reactor: .gui.formula.rc\n",
      "Seamless input pin: .gui.formula.rc.code_start\n",
      "Seamless cell: .gui.formula.cell2\n"
     ]
    }
   ],
   "source": [
    "print(ctx.gui.formula)\n",
    "print(ctx.gui.formula.rc)\n",
    "print(ctx.gui.formula.rc.code_start)\n",
    "print(ctx.gui.formula.rc.code_start.cell())"
   ]
  },
  {
   "cell_type": "code",
   "execution_count": 29,
   "metadata": {
    "collapsed": false,
    "deletable": true,
    "editable": true
   },
   "outputs": [],
   "source": [
    "text_editor_code = ctx.gui.formula.rc.code_start.cell()\n",
    "ctx.gui.text_editor = edit(text_editor_code, \"Text editor source code\")"
   ]
  },
  {
   "cell_type": "markdown",
   "metadata": {
    "deletable": true,
    "editable": true
   },
   "source": [
    "This displays the code of the seamless library text editor itself: https://github.com/sjdv1982/seamless/blob/stable/seamless/lib/gui/cell-basic_editor_text.py\n",
    "\n",
    "Editing ``Text editor source code`` immediately changes the other window!\n",
    "\n",
    "For example, add ``b.setTextColor(QColor(255,0,0))`` at the end, and press Ctrl+S:\n",
    "\n",
    "![](images/Fibonacci_red.png)"
   ]
  },
  {
   "cell_type": "markdown",
   "metadata": {
    "deletable": true,
    "editable": true
   },
   "source": [
    "You can also inspect and manipulate the Text editor by hooking up an additional IPython shell to the reactor's namespace."
   ]
  },
  {
   "cell_type": "code",
   "execution_count": 30,
   "metadata": {
    "collapsed": false,
    "deletable": true,
    "editable": true
   },
   "outputs": [
    {
     "data": {
      "text/plain": [
       "<seamless.gui.shell.PyShell at 0x7feb701406d8>"
      ]
     },
     "execution_count": 30,
     "metadata": {},
     "output_type": "execute_result"
    }
   ],
   "source": [
    "from seamless.gui import shell\n",
    "shell(ctx.gui.formula) #or: shell(ctx.gui.formula.rc)"
   ]
  },
  {
   "cell_type": "markdown",
   "metadata": {
    "collapsed": false,
    "deletable": true,
    "editable": true
   },
   "source": [
    "This will open a new IPython QtConsole shell, in which you can type, for example, ``b.setText(\"test\")``\n",
    "\n",
    "The way Qt works, it will not be immediately responsive to all modifications."
   ]
  },
  {
   "cell_type": "markdown",
   "metadata": {
    "collapsed": true,
    "deletable": true,
    "editable": true
   },
   "source": [
    "Integrating the following code snippets will enable Python syntax highlighting:\n",
    "\n",
    "```python\n",
    "from pygments import highlight\n",
    "from pygments.lexers import PythonLexer\n",
    "from pygments.formatters import HtmlFormatter\n",
    "css = HtmlFormatter().get_style_defs('.highlight')\n",
    "\n",
    "def highlight_python():\n",
    "    txt = b.toPlainText()\n",
    "    html = highlight(txt, PythonLexer(), HtmlFormatter())\n",
    "    b.setHtml(\"<style>\" + css + \"</style>\"+ html```\n",
    "    \n",
    "![](images/Fibonacci_highlight.png)"
   ]
  },
  {
   "cell_type": "markdown",
   "metadata": {
    "collapsed": true,
    "deletable": true,
    "editable": true
   },
   "source": [
    "In this way, you can live-edit any cell in the seamless library. It is currently extremely basic, so please save all your improvements and make pull requests on GitHub!\n",
    "\n",
    "Or, you can just link the cell to a file, and use your favorite text editor or Python IDE."
   ]
  },
  {
   "cell_type": "code",
   "execution_count": 31,
   "metadata": {
    "collapsed": false,
    "deletable": true,
    "editable": true
   },
   "outputs": [
    {
     "data": {
      "text/plain": [
       "Seamless context: .gui.ctx1"
      ]
     },
     "execution_count": 31,
     "metadata": {},
     "output_type": "execute_result"
    }
   ],
   "source": [
    "import tempfile\n",
    "from seamless.lib import link\n",
    "link(ctx.formula, tempfile.gettempdir(), \"formula.py\")"
   ]
  },
  {
   "cell_type": "markdown",
   "metadata": {
    "deletable": true,
    "editable": true
   },
   "source": [
    "The link() reactor writes all future changes in the cell to the file, and vice versa."
   ]
  },
  {
   "cell_type": "code",
   "execution_count": null,
   "metadata": {
    "collapsed": true,
    "deletable": true,
    "editable": true
   },
   "outputs": [],
   "source": []
  }
 ],
 "metadata": {
  "celltoolbar": "Raw Cell Format",
  "kernelspec": {
   "display_name": "Python 3",
   "language": "python",
   "name": "python3"
  },
  "language_info": {
   "codemirror_mode": {
    "name": "ipython",
    "version": 3
   },
   "file_extension": ".py",
   "mimetype": "text/x-python",
   "name": "python",
   "nbconvert_exporter": "python",
   "pygments_lexer": "ipython3",
   "version": "3.5.2+"
  }
 },
 "nbformat": 4,
 "nbformat_minor": 2
}
