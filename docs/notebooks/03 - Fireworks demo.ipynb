{
 "cells": [
  {
   "cell_type": "markdown",
   "metadata": {
    "deletable": true,
    "editable": true
   },
   "source": [
    "# Seamless fireworks demo\n",
    "Example demonstrating simulation of OpenGL-rendered fireworks. Adapted from the Vispy gallery.\n",
    "\n",
    "See the seamless examples directory:\n",
    "- **examples/fireworks/fireworks.py**: script that generates the `fireworks.seamless` context file, used in this notebook\n",
    "- **examples/fireworks/tutorial/steps.ipy**: step-by-step tutorial to set up OpenGL fireworks\n",
    "\n",
    "The `seamless YouTube playlist` https://www.youtube.com/playlist?list=PL6WSTyQSLz08_GQqj-NyshaWnoIZMsqTK\n",
    " contains the following videos\n",
    "- **Demo video** of this notebook\n",
    "- **Step-by-step tutorial** (three parts) \n",
    "\n"
   ]
  },
  {
   "cell_type": "code",
   "execution_count": null,
   "metadata": {
    "collapsed": true,
    "deletable": true,
    "editable": true
   },
   "outputs": [],
   "source": [
    "#  Download fireworks example context\n",
    "import urllib.request\n",
    "url = \"https://raw.githubusercontent.com/sjdv1982/seamless/master/examples/fireworks/fireworks.seamless\"\n",
    "urllib.request.urlretrieve(url, filename = \"fireworks.seamless\")\n",
    "url = \"https://raw.githubusercontent.com/sjdv1982/seamless/master/examples/fireworks/orca.png\"\n",
    "urllib.request.urlretrieve(url, filename = \"orca.png\")"
   ]
  },
  {
   "cell_type": "code",
   "execution_count": 1,
   "metadata": {
    "collapsed": true,
    "deletable": true,
    "editable": true
   },
   "outputs": [],
   "source": [
    "#  Boilerplate\n",
    "import seamless\n",
    "from seamless import cell, pythoncell, context, reactor, transformer\n",
    "from seamless.lib.gui.basic_editor import edit\n",
    "from seamless.lib.gui.basic_display import display\n",
    "from seamless.lib import link"
   ]
  },
  {
   "cell_type": "code",
   "execution_count": 2,
   "metadata": {
    "collapsed": false,
    "deletable": true,
    "editable": true
   },
   "outputs": [
    {
     "name": "stderr",
     "output_type": "stream",
     "text": [
      "WARNING, cell '.cell14' is different from './cell-gen-vertexdata.py'\n",
      "WARNING, cell '.params_gen_texture' is different from './params_gen_texture.json'\n",
      "WARNING, cell '.params_gen_uniforms' is different from './params_gen_uniforms.json'\n",
      "WARNING, cell '.params_gen_vertexdata' is different from './params_gen_vertexdata.json'\n"
     ]
    },
    {
     "name": "stdout",
     "output_type": "stream",
     "text": [
      "Waiting for: ['.glprogram.rc']\n",
      "WARNING: Loading 'fireworks.seamless' before making connections, could not equilibrate within 5 seconds\n",
      "fireworks.seamless LOADED\n"
     ]
    }
   ],
   "source": [
    "ctx = seamless.fromfile(\"fireworks.seamless\")"
   ]
  },
  {
   "cell_type": "code",
   "execution_count": null,
   "metadata": {
    "collapsed": true,
    "deletable": true,
    "editable": true
   },
   "outputs": [],
   "source": [
    "#  Piece of code to link a seamless cell and an ipywidget\n",
    "\n",
    "import traitlets\n",
    "from collections import namedtuple\n",
    "import traceback\n",
    "\n",
    "def widgetlink(c, w):\n",
    "    assert isinstance(c, seamless.core.Cell)\n",
    "    assert isinstance(w, traitlets.HasTraits)\n",
    "    assert w.has_trait(\"value\")\n",
    "    handler = lambda d: c.set(d[\"new\"])\n",
    "    value = c.value\n",
    "    if value is not None:\n",
    "        w.value = value\n",
    "    else:\n",
    "        c.set(w.value)\n",
    "    def set_traitlet(value):\n",
    "        try:\n",
    "            w.value = value\n",
    "        except:\n",
    "            traceback.print_exc()\n",
    "    w.observe(handler, names=[\"value\"])\n",
    "    obs = seamless.observer(c, set_traitlet )\n",
    "    result = namedtuple('Widgetlink', [\"unobserve\"])\n",
    "    def unobserve():\n",
    "        nonlocal obs\n",
    "        t[0].unobserve(handler)\n",
    "        del obs  \n",
    "    result.unobserve = unobserve\n",
    "    return result"
   ]
  },
  {
   "cell_type": "code",
   "execution_count": null,
   "metadata": {
    "collapsed": false,
    "deletable": true,
    "editable": true,
    "scrolled": true
   },
   "outputs": [],
   "source": [
    "# Clean up any old widgetlinks, created by repeated execution of this cell\n",
    "try:\n",
    "    for w in widgetlinks:\n",
    "        widget.unobserve()\n",
    "except NameError:\n",
    "    pass\n",
    "\n",
    "from ipywidgets import Layout, Box, FloatSlider, IntSlider, Checkbox, Label\n",
    "\n",
    "layout = Layout(\n",
    "    display='flex',\n",
    "    flex_flow='row',\n",
    "    justify_content='space-between',\n",
    ")\n",
    "\n",
    "from ipywidgets import FloatSlider, IntSlider, Checkbox, HBox\n",
    "from collections import OrderedDict\n",
    "from IPython.display import display as idisplay\n",
    "# Build widgets\n",
    "widgets = OrderedDict()\n",
    "widgets[\"N\"] = IntSlider(min=1, max=20000, description = \"N (number of points)\", layout=layout)\n",
    "widgets[\"gravity\"] = FloatSlider(min=0, max=5, description = \"Gravity\", layout=layout)\n",
    "widgets[\"pointsize\"] = IntSlider(min=1, max=100, description = \"Pointsize\", layout=layout)\n",
    "widgets[\"period\"] = FloatSlider(min=0.01, max=5, description = \"Period (time between explosions)\", layout=layout)\n",
    "widgets[\"shrink_with_age\"] = Checkbox(description = \"Shrink points with age\", layout=layout)\n",
    "\n",
    "widgetlinks = [] # You need to hang on to the object returned by traitlink\n",
    "form_items = []\n",
    "for k,w in widgets.items():\n",
    "    c = getattr(ctx, k)\n",
    "    widgetlinks.append(widgetlink(c, w))\n",
    "    #replace the description with a label-widget pair\n",
    "    row = Box([Label(value=w.description), w], layout=layout)\n",
    "    form_items.append(row)\n",
    "    w.description = \"\"\n",
    "\n",
    "form = Box(form_items, layout=Layout(\n",
    "    display='flex',\n",
    "    flex_flow='column',\n",
    "    border='solid 2px',\n",
    "    align_items='stretch',\n",
    "    width='70%'\n",
    "))\n",
    "form\n",
    "    \n"
   ]
  },
  {
   "cell_type": "code",
   "execution_count": null,
   "metadata": {
    "collapsed": false,
    "deletable": true,
    "editable": true
   },
   "outputs": [],
   "source": [
    "#  Replace the randomly generated texture with an image\n",
    "ctx.tex_filename.set(\"orca.png\")\n",
    "ctx.tex_radius.set(100)"
   ]
  },
  {
   "cell_type": "code",
   "execution_count": 7,
   "metadata": {
    "collapsed": false
   },
   "outputs": [],
   "source": [
    "# Define a mask, drawing a text onto it\n",
    "import numpy as np\n",
    "from PyQt5.QtGui import QImage, QFont, QColor\n",
    "from PyQt5.QtCore import Qt\n",
    "from PyQt5.QtGui import QPainter\n",
    "imsize = 1000\n",
    "img = QImage(imsize, imsize, QImage.Format_Grayscale8)\n",
    "img.fill(Qt.white)\n",
    "\n",
    "text = \"Seamless\"\n",
    "\n",
    "qp = QPainter()\n",
    "try:\n",
    "    qp.begin(img)\n",
    "    qp.setPen(Qt.black)\n",
    "    font = QFont(\"Arial\", 100)\n",
    "    qp.setFont(font)\n",
    "    mx = img.width()\n",
    "    my = img.height()\n",
    "    qp.drawText(0, 0, mx, my, Qt.AlignCenter,text)\n",
    "finally:\n",
    "    qp.end()\n",
    "mask = np.array(img.bits().asarray(img.byteCount())).reshape(img.width(),img.height())\n",
    "ctx.mask = cell(\"array\").set(mask)"
   ]
  },
  {
   "cell_type": "code",
   "execution_count": 8,
   "metadata": {
    "collapsed": false,
    "deletable": true,
    "editable": true
   },
   "outputs": [],
   "source": [
    "#  Connect mask to pin\n",
    "pin = ctx.display_texture.display_numpy.array\n",
    "pin.cell().disconnect(pin)\n",
    "ctx.mask.connect(pin)"
   ]
  },
  {
   "cell_type": "code",
   "execution_count": null,
   "metadata": {
    "collapsed": true
   },
   "outputs": [],
   "source": [
    "#  Connect texture to pin (undoing the last cell)\n",
    "pin = ctx.display_texture.display_numpy.array\n",
    "pin.cell().disconnect(pin)\n",
    "ctx.texture.connect(pin)"
   ]
  },
  {
   "cell_type": "markdown",
   "metadata": {},
   "source": [
    "**Change the fireworks into exploding letters (step 1)**"
   ]
  },
  {
   "cell_type": "code",
   "execution_count": 9,
   "metadata": {
    "collapsed": false
   },
   "outputs": [
    {
     "name": "stdout",
     "output_type": "stream",
     "text": [
      "Macro object re-evaluation Seamless cell: .params_gen_vertexdata 0 .gen_vertexdata\n",
      "DONE DESTROY\n",
      "CONNECTION: mode 'output', source ('output',), dest Seamless cell: .vertexdata\n",
      "CONNECTION: mode 'input', source Seamless cell: .N, dest ('N',)\n",
      "CONNECTION: mode 'input', source Seamless cell: .cell14, dest ('code',)\n",
      "CONNECTION: mode 'input', source Seamless cell: .display_texture.cell18, dest ('reset',)\n",
      "*********** ERROR in transformer Seamless transformer: .gen_vertexdata: execution error **************\n"
     ]
    },
    {
     "name": "stderr",
     "output_type": "stream",
     "text": [
      "Traceback (most recent call last):\n",
      "  File \"/home/sjoerd/seamless/seamless/core/pythreadkernel/__init__.py\", line 173, in run\n",
      "    self.update(self.updated, self.semaphore)\n",
      "  File \"/home/sjoerd/seamless/seamless/core/pythreadkernel/transformer.py\", line 112, in update\n",
      "    raise Exception(msg)\n",
      "Exception: Traceback (most recent call last):\n",
      "  File \"/home/sjoerd/seamless/seamless/core/pythreadkernel/transformer.py\", line 28, in execute\n",
      "    result = eval(expression, namespace)\n",
      "  File \"transformer\", line 1, in <module>\n",
      "  File \"./cell-gen-vertexdata.py in pin: .gen_vertexdata.code\", line 4, in transform\n",
      "    data = np.zeros(N, VertexData.dtype)\n",
      "NameError: name 'VertexData' is not defined\n",
      "\n"
     ]
    },
    {
     "name": "stdout",
     "output_type": "stream",
     "text": [
      "*********** ERROR in transformer Seamless transformer: .gen_vertexdata: execution error **************\n"
     ]
    },
    {
     "name": "stderr",
     "output_type": "stream",
     "text": [
      "Traceback (most recent call last):\n",
      "  File \"/home/sjoerd/seamless/seamless/core/pythreadkernel/__init__.py\", line 173, in run\n",
      "    self.update(self.updated, self.semaphore)\n",
      "  File \"/home/sjoerd/seamless/seamless/core/pythreadkernel/transformer.py\", line 112, in update\n",
      "    raise Exception(msg)\n",
      "Exception: Traceback (most recent call last):\n",
      "  File \"/home/sjoerd/seamless/seamless/core/pythreadkernel/transformer.py\", line 28, in execute\n",
      "    result = eval(expression, namespace)\n",
      "  File \"transformer\", line 1, in <module>\n",
      "  File \"./cell-gen-vertexdata.py in pin: .gen_vertexdata.code\", line 4, in transform\n",
      "    data = np.zeros(N, VertexData.dtype)\n",
      "NameError: name 'VertexData' is not defined\n",
      "\n"
     ]
    },
    {
     "name": "stdout",
     "output_type": "stream",
     "text": [
      "*********** ERROR in transformer Seamless transformer: .gen_vertexdata: execution error **************\n"
     ]
    },
    {
     "name": "stderr",
     "output_type": "stream",
     "text": [
      "Traceback (most recent call last):\n",
      "  File \"/home/sjoerd/seamless/seamless/core/pythreadkernel/__init__.py\", line 173, in run\n",
      "    self.update(self.updated, self.semaphore)\n",
      "  File \"/home/sjoerd/seamless/seamless/core/pythreadkernel/transformer.py\", line 112, in update\n",
      "    raise Exception(msg)\n",
      "Exception: Traceback (most recent call last):\n",
      "  File \"/home/sjoerd/seamless/seamless/core/pythreadkernel/transformer.py\", line 28, in execute\n",
      "    result = eval(expression, namespace)\n",
      "  File \"transformer\", line 1, in <module>\n",
      "  File \"./cell-gen-vertexdata.py in pin: .gen_vertexdata.code\", line 4, in transform\n",
      "    data = np.zeros(N, VertexData.dtype)\n",
      "NameError: name 'VertexData' is not defined\n",
      "\n"
     ]
    },
    {
     "name": "stdout",
     "output_type": "stream",
     "text": [
      "*********** ERROR in transformer Seamless transformer: .gen_vertexdata: execution error **************\n"
     ]
    },
    {
     "name": "stderr",
     "output_type": "stream",
     "text": [
      "Traceback (most recent call last):\n",
      "  File \"/home/sjoerd/seamless/seamless/core/pythreadkernel/__init__.py\", line 173, in run\n",
      "    self.update(self.updated, self.semaphore)\n",
      "  File \"/home/sjoerd/seamless/seamless/core/pythreadkernel/transformer.py\", line 112, in update\n",
      "    raise Exception(msg)\n",
      "Exception: Traceback (most recent call last):\n",
      "  File \"/home/sjoerd/seamless/seamless/core/pythreadkernel/transformer.py\", line 28, in execute\n",
      "    result = eval(expression, namespace)\n",
      "  File \"transformer\", line 1, in <module>\n",
      "  File \"./cell-gen-vertexdata.py in pin: .gen_vertexdata.code\", line 4, in transform\n",
      "    data = np.zeros(N, VertexData.dtype)\n",
      "NameError: name 'VertexData' is not defined\n",
      "\n"
     ]
    },
    {
     "name": "stdout",
     "output_type": "stream",
     "text": [
      "*********** ERROR in transformer Seamless transformer: .gen_vertexdata: execution error **************\n"
     ]
    },
    {
     "name": "stderr",
     "output_type": "stream",
     "text": [
      "Traceback (most recent call last):\n",
      "  File \"/home/sjoerd/seamless/seamless/core/pythreadkernel/__init__.py\", line 173, in run\n",
      "    self.update(self.updated, self.semaphore)\n",
      "  File \"/home/sjoerd/seamless/seamless/core/pythreadkernel/transformer.py\", line 112, in update\n",
      "    raise Exception(msg)\n",
      "Exception: Traceback (most recent call last):\n",
      "  File \"/home/sjoerd/seamless/seamless/core/pythreadkernel/transformer.py\", line 28, in execute\n",
      "    result = eval(expression, namespace)\n",
      "  File \"transformer\", line 1, in <module>\n",
      "  File \"./cell-gen-vertexdata.py in pin: .gen_vertexdata.code\", line 4, in transform\n",
      "    data = np.zeros(N, VertexData.dtype)\n",
      "NameError: name 'VertexData' is not defined\n",
      "\n"
     ]
    },
    {
     "name": "stdout",
     "output_type": "stream",
     "text": [
      "*********** ERROR in transformer Seamless transformer: .gen_vertexdata: execution error **************\n"
     ]
    },
    {
     "name": "stderr",
     "output_type": "stream",
     "text": [
      "Traceback (most recent call last):\n",
      "  File \"/home/sjoerd/seamless/seamless/core/pythreadkernel/__init__.py\", line 173, in run\n",
      "    self.update(self.updated, self.semaphore)\n",
      "  File \"/home/sjoerd/seamless/seamless/core/pythreadkernel/transformer.py\", line 112, in update\n",
      "    raise Exception(msg)\n",
      "Exception: Traceback (most recent call last):\n",
      "  File \"/home/sjoerd/seamless/seamless/core/pythreadkernel/transformer.py\", line 28, in execute\n",
      "    result = eval(expression, namespace)\n",
      "  File \"transformer\", line 1, in <module>\n",
      "  File \"./cell-gen-vertexdata.py in pin: .gen_vertexdata.code\", line 4, in transform\n",
      "    data = np.zeros(N, VertexData.dtype)\n",
      "NameError: name 'VertexData' is not defined\n",
      "\n"
     ]
    },
    {
     "name": "stdout",
     "output_type": "stream",
     "text": [
      "*********** ERROR in transformer Seamless transformer: .gen_vertexdata: execution error **************\n"
     ]
    },
    {
     "name": "stderr",
     "output_type": "stream",
     "text": [
      "Traceback (most recent call last):\n",
      "  File \"/home/sjoerd/seamless/seamless/core/pythreadkernel/__init__.py\", line 173, in run\n",
      "    self.update(self.updated, self.semaphore)\n",
      "  File \"/home/sjoerd/seamless/seamless/core/pythreadkernel/transformer.py\", line 112, in update\n",
      "    raise Exception(msg)\n",
      "Exception: Traceback (most recent call last):\n",
      "  File \"/home/sjoerd/seamless/seamless/core/pythreadkernel/transformer.py\", line 28, in execute\n",
      "    result = eval(expression, namespace)\n",
      "  File \"transformer\", line 1, in <module>\n",
      "  File \"./cell-gen-vertexdata.py in pin: .gen_vertexdata.code\", line 4, in transform\n",
      "    data = np.zeros(N, VertexData.dtype)\n",
      "NameError: name 'VertexData' is not defined\n",
      "\n"
     ]
    },
    {
     "name": "stdout",
     "output_type": "stream",
     "text": [
      "*********** ERROR in transformer Seamless transformer: .gen_vertexdata: execution error **************\n"
     ]
    },
    {
     "name": "stderr",
     "output_type": "stream",
     "text": [
      "Traceback (most recent call last):\n",
      "  File \"/home/sjoerd/seamless/seamless/core/pythreadkernel/__init__.py\", line 173, in run\n",
      "    self.update(self.updated, self.semaphore)\n",
      "  File \"/home/sjoerd/seamless/seamless/core/pythreadkernel/transformer.py\", line 112, in update\n",
      "    raise Exception(msg)\n",
      "Exception: Traceback (most recent call last):\n",
      "  File \"/home/sjoerd/seamless/seamless/core/pythreadkernel/transformer.py\", line 28, in execute\n",
      "    result = eval(expression, namespace)\n",
      "  File \"transformer\", line 1, in <module>\n",
      "  File \"./cell-gen-vertexdata.py in pin: .gen_vertexdata.code\", line 4, in transform\n",
      "    data = np.zeros(N, VertexData.dtype)\n",
      "NameError: name 'VertexData' is not defined\n",
      "\n"
     ]
    },
    {
     "name": "stdout",
     "output_type": "stream",
     "text": [
      "*********** ERROR in transformer Seamless transformer: .gen_vertexdata: execution error **************\n"
     ]
    },
    {
     "name": "stderr",
     "output_type": "stream",
     "text": [
      "Traceback (most recent call last):\n",
      "  File \"/home/sjoerd/seamless/seamless/core/pythreadkernel/__init__.py\", line 173, in run\n",
      "    self.update(self.updated, self.semaphore)\n",
      "  File \"/home/sjoerd/seamless/seamless/core/pythreadkernel/transformer.py\", line 112, in update\n",
      "    raise Exception(msg)\n",
      "Exception: Traceback (most recent call last):\n",
      "  File \"/home/sjoerd/seamless/seamless/core/pythreadkernel/transformer.py\", line 28, in execute\n",
      "    result = eval(expression, namespace)\n",
      "  File \"transformer\", line 1, in <module>\n",
      "  File \"./cell-gen-vertexdata.py in pin: .gen_vertexdata.code\", line 4, in transform\n",
      "    data = np.zeros(N, VertexData.dtype)\n",
      "NameError: name 'VertexData' is not defined\n",
      "\n"
     ]
    },
    {
     "name": "stdout",
     "output_type": "stream",
     "text": [
      "*********** ERROR in transformer Seamless transformer: .gen_vertexdata: execution error **************\n"
     ]
    },
    {
     "name": "stderr",
     "output_type": "stream",
     "text": [
      "Traceback (most recent call last):\n",
      "  File \"/home/sjoerd/seamless/seamless/core/pythreadkernel/__init__.py\", line 173, in run\n",
      "    self.update(self.updated, self.semaphore)\n",
      "  File \"/home/sjoerd/seamless/seamless/core/pythreadkernel/transformer.py\", line 112, in update\n",
      "    raise Exception(msg)\n",
      "Exception: Traceback (most recent call last):\n",
      "  File \"/home/sjoerd/seamless/seamless/core/pythreadkernel/transformer.py\", line 28, in execute\n",
      "    result = eval(expression, namespace)\n",
      "  File \"transformer\", line 1, in <module>\n",
      "  File \"./cell-gen-vertexdata.py in pin: .gen_vertexdata.code\", line 4, in transform\n",
      "    data = np.zeros(N, VertexData.dtype)\n",
      "NameError: name 'VertexData' is not defined\n",
      "\n"
     ]
    },
    {
     "name": "stdout",
     "output_type": "stream",
     "text": [
      "*********** ERROR in transformer Seamless transformer: .gen_vertexdata: execution error **************\n"
     ]
    },
    {
     "name": "stderr",
     "output_type": "stream",
     "text": [
      "Traceback (most recent call last):\n",
      "  File \"/home/sjoerd/seamless/seamless/core/pythreadkernel/__init__.py\", line 173, in run\n",
      "    self.update(self.updated, self.semaphore)\n",
      "  File \"/home/sjoerd/seamless/seamless/core/pythreadkernel/transformer.py\", line 112, in update\n",
      "    raise Exception(msg)\n",
      "Exception: Traceback (most recent call last):\n",
      "  File \"/home/sjoerd/seamless/seamless/core/pythreadkernel/transformer.py\", line 28, in execute\n",
      "    result = eval(expression, namespace)\n",
      "  File \"transformer\", line 1, in <module>\n",
      "  File \"./cell-gen-vertexdata.py in pin: .gen_vertexdata.code\", line 4, in transform\n",
      "    data = np.zeros(N, VertexData.dtype)\n",
      "NameError: name 'VertexData' is not defined\n",
      "\n"
     ]
    },
    {
     "name": "stdout",
     "output_type": "stream",
     "text": [
      "*********** ERROR in transformer Seamless transformer: .gen_vertexdata: execution error **************\n"
     ]
    },
    {
     "name": "stderr",
     "output_type": "stream",
     "text": [
      "Traceback (most recent call last):\n",
      "  File \"/home/sjoerd/seamless/seamless/core/pythreadkernel/__init__.py\", line 173, in run\n",
      "    self.update(self.updated, self.semaphore)\n",
      "  File \"/home/sjoerd/seamless/seamless/core/pythreadkernel/transformer.py\", line 112, in update\n",
      "    raise Exception(msg)\n",
      "Exception: Traceback (most recent call last):\n",
      "  File \"/home/sjoerd/seamless/seamless/core/pythreadkernel/transformer.py\", line 28, in execute\n",
      "    result = eval(expression, namespace)\n",
      "  File \"transformer\", line 1, in <module>\n",
      "  File \"./cell-gen-vertexdata.py in pin: .gen_vertexdata.code\", line 4, in transform\n",
      "    data = np.zeros(N, VertexData.dtype)\n",
      "NameError: name 'VertexData' is not defined\n",
      "\n"
     ]
    },
    {
     "name": "stdout",
     "output_type": "stream",
     "text": [
      "*********** ERROR in transformer Seamless transformer: .gen_vertexdata: execution error **************\n"
     ]
    },
    {
     "name": "stderr",
     "output_type": "stream",
     "text": [
      "Traceback (most recent call last):\n",
      "  File \"/home/sjoerd/seamless/seamless/core/pythreadkernel/__init__.py\", line 173, in run\n",
      "    self.update(self.updated, self.semaphore)\n",
      "  File \"/home/sjoerd/seamless/seamless/core/pythreadkernel/transformer.py\", line 112, in update\n",
      "    raise Exception(msg)\n",
      "Exception: Traceback (most recent call last):\n",
      "  File \"/home/sjoerd/seamless/seamless/core/pythreadkernel/transformer.py\", line 28, in execute\n",
      "    result = eval(expression, namespace)\n",
      "  File \"transformer\", line 1, in <module>\n",
      "  File \"./cell-gen-vertexdata.py in pin: .gen_vertexdata.code\", line 4, in transform\n",
      "    data = np.zeros(N, VertexData.dtype)\n",
      "NameError: name 'VertexData' is not defined\n",
      "\n"
     ]
    },
    {
     "name": "stdout",
     "output_type": "stream",
     "text": [
      "*********** ERROR in transformer Seamless transformer: .gen_vertexdata: execution error **************\n"
     ]
    },
    {
     "name": "stderr",
     "output_type": "stream",
     "text": [
      "Traceback (most recent call last):\n",
      "  File \"/home/sjoerd/seamless/seamless/core/pythreadkernel/__init__.py\", line 173, in run\n",
      "    self.update(self.updated, self.semaphore)\n",
      "  File \"/home/sjoerd/seamless/seamless/core/pythreadkernel/transformer.py\", line 112, in update\n",
      "    raise Exception(msg)\n",
      "Exception: Traceback (most recent call last):\n",
      "  File \"/home/sjoerd/seamless/seamless/core/pythreadkernel/transformer.py\", line 28, in execute\n",
      "    result = eval(expression, namespace)\n",
      "  File \"transformer\", line 1, in <module>\n",
      "  File \"./cell-gen-vertexdata.py in pin: .gen_vertexdata.code\", line 4, in transform\n",
      "    data = np.zeros(N, VertexData.dtype)\n",
      "NameError: name 'VertexData' is not defined\n",
      "\n"
     ]
    },
    {
     "name": "stdout",
     "output_type": "stream",
     "text": [
      "*********** ERROR in transformer Seamless transformer: .gen_vertexdata: execution error **************\n"
     ]
    },
    {
     "name": "stderr",
     "output_type": "stream",
     "text": [
      "Traceback (most recent call last):\n",
      "  File \"/home/sjoerd/seamless/seamless/core/pythreadkernel/__init__.py\", line 173, in run\n",
      "    self.update(self.updated, self.semaphore)\n",
      "  File \"/home/sjoerd/seamless/seamless/core/pythreadkernel/transformer.py\", line 112, in update\n",
      "    raise Exception(msg)\n",
      "Exception: Traceback (most recent call last):\n",
      "  File \"/home/sjoerd/seamless/seamless/core/pythreadkernel/transformer.py\", line 28, in execute\n",
      "    result = eval(expression, namespace)\n",
      "  File \"transformer\", line 1, in <module>\n",
      "  File \"./cell-gen-vertexdata.py in pin: .gen_vertexdata.code\", line 4, in transform\n",
      "    data = np.zeros(N, VertexData.dtype)\n",
      "NameError: name 'VertexData' is not defined\n",
      "\n"
     ]
    },
    {
     "name": "stdout",
     "output_type": "stream",
     "text": [
      "*********** ERROR in transformer Seamless transformer: .gen_vertexdata: execution error **************\n"
     ]
    },
    {
     "name": "stderr",
     "output_type": "stream",
     "text": [
      "Traceback (most recent call last):\n",
      "  File \"/home/sjoerd/seamless/seamless/core/pythreadkernel/__init__.py\", line 173, in run\n",
      "    self.update(self.updated, self.semaphore)\n",
      "  File \"/home/sjoerd/seamless/seamless/core/pythreadkernel/transformer.py\", line 112, in update\n",
      "    raise Exception(msg)\n",
      "Exception: Traceback (most recent call last):\n",
      "  File \"/home/sjoerd/seamless/seamless/core/pythreadkernel/transformer.py\", line 28, in execute\n",
      "    result = eval(expression, namespace)\n",
      "  File \"transformer\", line 1, in <module>\n",
      "  File \"./cell-gen-vertexdata.py in pin: .gen_vertexdata.code\", line 4, in transform\n",
      "    data = np.zeros(N, VertexData.dtype)\n",
      "NameError: name 'VertexData' is not defined\n",
      "\n"
     ]
    },
    {
     "name": "stdout",
     "output_type": "stream",
     "text": [
      "*********** ERROR in transformer Seamless transformer: .gen_vertexdata: execution error **************\n"
     ]
    },
    {
     "name": "stderr",
     "output_type": "stream",
     "text": [
      "Traceback (most recent call last):\n",
      "  File \"/home/sjoerd/seamless/seamless/core/pythreadkernel/__init__.py\", line 173, in run\n",
      "    self.update(self.updated, self.semaphore)\n",
      "  File \"/home/sjoerd/seamless/seamless/core/pythreadkernel/transformer.py\", line 112, in update\n",
      "    raise Exception(msg)\n",
      "Exception: Traceback (most recent call last):\n",
      "  File \"/home/sjoerd/seamless/seamless/core/pythreadkernel/transformer.py\", line 28, in execute\n",
      "    result = eval(expression, namespace)\n",
      "  File \"transformer\", line 1, in <module>\n",
      "  File \"./cell-gen-vertexdata.py in pin: .gen_vertexdata.code\", line 4, in transform\n",
      "    data = np.zeros(N, VertexData.dtype)\n",
      "NameError: name 'VertexData' is not defined\n",
      "\n"
     ]
    },
    {
     "name": "stdout",
     "output_type": "stream",
     "text": [
      "*********** ERROR in transformer Seamless transformer: .gen_vertexdata: execution error **************\n"
     ]
    },
    {
     "name": "stderr",
     "output_type": "stream",
     "text": [
      "Traceback (most recent call last):\n",
      "  File \"/home/sjoerd/seamless/seamless/core/pythreadkernel/__init__.py\", line 173, in run\n",
      "    self.update(self.updated, self.semaphore)\n",
      "  File \"/home/sjoerd/seamless/seamless/core/pythreadkernel/transformer.py\", line 112, in update\n",
      "    raise Exception(msg)\n",
      "Exception: Traceback (most recent call last):\n",
      "  File \"/home/sjoerd/seamless/seamless/core/pythreadkernel/transformer.py\", line 28, in execute\n",
      "    result = eval(expression, namespace)\n",
      "  File \"transformer\", line 1, in <module>\n",
      "  File \"./cell-gen-vertexdata.py in pin: .gen_vertexdata.code\", line 4, in transform\n",
      "    data = np.zeros(N, VertexData.dtype)\n",
      "NameError: name 'VertexData' is not defined\n",
      "\n"
     ]
    },
    {
     "name": "stdout",
     "output_type": "stream",
     "text": [
      "*********** ERROR in transformer Seamless transformer: .gen_vertexdata: execution error **************\n"
     ]
    },
    {
     "name": "stderr",
     "output_type": "stream",
     "text": [
      "Traceback (most recent call last):\n",
      "  File \"/home/sjoerd/seamless/seamless/core/pythreadkernel/__init__.py\", line 173, in run\n",
      "    self.update(self.updated, self.semaphore)\n",
      "  File \"/home/sjoerd/seamless/seamless/core/pythreadkernel/transformer.py\", line 112, in update\n",
      "    raise Exception(msg)\n",
      "Exception: Traceback (most recent call last):\n",
      "  File \"/home/sjoerd/seamless/seamless/core/pythreadkernel/transformer.py\", line 28, in execute\n",
      "    result = eval(expression, namespace)\n",
      "  File \"transformer\", line 1, in <module>\n",
      "  File \"./cell-gen-vertexdata.py in pin: .gen_vertexdata.code\", line 4, in transform\n",
      "    data = np.zeros(N, VertexData.dtype)\n",
      "NameError: name 'VertexData' is not defined\n",
      "\n"
     ]
    },
    {
     "name": "stdout",
     "output_type": "stream",
     "text": [
      "*********** ERROR in transformer Seamless transformer: .gen_vertexdata: execution error **************\n"
     ]
    },
    {
     "name": "stderr",
     "output_type": "stream",
     "text": [
      "Traceback (most recent call last):\n",
      "  File \"/home/sjoerd/seamless/seamless/core/pythreadkernel/__init__.py\", line 173, in run\n",
      "    self.update(self.updated, self.semaphore)\n",
      "  File \"/home/sjoerd/seamless/seamless/core/pythreadkernel/transformer.py\", line 112, in update\n",
      "    raise Exception(msg)\n",
      "Exception: Traceback (most recent call last):\n",
      "  File \"/home/sjoerd/seamless/seamless/core/pythreadkernel/transformer.py\", line 28, in execute\n",
      "    result = eval(expression, namespace)\n",
      "  File \"transformer\", line 1, in <module>\n",
      "  File \"./cell-gen-vertexdata.py in pin: .gen_vertexdata.code\", line 4, in transform\n",
      "    data = np.zeros(N, VertexData.dtype)\n",
      "NameError: name 'VertexData' is not defined\n",
      "\n"
     ]
    },
    {
     "name": "stdout",
     "output_type": "stream",
     "text": [
      "*********** ERROR in transformer Seamless transformer: .gen_vertexdata: execution error **************\n"
     ]
    },
    {
     "name": "stderr",
     "output_type": "stream",
     "text": [
      "Traceback (most recent call last):\n",
      "  File \"/home/sjoerd/seamless/seamless/core/pythreadkernel/__init__.py\", line 173, in run\n",
      "    self.update(self.updated, self.semaphore)\n",
      "  File \"/home/sjoerd/seamless/seamless/core/pythreadkernel/transformer.py\", line 112, in update\n",
      "    raise Exception(msg)\n",
      "Exception: Traceback (most recent call last):\n",
      "  File \"/home/sjoerd/seamless/seamless/core/pythreadkernel/transformer.py\", line 28, in execute\n",
      "    result = eval(expression, namespace)\n",
      "  File \"transformer\", line 1, in <module>\n",
      "  File \"./cell-gen-vertexdata.py in pin: .gen_vertexdata.code\", line 4, in transform\n",
      "    data = np.zeros(N, VertexData.dtype)\n",
      "NameError: name 'VertexData' is not defined\n",
      "\n"
     ]
    },
    {
     "name": "stdout",
     "output_type": "stream",
     "text": [
      "*********** ERROR in transformer Seamless transformer: .gen_vertexdata: execution error **************\n"
     ]
    },
    {
     "name": "stderr",
     "output_type": "stream",
     "text": [
      "Traceback (most recent call last):\n",
      "  File \"/home/sjoerd/seamless/seamless/core/pythreadkernel/__init__.py\", line 173, in run\n",
      "    self.update(self.updated, self.semaphore)\n",
      "  File \"/home/sjoerd/seamless/seamless/core/pythreadkernel/transformer.py\", line 112, in update\n",
      "    raise Exception(msg)\n",
      "Exception: Traceback (most recent call last):\n",
      "  File \"/home/sjoerd/seamless/seamless/core/pythreadkernel/transformer.py\", line 28, in execute\n",
      "    result = eval(expression, namespace)\n",
      "  File \"transformer\", line 1, in <module>\n",
      "  File \"./cell-gen-vertexdata.py in pin: .gen_vertexdata.code\", line 4, in transform\n",
      "    data = np.zeros(N, VertexData.dtype)\n",
      "NameError: name 'VertexData' is not defined\n",
      "\n"
     ]
    },
    {
     "name": "stdout",
     "output_type": "stream",
     "text": [
      "*********** ERROR in transformer Seamless transformer: .gen_vertexdata: execution error **************\n"
     ]
    },
    {
     "name": "stderr",
     "output_type": "stream",
     "text": [
      "Traceback (most recent call last):\n",
      "  File \"/home/sjoerd/seamless/seamless/core/pythreadkernel/__init__.py\", line 173, in run\n",
      "    self.update(self.updated, self.semaphore)\n",
      "  File \"/home/sjoerd/seamless/seamless/core/pythreadkernel/transformer.py\", line 112, in update\n",
      "    raise Exception(msg)\n",
      "Exception: Traceback (most recent call last):\n",
      "  File \"/home/sjoerd/seamless/seamless/core/pythreadkernel/transformer.py\", line 28, in execute\n",
      "    result = eval(expression, namespace)\n",
      "  File \"transformer\", line 1, in <module>\n",
      "  File \"./cell-gen-vertexdata.py in pin: .gen_vertexdata.code\", line 4, in transform\n",
      "    data = np.zeros(N, VertexData.dtype)\n",
      "NameError: name 'VertexData' is not defined\n",
      "\n"
     ]
    },
    {
     "name": "stdout",
     "output_type": "stream",
     "text": [
      "*********** ERROR in transformer Seamless transformer: .gen_vertexdata: execution error **************\n"
     ]
    },
    {
     "name": "stderr",
     "output_type": "stream",
     "text": [
      "Traceback (most recent call last):\n",
      "  File \"/home/sjoerd/seamless/seamless/core/pythreadkernel/__init__.py\", line 173, in run\n",
      "    self.update(self.updated, self.semaphore)\n",
      "  File \"/home/sjoerd/seamless/seamless/core/pythreadkernel/transformer.py\", line 112, in update\n",
      "    raise Exception(msg)\n",
      "Exception: Traceback (most recent call last):\n",
      "  File \"/home/sjoerd/seamless/seamless/core/pythreadkernel/transformer.py\", line 28, in execute\n",
      "    result = eval(expression, namespace)\n",
      "  File \"transformer\", line 1, in <module>\n",
      "  File \"./cell-gen-vertexdata.py in pin: .gen_vertexdata.code\", line 4, in transform\n",
      "    data = np.zeros(N, VertexData.dtype)\n",
      "NameError: name 'VertexData' is not defined\n",
      "\n"
     ]
    },
    {
     "name": "stdout",
     "output_type": "stream",
     "text": [
      "*********** ERROR in transformer Seamless transformer: .gen_vertexdata: execution error **************\n"
     ]
    },
    {
     "name": "stderr",
     "output_type": "stream",
     "text": [
      "Traceback (most recent call last):\n",
      "  File \"/home/sjoerd/seamless/seamless/core/pythreadkernel/__init__.py\", line 173, in run\n",
      "    self.update(self.updated, self.semaphore)\n",
      "  File \"/home/sjoerd/seamless/seamless/core/pythreadkernel/transformer.py\", line 112, in update\n",
      "    raise Exception(msg)\n",
      "Exception: Traceback (most recent call last):\n",
      "  File \"/home/sjoerd/seamless/seamless/core/pythreadkernel/transformer.py\", line 28, in execute\n",
      "    result = eval(expression, namespace)\n",
      "  File \"transformer\", line 1, in <module>\n",
      "  File \"./cell-gen-vertexdata.py in pin: .gen_vertexdata.code\", line 4, in transform\n",
      "    data = np.zeros(N, VertexData.dtype)\n",
      "NameError: name 'VertexData' is not defined\n",
      "\n"
     ]
    },
    {
     "name": "stdout",
     "output_type": "stream",
     "text": [
      "*********** ERROR in transformer Seamless transformer: .gen_vertexdata: execution error **************\n"
     ]
    },
    {
     "name": "stderr",
     "output_type": "stream",
     "text": [
      "Traceback (most recent call last):\n",
      "  File \"/home/sjoerd/seamless/seamless/core/pythreadkernel/__init__.py\", line 173, in run\n",
      "    self.update(self.updated, self.semaphore)\n",
      "  File \"/home/sjoerd/seamless/seamless/core/pythreadkernel/transformer.py\", line 112, in update\n",
      "    raise Exception(msg)\n",
      "Exception: Traceback (most recent call last):\n",
      "  File \"/home/sjoerd/seamless/seamless/core/pythreadkernel/transformer.py\", line 28, in execute\n",
      "    result = eval(expression, namespace)\n",
      "  File \"transformer\", line 1, in <module>\n",
      "  File \"./cell-gen-vertexdata.py in pin: .gen_vertexdata.code\", line 4, in transform\n",
      "    data = np.zeros(N, VertexData.dtype)\n",
      "NameError: name 'VertexData' is not defined\n",
      "\n"
     ]
    },
    {
     "name": "stdout",
     "output_type": "stream",
     "text": [
      "*********** ERROR in transformer Seamless transformer: .gen_vertexdata: execution error **************\n"
     ]
    },
    {
     "name": "stderr",
     "output_type": "stream",
     "text": [
      "Traceback (most recent call last):\n",
      "  File \"/home/sjoerd/seamless/seamless/core/pythreadkernel/__init__.py\", line 173, in run\n",
      "    self.update(self.updated, self.semaphore)\n",
      "  File \"/home/sjoerd/seamless/seamless/core/pythreadkernel/transformer.py\", line 112, in update\n",
      "    raise Exception(msg)\n",
      "Exception: Traceback (most recent call last):\n",
      "  File \"/home/sjoerd/seamless/seamless/core/pythreadkernel/transformer.py\", line 28, in execute\n",
      "    result = eval(expression, namespace)\n",
      "  File \"transformer\", line 1, in <module>\n",
      "  File \"./cell-gen-vertexdata.py in pin: .gen_vertexdata.code\", line 4, in transform\n",
      "    data = np.zeros(N, VertexData.dtype)\n",
      "NameError: name 'VertexData' is not defined\n",
      "\n"
     ]
    },
    {
     "name": "stdout",
     "output_type": "stream",
     "text": [
      "*********** ERROR in transformer Seamless transformer: .gen_vertexdata: execution error **************\n"
     ]
    },
    {
     "name": "stderr",
     "output_type": "stream",
     "text": [
      "Traceback (most recent call last):\n",
      "  File \"/home/sjoerd/seamless/seamless/core/pythreadkernel/__init__.py\", line 173, in run\n",
      "    self.update(self.updated, self.semaphore)\n",
      "  File \"/home/sjoerd/seamless/seamless/core/pythreadkernel/transformer.py\", line 112, in update\n",
      "    raise Exception(msg)\n",
      "Exception: Traceback (most recent call last):\n",
      "  File \"/home/sjoerd/seamless/seamless/core/pythreadkernel/transformer.py\", line 28, in execute\n",
      "    result = eval(expression, namespace)\n",
      "  File \"transformer\", line 1, in <module>\n",
      "  File \"./cell-gen-vertexdata.py in pin: .gen_vertexdata.code\", line 4, in transform\n",
      "    data = np.zeros(N, VertexData.dtype)\n",
      "NameError: name 'VertexData' is not defined\n",
      "\n"
     ]
    },
    {
     "name": "stdout",
     "output_type": "stream",
     "text": [
      "*********** ERROR in transformer Seamless transformer: .gen_vertexdata: execution error **************\n"
     ]
    },
    {
     "name": "stderr",
     "output_type": "stream",
     "text": [
      "Traceback (most recent call last):\n",
      "  File \"/home/sjoerd/seamless/seamless/core/pythreadkernel/__init__.py\", line 173, in run\n",
      "    self.update(self.updated, self.semaphore)\n",
      "  File \"/home/sjoerd/seamless/seamless/core/pythreadkernel/transformer.py\", line 112, in update\n",
      "    raise Exception(msg)\n",
      "Exception: Traceback (most recent call last):\n",
      "  File \"/home/sjoerd/seamless/seamless/core/pythreadkernel/transformer.py\", line 28, in execute\n",
      "    result = eval(expression, namespace)\n",
      "  File \"transformer\", line 1, in <module>\n",
      "  File \"./cell-gen-vertexdata.py in pin: .gen_vertexdata.code\", line 4, in transform\n",
      "    data = np.zeros(N, VertexData.dtype)\n",
      "NameError: name 'VertexData' is not defined\n",
      "\n"
     ]
    },
    {
     "name": "stdout",
     "output_type": "stream",
     "text": [
      "*********** ERROR in transformer Seamless transformer: .gen_vertexdata: execution error **************\n"
     ]
    },
    {
     "name": "stderr",
     "output_type": "stream",
     "text": [
      "Traceback (most recent call last):\n",
      "  File \"/home/sjoerd/seamless/seamless/core/pythreadkernel/__init__.py\", line 173, in run\n",
      "    self.update(self.updated, self.semaphore)\n",
      "  File \"/home/sjoerd/seamless/seamless/core/pythreadkernel/transformer.py\", line 112, in update\n",
      "    raise Exception(msg)\n",
      "Exception: Traceback (most recent call last):\n",
      "  File \"/home/sjoerd/seamless/seamless/core/pythreadkernel/transformer.py\", line 28, in execute\n",
      "    result = eval(expression, namespace)\n",
      "  File \"transformer\", line 1, in <module>\n",
      "  File \"./cell-gen-vertexdata.py in pin: .gen_vertexdata.code\", line 4, in transform\n",
      "    data = np.zeros(N, VertexData.dtype)\n",
      "NameError: name 'VertexData' is not defined\n",
      "\n"
     ]
    },
    {
     "name": "stdout",
     "output_type": "stream",
     "text": [
      "*********** ERROR in transformer Seamless transformer: .gen_vertexdata: execution error **************\n"
     ]
    },
    {
     "name": "stderr",
     "output_type": "stream",
     "text": [
      "Traceback (most recent call last):\n",
      "  File \"/home/sjoerd/seamless/seamless/core/pythreadkernel/__init__.py\", line 173, in run\n",
      "    self.update(self.updated, self.semaphore)\n",
      "  File \"/home/sjoerd/seamless/seamless/core/pythreadkernel/transformer.py\", line 112, in update\n",
      "    raise Exception(msg)\n",
      "Exception: Traceback (most recent call last):\n",
      "  File \"/home/sjoerd/seamless/seamless/core/pythreadkernel/transformer.py\", line 28, in execute\n",
      "    result = eval(expression, namespace)\n",
      "  File \"transformer\", line 1, in <module>\n",
      "  File \"./cell-gen-vertexdata.py in pin: .gen_vertexdata.code\", line 4, in transform\n",
      "    data = np.zeros(N, VertexData.dtype)\n",
      "NameError: name 'VertexData' is not defined\n",
      "\n"
     ]
    },
    {
     "name": "stdout",
     "output_type": "stream",
     "text": [
      "*********** ERROR in transformer Seamless transformer: .gen_vertexdata: execution error **************\n"
     ]
    },
    {
     "name": "stderr",
     "output_type": "stream",
     "text": [
      "Traceback (most recent call last):\n",
      "  File \"/home/sjoerd/seamless/seamless/core/pythreadkernel/__init__.py\", line 173, in run\n",
      "    self.update(self.updated, self.semaphore)\n",
      "  File \"/home/sjoerd/seamless/seamless/core/pythreadkernel/transformer.py\", line 112, in update\n",
      "    raise Exception(msg)\n",
      "Exception: Traceback (most recent call last):\n",
      "  File \"/home/sjoerd/seamless/seamless/core/pythreadkernel/transformer.py\", line 28, in execute\n",
      "    result = eval(expression, namespace)\n",
      "  File \"transformer\", line 1, in <module>\n",
      "  File \"./cell-gen-vertexdata.py in pin: .gen_vertexdata.code\", line 4, in transform\n",
      "    data = np.zeros(N, VertexData.dtype)\n",
      "NameError: name 'VertexData' is not defined\n",
      "\n"
     ]
    },
    {
     "name": "stdout",
     "output_type": "stream",
     "text": [
      "*********** ERROR in transformer Seamless transformer: .gen_vertexdata: execution error **************\n"
     ]
    },
    {
     "name": "stderr",
     "output_type": "stream",
     "text": [
      "Traceback (most recent call last):\n",
      "  File \"/home/sjoerd/seamless/seamless/core/pythreadkernel/__init__.py\", line 173, in run\n",
      "    self.update(self.updated, self.semaphore)\n",
      "  File \"/home/sjoerd/seamless/seamless/core/pythreadkernel/transformer.py\", line 112, in update\n",
      "    raise Exception(msg)\n",
      "Exception: Traceback (most recent call last):\n",
      "  File \"/home/sjoerd/seamless/seamless/core/pythreadkernel/transformer.py\", line 28, in execute\n",
      "    result = eval(expression, namespace)\n",
      "  File \"transformer\", line 1, in <module>\n",
      "  File \"./cell-gen-vertexdata.py in pin: .gen_vertexdata.code\", line 4, in transform\n",
      "    data = np.zeros(N, VertexData.dtype)\n",
      "NameError: name 'VertexData' is not defined\n",
      "\n"
     ]
    },
    {
     "name": "stdout",
     "output_type": "stream",
     "text": [
      "*********** ERROR in transformer Seamless transformer: .gen_vertexdata: execution error **************\n"
     ]
    },
    {
     "name": "stderr",
     "output_type": "stream",
     "text": [
      "Traceback (most recent call last):\n",
      "  File \"/home/sjoerd/seamless/seamless/core/pythreadkernel/__init__.py\", line 173, in run\n",
      "    self.update(self.updated, self.semaphore)\n",
      "  File \"/home/sjoerd/seamless/seamless/core/pythreadkernel/transformer.py\", line 112, in update\n",
      "    raise Exception(msg)\n",
      "Exception: Traceback (most recent call last):\n",
      "  File \"/home/sjoerd/seamless/seamless/core/pythreadkernel/transformer.py\", line 28, in execute\n",
      "    result = eval(expression, namespace)\n",
      "  File \"transformer\", line 1, in <module>\n",
      "  File \"./cell-gen-vertexdata.py in pin: .gen_vertexdata.code\", line 4, in transform\n",
      "    data = np.zeros(N, VertexData.dtype)\n",
      "NameError: name 'VertexData' is not defined\n",
      "\n"
     ]
    },
    {
     "name": "stdout",
     "output_type": "stream",
     "text": [
      "*********** ERROR in transformer Seamless transformer: .gen_vertexdata: execution error **************\n"
     ]
    },
    {
     "name": "stderr",
     "output_type": "stream",
     "text": [
      "Traceback (most recent call last):\n",
      "  File \"/home/sjoerd/seamless/seamless/core/pythreadkernel/__init__.py\", line 173, in run\n",
      "    self.update(self.updated, self.semaphore)\n",
      "  File \"/home/sjoerd/seamless/seamless/core/pythreadkernel/transformer.py\", line 112, in update\n",
      "    raise Exception(msg)\n",
      "Exception: Traceback (most recent call last):\n",
      "  File \"/home/sjoerd/seamless/seamless/core/pythreadkernel/transformer.py\", line 28, in execute\n",
      "    result = eval(expression, namespace)\n",
      "  File \"transformer\", line 1, in <module>\n",
      "  File \"./cell-gen-vertexdata.py in pin: .gen_vertexdata.code\", line 4, in transform\n",
      "    data = np.zeros(N, VertexData.dtype)\n",
      "NameError: name 'VertexData' is not defined\n",
      "\n"
     ]
    },
    {
     "name": "stdout",
     "output_type": "stream",
     "text": [
      "*********** ERROR in transformer Seamless transformer: .gen_vertexdata: execution error **************\n"
     ]
    },
    {
     "name": "stderr",
     "output_type": "stream",
     "text": [
      "Traceback (most recent call last):\n",
      "  File \"/home/sjoerd/seamless/seamless/core/pythreadkernel/__init__.py\", line 173, in run\n",
      "    self.update(self.updated, self.semaphore)\n",
      "  File \"/home/sjoerd/seamless/seamless/core/pythreadkernel/transformer.py\", line 112, in update\n",
      "    raise Exception(msg)\n",
      "Exception: Traceback (most recent call last):\n",
      "  File \"/home/sjoerd/seamless/seamless/core/pythreadkernel/transformer.py\", line 28, in execute\n",
      "    result = eval(expression, namespace)\n",
      "  File \"transformer\", line 1, in <module>\n",
      "  File \"./cell-gen-vertexdata.py in pin: .gen_vertexdata.code\", line 4, in transform\n",
      "    data = np.zeros(N, VertexData.dtype)\n",
      "NameError: name 'VertexData' is not defined\n",
      "\n"
     ]
    },
    {
     "name": "stdout",
     "output_type": "stream",
     "text": [
      "*********** ERROR in transformer Seamless transformer: .gen_vertexdata: execution error **************\n"
     ]
    },
    {
     "name": "stderr",
     "output_type": "stream",
     "text": [
      "Traceback (most recent call last):\n",
      "  File \"/home/sjoerd/seamless/seamless/core/pythreadkernel/__init__.py\", line 173, in run\n",
      "    self.update(self.updated, self.semaphore)\n",
      "  File \"/home/sjoerd/seamless/seamless/core/pythreadkernel/transformer.py\", line 112, in update\n",
      "    raise Exception(msg)\n",
      "Exception: Traceback (most recent call last):\n",
      "  File \"/home/sjoerd/seamless/seamless/core/pythreadkernel/transformer.py\", line 28, in execute\n",
      "    result = eval(expression, namespace)\n",
      "  File \"transformer\", line 1, in <module>\n",
      "  File \"./cell-gen-vertexdata.py in pin: .gen_vertexdata.code\", line 4, in transform\n",
      "    data = np.zeros(N, VertexData.dtype)\n",
      "NameError: name 'VertexData' is not defined\n",
      "\n"
     ]
    },
    {
     "name": "stdout",
     "output_type": "stream",
     "text": [
      "*********** ERROR in transformer Seamless transformer: .gen_vertexdata: execution error **************\n"
     ]
    },
    {
     "name": "stderr",
     "output_type": "stream",
     "text": [
      "Traceback (most recent call last):\n",
      "  File \"/home/sjoerd/seamless/seamless/core/pythreadkernel/__init__.py\", line 173, in run\n",
      "    self.update(self.updated, self.semaphore)\n",
      "  File \"/home/sjoerd/seamless/seamless/core/pythreadkernel/transformer.py\", line 112, in update\n",
      "    raise Exception(msg)\n",
      "Exception: Traceback (most recent call last):\n",
      "  File \"/home/sjoerd/seamless/seamless/core/pythreadkernel/transformer.py\", line 28, in execute\n",
      "    result = eval(expression, namespace)\n",
      "  File \"transformer\", line 1, in <module>\n",
      "  File \"./cell-gen-vertexdata.py in pin: .gen_vertexdata.code\", line 4, in transform\n",
      "    data = np.zeros(N, VertexData.dtype)\n",
      "NameError: name 'VertexData' is not defined\n",
      "\n"
     ]
    },
    {
     "name": "stdout",
     "output_type": "stream",
     "text": [
      "*********** ERROR in transformer Seamless transformer: .gen_vertexdata: execution error **************\n"
     ]
    },
    {
     "name": "stderr",
     "output_type": "stream",
     "text": [
      "Traceback (most recent call last):\n",
      "  File \"/home/sjoerd/seamless/seamless/core/pythreadkernel/__init__.py\", line 173, in run\n",
      "    self.update(self.updated, self.semaphore)\n",
      "  File \"/home/sjoerd/seamless/seamless/core/pythreadkernel/transformer.py\", line 112, in update\n",
      "    raise Exception(msg)\n",
      "Exception: Traceback (most recent call last):\n",
      "  File \"/home/sjoerd/seamless/seamless/core/pythreadkernel/transformer.py\", line 28, in execute\n",
      "    result = eval(expression, namespace)\n",
      "  File \"transformer\", line 1, in <module>\n",
      "  File \"./cell-gen-vertexdata.py in pin: .gen_vertexdata.code\", line 4, in transform\n",
      "    data = np.zeros(N, VertexData.dtype)\n",
      "NameError: name 'VertexData' is not defined\n",
      "\n"
     ]
    },
    {
     "name": "stdout",
     "output_type": "stream",
     "text": [
      "*********** ERROR in transformer Seamless transformer: .gen_vertexdata: execution error **************\n"
     ]
    },
    {
     "name": "stderr",
     "output_type": "stream",
     "text": [
      "Traceback (most recent call last):\n",
      "  File \"/home/sjoerd/seamless/seamless/core/pythreadkernel/__init__.py\", line 173, in run\n",
      "    self.update(self.updated, self.semaphore)\n",
      "  File \"/home/sjoerd/seamless/seamless/core/pythreadkernel/transformer.py\", line 112, in update\n",
      "    raise Exception(msg)\n",
      "Exception: Traceback (most recent call last):\n",
      "  File \"/home/sjoerd/seamless/seamless/core/pythreadkernel/transformer.py\", line 28, in execute\n",
      "    result = eval(expression, namespace)\n",
      "  File \"transformer\", line 1, in <module>\n",
      "  File \"./cell-gen-vertexdata.py in pin: .gen_vertexdata.code\", line 4, in transform\n",
      "    data = np.zeros(N, VertexData.dtype)\n",
      "NameError: name 'VertexData' is not defined\n",
      "\n"
     ]
    },
    {
     "name": "stdout",
     "output_type": "stream",
     "text": [
      "*********** ERROR in transformer Seamless transformer: .gen_vertexdata: execution error **************\n"
     ]
    },
    {
     "name": "stderr",
     "output_type": "stream",
     "text": [
      "Traceback (most recent call last):\n",
      "  File \"/home/sjoerd/seamless/seamless/core/pythreadkernel/__init__.py\", line 173, in run\n",
      "    self.update(self.updated, self.semaphore)\n",
      "  File \"/home/sjoerd/seamless/seamless/core/pythreadkernel/transformer.py\", line 112, in update\n",
      "    raise Exception(msg)\n",
      "Exception: Traceback (most recent call last):\n",
      "  File \"/home/sjoerd/seamless/seamless/core/pythreadkernel/transformer.py\", line 28, in execute\n",
      "    result = eval(expression, namespace)\n",
      "  File \"transformer\", line 1, in <module>\n",
      "  File \"./cell-gen-vertexdata.py in pin: .gen_vertexdata.code\", line 4, in transform\n",
      "    data = np.zeros(N, VertexData.dtype)\n",
      "NameError: name 'VertexData' is not defined\n",
      "\n"
     ]
    },
    {
     "name": "stdout",
     "output_type": "stream",
     "text": [
      "*********** ERROR in transformer Seamless transformer: .gen_vertexdata: execution error **************\n"
     ]
    },
    {
     "name": "stderr",
     "output_type": "stream",
     "text": [
      "Traceback (most recent call last):\n",
      "  File \"/home/sjoerd/seamless/seamless/core/pythreadkernel/__init__.py\", line 173, in run\n",
      "    self.update(self.updated, self.semaphore)\n",
      "  File \"/home/sjoerd/seamless/seamless/core/pythreadkernel/transformer.py\", line 112, in update\n",
      "    raise Exception(msg)\n",
      "Exception: Traceback (most recent call last):\n",
      "  File \"/home/sjoerd/seamless/seamless/core/pythreadkernel/transformer.py\", line 28, in execute\n",
      "    result = eval(expression, namespace)\n",
      "  File \"transformer\", line 1, in <module>\n",
      "  File \"./cell-gen-vertexdata.py in pin: .gen_vertexdata.code\", line 4, in transform\n",
      "    data = np.zeros(N, VertexData.dtype)\n",
      "NameError: name 'VertexData' is not defined\n",
      "\n"
     ]
    },
    {
     "name": "stdout",
     "output_type": "stream",
     "text": [
      "*********** ERROR in transformer Seamless transformer: .gen_vertexdata: execution error **************\n"
     ]
    },
    {
     "name": "stderr",
     "output_type": "stream",
     "text": [
      "Traceback (most recent call last):\n",
      "  File \"/home/sjoerd/seamless/seamless/core/pythreadkernel/__init__.py\", line 173, in run\n",
      "    self.update(self.updated, self.semaphore)\n",
      "  File \"/home/sjoerd/seamless/seamless/core/pythreadkernel/transformer.py\", line 112, in update\n",
      "    raise Exception(msg)\n",
      "Exception: Traceback (most recent call last):\n",
      "  File \"/home/sjoerd/seamless/seamless/core/pythreadkernel/transformer.py\", line 28, in execute\n",
      "    result = eval(expression, namespace)\n",
      "  File \"transformer\", line 1, in <module>\n",
      "  File \"./cell-gen-vertexdata.py in pin: .gen_vertexdata.code\", line 4, in transform\n",
      "    data = np.zeros(N, VertexData.dtype)\n",
      "NameError: name 'VertexData' is not defined\n",
      "\n"
     ]
    },
    {
     "name": "stdout",
     "output_type": "stream",
     "text": [
      "*********** ERROR in transformer Seamless transformer: .gen_vertexdata: execution error **************\n"
     ]
    },
    {
     "name": "stderr",
     "output_type": "stream",
     "text": [
      "Traceback (most recent call last):\n",
      "  File \"/home/sjoerd/seamless/seamless/core/pythreadkernel/__init__.py\", line 173, in run\n",
      "    self.update(self.updated, self.semaphore)\n",
      "  File \"/home/sjoerd/seamless/seamless/core/pythreadkernel/transformer.py\", line 112, in update\n",
      "    raise Exception(msg)\n",
      "Exception: Traceback (most recent call last):\n",
      "  File \"/home/sjoerd/seamless/seamless/core/pythreadkernel/transformer.py\", line 28, in execute\n",
      "    result = eval(expression, namespace)\n",
      "  File \"transformer\", line 1, in <module>\n",
      "  File \"./cell-gen-vertexdata.py in pin: .gen_vertexdata.code\", line 4, in transform\n",
      "    data = np.zeros(N, VertexData.dtype)\n",
      "NameError: name 'VertexData' is not defined\n",
      "\n"
     ]
    },
    {
     "name": "stdout",
     "output_type": "stream",
     "text": [
      "*********** ERROR in transformer Seamless transformer: .gen_vertexdata: execution error **************\n"
     ]
    },
    {
     "name": "stderr",
     "output_type": "stream",
     "text": [
      "Traceback (most recent call last):\n",
      "  File \"/home/sjoerd/seamless/seamless/core/pythreadkernel/__init__.py\", line 173, in run\n",
      "    self.update(self.updated, self.semaphore)\n",
      "  File \"/home/sjoerd/seamless/seamless/core/pythreadkernel/transformer.py\", line 112, in update\n",
      "    raise Exception(msg)\n",
      "Exception: Traceback (most recent call last):\n",
      "  File \"/home/sjoerd/seamless/seamless/core/pythreadkernel/transformer.py\", line 28, in execute\n",
      "    result = eval(expression, namespace)\n",
      "  File \"transformer\", line 1, in <module>\n",
      "  File \"./cell-gen-vertexdata.py in pin: .gen_vertexdata.code\", line 4, in transform\n",
      "    data = np.zeros(N, VertexData.dtype)\n",
      "NameError: name 'VertexData' is not defined\n",
      "\n"
     ]
    },
    {
     "name": "stdout",
     "output_type": "stream",
     "text": [
      "*********** ERROR in transformer Seamless transformer: .gen_vertexdata: execution error **************\n"
     ]
    },
    {
     "name": "stderr",
     "output_type": "stream",
     "text": [
      "Traceback (most recent call last):\n",
      "  File \"/home/sjoerd/seamless/seamless/core/pythreadkernel/__init__.py\", line 173, in run\n",
      "    self.update(self.updated, self.semaphore)\n",
      "  File \"/home/sjoerd/seamless/seamless/core/pythreadkernel/transformer.py\", line 112, in update\n",
      "    raise Exception(msg)\n",
      "Exception: Traceback (most recent call last):\n",
      "  File \"/home/sjoerd/seamless/seamless/core/pythreadkernel/transformer.py\", line 28, in execute\n",
      "    result = eval(expression, namespace)\n",
      "  File \"transformer\", line 1, in <module>\n",
      "  File \"./cell-gen-vertexdata.py in pin: .gen_vertexdata.code\", line 4, in transform\n",
      "    data = np.zeros(N, VertexData.dtype)\n",
      "NameError: name 'VertexData' is not defined\n",
      "\n"
     ]
    },
    {
     "name": "stdout",
     "output_type": "stream",
     "text": [
      "*********** ERROR in transformer Seamless transformer: .gen_vertexdata: execution error **************\n"
     ]
    },
    {
     "name": "stderr",
     "output_type": "stream",
     "text": [
      "Traceback (most recent call last):\n",
      "  File \"/home/sjoerd/seamless/seamless/core/pythreadkernel/__init__.py\", line 173, in run\n",
      "    self.update(self.updated, self.semaphore)\n",
      "  File \"/home/sjoerd/seamless/seamless/core/pythreadkernel/transformer.py\", line 112, in update\n",
      "    raise Exception(msg)\n",
      "Exception: Traceback (most recent call last):\n",
      "  File \"/home/sjoerd/seamless/seamless/core/pythreadkernel/transformer.py\", line 28, in execute\n",
      "    result = eval(expression, namespace)\n",
      "  File \"transformer\", line 1, in <module>\n",
      "  File \"./cell-gen-vertexdata.py in pin: .gen_vertexdata.code\", line 4, in transform\n",
      "    data = np.zeros(N, VertexData.dtype)\n",
      "NameError: name 'VertexData' is not defined\n",
      "\n"
     ]
    },
    {
     "name": "stdout",
     "output_type": "stream",
     "text": [
      "*********** ERROR in transformer Seamless transformer: .gen_vertexdata: execution error **************\n"
     ]
    },
    {
     "name": "stderr",
     "output_type": "stream",
     "text": [
      "Traceback (most recent call last):\n",
      "  File \"/home/sjoerd/seamless/seamless/core/pythreadkernel/__init__.py\", line 173, in run\n",
      "    self.update(self.updated, self.semaphore)\n",
      "  File \"/home/sjoerd/seamless/seamless/core/pythreadkernel/transformer.py\", line 112, in update\n",
      "    raise Exception(msg)\n",
      "Exception: Traceback (most recent call last):\n",
      "  File \"/home/sjoerd/seamless/seamless/core/pythreadkernel/transformer.py\", line 28, in execute\n",
      "    result = eval(expression, namespace)\n",
      "  File \"transformer\", line 1, in <module>\n",
      "  File \"./cell-gen-vertexdata.py in pin: .gen_vertexdata.code\", line 4, in transform\n",
      "    data = np.zeros(N, VertexData.dtype)\n",
      "NameError: name 'VertexData' is not defined\n",
      "\n"
     ]
    },
    {
     "name": "stdout",
     "output_type": "stream",
     "text": [
      "*********** ERROR in transformer Seamless transformer: .gen_vertexdata: execution error **************\n"
     ]
    },
    {
     "name": "stderr",
     "output_type": "stream",
     "text": [
      "Traceback (most recent call last):\n",
      "  File \"/home/sjoerd/seamless/seamless/core/pythreadkernel/__init__.py\", line 173, in run\n",
      "    self.update(self.updated, self.semaphore)\n",
      "  File \"/home/sjoerd/seamless/seamless/core/pythreadkernel/transformer.py\", line 112, in update\n",
      "    raise Exception(msg)\n",
      "Exception: Traceback (most recent call last):\n",
      "  File \"/home/sjoerd/seamless/seamless/core/pythreadkernel/transformer.py\", line 28, in execute\n",
      "    result = eval(expression, namespace)\n",
      "  File \"transformer\", line 1, in <module>\n",
      "  File \"./cell-gen-vertexdata.py in pin: .gen_vertexdata.code\", line 4, in transform\n",
      "    data = np.zeros(N, VertexData.dtype)\n",
      "NameError: name 'VertexData' is not defined\n",
      "\n"
     ]
    },
    {
     "name": "stdout",
     "output_type": "stream",
     "text": [
      "*********** ERROR in transformer Seamless transformer: .gen_vertexdata: execution error **************\n"
     ]
    },
    {
     "name": "stderr",
     "output_type": "stream",
     "text": [
      "Traceback (most recent call last):\n",
      "  File \"/home/sjoerd/seamless/seamless/core/pythreadkernel/__init__.py\", line 173, in run\n",
      "    self.update(self.updated, self.semaphore)\n",
      "  File \"/home/sjoerd/seamless/seamless/core/pythreadkernel/transformer.py\", line 112, in update\n",
      "    raise Exception(msg)\n",
      "Exception: Traceback (most recent call last):\n",
      "  File \"/home/sjoerd/seamless/seamless/core/pythreadkernel/transformer.py\", line 28, in execute\n",
      "    result = eval(expression, namespace)\n",
      "  File \"transformer\", line 1, in <module>\n",
      "  File \"./cell-gen-vertexdata.py in pin: .gen_vertexdata.code\", line 4, in transform\n",
      "    data = np.zeros(N, VertexData.dtype)\n",
      "NameError: name 'VertexData' is not defined\n",
      "\n"
     ]
    },
    {
     "name": "stdout",
     "output_type": "stream",
     "text": [
      "*********** ERROR in transformer Seamless transformer: .gen_vertexdata: execution error **************\n"
     ]
    },
    {
     "name": "stderr",
     "output_type": "stream",
     "text": [
      "Traceback (most recent call last):\n",
      "  File \"/home/sjoerd/seamless/seamless/core/pythreadkernel/__init__.py\", line 173, in run\n",
      "    self.update(self.updated, self.semaphore)\n",
      "  File \"/home/sjoerd/seamless/seamless/core/pythreadkernel/transformer.py\", line 112, in update\n",
      "    raise Exception(msg)\n",
      "Exception: Traceback (most recent call last):\n",
      "  File \"/home/sjoerd/seamless/seamless/core/pythreadkernel/transformer.py\", line 28, in execute\n",
      "    result = eval(expression, namespace)\n",
      "  File \"transformer\", line 1, in <module>\n",
      "  File \"./cell-gen-vertexdata.py in pin: .gen_vertexdata.code\", line 4, in transform\n",
      "    data = np.zeros(N, VertexData.dtype)\n",
      "NameError: name 'VertexData' is not defined\n",
      "\n"
     ]
    },
    {
     "name": "stdout",
     "output_type": "stream",
     "text": [
      "*********** ERROR in transformer Seamless transformer: .gen_vertexdata: execution error **************\n"
     ]
    },
    {
     "name": "stderr",
     "output_type": "stream",
     "text": [
      "Traceback (most recent call last):\n",
      "  File \"/home/sjoerd/seamless/seamless/core/pythreadkernel/__init__.py\", line 173, in run\n",
      "    self.update(self.updated, self.semaphore)\n",
      "  File \"/home/sjoerd/seamless/seamless/core/pythreadkernel/transformer.py\", line 112, in update\n",
      "    raise Exception(msg)\n",
      "Exception: Traceback (most recent call last):\n",
      "  File \"/home/sjoerd/seamless/seamless/core/pythreadkernel/transformer.py\", line 28, in execute\n",
      "    result = eval(expression, namespace)\n",
      "  File \"transformer\", line 1, in <module>\n",
      "  File \"./cell-gen-vertexdata.py in pin: .gen_vertexdata.code\", line 4, in transform\n",
      "    data = np.zeros(N, VertexData.dtype)\n",
      "NameError: name 'VertexData' is not defined\n",
      "\n"
     ]
    },
    {
     "name": "stdout",
     "output_type": "stream",
     "text": [
      "*********** ERROR in transformer Seamless transformer: .gen_vertexdata: execution error **************\n"
     ]
    },
    {
     "name": "stderr",
     "output_type": "stream",
     "text": [
      "Traceback (most recent call last):\n",
      "  File \"/home/sjoerd/seamless/seamless/core/pythreadkernel/__init__.py\", line 173, in run\n",
      "    self.update(self.updated, self.semaphore)\n",
      "  File \"/home/sjoerd/seamless/seamless/core/pythreadkernel/transformer.py\", line 112, in update\n",
      "    raise Exception(msg)\n",
      "Exception: Traceback (most recent call last):\n",
      "  File \"/home/sjoerd/seamless/seamless/core/pythreadkernel/transformer.py\", line 28, in execute\n",
      "    result = eval(expression, namespace)\n",
      "  File \"transformer\", line 1, in <module>\n",
      "  File \"./cell-gen-vertexdata.py in pin: .gen_vertexdata.code\", line 4, in transform\n",
      "    data = np.zeros(N, VertexData.dtype)\n",
      "NameError: name 'VertexData' is not defined\n",
      "\n"
     ]
    },
    {
     "name": "stdout",
     "output_type": "stream",
     "text": [
      "*********** ERROR in transformer Seamless transformer: .gen_vertexdata: execution error **************\n"
     ]
    },
    {
     "name": "stderr",
     "output_type": "stream",
     "text": [
      "Traceback (most recent call last):\n",
      "  File \"/home/sjoerd/seamless/seamless/core/pythreadkernel/__init__.py\", line 173, in run\n",
      "    self.update(self.updated, self.semaphore)\n",
      "  File \"/home/sjoerd/seamless/seamless/core/pythreadkernel/transformer.py\", line 112, in update\n",
      "    raise Exception(msg)\n",
      "Exception: Traceback (most recent call last):\n",
      "  File \"/home/sjoerd/seamless/seamless/core/pythreadkernel/transformer.py\", line 28, in execute\n",
      "    result = eval(expression, namespace)\n",
      "  File \"transformer\", line 1, in <module>\n",
      "  File \"./cell-gen-vertexdata.py in pin: .gen_vertexdata.code\", line 4, in transform\n",
      "    data = np.zeros(N, VertexData.dtype)\n",
      "NameError: name 'VertexData' is not defined\n",
      "\n"
     ]
    },
    {
     "name": "stdout",
     "output_type": "stream",
     "text": [
      "*********** ERROR in transformer Seamless transformer: .gen_vertexdata: execution error **************\n"
     ]
    },
    {
     "name": "stderr",
     "output_type": "stream",
     "text": [
      "Traceback (most recent call last):\n",
      "  File \"/home/sjoerd/seamless/seamless/core/pythreadkernel/__init__.py\", line 173, in run\n",
      "    self.update(self.updated, self.semaphore)\n",
      "  File \"/home/sjoerd/seamless/seamless/core/pythreadkernel/transformer.py\", line 112, in update\n",
      "    raise Exception(msg)\n",
      "Exception: Traceback (most recent call last):\n",
      "  File \"/home/sjoerd/seamless/seamless/core/pythreadkernel/transformer.py\", line 28, in execute\n",
      "    result = eval(expression, namespace)\n",
      "  File \"transformer\", line 1, in <module>\n",
      "  File \"./cell-gen-vertexdata.py in pin: .gen_vertexdata.code\", line 4, in transform\n",
      "    data = np.zeros(N, VertexData.dtype)\n",
      "NameError: name 'VertexData' is not defined\n",
      "\n"
     ]
    },
    {
     "name": "stdout",
     "output_type": "stream",
     "text": [
      "*********** ERROR in transformer Seamless transformer: .gen_vertexdata: execution error **************\n"
     ]
    },
    {
     "name": "stderr",
     "output_type": "stream",
     "text": [
      "Traceback (most recent call last):\n",
      "  File \"/home/sjoerd/seamless/seamless/core/pythreadkernel/__init__.py\", line 173, in run\n",
      "    self.update(self.updated, self.semaphore)\n",
      "  File \"/home/sjoerd/seamless/seamless/core/pythreadkernel/transformer.py\", line 112, in update\n",
      "    raise Exception(msg)\n",
      "Exception: Traceback (most recent call last):\n",
      "  File \"/home/sjoerd/seamless/seamless/core/pythreadkernel/transformer.py\", line 28, in execute\n",
      "    result = eval(expression, namespace)\n",
      "  File \"transformer\", line 1, in <module>\n",
      "  File \"./cell-gen-vertexdata.py in pin: .gen_vertexdata.code\", line 4, in transform\n",
      "    data = np.zeros(N, VertexData.dtype)\n",
      "NameError: name 'VertexData' is not defined\n",
      "\n"
     ]
    },
    {
     "name": "stdout",
     "output_type": "stream",
     "text": [
      "*********** ERROR in transformer Seamless transformer: .gen_vertexdata: execution error **************\n"
     ]
    },
    {
     "name": "stderr",
     "output_type": "stream",
     "text": [
      "Traceback (most recent call last):\n",
      "  File \"/home/sjoerd/seamless/seamless/core/pythreadkernel/__init__.py\", line 173, in run\n",
      "    self.update(self.updated, self.semaphore)\n",
      "  File \"/home/sjoerd/seamless/seamless/core/pythreadkernel/transformer.py\", line 112, in update\n",
      "    raise Exception(msg)\n",
      "Exception: Traceback (most recent call last):\n",
      "  File \"/home/sjoerd/seamless/seamless/core/pythreadkernel/transformer.py\", line 28, in execute\n",
      "    result = eval(expression, namespace)\n",
      "  File \"transformer\", line 1, in <module>\n",
      "  File \"./cell-gen-vertexdata.py in pin: .gen_vertexdata.code\", line 4, in transform\n",
      "    data = np.zeros(N, VertexData.dtype)\n",
      "NameError: name 'VertexData' is not defined\n",
      "\n"
     ]
    },
    {
     "name": "stdout",
     "output_type": "stream",
     "text": [
      "*********** ERROR in transformer Seamless transformer: .gen_vertexdata: execution error **************\n"
     ]
    },
    {
     "name": "stderr",
     "output_type": "stream",
     "text": [
      "Traceback (most recent call last):\n",
      "  File \"/home/sjoerd/seamless/seamless/core/pythreadkernel/__init__.py\", line 173, in run\n",
      "    self.update(self.updated, self.semaphore)\n",
      "  File \"/home/sjoerd/seamless/seamless/core/pythreadkernel/transformer.py\", line 112, in update\n",
      "    raise Exception(msg)\n",
      "Exception: Traceback (most recent call last):\n",
      "  File \"/home/sjoerd/seamless/seamless/core/pythreadkernel/transformer.py\", line 28, in execute\n",
      "    result = eval(expression, namespace)\n",
      "  File \"transformer\", line 1, in <module>\n",
      "  File \"./cell-gen-vertexdata.py in pin: .gen_vertexdata.code\", line 4, in transform\n",
      "    data = np.zeros(N, VertexData.dtype)\n",
      "NameError: name 'VertexData' is not defined\n",
      "\n"
     ]
    },
    {
     "name": "stdout",
     "output_type": "stream",
     "text": [
      "*********** ERROR in transformer Seamless transformer: .gen_vertexdata: execution error **************\n"
     ]
    },
    {
     "name": "stderr",
     "output_type": "stream",
     "text": [
      "Traceback (most recent call last):\n",
      "  File \"/home/sjoerd/seamless/seamless/core/pythreadkernel/__init__.py\", line 173, in run\n",
      "    self.update(self.updated, self.semaphore)\n",
      "  File \"/home/sjoerd/seamless/seamless/core/pythreadkernel/transformer.py\", line 112, in update\n",
      "    raise Exception(msg)\n",
      "Exception: Traceback (most recent call last):\n",
      "  File \"/home/sjoerd/seamless/seamless/core/pythreadkernel/transformer.py\", line 28, in execute\n",
      "    result = eval(expression, namespace)\n",
      "  File \"transformer\", line 1, in <module>\n",
      "  File \"./cell-gen-vertexdata.py in pin: .gen_vertexdata.code\", line 4, in transform\n",
      "    data = np.zeros(N, VertexData.dtype)\n",
      "NameError: name 'VertexData' is not defined\n",
      "\n"
     ]
    },
    {
     "name": "stdout",
     "output_type": "stream",
     "text": [
      "*********** ERROR in transformer Seamless transformer: .gen_vertexdata: execution error **************\n"
     ]
    },
    {
     "name": "stderr",
     "output_type": "stream",
     "text": [
      "Traceback (most recent call last):\n",
      "  File \"/home/sjoerd/seamless/seamless/core/pythreadkernel/__init__.py\", line 173, in run\n",
      "    self.update(self.updated, self.semaphore)\n",
      "  File \"/home/sjoerd/seamless/seamless/core/pythreadkernel/transformer.py\", line 112, in update\n",
      "    raise Exception(msg)\n",
      "Exception: Traceback (most recent call last):\n",
      "  File \"/home/sjoerd/seamless/seamless/core/pythreadkernel/transformer.py\", line 28, in execute\n",
      "    result = eval(expression, namespace)\n",
      "  File \"transformer\", line 1, in <module>\n",
      "  File \"./cell-gen-vertexdata.py in pin: .gen_vertexdata.code\", line 4, in transform\n",
      "    data = np.zeros(N, VertexData.dtype)\n",
      "NameError: name 'VertexData' is not defined\n",
      "\n"
     ]
    },
    {
     "name": "stdout",
     "output_type": "stream",
     "text": [
      "*********** ERROR in transformer Seamless transformer: .gen_vertexdata: execution error **************\n"
     ]
    },
    {
     "name": "stderr",
     "output_type": "stream",
     "text": [
      "Traceback (most recent call last):\n",
      "  File \"/home/sjoerd/seamless/seamless/core/pythreadkernel/__init__.py\", line 173, in run\n",
      "    self.update(self.updated, self.semaphore)\n",
      "  File \"/home/sjoerd/seamless/seamless/core/pythreadkernel/transformer.py\", line 112, in update\n",
      "    raise Exception(msg)\n",
      "Exception: Traceback (most recent call last):\n",
      "  File \"/home/sjoerd/seamless/seamless/core/pythreadkernel/transformer.py\", line 28, in execute\n",
      "    result = eval(expression, namespace)\n",
      "  File \"transformer\", line 1, in <module>\n",
      "  File \"./cell-gen-vertexdata.py in pin: .gen_vertexdata.code\", line 4, in transform\n",
      "    data = np.zeros(N, VertexData.dtype)\n",
      "NameError: name 'VertexData' is not defined\n",
      "\n"
     ]
    },
    {
     "name": "stdout",
     "output_type": "stream",
     "text": [
      "*********** ERROR in transformer Seamless transformer: .gen_vertexdata: execution error **************\n"
     ]
    },
    {
     "name": "stderr",
     "output_type": "stream",
     "text": [
      "Traceback (most recent call last):\n",
      "  File \"/home/sjoerd/seamless/seamless/core/pythreadkernel/__init__.py\", line 173, in run\n",
      "    self.update(self.updated, self.semaphore)\n",
      "  File \"/home/sjoerd/seamless/seamless/core/pythreadkernel/transformer.py\", line 112, in update\n",
      "    raise Exception(msg)\n",
      "Exception: Traceback (most recent call last):\n",
      "  File \"/home/sjoerd/seamless/seamless/core/pythreadkernel/transformer.py\", line 28, in execute\n",
      "    result = eval(expression, namespace)\n",
      "  File \"transformer\", line 1, in <module>\n",
      "  File \"./cell-gen-vertexdata.py in pin: .gen_vertexdata.code\", line 4, in transform\n",
      "    data = np.zeros(N, VertexData.dtype)\n",
      "NameError: name 'VertexData' is not defined\n",
      "\n"
     ]
    },
    {
     "name": "stdout",
     "output_type": "stream",
     "text": [
      "*********** ERROR in transformer Seamless transformer: .gen_vertexdata: execution error **************\n"
     ]
    },
    {
     "name": "stderr",
     "output_type": "stream",
     "text": [
      "Traceback (most recent call last):\n",
      "  File \"/home/sjoerd/seamless/seamless/core/pythreadkernel/__init__.py\", line 173, in run\n",
      "    self.update(self.updated, self.semaphore)\n",
      "  File \"/home/sjoerd/seamless/seamless/core/pythreadkernel/transformer.py\", line 112, in update\n",
      "    raise Exception(msg)\n",
      "Exception: Traceback (most recent call last):\n",
      "  File \"/home/sjoerd/seamless/seamless/core/pythreadkernel/transformer.py\", line 28, in execute\n",
      "    result = eval(expression, namespace)\n",
      "  File \"transformer\", line 1, in <module>\n",
      "  File \"./cell-gen-vertexdata.py in pin: .gen_vertexdata.code\", line 4, in transform\n",
      "    data = np.zeros(N, VertexData.dtype)\n",
      "NameError: name 'VertexData' is not defined\n",
      "\n"
     ]
    },
    {
     "name": "stdout",
     "output_type": "stream",
     "text": [
      "*********** ERROR in transformer Seamless transformer: .gen_vertexdata: execution error **************\n"
     ]
    },
    {
     "name": "stderr",
     "output_type": "stream",
     "text": [
      "Traceback (most recent call last):\n",
      "  File \"/home/sjoerd/seamless/seamless/core/pythreadkernel/__init__.py\", line 173, in run\n",
      "    self.update(self.updated, self.semaphore)\n",
      "  File \"/home/sjoerd/seamless/seamless/core/pythreadkernel/transformer.py\", line 112, in update\n",
      "    raise Exception(msg)\n",
      "Exception: Traceback (most recent call last):\n",
      "  File \"/home/sjoerd/seamless/seamless/core/pythreadkernel/transformer.py\", line 28, in execute\n",
      "    result = eval(expression, namespace)\n",
      "  File \"transformer\", line 1, in <module>\n",
      "  File \"./cell-gen-vertexdata.py in pin: .gen_vertexdata.code\", line 4, in transform\n",
      "    data = np.zeros(N, VertexData.dtype)\n",
      "NameError: name 'VertexData' is not defined\n",
      "\n"
     ]
    },
    {
     "name": "stdout",
     "output_type": "stream",
     "text": [
      "*********** ERROR in transformer Seamless transformer: .gen_vertexdata: execution error **************\n"
     ]
    },
    {
     "name": "stderr",
     "output_type": "stream",
     "text": [
      "Traceback (most recent call last):\n",
      "  File \"/home/sjoerd/seamless/seamless/core/pythreadkernel/__init__.py\", line 173, in run\n",
      "    self.update(self.updated, self.semaphore)\n",
      "  File \"/home/sjoerd/seamless/seamless/core/pythreadkernel/transformer.py\", line 112, in update\n",
      "    raise Exception(msg)\n",
      "Exception: Traceback (most recent call last):\n",
      "  File \"/home/sjoerd/seamless/seamless/core/pythreadkernel/transformer.py\", line 28, in execute\n",
      "    result = eval(expression, namespace)\n",
      "  File \"transformer\", line 1, in <module>\n",
      "  File \"./cell-gen-vertexdata.py in pin: .gen_vertexdata.code\", line 4, in transform\n",
      "    data = np.zeros(N, VertexData.dtype)\n",
      "NameError: name 'VertexData' is not defined\n",
      "\n"
     ]
    },
    {
     "name": "stdout",
     "output_type": "stream",
     "text": [
      "*********** ERROR in transformer Seamless transformer: .gen_vertexdata: execution error **************\n"
     ]
    },
    {
     "name": "stderr",
     "output_type": "stream",
     "text": [
      "Traceback (most recent call last):\n",
      "  File \"/home/sjoerd/seamless/seamless/core/pythreadkernel/__init__.py\", line 173, in run\n",
      "    self.update(self.updated, self.semaphore)\n",
      "  File \"/home/sjoerd/seamless/seamless/core/pythreadkernel/transformer.py\", line 112, in update\n",
      "    raise Exception(msg)\n",
      "Exception: Traceback (most recent call last):\n",
      "  File \"/home/sjoerd/seamless/seamless/core/pythreadkernel/transformer.py\", line 28, in execute\n",
      "    result = eval(expression, namespace)\n",
      "  File \"transformer\", line 1, in <module>\n",
      "  File \"./cell-gen-vertexdata.py in pin: .gen_vertexdata.code\", line 4, in transform\n",
      "    data = np.zeros(N, VertexData.dtype)\n",
      "NameError: name 'VertexData' is not defined\n",
      "\n"
     ]
    },
    {
     "name": "stdout",
     "output_type": "stream",
     "text": [
      "*********** ERROR in transformer Seamless transformer: .gen_vertexdata: execution error **************\n"
     ]
    },
    {
     "name": "stderr",
     "output_type": "stream",
     "text": [
      "Traceback (most recent call last):\n",
      "  File \"/home/sjoerd/seamless/seamless/core/pythreadkernel/__init__.py\", line 173, in run\n",
      "    self.update(self.updated, self.semaphore)\n",
      "  File \"/home/sjoerd/seamless/seamless/core/pythreadkernel/transformer.py\", line 112, in update\n",
      "    raise Exception(msg)\n",
      "Exception: Traceback (most recent call last):\n",
      "  File \"/home/sjoerd/seamless/seamless/core/pythreadkernel/transformer.py\", line 28, in execute\n",
      "    result = eval(expression, namespace)\n",
      "  File \"transformer\", line 1, in <module>\n",
      "  File \"./cell-gen-vertexdata.py in pin: .gen_vertexdata.code\", line 4, in transform\n",
      "    data = np.zeros(N, VertexData.dtype)\n",
      "NameError: name 'VertexData' is not defined\n",
      "\n"
     ]
    },
    {
     "name": "stdout",
     "output_type": "stream",
     "text": [
      "*********** ERROR in transformer Seamless transformer: .gen_vertexdata: execution error **************\n"
     ]
    },
    {
     "name": "stderr",
     "output_type": "stream",
     "text": [
      "Traceback (most recent call last):\n",
      "  File \"/home/sjoerd/seamless/seamless/core/pythreadkernel/__init__.py\", line 173, in run\n",
      "    self.update(self.updated, self.semaphore)\n",
      "  File \"/home/sjoerd/seamless/seamless/core/pythreadkernel/transformer.py\", line 112, in update\n",
      "    raise Exception(msg)\n",
      "Exception: Traceback (most recent call last):\n",
      "  File \"/home/sjoerd/seamless/seamless/core/pythreadkernel/transformer.py\", line 28, in execute\n",
      "    result = eval(expression, namespace)\n",
      "  File \"transformer\", line 1, in <module>\n",
      "  File \"./cell-gen-vertexdata.py in pin: .gen_vertexdata.code\", line 4, in transform\n",
      "    data = np.zeros(N, VertexData.dtype)\n",
      "NameError: name 'VertexData' is not defined\n",
      "\n"
     ]
    },
    {
     "name": "stdout",
     "output_type": "stream",
     "text": [
      "*********** ERROR in transformer Seamless transformer: .gen_vertexdata: execution error **************\n"
     ]
    },
    {
     "name": "stderr",
     "output_type": "stream",
     "text": [
      "Traceback (most recent call last):\n",
      "  File \"/home/sjoerd/seamless/seamless/core/pythreadkernel/__init__.py\", line 173, in run\n",
      "    self.update(self.updated, self.semaphore)\n",
      "  File \"/home/sjoerd/seamless/seamless/core/pythreadkernel/transformer.py\", line 112, in update\n",
      "    raise Exception(msg)\n",
      "Exception: Traceback (most recent call last):\n",
      "  File \"/home/sjoerd/seamless/seamless/core/pythreadkernel/transformer.py\", line 28, in execute\n",
      "    result = eval(expression, namespace)\n",
      "  File \"transformer\", line 1, in <module>\n",
      "  File \"./cell-gen-vertexdata.py in pin: .gen_vertexdata.code\", line 4, in transform\n",
      "    data = np.zeros(N, VertexData.dtype)\n",
      "NameError: name 'VertexData' is not defined\n",
      "\n"
     ]
    },
    {
     "name": "stdout",
     "output_type": "stream",
     "text": [
      "*********** ERROR in transformer Seamless transformer: .gen_vertexdata: execution error **************\n"
     ]
    },
    {
     "name": "stderr",
     "output_type": "stream",
     "text": [
      "Traceback (most recent call last):\n",
      "  File \"/home/sjoerd/seamless/seamless/core/pythreadkernel/__init__.py\", line 173, in run\n",
      "    self.update(self.updated, self.semaphore)\n",
      "  File \"/home/sjoerd/seamless/seamless/core/pythreadkernel/transformer.py\", line 112, in update\n",
      "    raise Exception(msg)\n",
      "Exception: Traceback (most recent call last):\n",
      "  File \"/home/sjoerd/seamless/seamless/core/pythreadkernel/transformer.py\", line 28, in execute\n",
      "    result = eval(expression, namespace)\n",
      "  File \"transformer\", line 1, in <module>\n",
      "  File \"./cell-gen-vertexdata.py in pin: .gen_vertexdata.code\", line 4, in transform\n",
      "    data = np.zeros(N, VertexData.dtype)\n",
      "NameError: name 'VertexData' is not defined\n",
      "\n"
     ]
    },
    {
     "name": "stdout",
     "output_type": "stream",
     "text": [
      "*********** ERROR in transformer Seamless transformer: .gen_vertexdata: execution error **************\n"
     ]
    },
    {
     "name": "stderr",
     "output_type": "stream",
     "text": [
      "Traceback (most recent call last):\n",
      "  File \"/home/sjoerd/seamless/seamless/core/pythreadkernel/__init__.py\", line 173, in run\n",
      "    self.update(self.updated, self.semaphore)\n",
      "  File \"/home/sjoerd/seamless/seamless/core/pythreadkernel/transformer.py\", line 112, in update\n",
      "    raise Exception(msg)\n",
      "Exception: Traceback (most recent call last):\n",
      "  File \"/home/sjoerd/seamless/seamless/core/pythreadkernel/transformer.py\", line 28, in execute\n",
      "    result = eval(expression, namespace)\n",
      "  File \"transformer\", line 1, in <module>\n",
      "  File \"./cell-gen-vertexdata.py in pin: .gen_vertexdata.code\", line 4, in transform\n",
      "    data = np.zeros(N, VertexData.dtype)\n",
      "NameError: name 'VertexData' is not defined\n",
      "\n"
     ]
    },
    {
     "name": "stdout",
     "output_type": "stream",
     "text": [
      "*********** ERROR in transformer Seamless transformer: .gen_vertexdata: execution error **************\n"
     ]
    },
    {
     "name": "stderr",
     "output_type": "stream",
     "text": [
      "Traceback (most recent call last):\n",
      "  File \"/home/sjoerd/seamless/seamless/core/pythreadkernel/__init__.py\", line 173, in run\n",
      "    self.update(self.updated, self.semaphore)\n",
      "  File \"/home/sjoerd/seamless/seamless/core/pythreadkernel/transformer.py\", line 112, in update\n",
      "    raise Exception(msg)\n",
      "Exception: Traceback (most recent call last):\n",
      "  File \"/home/sjoerd/seamless/seamless/core/pythreadkernel/transformer.py\", line 28, in execute\n",
      "    result = eval(expression, namespace)\n",
      "  File \"transformer\", line 1, in <module>\n",
      "  File \"./cell-gen-vertexdata.py in pin: .gen_vertexdata.code\", line 4, in transform\n",
      "    data = np.zeros(N, VertexData.dtype)\n",
      "NameError: name 'VertexData' is not defined\n",
      "\n"
     ]
    },
    {
     "name": "stdout",
     "output_type": "stream",
     "text": [
      "*********** ERROR in transformer Seamless transformer: .gen_vertexdata: execution error **************\n"
     ]
    },
    {
     "name": "stderr",
     "output_type": "stream",
     "text": [
      "Traceback (most recent call last):\n",
      "  File \"/home/sjoerd/seamless/seamless/core/pythreadkernel/__init__.py\", line 173, in run\n",
      "    self.update(self.updated, self.semaphore)\n",
      "  File \"/home/sjoerd/seamless/seamless/core/pythreadkernel/transformer.py\", line 112, in update\n",
      "    raise Exception(msg)\n",
      "Exception: Traceback (most recent call last):\n",
      "  File \"/home/sjoerd/seamless/seamless/core/pythreadkernel/transformer.py\", line 28, in execute\n",
      "    result = eval(expression, namespace)\n",
      "  File \"transformer\", line 1, in <module>\n",
      "  File \"./cell-gen-vertexdata.py in pin: .gen_vertexdata.code\", line 4, in transform\n",
      "    data = np.zeros(N, VertexData.dtype)\n",
      "NameError: name 'VertexData' is not defined\n",
      "\n"
     ]
    },
    {
     "name": "stdout",
     "output_type": "stream",
     "text": [
      "*********** ERROR in transformer Seamless transformer: .gen_vertexdata: execution error **************\n"
     ]
    },
    {
     "name": "stderr",
     "output_type": "stream",
     "text": [
      "Traceback (most recent call last):\n",
      "  File \"/home/sjoerd/seamless/seamless/core/pythreadkernel/__init__.py\", line 173, in run\n",
      "    self.update(self.updated, self.semaphore)\n",
      "  File \"/home/sjoerd/seamless/seamless/core/pythreadkernel/transformer.py\", line 112, in update\n",
      "    raise Exception(msg)\n",
      "Exception: Traceback (most recent call last):\n",
      "  File \"/home/sjoerd/seamless/seamless/core/pythreadkernel/transformer.py\", line 28, in execute\n",
      "    result = eval(expression, namespace)\n",
      "  File \"transformer\", line 1, in <module>\n",
      "  File \"./cell-gen-vertexdata.py in pin: .gen_vertexdata.code\", line 4, in transform\n",
      "    data = np.zeros(N, VertexData.dtype)\n",
      "NameError: name 'VertexData' is not defined\n",
      "\n"
     ]
    },
    {
     "name": "stdout",
     "output_type": "stream",
     "text": [
      "*********** ERROR in transformer Seamless transformer: .gen_vertexdata: execution error **************\n"
     ]
    },
    {
     "name": "stderr",
     "output_type": "stream",
     "text": [
      "Traceback (most recent call last):\n",
      "  File \"/home/sjoerd/seamless/seamless/core/pythreadkernel/__init__.py\", line 173, in run\n",
      "    self.update(self.updated, self.semaphore)\n",
      "  File \"/home/sjoerd/seamless/seamless/core/pythreadkernel/transformer.py\", line 112, in update\n",
      "    raise Exception(msg)\n",
      "Exception: Traceback (most recent call last):\n",
      "  File \"/home/sjoerd/seamless/seamless/core/pythreadkernel/transformer.py\", line 28, in execute\n",
      "    result = eval(expression, namespace)\n",
      "  File \"transformer\", line 1, in <module>\n",
      "  File \"./cell-gen-vertexdata.py in pin: .gen_vertexdata.code\", line 4, in transform\n",
      "    data = np.zeros(N, VertexData.dtype)\n",
      "NameError: name 'VertexData' is not defined\n",
      "\n"
     ]
    },
    {
     "name": "stdout",
     "output_type": "stream",
     "text": [
      "*********** ERROR in transformer Seamless transformer: .gen_vertexdata: execution error **************\n"
     ]
    },
    {
     "name": "stderr",
     "output_type": "stream",
     "text": [
      "Traceback (most recent call last):\n",
      "  File \"/home/sjoerd/seamless/seamless/core/pythreadkernel/__init__.py\", line 173, in run\n",
      "    self.update(self.updated, self.semaphore)\n",
      "  File \"/home/sjoerd/seamless/seamless/core/pythreadkernel/transformer.py\", line 112, in update\n",
      "    raise Exception(msg)\n",
      "Exception: Traceback (most recent call last):\n",
      "  File \"/home/sjoerd/seamless/seamless/core/pythreadkernel/transformer.py\", line 28, in execute\n",
      "    result = eval(expression, namespace)\n",
      "  File \"transformer\", line 1, in <module>\n",
      "  File \"./cell-gen-vertexdata.py in pin: .gen_vertexdata.code\", line 4, in transform\n",
      "    data = np.zeros(N, VertexData.dtype)\n",
      "NameError: name 'VertexData' is not defined\n",
      "\n"
     ]
    },
    {
     "name": "stdout",
     "output_type": "stream",
     "text": [
      "*********** ERROR in transformer Seamless transformer: .gen_vertexdata: execution error **************\n"
     ]
    },
    {
     "name": "stderr",
     "output_type": "stream",
     "text": [
      "Traceback (most recent call last):\n",
      "  File \"/home/sjoerd/seamless/seamless/core/pythreadkernel/__init__.py\", line 173, in run\n",
      "    self.update(self.updated, self.semaphore)\n",
      "  File \"/home/sjoerd/seamless/seamless/core/pythreadkernel/transformer.py\", line 112, in update\n",
      "    raise Exception(msg)\n",
      "Exception: Traceback (most recent call last):\n",
      "  File \"/home/sjoerd/seamless/seamless/core/pythreadkernel/transformer.py\", line 28, in execute\n",
      "    result = eval(expression, namespace)\n",
      "  File \"transformer\", line 1, in <module>\n",
      "  File \"./cell-gen-vertexdata.py in pin: .gen_vertexdata.code\", line 4, in transform\n",
      "    data = np.zeros(N, VertexData.dtype)\n",
      "NameError: name 'VertexData' is not defined\n",
      "\n"
     ]
    },
    {
     "name": "stdout",
     "output_type": "stream",
     "text": [
      "*********** ERROR in transformer Seamless transformer: .gen_vertexdata: execution error **************\n"
     ]
    },
    {
     "name": "stderr",
     "output_type": "stream",
     "text": [
      "Traceback (most recent call last):\n",
      "  File \"/home/sjoerd/seamless/seamless/core/pythreadkernel/__init__.py\", line 173, in run\n",
      "    self.update(self.updated, self.semaphore)\n",
      "  File \"/home/sjoerd/seamless/seamless/core/pythreadkernel/transformer.py\", line 112, in update\n",
      "    raise Exception(msg)\n",
      "Exception: Traceback (most recent call last):\n",
      "  File \"/home/sjoerd/seamless/seamless/core/pythreadkernel/transformer.py\", line 28, in execute\n",
      "    result = eval(expression, namespace)\n",
      "  File \"transformer\", line 1, in <module>\n",
      "  File \"./cell-gen-vertexdata.py in pin: .gen_vertexdata.code\", line 4, in transform\n",
      "    data = np.zeros(N, VertexData.dtype)\n",
      "NameError: name 'VertexData' is not defined\n",
      "\n"
     ]
    },
    {
     "name": "stdout",
     "output_type": "stream",
     "text": [
      "*********** ERROR in transformer Seamless transformer: .gen_vertexdata: execution error **************\n"
     ]
    },
    {
     "name": "stderr",
     "output_type": "stream",
     "text": [
      "Traceback (most recent call last):\n",
      "  File \"/home/sjoerd/seamless/seamless/core/pythreadkernel/__init__.py\", line 173, in run\n",
      "    self.update(self.updated, self.semaphore)\n",
      "  File \"/home/sjoerd/seamless/seamless/core/pythreadkernel/transformer.py\", line 112, in update\n",
      "    raise Exception(msg)\n",
      "Exception: Traceback (most recent call last):\n",
      "  File \"/home/sjoerd/seamless/seamless/core/pythreadkernel/transformer.py\", line 28, in execute\n",
      "    result = eval(expression, namespace)\n",
      "  File \"transformer\", line 1, in <module>\n",
      "  File \"./cell-gen-vertexdata.py in pin: .gen_vertexdata.code\", line 4, in transform\n",
      "    data = np.zeros(N, VertexData.dtype)\n",
      "NameError: name 'VertexData' is not defined\n",
      "\n"
     ]
    },
    {
     "name": "stdout",
     "output_type": "stream",
     "text": [
      "*********** ERROR in transformer Seamless transformer: .gen_vertexdata: execution error **************\n"
     ]
    },
    {
     "name": "stderr",
     "output_type": "stream",
     "text": [
      "Traceback (most recent call last):\n",
      "  File \"/home/sjoerd/seamless/seamless/core/pythreadkernel/__init__.py\", line 173, in run\n",
      "    self.update(self.updated, self.semaphore)\n",
      "  File \"/home/sjoerd/seamless/seamless/core/pythreadkernel/transformer.py\", line 112, in update\n",
      "    raise Exception(msg)\n",
      "Exception: Traceback (most recent call last):\n",
      "  File \"/home/sjoerd/seamless/seamless/core/pythreadkernel/transformer.py\", line 28, in execute\n",
      "    result = eval(expression, namespace)\n",
      "  File \"transformer\", line 1, in <module>\n",
      "  File \"./cell-gen-vertexdata.py in pin: .gen_vertexdata.code\", line 4, in transform\n",
      "    data = np.zeros(N, VertexData.dtype)\n",
      "NameError: name 'VertexData' is not defined\n",
      "\n"
     ]
    },
    {
     "name": "stdout",
     "output_type": "stream",
     "text": [
      "*********** ERROR in transformer Seamless transformer: .gen_vertexdata: execution error **************\n"
     ]
    },
    {
     "name": "stderr",
     "output_type": "stream",
     "text": [
      "Traceback (most recent call last):\n",
      "  File \"/home/sjoerd/seamless/seamless/core/pythreadkernel/__init__.py\", line 173, in run\n",
      "    self.update(self.updated, self.semaphore)\n",
      "  File \"/home/sjoerd/seamless/seamless/core/pythreadkernel/transformer.py\", line 112, in update\n",
      "    raise Exception(msg)\n",
      "Exception: Traceback (most recent call last):\n",
      "  File \"/home/sjoerd/seamless/seamless/core/pythreadkernel/transformer.py\", line 28, in execute\n",
      "    result = eval(expression, namespace)\n",
      "  File \"transformer\", line 1, in <module>\n",
      "  File \"./cell-gen-vertexdata.py in pin: .gen_vertexdata.code\", line 4, in transform\n",
      "    data = np.zeros(N, VertexData.dtype)\n",
      "NameError: name 'VertexData' is not defined\n",
      "\n"
     ]
    },
    {
     "name": "stdout",
     "output_type": "stream",
     "text": [
      "*********** ERROR in transformer Seamless transformer: .gen_vertexdata: execution error **************\n"
     ]
    },
    {
     "name": "stderr",
     "output_type": "stream",
     "text": [
      "Traceback (most recent call last):\n",
      "  File \"/home/sjoerd/seamless/seamless/core/pythreadkernel/__init__.py\", line 173, in run\n",
      "    self.update(self.updated, self.semaphore)\n",
      "  File \"/home/sjoerd/seamless/seamless/core/pythreadkernel/transformer.py\", line 112, in update\n",
      "    raise Exception(msg)\n",
      "Exception: Traceback (most recent call last):\n",
      "  File \"/home/sjoerd/seamless/seamless/core/pythreadkernel/transformer.py\", line 28, in execute\n",
      "    result = eval(expression, namespace)\n",
      "  File \"transformer\", line 1, in <module>\n",
      "  File \"./cell-gen-vertexdata.py in pin: .gen_vertexdata.code\", line 4, in transform\n",
      "    data = np.zeros(N, VertexData.dtype)\n",
      "NameError: name 'VertexData' is not defined\n",
      "\n"
     ]
    },
    {
     "name": "stdout",
     "output_type": "stream",
     "text": [
      "*********** ERROR in transformer Seamless transformer: .gen_vertexdata: execution error **************\n"
     ]
    },
    {
     "name": "stderr",
     "output_type": "stream",
     "text": [
      "Traceback (most recent call last):\n",
      "  File \"/home/sjoerd/seamless/seamless/core/pythreadkernel/__init__.py\", line 173, in run\n",
      "    self.update(self.updated, self.semaphore)\n",
      "  File \"/home/sjoerd/seamless/seamless/core/pythreadkernel/transformer.py\", line 112, in update\n",
      "    raise Exception(msg)\n",
      "Exception: Traceback (most recent call last):\n",
      "  File \"/home/sjoerd/seamless/seamless/core/pythreadkernel/transformer.py\", line 28, in execute\n",
      "    result = eval(expression, namespace)\n",
      "  File \"transformer\", line 1, in <module>\n",
      "  File \"./cell-gen-vertexdata.py in pin: .gen_vertexdata.code\", line 4, in transform\n",
      "    data = np.zeros(N, VertexData.dtype)\n",
      "NameError: name 'VertexData' is not defined\n",
      "\n"
     ]
    },
    {
     "name": "stdout",
     "output_type": "stream",
     "text": [
      "*********** ERROR in transformer Seamless transformer: .gen_vertexdata: execution error **************\n"
     ]
    },
    {
     "name": "stderr",
     "output_type": "stream",
     "text": [
      "Traceback (most recent call last):\n",
      "  File \"/home/sjoerd/seamless/seamless/core/pythreadkernel/__init__.py\", line 173, in run\n",
      "    self.update(self.updated, self.semaphore)\n",
      "  File \"/home/sjoerd/seamless/seamless/core/pythreadkernel/transformer.py\", line 112, in update\n",
      "    raise Exception(msg)\n",
      "Exception: Traceback (most recent call last):\n",
      "  File \"/home/sjoerd/seamless/seamless/core/pythreadkernel/transformer.py\", line 28, in execute\n",
      "    result = eval(expression, namespace)\n",
      "  File \"transformer\", line 1, in <module>\n",
      "  File \"./cell-gen-vertexdata.py in pin: .gen_vertexdata.code\", line 4, in transform\n",
      "    data = np.zeros(N, VertexData.dtype)\n",
      "NameError: name 'VertexData' is not defined\n",
      "\n"
     ]
    },
    {
     "name": "stdout",
     "output_type": "stream",
     "text": [
      "*********** ERROR in transformer Seamless transformer: .gen_vertexdata: execution error **************\n"
     ]
    },
    {
     "name": "stderr",
     "output_type": "stream",
     "text": [
      "Traceback (most recent call last):\n",
      "  File \"/home/sjoerd/seamless/seamless/core/pythreadkernel/__init__.py\", line 173, in run\n",
      "    self.update(self.updated, self.semaphore)\n",
      "  File \"/home/sjoerd/seamless/seamless/core/pythreadkernel/transformer.py\", line 112, in update\n",
      "    raise Exception(msg)\n",
      "Exception: Traceback (most recent call last):\n",
      "  File \"/home/sjoerd/seamless/seamless/core/pythreadkernel/transformer.py\", line 28, in execute\n",
      "    result = eval(expression, namespace)\n",
      "  File \"transformer\", line 1, in <module>\n",
      "  File \"./cell-gen-vertexdata.py in pin: .gen_vertexdata.code\", line 4, in transform\n",
      "    data = np.zeros(N, VertexData.dtype)\n",
      "NameError: name 'VertexData' is not defined\n",
      "\n"
     ]
    },
    {
     "name": "stdout",
     "output_type": "stream",
     "text": [
      "*********** ERROR in transformer Seamless transformer: .gen_vertexdata: execution error **************\n"
     ]
    },
    {
     "name": "stderr",
     "output_type": "stream",
     "text": [
      "Traceback (most recent call last):\n",
      "  File \"/home/sjoerd/seamless/seamless/core/pythreadkernel/__init__.py\", line 173, in run\n",
      "    self.update(self.updated, self.semaphore)\n",
      "  File \"/home/sjoerd/seamless/seamless/core/pythreadkernel/transformer.py\", line 112, in update\n",
      "    raise Exception(msg)\n",
      "Exception: Traceback (most recent call last):\n",
      "  File \"/home/sjoerd/seamless/seamless/core/pythreadkernel/transformer.py\", line 28, in execute\n",
      "    result = eval(expression, namespace)\n",
      "  File \"transformer\", line 1, in <module>\n",
      "  File \"./cell-gen-vertexdata.py in pin: .gen_vertexdata.code\", line 4, in transform\n",
      "    data = np.zeros(N, VertexData.dtype)\n",
      "NameError: name 'VertexData' is not defined\n",
      "\n"
     ]
    },
    {
     "name": "stdout",
     "output_type": "stream",
     "text": [
      "*********** ERROR in transformer Seamless transformer: .gen_vertexdata: execution error **************\n"
     ]
    },
    {
     "name": "stderr",
     "output_type": "stream",
     "text": [
      "Traceback (most recent call last):\n",
      "  File \"/home/sjoerd/seamless/seamless/core/pythreadkernel/__init__.py\", line 173, in run\n",
      "    self.update(self.updated, self.semaphore)\n",
      "  File \"/home/sjoerd/seamless/seamless/core/pythreadkernel/transformer.py\", line 112, in update\n",
      "    raise Exception(msg)\n",
      "Exception: Traceback (most recent call last):\n",
      "  File \"/home/sjoerd/seamless/seamless/core/pythreadkernel/transformer.py\", line 28, in execute\n",
      "    result = eval(expression, namespace)\n",
      "  File \"transformer\", line 1, in <module>\n",
      "  File \"./cell-gen-vertexdata.py in pin: .gen_vertexdata.code\", line 4, in transform\n",
      "    data = np.zeros(N, VertexData.dtype)\n",
      "NameError: name 'VertexData' is not defined\n",
      "\n"
     ]
    },
    {
     "name": "stdout",
     "output_type": "stream",
     "text": [
      "*********** ERROR in transformer Seamless transformer: .gen_vertexdata: execution error **************\n"
     ]
    },
    {
     "name": "stderr",
     "output_type": "stream",
     "text": [
      "Traceback (most recent call last):\n",
      "  File \"/home/sjoerd/seamless/seamless/core/pythreadkernel/__init__.py\", line 173, in run\n",
      "    self.update(self.updated, self.semaphore)\n",
      "  File \"/home/sjoerd/seamless/seamless/core/pythreadkernel/transformer.py\", line 112, in update\n",
      "    raise Exception(msg)\n",
      "Exception: Traceback (most recent call last):\n",
      "  File \"/home/sjoerd/seamless/seamless/core/pythreadkernel/transformer.py\", line 28, in execute\n",
      "    result = eval(expression, namespace)\n",
      "  File \"transformer\", line 1, in <module>\n",
      "  File \"./cell-gen-vertexdata.py in pin: .gen_vertexdata.code\", line 4, in transform\n",
      "    data = np.zeros(N, VertexData.dtype)\n",
      "NameError: name 'VertexData' is not defined\n",
      "\n"
     ]
    },
    {
     "name": "stdout",
     "output_type": "stream",
     "text": [
      "*********** ERROR in transformer Seamless transformer: .gen_vertexdata: execution error **************\n"
     ]
    },
    {
     "name": "stderr",
     "output_type": "stream",
     "text": [
      "Traceback (most recent call last):\n",
      "  File \"/home/sjoerd/seamless/seamless/core/pythreadkernel/__init__.py\", line 173, in run\n",
      "    self.update(self.updated, self.semaphore)\n",
      "  File \"/home/sjoerd/seamless/seamless/core/pythreadkernel/transformer.py\", line 112, in update\n",
      "    raise Exception(msg)\n",
      "Exception: Traceback (most recent call last):\n",
      "  File \"/home/sjoerd/seamless/seamless/core/pythreadkernel/transformer.py\", line 28, in execute\n",
      "    result = eval(expression, namespace)\n",
      "  File \"transformer\", line 1, in <module>\n",
      "  File \"./cell-gen-vertexdata.py in pin: .gen_vertexdata.code\", line 4, in transform\n",
      "    data = np.zeros(N, VertexData.dtype)\n",
      "NameError: name 'VertexData' is not defined\n",
      "\n"
     ]
    },
    {
     "name": "stdout",
     "output_type": "stream",
     "text": [
      "*********** ERROR in transformer Seamless transformer: .gen_vertexdata: execution error **************\n"
     ]
    },
    {
     "name": "stderr",
     "output_type": "stream",
     "text": [
      "Traceback (most recent call last):\n",
      "  File \"/home/sjoerd/seamless/seamless/core/pythreadkernel/__init__.py\", line 173, in run\n",
      "    self.update(self.updated, self.semaphore)\n",
      "  File \"/home/sjoerd/seamless/seamless/core/pythreadkernel/transformer.py\", line 112, in update\n",
      "    raise Exception(msg)\n",
      "Exception: Traceback (most recent call last):\n",
      "  File \"/home/sjoerd/seamless/seamless/core/pythreadkernel/transformer.py\", line 28, in execute\n",
      "    result = eval(expression, namespace)\n",
      "  File \"transformer\", line 1, in <module>\n",
      "  File \"./cell-gen-vertexdata.py in pin: .gen_vertexdata.code\", line 4, in transform\n",
      "    data = np.zeros(N, VertexData.dtype)\n",
      "NameError: name 'VertexData' is not defined\n",
      "\n"
     ]
    },
    {
     "name": "stdout",
     "output_type": "stream",
     "text": [
      "*********** ERROR in transformer Seamless transformer: .gen_vertexdata: execution error **************\n"
     ]
    },
    {
     "name": "stderr",
     "output_type": "stream",
     "text": [
      "Traceback (most recent call last):\n",
      "  File \"/home/sjoerd/seamless/seamless/core/pythreadkernel/__init__.py\", line 173, in run\n",
      "    self.update(self.updated, self.semaphore)\n",
      "  File \"/home/sjoerd/seamless/seamless/core/pythreadkernel/transformer.py\", line 112, in update\n",
      "    raise Exception(msg)\n",
      "Exception: Traceback (most recent call last):\n",
      "  File \"/home/sjoerd/seamless/seamless/core/pythreadkernel/transformer.py\", line 28, in execute\n",
      "    result = eval(expression, namespace)\n",
      "  File \"transformer\", line 1, in <module>\n",
      "  File \"./cell-gen-vertexdata.py in pin: .gen_vertexdata.code\", line 4, in transform\n",
      "    data = np.zeros(N, VertexData.dtype)\n",
      "NameError: name 'VertexData' is not defined\n",
      "\n"
     ]
    },
    {
     "name": "stdout",
     "output_type": "stream",
     "text": [
      "*********** ERROR in transformer Seamless transformer: .gen_vertexdata: execution error **************\n"
     ]
    },
    {
     "name": "stderr",
     "output_type": "stream",
     "text": [
      "Traceback (most recent call last):\n",
      "  File \"/home/sjoerd/seamless/seamless/core/pythreadkernel/__init__.py\", line 173, in run\n",
      "    self.update(self.updated, self.semaphore)\n",
      "  File \"/home/sjoerd/seamless/seamless/core/pythreadkernel/transformer.py\", line 112, in update\n",
      "    raise Exception(msg)\n",
      "Exception: Traceback (most recent call last):\n",
      "  File \"/home/sjoerd/seamless/seamless/core/pythreadkernel/transformer.py\", line 28, in execute\n",
      "    result = eval(expression, namespace)\n",
      "  File \"transformer\", line 1, in <module>\n",
      "  File \"./cell-gen-vertexdata.py in pin: .gen_vertexdata.code\", line 4, in transform\n",
      "    data = np.zeros(N, VertexData.dtype)\n",
      "NameError: name 'VertexData' is not defined\n",
      "\n"
     ]
    },
    {
     "name": "stdout",
     "output_type": "stream",
     "text": [
      "*********** ERROR in transformer Seamless transformer: .gen_vertexdata: execution error **************\n"
     ]
    },
    {
     "name": "stderr",
     "output_type": "stream",
     "text": [
      "Traceback (most recent call last):\n",
      "  File \"/home/sjoerd/seamless/seamless/core/pythreadkernel/__init__.py\", line 173, in run\n",
      "    self.update(self.updated, self.semaphore)\n",
      "  File \"/home/sjoerd/seamless/seamless/core/pythreadkernel/transformer.py\", line 112, in update\n",
      "    raise Exception(msg)\n",
      "Exception: Traceback (most recent call last):\n",
      "  File \"/home/sjoerd/seamless/seamless/core/pythreadkernel/transformer.py\", line 28, in execute\n",
      "    result = eval(expression, namespace)\n",
      "  File \"transformer\", line 1, in <module>\n",
      "  File \"./cell-gen-vertexdata.py in pin: .gen_vertexdata.code\", line 4, in transform\n",
      "    data = np.zeros(N, VertexData.dtype)\n",
      "NameError: name 'VertexData' is not defined\n",
      "\n"
     ]
    },
    {
     "name": "stdout",
     "output_type": "stream",
     "text": [
      "*********** ERROR in transformer Seamless transformer: .gen_vertexdata: execution error **************\n"
     ]
    },
    {
     "name": "stderr",
     "output_type": "stream",
     "text": [
      "Traceback (most recent call last):\n",
      "  File \"/home/sjoerd/seamless/seamless/core/pythreadkernel/__init__.py\", line 173, in run\n",
      "    self.update(self.updated, self.semaphore)\n",
      "  File \"/home/sjoerd/seamless/seamless/core/pythreadkernel/transformer.py\", line 112, in update\n",
      "    raise Exception(msg)\n",
      "Exception: Traceback (most recent call last):\n",
      "  File \"/home/sjoerd/seamless/seamless/core/pythreadkernel/transformer.py\", line 28, in execute\n",
      "    result = eval(expression, namespace)\n",
      "  File \"transformer\", line 1, in <module>\n",
      "  File \"./cell-gen-vertexdata.py in pin: .gen_vertexdata.code\", line 4, in transform\n",
      "    data = np.zeros(N, VertexData.dtype)\n",
      "NameError: name 'VertexData' is not defined\n",
      "\n"
     ]
    },
    {
     "name": "stdout",
     "output_type": "stream",
     "text": [
      "*********** ERROR in transformer Seamless transformer: .gen_vertexdata: execution error **************\n"
     ]
    },
    {
     "name": "stderr",
     "output_type": "stream",
     "text": [
      "Traceback (most recent call last):\n",
      "  File \"/home/sjoerd/seamless/seamless/core/pythreadkernel/__init__.py\", line 173, in run\n",
      "    self.update(self.updated, self.semaphore)\n",
      "  File \"/home/sjoerd/seamless/seamless/core/pythreadkernel/transformer.py\", line 112, in update\n",
      "    raise Exception(msg)\n",
      "Exception: Traceback (most recent call last):\n",
      "  File \"/home/sjoerd/seamless/seamless/core/pythreadkernel/transformer.py\", line 28, in execute\n",
      "    result = eval(expression, namespace)\n",
      "  File \"transformer\", line 1, in <module>\n",
      "  File \"./cell-gen-vertexdata.py in pin: .gen_vertexdata.code\", line 4, in transform\n",
      "    data = np.zeros(N, VertexData.dtype)\n",
      "NameError: name 'VertexData' is not defined\n",
      "\n"
     ]
    },
    {
     "name": "stdout",
     "output_type": "stream",
     "text": [
      "*********** ERROR in transformer Seamless transformer: .gen_vertexdata: execution error **************\n"
     ]
    },
    {
     "name": "stderr",
     "output_type": "stream",
     "text": [
      "Traceback (most recent call last):\n",
      "  File \"/home/sjoerd/seamless/seamless/core/pythreadkernel/__init__.py\", line 173, in run\n",
      "    self.update(self.updated, self.semaphore)\n",
      "  File \"/home/sjoerd/seamless/seamless/core/pythreadkernel/transformer.py\", line 112, in update\n",
      "    raise Exception(msg)\n",
      "Exception: Traceback (most recent call last):\n",
      "  File \"/home/sjoerd/seamless/seamless/core/pythreadkernel/transformer.py\", line 28, in execute\n",
      "    result = eval(expression, namespace)\n",
      "  File \"transformer\", line 1, in <module>\n",
      "  File \"./cell-gen-vertexdata.py in pin: .gen_vertexdata.code\", line 4, in transform\n",
      "    data = np.zeros(N, VertexData.dtype)\n",
      "NameError: name 'VertexData' is not defined\n",
      "\n"
     ]
    },
    {
     "name": "stdout",
     "output_type": "stream",
     "text": [
      "*********** ERROR in transformer Seamless transformer: .gen_vertexdata: execution error **************\n"
     ]
    },
    {
     "name": "stderr",
     "output_type": "stream",
     "text": [
      "Traceback (most recent call last):\n",
      "  File \"/home/sjoerd/seamless/seamless/core/pythreadkernel/__init__.py\", line 173, in run\n",
      "    self.update(self.updated, self.semaphore)\n",
      "  File \"/home/sjoerd/seamless/seamless/core/pythreadkernel/transformer.py\", line 112, in update\n",
      "    raise Exception(msg)\n",
      "Exception: Traceback (most recent call last):\n",
      "  File \"/home/sjoerd/seamless/seamless/core/pythreadkernel/transformer.py\", line 28, in execute\n",
      "    result = eval(expression, namespace)\n",
      "  File \"transformer\", line 1, in <module>\n",
      "  File \"./cell-gen-vertexdata.py in pin: .gen_vertexdata.code\", line 4, in transform\n",
      "    data = np.zeros(N, VertexData.dtype)\n",
      "NameError: name 'VertexData' is not defined\n",
      "\n"
     ]
    },
    {
     "name": "stdout",
     "output_type": "stream",
     "text": [
      "*********** ERROR in transformer Seamless transformer: .gen_vertexdata: execution error **************\n"
     ]
    },
    {
     "name": "stderr",
     "output_type": "stream",
     "text": [
      "Traceback (most recent call last):\n",
      "  File \"/home/sjoerd/seamless/seamless/core/pythreadkernel/__init__.py\", line 173, in run\n",
      "    self.update(self.updated, self.semaphore)\n",
      "  File \"/home/sjoerd/seamless/seamless/core/pythreadkernel/transformer.py\", line 112, in update\n",
      "    raise Exception(msg)\n",
      "Exception: Traceback (most recent call last):\n",
      "  File \"/home/sjoerd/seamless/seamless/core/pythreadkernel/transformer.py\", line 28, in execute\n",
      "    result = eval(expression, namespace)\n",
      "  File \"transformer\", line 1, in <module>\n",
      "  File \"./cell-gen-vertexdata.py in pin: .gen_vertexdata.code\", line 4, in transform\n",
      "    data = np.zeros(N, VertexData.dtype)\n",
      "NameError: name 'VertexData' is not defined\n",
      "\n"
     ]
    },
    {
     "name": "stdout",
     "output_type": "stream",
     "text": [
      "*********** ERROR in transformer Seamless transformer: .gen_vertexdata: execution error **************\n"
     ]
    },
    {
     "name": "stderr",
     "output_type": "stream",
     "text": [
      "Traceback (most recent call last):\n",
      "  File \"/home/sjoerd/seamless/seamless/core/pythreadkernel/__init__.py\", line 173, in run\n",
      "    self.update(self.updated, self.semaphore)\n",
      "  File \"/home/sjoerd/seamless/seamless/core/pythreadkernel/transformer.py\", line 112, in update\n",
      "    raise Exception(msg)\n",
      "Exception: Traceback (most recent call last):\n",
      "  File \"/home/sjoerd/seamless/seamless/core/pythreadkernel/transformer.py\", line 28, in execute\n",
      "    result = eval(expression, namespace)\n",
      "  File \"transformer\", line 1, in <module>\n",
      "  File \"./cell-gen-vertexdata.py in pin: .gen_vertexdata.code\", line 4, in transform\n",
      "    data = np.zeros(N, VertexData.dtype)\n",
      "NameError: name 'VertexData' is not defined\n",
      "\n"
     ]
    },
    {
     "name": "stdout",
     "output_type": "stream",
     "text": [
      "*********** ERROR in transformer Seamless transformer: .gen_vertexdata: execution error **************\n"
     ]
    },
    {
     "name": "stderr",
     "output_type": "stream",
     "text": [
      "Traceback (most recent call last):\n",
      "  File \"/home/sjoerd/seamless/seamless/core/pythreadkernel/__init__.py\", line 173, in run\n",
      "    self.update(self.updated, self.semaphore)\n",
      "  File \"/home/sjoerd/seamless/seamless/core/pythreadkernel/transformer.py\", line 112, in update\n",
      "    raise Exception(msg)\n",
      "Exception: Traceback (most recent call last):\n",
      "  File \"/home/sjoerd/seamless/seamless/core/pythreadkernel/transformer.py\", line 28, in execute\n",
      "    result = eval(expression, namespace)\n",
      "  File \"transformer\", line 1, in <module>\n",
      "  File \"./cell-gen-vertexdata.py in pin: .gen_vertexdata.code\", line 4, in transform\n",
      "    data = np.zeros(N, VertexData.dtype)\n",
      "NameError: name 'VertexData' is not defined\n",
      "\n"
     ]
    },
    {
     "name": "stdout",
     "output_type": "stream",
     "text": [
      "*********** ERROR in transformer Seamless transformer: .gen_vertexdata: execution error **************\n"
     ]
    },
    {
     "name": "stderr",
     "output_type": "stream",
     "text": [
      "Traceback (most recent call last):\n",
      "  File \"/home/sjoerd/seamless/seamless/core/pythreadkernel/__init__.py\", line 173, in run\n",
      "    self.update(self.updated, self.semaphore)\n",
      "  File \"/home/sjoerd/seamless/seamless/core/pythreadkernel/transformer.py\", line 112, in update\n",
      "    raise Exception(msg)\n",
      "Exception: Traceback (most recent call last):\n",
      "  File \"/home/sjoerd/seamless/seamless/core/pythreadkernel/transformer.py\", line 28, in execute\n",
      "    result = eval(expression, namespace)\n",
      "  File \"transformer\", line 1, in <module>\n",
      "  File \"./cell-gen-vertexdata.py in pin: .gen_vertexdata.code\", line 4, in transform\n",
      "    data = np.zeros(N, VertexData.dtype)\n",
      "NameError: name 'VertexData' is not defined\n",
      "\n"
     ]
    },
    {
     "name": "stdout",
     "output_type": "stream",
     "text": [
      "*********** ERROR in transformer Seamless transformer: .gen_vertexdata: execution error **************\n"
     ]
    },
    {
     "name": "stderr",
     "output_type": "stream",
     "text": [
      "Traceback (most recent call last):\n",
      "  File \"/home/sjoerd/seamless/seamless/core/pythreadkernel/__init__.py\", line 173, in run\n",
      "    self.update(self.updated, self.semaphore)\n",
      "  File \"/home/sjoerd/seamless/seamless/core/pythreadkernel/transformer.py\", line 112, in update\n",
      "    raise Exception(msg)\n",
      "Exception: Traceback (most recent call last):\n",
      "  File \"/home/sjoerd/seamless/seamless/core/pythreadkernel/transformer.py\", line 28, in execute\n",
      "    result = eval(expression, namespace)\n",
      "  File \"transformer\", line 1, in <module>\n",
      "  File \"./cell-gen-vertexdata.py in pin: .gen_vertexdata.code\", line 4, in transform\n",
      "    data = np.zeros(N, VertexData.dtype)\n",
      "NameError: name 'VertexData' is not defined\n",
      "\n"
     ]
    },
    {
     "name": "stdout",
     "output_type": "stream",
     "text": [
      "*********** ERROR in transformer Seamless transformer: .gen_vertexdata: execution error **************\n"
     ]
    },
    {
     "name": "stderr",
     "output_type": "stream",
     "text": [
      "Traceback (most recent call last):\n",
      "  File \"/home/sjoerd/seamless/seamless/core/pythreadkernel/__init__.py\", line 173, in run\n",
      "    self.update(self.updated, self.semaphore)\n",
      "  File \"/home/sjoerd/seamless/seamless/core/pythreadkernel/transformer.py\", line 112, in update\n",
      "    raise Exception(msg)\n",
      "Exception: Traceback (most recent call last):\n",
      "  File \"/home/sjoerd/seamless/seamless/core/pythreadkernel/transformer.py\", line 28, in execute\n",
      "    result = eval(expression, namespace)\n",
      "  File \"transformer\", line 1, in <module>\n",
      "  File \"./cell-gen-vertexdata.py in pin: .gen_vertexdata.code\", line 4, in transform\n",
      "    data = np.zeros(N, VertexData.dtype)\n",
      "NameError: name 'VertexData' is not defined\n",
      "\n"
     ]
    },
    {
     "name": "stdout",
     "output_type": "stream",
     "text": [
      "*********** ERROR in transformer Seamless transformer: .gen_vertexdata: execution error **************\n"
     ]
    },
    {
     "name": "stderr",
     "output_type": "stream",
     "text": [
      "Traceback (most recent call last):\n",
      "  File \"/home/sjoerd/seamless/seamless/core/pythreadkernel/__init__.py\", line 173, in run\n",
      "    self.update(self.updated, self.semaphore)\n",
      "  File \"/home/sjoerd/seamless/seamless/core/pythreadkernel/transformer.py\", line 112, in update\n",
      "    raise Exception(msg)\n",
      "Exception: Traceback (most recent call last):\n",
      "  File \"/home/sjoerd/seamless/seamless/core/pythreadkernel/transformer.py\", line 28, in execute\n",
      "    result = eval(expression, namespace)\n",
      "  File \"transformer\", line 1, in <module>\n",
      "  File \"./cell-gen-vertexdata.py in pin: .gen_vertexdata.code\", line 4, in transform\n",
      "    data = np.zeros(N, VertexData.dtype)\n",
      "NameError: name 'VertexData' is not defined\n",
      "\n"
     ]
    },
    {
     "name": "stdout",
     "output_type": "stream",
     "text": [
      "*********** ERROR in transformer Seamless transformer: .gen_vertexdata: execution error **************\n"
     ]
    },
    {
     "name": "stderr",
     "output_type": "stream",
     "text": [
      "Traceback (most recent call last):\n",
      "  File \"/home/sjoerd/seamless/seamless/core/pythreadkernel/__init__.py\", line 173, in run\n",
      "    self.update(self.updated, self.semaphore)\n",
      "  File \"/home/sjoerd/seamless/seamless/core/pythreadkernel/transformer.py\", line 112, in update\n",
      "    raise Exception(msg)\n",
      "Exception: Traceback (most recent call last):\n",
      "  File \"/home/sjoerd/seamless/seamless/core/pythreadkernel/transformer.py\", line 28, in execute\n",
      "    result = eval(expression, namespace)\n",
      "  File \"transformer\", line 1, in <module>\n",
      "  File \"./cell-gen-vertexdata.py in pin: .gen_vertexdata.code\", line 4, in transform\n",
      "    data = np.zeros(N, VertexData.dtype)\n",
      "NameError: name 'VertexData' is not defined\n",
      "\n"
     ]
    },
    {
     "name": "stdout",
     "output_type": "stream",
     "text": [
      "*********** ERROR in transformer Seamless transformer: .gen_vertexdata: execution error **************\n"
     ]
    },
    {
     "name": "stderr",
     "output_type": "stream",
     "text": [
      "Traceback (most recent call last):\n",
      "  File \"/home/sjoerd/seamless/seamless/core/pythreadkernel/__init__.py\", line 173, in run\n",
      "    self.update(self.updated, self.semaphore)\n",
      "  File \"/home/sjoerd/seamless/seamless/core/pythreadkernel/transformer.py\", line 112, in update\n",
      "    raise Exception(msg)\n",
      "Exception: Traceback (most recent call last):\n",
      "  File \"/home/sjoerd/seamless/seamless/core/pythreadkernel/transformer.py\", line 28, in execute\n",
      "    result = eval(expression, namespace)\n",
      "  File \"transformer\", line 1, in <module>\n",
      "  File \"./cell-gen-vertexdata.py in pin: .gen_vertexdata.code\", line 4, in transform\n",
      "    data = np.zeros(N, VertexData.dtype)\n",
      "NameError: name 'VertexData' is not defined\n",
      "\n"
     ]
    },
    {
     "name": "stdout",
     "output_type": "stream",
     "text": [
      "*********** ERROR in transformer Seamless transformer: .gen_vertexdata: execution error **************\n"
     ]
    },
    {
     "name": "stderr",
     "output_type": "stream",
     "text": [
      "Traceback (most recent call last):\n",
      "  File \"/home/sjoerd/seamless/seamless/core/pythreadkernel/__init__.py\", line 173, in run\n",
      "    self.update(self.updated, self.semaphore)\n",
      "  File \"/home/sjoerd/seamless/seamless/core/pythreadkernel/transformer.py\", line 112, in update\n",
      "    raise Exception(msg)\n",
      "Exception: Traceback (most recent call last):\n",
      "  File \"/home/sjoerd/seamless/seamless/core/pythreadkernel/transformer.py\", line 28, in execute\n",
      "    result = eval(expression, namespace)\n",
      "  File \"transformer\", line 1, in <module>\n",
      "  File \"./cell-gen-vertexdata.py in pin: .gen_vertexdata.code\", line 4, in transform\n",
      "    data = np.zeros(N, VertexData.dtype)\n",
      "NameError: name 'VertexData' is not defined\n",
      "\n"
     ]
    },
    {
     "name": "stdout",
     "output_type": "stream",
     "text": [
      "*********** ERROR in transformer Seamless transformer: .gen_vertexdata: execution error **************\n"
     ]
    },
    {
     "name": "stderr",
     "output_type": "stream",
     "text": [
      "Traceback (most recent call last):\n",
      "  File \"/home/sjoerd/seamless/seamless/core/pythreadkernel/__init__.py\", line 173, in run\n",
      "    self.update(self.updated, self.semaphore)\n",
      "  File \"/home/sjoerd/seamless/seamless/core/pythreadkernel/transformer.py\", line 112, in update\n",
      "    raise Exception(msg)\n",
      "Exception: Traceback (most recent call last):\n",
      "  File \"/home/sjoerd/seamless/seamless/core/pythreadkernel/transformer.py\", line 28, in execute\n",
      "    result = eval(expression, namespace)\n",
      "  File \"transformer\", line 1, in <module>\n",
      "  File \"./cell-gen-vertexdata.py in pin: .gen_vertexdata.code\", line 4, in transform\n",
      "    data = np.zeros(N, VertexData.dtype)\n",
      "NameError: name 'VertexData' is not defined\n",
      "\n"
     ]
    },
    {
     "name": "stdout",
     "output_type": "stream",
     "text": [
      "*********** ERROR in transformer Seamless transformer: .gen_vertexdata: execution error **************\n"
     ]
    },
    {
     "name": "stderr",
     "output_type": "stream",
     "text": [
      "Traceback (most recent call last):\n",
      "  File \"/home/sjoerd/seamless/seamless/core/pythreadkernel/__init__.py\", line 173, in run\n",
      "    self.update(self.updated, self.semaphore)\n",
      "  File \"/home/sjoerd/seamless/seamless/core/pythreadkernel/transformer.py\", line 112, in update\n",
      "    raise Exception(msg)\n",
      "Exception: Traceback (most recent call last):\n",
      "  File \"/home/sjoerd/seamless/seamless/core/pythreadkernel/transformer.py\", line 28, in execute\n",
      "    result = eval(expression, namespace)\n",
      "  File \"transformer\", line 1, in <module>\n",
      "  File \"./cell-gen-vertexdata.py in pin: .gen_vertexdata.code\", line 4, in transform\n",
      "    data = np.zeros(N, VertexData.dtype)\n",
      "NameError: name 'VertexData' is not defined\n",
      "\n"
     ]
    },
    {
     "name": "stdout",
     "output_type": "stream",
     "text": [
      "*********** ERROR in transformer Seamless transformer: .gen_vertexdata: execution error **************\n"
     ]
    },
    {
     "name": "stderr",
     "output_type": "stream",
     "text": [
      "Traceback (most recent call last):\n",
      "  File \"/home/sjoerd/seamless/seamless/core/pythreadkernel/__init__.py\", line 173, in run\n",
      "    self.update(self.updated, self.semaphore)\n",
      "  File \"/home/sjoerd/seamless/seamless/core/pythreadkernel/transformer.py\", line 112, in update\n",
      "    raise Exception(msg)\n",
      "Exception: Traceback (most recent call last):\n",
      "  File \"/home/sjoerd/seamless/seamless/core/pythreadkernel/transformer.py\", line 28, in execute\n",
      "    result = eval(expression, namespace)\n",
      "  File \"transformer\", line 1, in <module>\n",
      "  File \"./cell-gen-vertexdata.py in pin: .gen_vertexdata.code\", line 4, in transform\n",
      "    data = np.zeros(N, VertexData.dtype)\n",
      "NameError: name 'VertexData' is not defined\n",
      "\n"
     ]
    },
    {
     "name": "stdout",
     "output_type": "stream",
     "text": [
      "*********** ERROR in transformer Seamless transformer: .gen_vertexdata: execution error **************\n"
     ]
    },
    {
     "name": "stderr",
     "output_type": "stream",
     "text": [
      "Traceback (most recent call last):\n",
      "  File \"/home/sjoerd/seamless/seamless/core/pythreadkernel/__init__.py\", line 173, in run\n",
      "    self.update(self.updated, self.semaphore)\n",
      "  File \"/home/sjoerd/seamless/seamless/core/pythreadkernel/transformer.py\", line 112, in update\n",
      "    raise Exception(msg)\n",
      "Exception: Traceback (most recent call last):\n",
      "  File \"/home/sjoerd/seamless/seamless/core/pythreadkernel/transformer.py\", line 28, in execute\n",
      "    result = eval(expression, namespace)\n",
      "  File \"transformer\", line 1, in <module>\n",
      "  File \"./cell-gen-vertexdata.py in pin: .gen_vertexdata.code\", line 4, in transform\n",
      "    data = np.zeros(N, VertexData.dtype)\n",
      "NameError: name 'VertexData' is not defined\n",
      "\n"
     ]
    },
    {
     "name": "stdout",
     "output_type": "stream",
     "text": [
      "*********** ERROR in transformer Seamless transformer: .gen_vertexdata: execution error **************\n"
     ]
    },
    {
     "name": "stderr",
     "output_type": "stream",
     "text": [
      "Traceback (most recent call last):\n",
      "  File \"/home/sjoerd/seamless/seamless/core/pythreadkernel/__init__.py\", line 173, in run\n",
      "    self.update(self.updated, self.semaphore)\n",
      "  File \"/home/sjoerd/seamless/seamless/core/pythreadkernel/transformer.py\", line 112, in update\n",
      "    raise Exception(msg)\n",
      "Exception: Traceback (most recent call last):\n",
      "  File \"/home/sjoerd/seamless/seamless/core/pythreadkernel/transformer.py\", line 28, in execute\n",
      "    result = eval(expression, namespace)\n",
      "  File \"transformer\", line 1, in <module>\n",
      "  File \"./cell-gen-vertexdata.py in pin: .gen_vertexdata.code\", line 4, in transform\n",
      "    data = np.zeros(N, VertexData.dtype)\n",
      "NameError: name 'VertexData' is not defined\n",
      "\n"
     ]
    },
    {
     "name": "stdout",
     "output_type": "stream",
     "text": [
      "*********** ERROR in transformer Seamless transformer: .gen_vertexdata: execution error **************\n"
     ]
    },
    {
     "name": "stderr",
     "output_type": "stream",
     "text": [
      "Traceback (most recent call last):\n",
      "  File \"/home/sjoerd/seamless/seamless/core/pythreadkernel/__init__.py\", line 173, in run\n",
      "    self.update(self.updated, self.semaphore)\n",
      "  File \"/home/sjoerd/seamless/seamless/core/pythreadkernel/transformer.py\", line 112, in update\n",
      "    raise Exception(msg)\n",
      "Exception: Traceback (most recent call last):\n",
      "  File \"/home/sjoerd/seamless/seamless/core/pythreadkernel/transformer.py\", line 28, in execute\n",
      "    result = eval(expression, namespace)\n",
      "  File \"transformer\", line 1, in <module>\n",
      "  File \"./cell-gen-vertexdata.py in pin: .gen_vertexdata.code\", line 4, in transform\n",
      "    data = np.zeros(N, VertexData.dtype)\n",
      "NameError: name 'VertexData' is not defined\n",
      "\n"
     ]
    },
    {
     "name": "stdout",
     "output_type": "stream",
     "text": [
      "*********** ERROR in transformer Seamless transformer: .gen_vertexdata: execution error **************\n"
     ]
    },
    {
     "name": "stderr",
     "output_type": "stream",
     "text": [
      "Traceback (most recent call last):\n",
      "  File \"/home/sjoerd/seamless/seamless/core/pythreadkernel/__init__.py\", line 173, in run\n",
      "    self.update(self.updated, self.semaphore)\n",
      "  File \"/home/sjoerd/seamless/seamless/core/pythreadkernel/transformer.py\", line 112, in update\n",
      "    raise Exception(msg)\n",
      "Exception: Traceback (most recent call last):\n",
      "  File \"/home/sjoerd/seamless/seamless/core/pythreadkernel/transformer.py\", line 28, in execute\n",
      "    result = eval(expression, namespace)\n",
      "  File \"transformer\", line 1, in <module>\n",
      "  File \"./cell-gen-vertexdata.py in pin: .gen_vertexdata.code\", line 4, in transform\n",
      "    data = np.zeros(N, VertexData.dtype)\n",
      "NameError: name 'VertexData' is not defined\n",
      "\n"
     ]
    },
    {
     "name": "stdout",
     "output_type": "stream",
     "text": [
      "*********** ERROR in transformer Seamless transformer: .gen_vertexdata: execution error **************\n"
     ]
    },
    {
     "name": "stderr",
     "output_type": "stream",
     "text": [
      "Traceback (most recent call last):\n",
      "  File \"/home/sjoerd/seamless/seamless/core/pythreadkernel/__init__.py\", line 173, in run\n",
      "    self.update(self.updated, self.semaphore)\n",
      "  File \"/home/sjoerd/seamless/seamless/core/pythreadkernel/transformer.py\", line 112, in update\n",
      "    raise Exception(msg)\n",
      "Exception: Traceback (most recent call last):\n",
      "  File \"/home/sjoerd/seamless/seamless/core/pythreadkernel/transformer.py\", line 28, in execute\n",
      "    result = eval(expression, namespace)\n",
      "  File \"transformer\", line 1, in <module>\n",
      "  File \"./cell-gen-vertexdata.py in pin: .gen_vertexdata.code\", line 4, in transform\n",
      "    data = np.zeros(N, VertexData.dtype)\n",
      "NameError: name 'VertexData' is not defined\n",
      "\n"
     ]
    },
    {
     "name": "stdout",
     "output_type": "stream",
     "text": [
      "*********** ERROR in transformer Seamless transformer: .gen_vertexdata: execution error **************\n"
     ]
    },
    {
     "name": "stderr",
     "output_type": "stream",
     "text": [
      "Traceback (most recent call last):\n",
      "  File \"/home/sjoerd/seamless/seamless/core/pythreadkernel/__init__.py\", line 173, in run\n",
      "    self.update(self.updated, self.semaphore)\n",
      "  File \"/home/sjoerd/seamless/seamless/core/pythreadkernel/transformer.py\", line 112, in update\n",
      "    raise Exception(msg)\n",
      "Exception: Traceback (most recent call last):\n",
      "  File \"/home/sjoerd/seamless/seamless/core/pythreadkernel/transformer.py\", line 28, in execute\n",
      "    result = eval(expression, namespace)\n",
      "  File \"transformer\", line 1, in <module>\n",
      "  File \"./cell-gen-vertexdata.py in pin: .gen_vertexdata.code\", line 4, in transform\n",
      "    data = np.zeros(N, VertexData.dtype)\n",
      "NameError: name 'VertexData' is not defined\n",
      "\n"
     ]
    },
    {
     "name": "stdout",
     "output_type": "stream",
     "text": [
      "*********** ERROR in transformer Seamless transformer: .gen_vertexdata: execution error **************\n"
     ]
    },
    {
     "name": "stderr",
     "output_type": "stream",
     "text": [
      "Traceback (most recent call last):\n",
      "  File \"/home/sjoerd/seamless/seamless/core/pythreadkernel/__init__.py\", line 173, in run\n",
      "    self.update(self.updated, self.semaphore)\n",
      "  File \"/home/sjoerd/seamless/seamless/core/pythreadkernel/transformer.py\", line 112, in update\n",
      "    raise Exception(msg)\n",
      "Exception: Traceback (most recent call last):\n",
      "  File \"/home/sjoerd/seamless/seamless/core/pythreadkernel/transformer.py\", line 28, in execute\n",
      "    result = eval(expression, namespace)\n",
      "  File \"transformer\", line 1, in <module>\n",
      "  File \"./cell-gen-vertexdata.py in pin: .gen_vertexdata.code\", line 4, in transform\n",
      "    data = np.zeros(N, VertexData.dtype)\n",
      "NameError: name 'VertexData' is not defined\n",
      "\n"
     ]
    },
    {
     "name": "stdout",
     "output_type": "stream",
     "text": [
      "*********** ERROR in transformer Seamless transformer: .gen_vertexdata: execution error **************\n"
     ]
    },
    {
     "name": "stderr",
     "output_type": "stream",
     "text": [
      "Traceback (most recent call last):\n",
      "  File \"/home/sjoerd/seamless/seamless/core/pythreadkernel/__init__.py\", line 173, in run\n",
      "    self.update(self.updated, self.semaphore)\n",
      "  File \"/home/sjoerd/seamless/seamless/core/pythreadkernel/transformer.py\", line 112, in update\n",
      "    raise Exception(msg)\n",
      "Exception: Traceback (most recent call last):\n",
      "  File \"/home/sjoerd/seamless/seamless/core/pythreadkernel/transformer.py\", line 28, in execute\n",
      "    result = eval(expression, namespace)\n",
      "  File \"transformer\", line 1, in <module>\n",
      "  File \"./cell-gen-vertexdata.py in pin: .gen_vertexdata.code\", line 4, in transform\n",
      "    data = np.zeros(N, VertexData.dtype)\n",
      "NameError: name 'VertexData' is not defined\n",
      "\n"
     ]
    },
    {
     "name": "stdout",
     "output_type": "stream",
     "text": [
      "*********** ERROR in transformer Seamless transformer: .gen_vertexdata: execution error **************\n"
     ]
    },
    {
     "name": "stderr",
     "output_type": "stream",
     "text": [
      "Traceback (most recent call last):\n",
      "  File \"/home/sjoerd/seamless/seamless/core/pythreadkernel/__init__.py\", line 173, in run\n",
      "    self.update(self.updated, self.semaphore)\n",
      "  File \"/home/sjoerd/seamless/seamless/core/pythreadkernel/transformer.py\", line 112, in update\n",
      "    raise Exception(msg)\n",
      "Exception: Traceback (most recent call last):\n",
      "  File \"/home/sjoerd/seamless/seamless/core/pythreadkernel/transformer.py\", line 28, in execute\n",
      "    result = eval(expression, namespace)\n",
      "  File \"transformer\", line 1, in <module>\n",
      "  File \"./cell-gen-vertexdata.py in pin: .gen_vertexdata.code\", line 4, in transform\n",
      "    data = np.zeros(N, VertexData.dtype)\n",
      "NameError: name 'VertexData' is not defined\n",
      "\n"
     ]
    },
    {
     "name": "stdout",
     "output_type": "stream",
     "text": [
      "*********** ERROR in transformer Seamless transformer: .gen_vertexdata: execution error **************\n"
     ]
    },
    {
     "name": "stderr",
     "output_type": "stream",
     "text": [
      "Traceback (most recent call last):\n",
      "  File \"/home/sjoerd/seamless/seamless/core/pythreadkernel/__init__.py\", line 173, in run\n",
      "    self.update(self.updated, self.semaphore)\n",
      "  File \"/home/sjoerd/seamless/seamless/core/pythreadkernel/transformer.py\", line 112, in update\n",
      "    raise Exception(msg)\n",
      "Exception: Traceback (most recent call last):\n",
      "  File \"/home/sjoerd/seamless/seamless/core/pythreadkernel/transformer.py\", line 28, in execute\n",
      "    result = eval(expression, namespace)\n",
      "  File \"transformer\", line 1, in <module>\n",
      "  File \"./cell-gen-vertexdata.py in pin: .gen_vertexdata.code\", line 4, in transform\n",
      "    data = np.zeros(N, VertexData.dtype)\n",
      "NameError: name 'VertexData' is not defined\n",
      "\n"
     ]
    },
    {
     "name": "stdout",
     "output_type": "stream",
     "text": [
      "*********** ERROR in transformer Seamless transformer: .gen_vertexdata: execution error **************\n"
     ]
    },
    {
     "name": "stderr",
     "output_type": "stream",
     "text": [
      "Traceback (most recent call last):\n",
      "  File \"/home/sjoerd/seamless/seamless/core/pythreadkernel/__init__.py\", line 173, in run\n",
      "    self.update(self.updated, self.semaphore)\n",
      "  File \"/home/sjoerd/seamless/seamless/core/pythreadkernel/transformer.py\", line 112, in update\n",
      "    raise Exception(msg)\n",
      "Exception: Traceback (most recent call last):\n",
      "  File \"/home/sjoerd/seamless/seamless/core/pythreadkernel/transformer.py\", line 28, in execute\n",
      "    result = eval(expression, namespace)\n",
      "  File \"transformer\", line 1, in <module>\n",
      "  File \"./cell-gen-vertexdata.py in pin: .gen_vertexdata.code\", line 4, in transform\n",
      "    data = np.zeros(N, VertexData.dtype)\n",
      "NameError: name 'VertexData' is not defined\n",
      "\n"
     ]
    },
    {
     "name": "stdout",
     "output_type": "stream",
     "text": [
      "*********** ERROR in transformer Seamless transformer: .gen_vertexdata: execution error **************\n"
     ]
    },
    {
     "name": "stderr",
     "output_type": "stream",
     "text": [
      "Traceback (most recent call last):\n",
      "  File \"/home/sjoerd/seamless/seamless/core/pythreadkernel/__init__.py\", line 173, in run\n",
      "    self.update(self.updated, self.semaphore)\n",
      "  File \"/home/sjoerd/seamless/seamless/core/pythreadkernel/transformer.py\", line 112, in update\n",
      "    raise Exception(msg)\n",
      "Exception: Traceback (most recent call last):\n",
      "  File \"/home/sjoerd/seamless/seamless/core/pythreadkernel/transformer.py\", line 28, in execute\n",
      "    result = eval(expression, namespace)\n",
      "  File \"transformer\", line 1, in <module>\n",
      "  File \"./cell-gen-vertexdata.py in pin: .gen_vertexdata.code\", line 4, in transform\n",
      "    data = np.zeros(N, VertexData.dtype)\n",
      "NameError: name 'VertexData' is not defined\n",
      "\n"
     ]
    },
    {
     "name": "stdout",
     "output_type": "stream",
     "text": [
      "*********** ERROR in transformer Seamless transformer: .gen_vertexdata: execution error **************\n"
     ]
    },
    {
     "name": "stderr",
     "output_type": "stream",
     "text": [
      "Traceback (most recent call last):\n",
      "  File \"/home/sjoerd/seamless/seamless/core/pythreadkernel/__init__.py\", line 173, in run\n",
      "    self.update(self.updated, self.semaphore)\n",
      "  File \"/home/sjoerd/seamless/seamless/core/pythreadkernel/transformer.py\", line 112, in update\n",
      "    raise Exception(msg)\n",
      "Exception: Traceback (most recent call last):\n",
      "  File \"/home/sjoerd/seamless/seamless/core/pythreadkernel/transformer.py\", line 28, in execute\n",
      "    result = eval(expression, namespace)\n",
      "  File \"transformer\", line 1, in <module>\n",
      "  File \"./cell-gen-vertexdata.py in pin: .gen_vertexdata.code\", line 4, in transform\n",
      "    data = np.zeros(N, VertexData.dtype)\n",
      "NameError: name 'VertexData' is not defined\n",
      "\n"
     ]
    },
    {
     "name": "stdout",
     "output_type": "stream",
     "text": [
      "*********** ERROR in transformer Seamless transformer: .gen_vertexdata: execution error **************\n"
     ]
    },
    {
     "name": "stderr",
     "output_type": "stream",
     "text": [
      "Traceback (most recent call last):\n",
      "  File \"/home/sjoerd/seamless/seamless/core/pythreadkernel/__init__.py\", line 173, in run\n",
      "    self.update(self.updated, self.semaphore)\n",
      "  File \"/home/sjoerd/seamless/seamless/core/pythreadkernel/transformer.py\", line 112, in update\n",
      "    raise Exception(msg)\n",
      "Exception: Traceback (most recent call last):\n",
      "  File \"/home/sjoerd/seamless/seamless/core/pythreadkernel/transformer.py\", line 28, in execute\n",
      "    result = eval(expression, namespace)\n",
      "  File \"transformer\", line 1, in <module>\n",
      "  File \"./cell-gen-vertexdata.py in pin: .gen_vertexdata.code\", line 4, in transform\n",
      "    data = np.zeros(N, VertexData.dtype)\n",
      "NameError: name 'VertexData' is not defined\n",
      "\n"
     ]
    },
    {
     "name": "stdout",
     "output_type": "stream",
     "text": [
      "*********** ERROR in transformer Seamless transformer: .gen_vertexdata: execution error **************\n"
     ]
    },
    {
     "name": "stderr",
     "output_type": "stream",
     "text": [
      "Traceback (most recent call last):\n",
      "  File \"/home/sjoerd/seamless/seamless/core/pythreadkernel/__init__.py\", line 173, in run\n",
      "    self.update(self.updated, self.semaphore)\n",
      "  File \"/home/sjoerd/seamless/seamless/core/pythreadkernel/transformer.py\", line 112, in update\n",
      "    raise Exception(msg)\n",
      "Exception: Traceback (most recent call last):\n",
      "  File \"/home/sjoerd/seamless/seamless/core/pythreadkernel/transformer.py\", line 28, in execute\n",
      "    result = eval(expression, namespace)\n",
      "  File \"transformer\", line 1, in <module>\n",
      "  File \"./cell-gen-vertexdata.py in pin: .gen_vertexdata.code\", line 4, in transform\n",
      "    data = np.zeros(N, VertexData.dtype)\n",
      "NameError: name 'VertexData' is not defined\n",
      "\n"
     ]
    },
    {
     "name": "stdout",
     "output_type": "stream",
     "text": [
      "*********** ERROR in transformer Seamless transformer: .gen_vertexdata: execution error **************\n"
     ]
    },
    {
     "name": "stderr",
     "output_type": "stream",
     "text": [
      "Traceback (most recent call last):\n",
      "  File \"/home/sjoerd/seamless/seamless/core/pythreadkernel/__init__.py\", line 173, in run\n",
      "    self.update(self.updated, self.semaphore)\n",
      "  File \"/home/sjoerd/seamless/seamless/core/pythreadkernel/transformer.py\", line 112, in update\n",
      "    raise Exception(msg)\n",
      "Exception: Traceback (most recent call last):\n",
      "  File \"/home/sjoerd/seamless/seamless/core/pythreadkernel/transformer.py\", line 28, in execute\n",
      "    result = eval(expression, namespace)\n",
      "  File \"transformer\", line 1, in <module>\n",
      "  File \"./cell-gen-vertexdata.py in pin: .gen_vertexdata.code\", line 4, in transform\n",
      "    data = np.zeros(N, VertexData.dtype)\n",
      "NameError: name 'VertexData' is not defined\n",
      "\n"
     ]
    },
    {
     "name": "stdout",
     "output_type": "stream",
     "text": [
      "*********** ERROR in transformer Seamless transformer: .gen_vertexdata: execution error **************\n"
     ]
    },
    {
     "name": "stderr",
     "output_type": "stream",
     "text": [
      "Traceback (most recent call last):\n",
      "  File \"/home/sjoerd/seamless/seamless/core/pythreadkernel/__init__.py\", line 173, in run\n",
      "    self.update(self.updated, self.semaphore)\n",
      "  File \"/home/sjoerd/seamless/seamless/core/pythreadkernel/transformer.py\", line 112, in update\n",
      "    raise Exception(msg)\n",
      "Exception: Traceback (most recent call last):\n",
      "  File \"/home/sjoerd/seamless/seamless/core/pythreadkernel/transformer.py\", line 28, in execute\n",
      "    result = eval(expression, namespace)\n",
      "  File \"transformer\", line 1, in <module>\n",
      "  File \"./cell-gen-vertexdata.py in pin: .gen_vertexdata.code\", line 4, in transform\n",
      "    data = np.zeros(N, VertexData.dtype)\n",
      "NameError: name 'VertexData' is not defined\n",
      "\n"
     ]
    },
    {
     "name": "stdout",
     "output_type": "stream",
     "text": [
      "*********** ERROR in transformer Seamless transformer: .gen_vertexdata: execution error **************\n"
     ]
    },
    {
     "name": "stderr",
     "output_type": "stream",
     "text": [
      "Traceback (most recent call last):\n",
      "  File \"/home/sjoerd/seamless/seamless/core/pythreadkernel/__init__.py\", line 173, in run\n",
      "    self.update(self.updated, self.semaphore)\n",
      "  File \"/home/sjoerd/seamless/seamless/core/pythreadkernel/transformer.py\", line 112, in update\n",
      "    raise Exception(msg)\n",
      "Exception: Traceback (most recent call last):\n",
      "  File \"/home/sjoerd/seamless/seamless/core/pythreadkernel/transformer.py\", line 28, in execute\n",
      "    result = eval(expression, namespace)\n",
      "  File \"transformer\", line 1, in <module>\n",
      "  File \"./cell-gen-vertexdata.py in pin: .gen_vertexdata.code\", line 4, in transform\n",
      "    data = np.zeros(N, VertexData.dtype)\n",
      "NameError: name 'VertexData' is not defined\n",
      "\n"
     ]
    },
    {
     "name": "stdout",
     "output_type": "stream",
     "text": [
      "*********** ERROR in transformer Seamless transformer: .gen_vertexdata: execution error **************\n"
     ]
    },
    {
     "name": "stderr",
     "output_type": "stream",
     "text": [
      "Traceback (most recent call last):\n",
      "  File \"/home/sjoerd/seamless/seamless/core/pythreadkernel/__init__.py\", line 173, in run\n",
      "    self.update(self.updated, self.semaphore)\n",
      "  File \"/home/sjoerd/seamless/seamless/core/pythreadkernel/transformer.py\", line 112, in update\n",
      "    raise Exception(msg)\n",
      "Exception: Traceback (most recent call last):\n",
      "  File \"/home/sjoerd/seamless/seamless/core/pythreadkernel/transformer.py\", line 28, in execute\n",
      "    result = eval(expression, namespace)\n",
      "  File \"transformer\", line 1, in <module>\n",
      "  File \"./cell-gen-vertexdata.py in pin: .gen_vertexdata.code\", line 4, in transform\n",
      "    data = np.zeros(N, VertexData.dtype)\n",
      "NameError: name 'VertexData' is not defined\n",
      "\n"
     ]
    },
    {
     "name": "stdout",
     "output_type": "stream",
     "text": [
      "*********** ERROR in transformer Seamless transformer: .gen_vertexdata: execution error **************\n"
     ]
    },
    {
     "name": "stderr",
     "output_type": "stream",
     "text": [
      "Traceback (most recent call last):\n",
      "  File \"/home/sjoerd/seamless/seamless/core/pythreadkernel/__init__.py\", line 173, in run\n",
      "    self.update(self.updated, self.semaphore)\n",
      "  File \"/home/sjoerd/seamless/seamless/core/pythreadkernel/transformer.py\", line 112, in update\n",
      "    raise Exception(msg)\n",
      "Exception: Traceback (most recent call last):\n",
      "  File \"/home/sjoerd/seamless/seamless/core/pythreadkernel/transformer.py\", line 28, in execute\n",
      "    result = eval(expression, namespace)\n",
      "  File \"transformer\", line 1, in <module>\n",
      "  File \"./cell-gen-vertexdata.py in pin: .gen_vertexdata.code\", line 4, in transform\n",
      "    data = np.zeros(N, VertexData.dtype)\n",
      "NameError: name 'VertexData' is not defined\n",
      "\n"
     ]
    },
    {
     "name": "stdout",
     "output_type": "stream",
     "text": [
      "*********** ERROR in transformer Seamless transformer: .gen_vertexdata: execution error **************\n"
     ]
    },
    {
     "name": "stderr",
     "output_type": "stream",
     "text": [
      "Traceback (most recent call last):\n",
      "  File \"/home/sjoerd/seamless/seamless/core/pythreadkernel/__init__.py\", line 173, in run\n",
      "    self.update(self.updated, self.semaphore)\n",
      "  File \"/home/sjoerd/seamless/seamless/core/pythreadkernel/transformer.py\", line 112, in update\n",
      "    raise Exception(msg)\n",
      "Exception: Traceback (most recent call last):\n",
      "  File \"/home/sjoerd/seamless/seamless/core/pythreadkernel/transformer.py\", line 28, in execute\n",
      "    result = eval(expression, namespace)\n",
      "  File \"transformer\", line 1, in <module>\n",
      "  File \"./cell-gen-vertexdata.py in pin: .gen_vertexdata.code\", line 4, in transform\n",
      "    data = np.zeros(N, VertexData.dtype)\n",
      "NameError: name 'VertexData' is not defined\n",
      "\n"
     ]
    },
    {
     "name": "stdout",
     "output_type": "stream",
     "text": [
      "*********** ERROR in transformer Seamless transformer: .gen_vertexdata: execution error **************\n"
     ]
    },
    {
     "name": "stderr",
     "output_type": "stream",
     "text": [
      "Traceback (most recent call last):\n",
      "  File \"/home/sjoerd/seamless/seamless/core/pythreadkernel/__init__.py\", line 173, in run\n",
      "    self.update(self.updated, self.semaphore)\n",
      "  File \"/home/sjoerd/seamless/seamless/core/pythreadkernel/transformer.py\", line 112, in update\n",
      "    raise Exception(msg)\n",
      "Exception: Traceback (most recent call last):\n",
      "  File \"/home/sjoerd/seamless/seamless/core/pythreadkernel/transformer.py\", line 28, in execute\n",
      "    result = eval(expression, namespace)\n",
      "  File \"transformer\", line 1, in <module>\n",
      "  File \"./cell-gen-vertexdata.py in pin: .gen_vertexdata.code\", line 4, in transform\n",
      "    data = np.zeros(N, VertexData.dtype)\n",
      "NameError: name 'VertexData' is not defined\n",
      "\n"
     ]
    },
    {
     "name": "stdout",
     "output_type": "stream",
     "text": [
      "*********** ERROR in transformer Seamless transformer: .gen_vertexdata: execution error **************\n"
     ]
    },
    {
     "name": "stderr",
     "output_type": "stream",
     "text": [
      "Traceback (most recent call last):\n",
      "  File \"/home/sjoerd/seamless/seamless/core/pythreadkernel/__init__.py\", line 173, in run\n",
      "    self.update(self.updated, self.semaphore)\n",
      "  File \"/home/sjoerd/seamless/seamless/core/pythreadkernel/transformer.py\", line 112, in update\n",
      "    raise Exception(msg)\n",
      "Exception: Traceback (most recent call last):\n",
      "  File \"/home/sjoerd/seamless/seamless/core/pythreadkernel/transformer.py\", line 28, in execute\n",
      "    result = eval(expression, namespace)\n",
      "  File \"transformer\", line 1, in <module>\n",
      "  File \"./cell-gen-vertexdata.py in pin: .gen_vertexdata.code\", line 4, in transform\n",
      "    data = np.zeros(N, VertexData.dtype)\n",
      "NameError: name 'VertexData' is not defined\n",
      "\n"
     ]
    },
    {
     "name": "stdout",
     "output_type": "stream",
     "text": [
      "*********** ERROR in transformer Seamless transformer: .gen_vertexdata: execution error **************\n"
     ]
    },
    {
     "name": "stderr",
     "output_type": "stream",
     "text": [
      "Traceback (most recent call last):\n",
      "  File \"/home/sjoerd/seamless/seamless/core/pythreadkernel/__init__.py\", line 173, in run\n",
      "    self.update(self.updated, self.semaphore)\n",
      "  File \"/home/sjoerd/seamless/seamless/core/pythreadkernel/transformer.py\", line 112, in update\n",
      "    raise Exception(msg)\n",
      "Exception: Traceback (most recent call last):\n",
      "  File \"/home/sjoerd/seamless/seamless/core/pythreadkernel/transformer.py\", line 28, in execute\n",
      "    result = eval(expression, namespace)\n",
      "  File \"transformer\", line 1, in <module>\n",
      "  File \"./cell-gen-vertexdata.py in pin: .gen_vertexdata.code\", line 4, in transform\n",
      "    data = np.zeros(N, VertexData.dtype)\n",
      "NameError: name 'VertexData' is not defined\n",
      "\n"
     ]
    },
    {
     "name": "stdout",
     "output_type": "stream",
     "text": [
      "*********** ERROR in transformer Seamless transformer: .gen_vertexdata: execution error **************\n"
     ]
    },
    {
     "name": "stderr",
     "output_type": "stream",
     "text": [
      "Traceback (most recent call last):\n",
      "  File \"/home/sjoerd/seamless/seamless/core/pythreadkernel/__init__.py\", line 173, in run\n",
      "    self.update(self.updated, self.semaphore)\n",
      "  File \"/home/sjoerd/seamless/seamless/core/pythreadkernel/transformer.py\", line 112, in update\n",
      "    raise Exception(msg)\n",
      "Exception: Traceback (most recent call last):\n",
      "  File \"/home/sjoerd/seamless/seamless/core/pythreadkernel/transformer.py\", line 28, in execute\n",
      "    result = eval(expression, namespace)\n",
      "  File \"transformer\", line 1, in <module>\n",
      "  File \"./cell-gen-vertexdata.py in pin: .gen_vertexdata.code\", line 4, in transform\n",
      "    data = np.zeros(N, VertexData.dtype)\n",
      "NameError: name 'VertexData' is not defined\n",
      "\n"
     ]
    },
    {
     "name": "stdout",
     "output_type": "stream",
     "text": [
      "*********** ERROR in transformer Seamless transformer: .gen_vertexdata: execution error **************\n"
     ]
    },
    {
     "name": "stderr",
     "output_type": "stream",
     "text": [
      "Traceback (most recent call last):\n",
      "  File \"/home/sjoerd/seamless/seamless/core/pythreadkernel/__init__.py\", line 173, in run\n",
      "    self.update(self.updated, self.semaphore)\n",
      "  File \"/home/sjoerd/seamless/seamless/core/pythreadkernel/transformer.py\", line 112, in update\n",
      "    raise Exception(msg)\n",
      "Exception: Traceback (most recent call last):\n",
      "  File \"/home/sjoerd/seamless/seamless/core/pythreadkernel/transformer.py\", line 28, in execute\n",
      "    result = eval(expression, namespace)\n",
      "  File \"transformer\", line 1, in <module>\n",
      "  File \"./cell-gen-vertexdata.py in pin: .gen_vertexdata.code\", line 4, in transform\n",
      "    data = np.zeros(N, VertexData.dtype)\n",
      "NameError: name 'VertexData' is not defined\n",
      "\n"
     ]
    },
    {
     "name": "stdout",
     "output_type": "stream",
     "text": [
      "*********** ERROR in transformer Seamless transformer: .gen_vertexdata: execution error **************\n"
     ]
    },
    {
     "name": "stderr",
     "output_type": "stream",
     "text": [
      "Traceback (most recent call last):\n",
      "  File \"/home/sjoerd/seamless/seamless/core/pythreadkernel/__init__.py\", line 173, in run\n",
      "    self.update(self.updated, self.semaphore)\n",
      "  File \"/home/sjoerd/seamless/seamless/core/pythreadkernel/transformer.py\", line 112, in update\n",
      "    raise Exception(msg)\n",
      "Exception: Traceback (most recent call last):\n",
      "  File \"/home/sjoerd/seamless/seamless/core/pythreadkernel/transformer.py\", line 28, in execute\n",
      "    result = eval(expression, namespace)\n",
      "  File \"transformer\", line 1, in <module>\n",
      "  File \"./cell-gen-vertexdata.py in pin: .gen_vertexdata.code\", line 4, in transform\n",
      "    data = np.zeros(N, VertexData.dtype)\n",
      "NameError: name 'VertexData' is not defined\n",
      "\n"
     ]
    },
    {
     "name": "stdout",
     "output_type": "stream",
     "text": [
      "*********** ERROR in transformer Seamless transformer: .gen_vertexdata: execution error **************\n"
     ]
    },
    {
     "name": "stderr",
     "output_type": "stream",
     "text": [
      "Traceback (most recent call last):\n",
      "  File \"/home/sjoerd/seamless/seamless/core/pythreadkernel/__init__.py\", line 173, in run\n",
      "    self.update(self.updated, self.semaphore)\n",
      "  File \"/home/sjoerd/seamless/seamless/core/pythreadkernel/transformer.py\", line 112, in update\n",
      "    raise Exception(msg)\n",
      "Exception: Traceback (most recent call last):\n",
      "  File \"/home/sjoerd/seamless/seamless/core/pythreadkernel/transformer.py\", line 28, in execute\n",
      "    result = eval(expression, namespace)\n",
      "  File \"transformer\", line 1, in <module>\n",
      "  File \"./cell-gen-vertexdata.py in pin: .gen_vertexdata.code\", line 4, in transform\n",
      "    data = np.zeros(N, VertexData.dtype)\n",
      "NameError: name 'VertexData' is not defined\n",
      "\n"
     ]
    },
    {
     "name": "stdout",
     "output_type": "stream",
     "text": [
      "*********** ERROR in transformer Seamless transformer: .gen_vertexdata: execution error **************\n"
     ]
    },
    {
     "name": "stderr",
     "output_type": "stream",
     "text": [
      "Traceback (most recent call last):\n",
      "  File \"/home/sjoerd/seamless/seamless/core/pythreadkernel/__init__.py\", line 173, in run\n",
      "    self.update(self.updated, self.semaphore)\n",
      "  File \"/home/sjoerd/seamless/seamless/core/pythreadkernel/transformer.py\", line 112, in update\n",
      "    raise Exception(msg)\n",
      "Exception: Traceback (most recent call last):\n",
      "  File \"/home/sjoerd/seamless/seamless/core/pythreadkernel/transformer.py\", line 28, in execute\n",
      "    result = eval(expression, namespace)\n",
      "  File \"transformer\", line 1, in <module>\n",
      "  File \"./cell-gen-vertexdata.py in pin: .gen_vertexdata.code\", line 4, in transform\n",
      "    data = np.zeros(N, VertexData.dtype)\n",
      "NameError: name 'VertexData' is not defined\n",
      "\n"
     ]
    },
    {
     "name": "stdout",
     "output_type": "stream",
     "text": [
      "*********** ERROR in transformer Seamless transformer: .gen_vertexdata: execution error **************\n"
     ]
    },
    {
     "name": "stderr",
     "output_type": "stream",
     "text": [
      "Traceback (most recent call last):\n",
      "  File \"/home/sjoerd/seamless/seamless/core/pythreadkernel/__init__.py\", line 173, in run\n",
      "    self.update(self.updated, self.semaphore)\n",
      "  File \"/home/sjoerd/seamless/seamless/core/pythreadkernel/transformer.py\", line 112, in update\n",
      "    raise Exception(msg)\n",
      "Exception: Traceback (most recent call last):\n",
      "  File \"/home/sjoerd/seamless/seamless/core/pythreadkernel/transformer.py\", line 28, in execute\n",
      "    result = eval(expression, namespace)\n",
      "  File \"transformer\", line 1, in <module>\n",
      "  File \"./cell-gen-vertexdata.py in pin: .gen_vertexdata.code\", line 4, in transform\n",
      "    data = np.zeros(N, VertexData.dtype)\n",
      "NameError: name 'VertexData' is not defined\n",
      "\n"
     ]
    },
    {
     "name": "stdout",
     "output_type": "stream",
     "text": [
      "*********** ERROR in transformer Seamless transformer: .gen_vertexdata: execution error **************\n"
     ]
    },
    {
     "name": "stderr",
     "output_type": "stream",
     "text": [
      "Traceback (most recent call last):\n",
      "  File \"/home/sjoerd/seamless/seamless/core/pythreadkernel/__init__.py\", line 173, in run\n",
      "    self.update(self.updated, self.semaphore)\n",
      "  File \"/home/sjoerd/seamless/seamless/core/pythreadkernel/transformer.py\", line 112, in update\n",
      "    raise Exception(msg)\n",
      "Exception: Traceback (most recent call last):\n",
      "  File \"/home/sjoerd/seamless/seamless/core/pythreadkernel/transformer.py\", line 28, in execute\n",
      "    result = eval(expression, namespace)\n",
      "  File \"transformer\", line 1, in <module>\n",
      "  File \"./cell-gen-vertexdata.py in pin: .gen_vertexdata.code\", line 4, in transform\n",
      "    data = np.zeros(N, VertexData.dtype)\n",
      "NameError: name 'VertexData' is not defined\n",
      "\n"
     ]
    },
    {
     "name": "stdout",
     "output_type": "stream",
     "text": [
      "*********** ERROR in transformer Seamless transformer: .gen_vertexdata: execution error **************\n"
     ]
    },
    {
     "name": "stderr",
     "output_type": "stream",
     "text": [
      "Traceback (most recent call last):\n",
      "  File \"/home/sjoerd/seamless/seamless/core/pythreadkernel/__init__.py\", line 173, in run\n",
      "    self.update(self.updated, self.semaphore)\n",
      "  File \"/home/sjoerd/seamless/seamless/core/pythreadkernel/transformer.py\", line 112, in update\n",
      "    raise Exception(msg)\n",
      "Exception: Traceback (most recent call last):\n",
      "  File \"/home/sjoerd/seamless/seamless/core/pythreadkernel/transformer.py\", line 28, in execute\n",
      "    result = eval(expression, namespace)\n",
      "  File \"transformer\", line 1, in <module>\n",
      "  File \"./cell-gen-vertexdata.py in pin: .gen_vertexdata.code\", line 4, in transform\n",
      "    data = np.zeros(N, VertexData.dtype)\n",
      "NameError: name 'VertexData' is not defined\n",
      "\n"
     ]
    },
    {
     "name": "stdout",
     "output_type": "stream",
     "text": [
      "*********** ERROR in transformer Seamless transformer: .gen_vertexdata: execution error **************\n"
     ]
    },
    {
     "name": "stderr",
     "output_type": "stream",
     "text": [
      "Traceback (most recent call last):\n",
      "  File \"/home/sjoerd/seamless/seamless/core/pythreadkernel/__init__.py\", line 173, in run\n",
      "    self.update(self.updated, self.semaphore)\n",
      "  File \"/home/sjoerd/seamless/seamless/core/pythreadkernel/transformer.py\", line 112, in update\n",
      "    raise Exception(msg)\n",
      "Exception: Traceback (most recent call last):\n",
      "  File \"/home/sjoerd/seamless/seamless/core/pythreadkernel/transformer.py\", line 28, in execute\n",
      "    result = eval(expression, namespace)\n",
      "  File \"transformer\", line 1, in <module>\n",
      "  File \"./cell-gen-vertexdata.py in pin: .gen_vertexdata.code\", line 4, in transform\n",
      "    data = np.zeros(N, VertexData.dtype)\n",
      "NameError: name 'VertexData' is not defined\n",
      "\n"
     ]
    },
    {
     "name": "stdout",
     "output_type": "stream",
     "text": [
      "*********** ERROR in transformer Seamless transformer: .gen_vertexdata: execution error **************\n"
     ]
    },
    {
     "name": "stderr",
     "output_type": "stream",
     "text": [
      "Traceback (most recent call last):\n",
      "  File \"/home/sjoerd/seamless/seamless/core/pythreadkernel/__init__.py\", line 173, in run\n",
      "    self.update(self.updated, self.semaphore)\n",
      "  File \"/home/sjoerd/seamless/seamless/core/pythreadkernel/transformer.py\", line 112, in update\n",
      "    raise Exception(msg)\n",
      "Exception: Traceback (most recent call last):\n",
      "  File \"/home/sjoerd/seamless/seamless/core/pythreadkernel/transformer.py\", line 28, in execute\n",
      "    result = eval(expression, namespace)\n",
      "  File \"transformer\", line 1, in <module>\n",
      "  File \"./cell-gen-vertexdata.py in pin: .gen_vertexdata.code\", line 4, in transform\n",
      "    data = np.zeros(N, VertexData.dtype)\n",
      "NameError: name 'VertexData' is not defined\n",
      "\n"
     ]
    },
    {
     "name": "stdout",
     "output_type": "stream",
     "text": [
      "*********** ERROR in transformer Seamless transformer: .gen_vertexdata: execution error **************\n"
     ]
    },
    {
     "name": "stderr",
     "output_type": "stream",
     "text": [
      "Traceback (most recent call last):\n",
      "  File \"/home/sjoerd/seamless/seamless/core/pythreadkernel/__init__.py\", line 173, in run\n",
      "    self.update(self.updated, self.semaphore)\n",
      "  File \"/home/sjoerd/seamless/seamless/core/pythreadkernel/transformer.py\", line 112, in update\n",
      "    raise Exception(msg)\n",
      "Exception: Traceback (most recent call last):\n",
      "  File \"/home/sjoerd/seamless/seamless/core/pythreadkernel/transformer.py\", line 28, in execute\n",
      "    result = eval(expression, namespace)\n",
      "  File \"transformer\", line 1, in <module>\n",
      "  File \"./cell-gen-vertexdata.py in pin: .gen_vertexdata.code\", line 4, in transform\n",
      "    data = np.zeros(N, VertexData.dtype)\n",
      "NameError: name 'VertexData' is not defined\n",
      "\n"
     ]
    },
    {
     "name": "stdout",
     "output_type": "stream",
     "text": [
      "*********** ERROR in transformer Seamless transformer: .gen_vertexdata: execution error **************\n"
     ]
    },
    {
     "name": "stderr",
     "output_type": "stream",
     "text": [
      "Traceback (most recent call last):\n",
      "  File \"/home/sjoerd/seamless/seamless/core/pythreadkernel/__init__.py\", line 173, in run\n",
      "    self.update(self.updated, self.semaphore)\n",
      "  File \"/home/sjoerd/seamless/seamless/core/pythreadkernel/transformer.py\", line 112, in update\n",
      "    raise Exception(msg)\n",
      "Exception: Traceback (most recent call last):\n",
      "  File \"/home/sjoerd/seamless/seamless/core/pythreadkernel/transformer.py\", line 28, in execute\n",
      "    result = eval(expression, namespace)\n",
      "  File \"transformer\", line 1, in <module>\n",
      "  File \"./cell-gen-vertexdata.py in pin: .gen_vertexdata.code\", line 4, in transform\n",
      "    data = np.zeros(N, VertexData.dtype)\n",
      "NameError: name 'VertexData' is not defined\n",
      "\n"
     ]
    },
    {
     "name": "stdout",
     "output_type": "stream",
     "text": [
      "*********** ERROR in transformer Seamless transformer: .gen_vertexdata: execution error **************\n"
     ]
    },
    {
     "name": "stderr",
     "output_type": "stream",
     "text": [
      "Traceback (most recent call last):\n",
      "  File \"/home/sjoerd/seamless/seamless/core/pythreadkernel/__init__.py\", line 173, in run\n",
      "    self.update(self.updated, self.semaphore)\n",
      "  File \"/home/sjoerd/seamless/seamless/core/pythreadkernel/transformer.py\", line 112, in update\n",
      "    raise Exception(msg)\n",
      "Exception: Traceback (most recent call last):\n",
      "  File \"/home/sjoerd/seamless/seamless/core/pythreadkernel/transformer.py\", line 28, in execute\n",
      "    result = eval(expression, namespace)\n",
      "  File \"transformer\", line 1, in <module>\n",
      "  File \"./cell-gen-vertexdata.py in pin: .gen_vertexdata.code\", line 4, in transform\n",
      "    data = np.zeros(N, VertexData.dtype)\n",
      "NameError: name 'VertexData' is not defined\n",
      "\n"
     ]
    },
    {
     "name": "stdout",
     "output_type": "stream",
     "text": [
      "*********** ERROR in transformer Seamless transformer: .gen_vertexdata: execution error **************\n"
     ]
    },
    {
     "name": "stderr",
     "output_type": "stream",
     "text": [
      "Traceback (most recent call last):\n",
      "  File \"/home/sjoerd/seamless/seamless/core/pythreadkernel/__init__.py\", line 173, in run\n",
      "    self.update(self.updated, self.semaphore)\n",
      "  File \"/home/sjoerd/seamless/seamless/core/pythreadkernel/transformer.py\", line 112, in update\n",
      "    raise Exception(msg)\n",
      "Exception: Traceback (most recent call last):\n",
      "  File \"/home/sjoerd/seamless/seamless/core/pythreadkernel/transformer.py\", line 28, in execute\n",
      "    result = eval(expression, namespace)\n",
      "  File \"transformer\", line 1, in <module>\n",
      "  File \"./cell-gen-vertexdata.py in pin: .gen_vertexdata.code\", line 4, in transform\n",
      "    data = np.zeros(N, VertexData.dtype)\n",
      "NameError: name 'VertexData' is not defined\n",
      "\n"
     ]
    },
    {
     "name": "stdout",
     "output_type": "stream",
     "text": [
      "*********** ERROR in transformer Seamless transformer: .gen_vertexdata: execution error **************\n"
     ]
    },
    {
     "name": "stderr",
     "output_type": "stream",
     "text": [
      "Traceback (most recent call last):\n",
      "  File \"/home/sjoerd/seamless/seamless/core/pythreadkernel/__init__.py\", line 173, in run\n",
      "    self.update(self.updated, self.semaphore)\n",
      "  File \"/home/sjoerd/seamless/seamless/core/pythreadkernel/transformer.py\", line 112, in update\n",
      "    raise Exception(msg)\n",
      "Exception: Traceback (most recent call last):\n",
      "  File \"/home/sjoerd/seamless/seamless/core/pythreadkernel/transformer.py\", line 28, in execute\n",
      "    result = eval(expression, namespace)\n",
      "  File \"transformer\", line 1, in <module>\n",
      "  File \"./cell-gen-vertexdata.py in pin: .gen_vertexdata.code\", line 4, in transform\n",
      "    data = np.zeros(N, VertexData.dtype)\n",
      "NameError: name 'VertexData' is not defined\n",
      "\n"
     ]
    },
    {
     "name": "stdout",
     "output_type": "stream",
     "text": [
      "*********** ERROR in transformer Seamless transformer: .gen_vertexdata: execution error **************\n"
     ]
    },
    {
     "name": "stderr",
     "output_type": "stream",
     "text": [
      "Traceback (most recent call last):\n",
      "  File \"/home/sjoerd/seamless/seamless/core/pythreadkernel/__init__.py\", line 173, in run\n",
      "    self.update(self.updated, self.semaphore)\n",
      "  File \"/home/sjoerd/seamless/seamless/core/pythreadkernel/transformer.py\", line 112, in update\n",
      "    raise Exception(msg)\n",
      "Exception: Traceback (most recent call last):\n",
      "  File \"/home/sjoerd/seamless/seamless/core/pythreadkernel/transformer.py\", line 28, in execute\n",
      "    result = eval(expression, namespace)\n",
      "  File \"transformer\", line 1, in <module>\n",
      "  File \"./cell-gen-vertexdata.py in pin: .gen_vertexdata.code\", line 4, in transform\n",
      "    data = np.zeros(N, VertexData.dtype)\n",
      "NameError: name 'VertexData' is not defined\n",
      "\n"
     ]
    },
    {
     "name": "stdout",
     "output_type": "stream",
     "text": [
      "*********** ERROR in transformer Seamless transformer: .gen_vertexdata: execution error **************\n"
     ]
    },
    {
     "name": "stderr",
     "output_type": "stream",
     "text": [
      "Traceback (most recent call last):\n",
      "  File \"/home/sjoerd/seamless/seamless/core/pythreadkernel/__init__.py\", line 173, in run\n",
      "    self.update(self.updated, self.semaphore)\n",
      "  File \"/home/sjoerd/seamless/seamless/core/pythreadkernel/transformer.py\", line 112, in update\n",
      "    raise Exception(msg)\n",
      "Exception: Traceback (most recent call last):\n",
      "  File \"/home/sjoerd/seamless/seamless/core/pythreadkernel/transformer.py\", line 28, in execute\n",
      "    result = eval(expression, namespace)\n",
      "  File \"transformer\", line 1, in <module>\n",
      "  File \"./cell-gen-vertexdata.py in pin: .gen_vertexdata.code\", line 4, in transform\n",
      "    data = np.zeros(N, VertexData.dtype)\n",
      "NameError: name 'VertexData' is not defined\n",
      "\n"
     ]
    },
    {
     "name": "stdout",
     "output_type": "stream",
     "text": [
      "*********** ERROR in transformer Seamless transformer: .gen_vertexdata: execution error **************\n"
     ]
    },
    {
     "name": "stderr",
     "output_type": "stream",
     "text": [
      "Traceback (most recent call last):\n",
      "  File \"/home/sjoerd/seamless/seamless/core/pythreadkernel/__init__.py\", line 173, in run\n",
      "    self.update(self.updated, self.semaphore)\n",
      "  File \"/home/sjoerd/seamless/seamless/core/pythreadkernel/transformer.py\", line 112, in update\n",
      "    raise Exception(msg)\n",
      "Exception: Traceback (most recent call last):\n",
      "  File \"/home/sjoerd/seamless/seamless/core/pythreadkernel/transformer.py\", line 28, in execute\n",
      "    result = eval(expression, namespace)\n",
      "  File \"transformer\", line 1, in <module>\n",
      "  File \"./cell-gen-vertexdata.py in pin: .gen_vertexdata.code\", line 4, in transform\n",
      "    data = np.zeros(N, VertexData.dtype)\n",
      "NameError: name 'VertexData' is not defined\n",
      "\n"
     ]
    },
    {
     "name": "stdout",
     "output_type": "stream",
     "text": [
      "*********** ERROR in transformer Seamless transformer: .gen_vertexdata: execution error **************\n"
     ]
    },
    {
     "name": "stderr",
     "output_type": "stream",
     "text": [
      "Traceback (most recent call last):\n",
      "  File \"/home/sjoerd/seamless/seamless/core/pythreadkernel/__init__.py\", line 173, in run\n",
      "    self.update(self.updated, self.semaphore)\n",
      "  File \"/home/sjoerd/seamless/seamless/core/pythreadkernel/transformer.py\", line 112, in update\n",
      "    raise Exception(msg)\n",
      "Exception: Traceback (most recent call last):\n",
      "  File \"/home/sjoerd/seamless/seamless/core/pythreadkernel/transformer.py\", line 28, in execute\n",
      "    result = eval(expression, namespace)\n",
      "  File \"transformer\", line 1, in <module>\n",
      "  File \"./cell-gen-vertexdata.py in pin: .gen_vertexdata.code\", line 4, in transform\n",
      "    data = np.zeros(N, VertexData.dtype)\n",
      "NameError: name 'VertexData' is not defined\n",
      "\n"
     ]
    },
    {
     "name": "stdout",
     "output_type": "stream",
     "text": [
      "*********** ERROR in transformer Seamless transformer: .gen_vertexdata: execution error **************\n"
     ]
    },
    {
     "name": "stderr",
     "output_type": "stream",
     "text": [
      "Traceback (most recent call last):\n",
      "  File \"/home/sjoerd/seamless/seamless/core/pythreadkernel/__init__.py\", line 173, in run\n",
      "    self.update(self.updated, self.semaphore)\n",
      "  File \"/home/sjoerd/seamless/seamless/core/pythreadkernel/transformer.py\", line 112, in update\n",
      "    raise Exception(msg)\n",
      "Exception: Traceback (most recent call last):\n",
      "  File \"/home/sjoerd/seamless/seamless/core/pythreadkernel/transformer.py\", line 28, in execute\n",
      "    result = eval(expression, namespace)\n",
      "  File \"transformer\", line 1, in <module>\n",
      "  File \"./cell-gen-vertexdata.py in pin: .gen_vertexdata.code\", line 4, in transform\n",
      "    data = np.zeros(N, VertexData.dtype)\n",
      "NameError: name 'VertexData' is not defined\n",
      "\n"
     ]
    },
    {
     "name": "stdout",
     "output_type": "stream",
     "text": [
      "*********** ERROR in transformer Seamless transformer: .gen_vertexdata: execution error **************\n"
     ]
    },
    {
     "name": "stderr",
     "output_type": "stream",
     "text": [
      "Traceback (most recent call last):\n",
      "  File \"/home/sjoerd/seamless/seamless/core/pythreadkernel/__init__.py\", line 173, in run\n",
      "    self.update(self.updated, self.semaphore)\n",
      "  File \"/home/sjoerd/seamless/seamless/core/pythreadkernel/transformer.py\", line 112, in update\n",
      "    raise Exception(msg)\n",
      "Exception: Traceback (most recent call last):\n",
      "  File \"/home/sjoerd/seamless/seamless/core/pythreadkernel/transformer.py\", line 28, in execute\n",
      "    result = eval(expression, namespace)\n",
      "  File \"transformer\", line 1, in <module>\n",
      "  File \"./cell-gen-vertexdata.py in pin: .gen_vertexdata.code\", line 4, in transform\n",
      "    data = np.zeros(N, VertexData.dtype)\n",
      "NameError: name 'VertexData' is not defined\n",
      "\n"
     ]
    },
    {
     "name": "stdout",
     "output_type": "stream",
     "text": [
      "*********** ERROR in transformer Seamless transformer: .gen_vertexdata: execution error **************\n"
     ]
    },
    {
     "name": "stderr",
     "output_type": "stream",
     "text": [
      "Traceback (most recent call last):\n",
      "  File \"/home/sjoerd/seamless/seamless/core/pythreadkernel/__init__.py\", line 173, in run\n",
      "    self.update(self.updated, self.semaphore)\n",
      "  File \"/home/sjoerd/seamless/seamless/core/pythreadkernel/transformer.py\", line 112, in update\n",
      "    raise Exception(msg)\n",
      "Exception: Traceback (most recent call last):\n",
      "  File \"/home/sjoerd/seamless/seamless/core/pythreadkernel/transformer.py\", line 28, in execute\n",
      "    result = eval(expression, namespace)\n",
      "  File \"transformer\", line 1, in <module>\n",
      "  File \"./cell-gen-vertexdata.py in pin: .gen_vertexdata.code\", line 4, in transform\n",
      "    data = np.zeros(N, VertexData.dtype)\n",
      "NameError: name 'VertexData' is not defined\n",
      "\n"
     ]
    },
    {
     "name": "stdout",
     "output_type": "stream",
     "text": [
      "*********** ERROR in transformer Seamless transformer: .gen_vertexdata: execution error **************\n"
     ]
    },
    {
     "name": "stderr",
     "output_type": "stream",
     "text": [
      "Traceback (most recent call last):\n",
      "  File \"/home/sjoerd/seamless/seamless/core/pythreadkernel/__init__.py\", line 173, in run\n",
      "    self.update(self.updated, self.semaphore)\n",
      "  File \"/home/sjoerd/seamless/seamless/core/pythreadkernel/transformer.py\", line 112, in update\n",
      "    raise Exception(msg)\n",
      "Exception: Traceback (most recent call last):\n",
      "  File \"/home/sjoerd/seamless/seamless/core/pythreadkernel/transformer.py\", line 28, in execute\n",
      "    result = eval(expression, namespace)\n",
      "  File \"transformer\", line 1, in <module>\n",
      "  File \"./cell-gen-vertexdata.py in pin: .gen_vertexdata.code\", line 4, in transform\n",
      "    data = np.zeros(N, VertexData.dtype)\n",
      "NameError: name 'VertexData' is not defined\n",
      "\n"
     ]
    },
    {
     "name": "stdout",
     "output_type": "stream",
     "text": [
      "*********** ERROR in transformer Seamless transformer: .gen_vertexdata: execution error **************\n"
     ]
    },
    {
     "name": "stderr",
     "output_type": "stream",
     "text": [
      "Traceback (most recent call last):\n",
      "  File \"/home/sjoerd/seamless/seamless/core/pythreadkernel/__init__.py\", line 173, in run\n",
      "    self.update(self.updated, self.semaphore)\n",
      "  File \"/home/sjoerd/seamless/seamless/core/pythreadkernel/transformer.py\", line 112, in update\n",
      "    raise Exception(msg)\n",
      "Exception: Traceback (most recent call last):\n",
      "  File \"/home/sjoerd/seamless/seamless/core/pythreadkernel/transformer.py\", line 28, in execute\n",
      "    result = eval(expression, namespace)\n",
      "  File \"transformer\", line 1, in <module>\n",
      "  File \"./cell-gen-vertexdata.py in pin: .gen_vertexdata.code\", line 4, in transform\n",
      "    data = np.zeros(N, VertexData.dtype)\n",
      "NameError: name 'VertexData' is not defined\n",
      "\n"
     ]
    },
    {
     "name": "stdout",
     "output_type": "stream",
     "text": [
      "*********** ERROR in transformer Seamless transformer: .gen_vertexdata: execution error **************\n"
     ]
    },
    {
     "name": "stderr",
     "output_type": "stream",
     "text": [
      "Traceback (most recent call last):\n",
      "  File \"/home/sjoerd/seamless/seamless/core/pythreadkernel/__init__.py\", line 173, in run\n",
      "    self.update(self.updated, self.semaphore)\n",
      "  File \"/home/sjoerd/seamless/seamless/core/pythreadkernel/transformer.py\", line 112, in update\n",
      "    raise Exception(msg)\n",
      "Exception: Traceback (most recent call last):\n",
      "  File \"/home/sjoerd/seamless/seamless/core/pythreadkernel/transformer.py\", line 28, in execute\n",
      "    result = eval(expression, namespace)\n",
      "  File \"transformer\", line 1, in <module>\n",
      "  File \"./cell-gen-vertexdata.py in pin: .gen_vertexdata.code\", line 4, in transform\n",
      "    data = np.zeros(N, VertexData.dtype)\n",
      "NameError: name 'VertexData' is not defined\n",
      "\n"
     ]
    },
    {
     "name": "stdout",
     "output_type": "stream",
     "text": [
      "*********** ERROR in transformer Seamless transformer: .gen_vertexdata: execution error **************\n"
     ]
    },
    {
     "name": "stderr",
     "output_type": "stream",
     "text": [
      "Traceback (most recent call last):\n",
      "  File \"/home/sjoerd/seamless/seamless/core/pythreadkernel/__init__.py\", line 173, in run\n",
      "    self.update(self.updated, self.semaphore)\n",
      "  File \"/home/sjoerd/seamless/seamless/core/pythreadkernel/transformer.py\", line 112, in update\n",
      "    raise Exception(msg)\n",
      "Exception: Traceback (most recent call last):\n",
      "  File \"/home/sjoerd/seamless/seamless/core/pythreadkernel/transformer.py\", line 28, in execute\n",
      "    result = eval(expression, namespace)\n",
      "  File \"transformer\", line 1, in <module>\n",
      "  File \"./cell-gen-vertexdata.py in pin: .gen_vertexdata.code\", line 4, in transform\n",
      "    data = np.zeros(N, VertexData.dtype)\n",
      "NameError: name 'VertexData' is not defined\n",
      "\n"
     ]
    },
    {
     "name": "stdout",
     "output_type": "stream",
     "text": [
      "*********** ERROR in transformer Seamless transformer: .gen_vertexdata: execution error **************\n"
     ]
    },
    {
     "name": "stderr",
     "output_type": "stream",
     "text": [
      "Traceback (most recent call last):\n",
      "  File \"/home/sjoerd/seamless/seamless/core/pythreadkernel/__init__.py\", line 173, in run\n",
      "    self.update(self.updated, self.semaphore)\n",
      "  File \"/home/sjoerd/seamless/seamless/core/pythreadkernel/transformer.py\", line 112, in update\n",
      "    raise Exception(msg)\n",
      "Exception: Traceback (most recent call last):\n",
      "  File \"/home/sjoerd/seamless/seamless/core/pythreadkernel/transformer.py\", line 28, in execute\n",
      "    result = eval(expression, namespace)\n",
      "  File \"transformer\", line 1, in <module>\n",
      "  File \"./cell-gen-vertexdata.py in pin: .gen_vertexdata.code\", line 4, in transform\n",
      "    data = np.zeros(N, VertexData.dtype)\n",
      "NameError: name 'VertexData' is not defined\n",
      "\n"
     ]
    },
    {
     "name": "stdout",
     "output_type": "stream",
     "text": [
      "*********** ERROR in transformer Seamless transformer: .gen_vertexdata: execution error **************\n"
     ]
    },
    {
     "name": "stderr",
     "output_type": "stream",
     "text": [
      "Traceback (most recent call last):\n",
      "  File \"/home/sjoerd/seamless/seamless/core/pythreadkernel/__init__.py\", line 173, in run\n",
      "    self.update(self.updated, self.semaphore)\n",
      "  File \"/home/sjoerd/seamless/seamless/core/pythreadkernel/transformer.py\", line 112, in update\n",
      "    raise Exception(msg)\n",
      "Exception: Traceback (most recent call last):\n",
      "  File \"/home/sjoerd/seamless/seamless/core/pythreadkernel/transformer.py\", line 28, in execute\n",
      "    result = eval(expression, namespace)\n",
      "  File \"transformer\", line 1, in <module>\n",
      "  File \"./cell-gen-vertexdata.py in pin: .gen_vertexdata.code\", line 4, in transform\n",
      "    data = np.zeros(N, VertexData.dtype)\n",
      "NameError: name 'VertexData' is not defined\n",
      "\n"
     ]
    },
    {
     "name": "stdout",
     "output_type": "stream",
     "text": [
      "*********** ERROR in transformer Seamless transformer: .gen_vertexdata: execution error **************\n"
     ]
    },
    {
     "name": "stderr",
     "output_type": "stream",
     "text": [
      "Traceback (most recent call last):\n",
      "  File \"/home/sjoerd/seamless/seamless/core/pythreadkernel/__init__.py\", line 173, in run\n",
      "    self.update(self.updated, self.semaphore)\n",
      "  File \"/home/sjoerd/seamless/seamless/core/pythreadkernel/transformer.py\", line 112, in update\n",
      "    raise Exception(msg)\n",
      "Exception: Traceback (most recent call last):\n",
      "  File \"/home/sjoerd/seamless/seamless/core/pythreadkernel/transformer.py\", line 28, in execute\n",
      "    result = eval(expression, namespace)\n",
      "  File \"transformer\", line 1, in <module>\n",
      "  File \"./cell-gen-vertexdata.py in pin: .gen_vertexdata.code\", line 4, in transform\n",
      "    data = np.zeros(N, VertexData.dtype)\n",
      "NameError: name 'VertexData' is not defined\n",
      "\n"
     ]
    },
    {
     "name": "stdout",
     "output_type": "stream",
     "text": [
      "*********** ERROR in transformer Seamless transformer: .gen_vertexdata: execution error **************\n"
     ]
    },
    {
     "name": "stderr",
     "output_type": "stream",
     "text": [
      "Traceback (most recent call last):\n",
      "  File \"/home/sjoerd/seamless/seamless/core/pythreadkernel/__init__.py\", line 173, in run\n",
      "    self.update(self.updated, self.semaphore)\n",
      "  File \"/home/sjoerd/seamless/seamless/core/pythreadkernel/transformer.py\", line 112, in update\n",
      "    raise Exception(msg)\n",
      "Exception: Traceback (most recent call last):\n",
      "  File \"/home/sjoerd/seamless/seamless/core/pythreadkernel/transformer.py\", line 28, in execute\n",
      "    result = eval(expression, namespace)\n",
      "  File \"transformer\", line 1, in <module>\n",
      "  File \"./cell-gen-vertexdata.py in pin: .gen_vertexdata.code\", line 4, in transform\n",
      "    data = np.zeros(N, VertexData.dtype)\n",
      "NameError: name 'VertexData' is not defined\n",
      "\n"
     ]
    },
    {
     "name": "stdout",
     "output_type": "stream",
     "text": [
      "*********** ERROR in transformer Seamless transformer: .gen_vertexdata: execution error **************\n"
     ]
    },
    {
     "name": "stderr",
     "output_type": "stream",
     "text": [
      "Traceback (most recent call last):\n",
      "  File \"/home/sjoerd/seamless/seamless/core/pythreadkernel/__init__.py\", line 173, in run\n",
      "    self.update(self.updated, self.semaphore)\n",
      "  File \"/home/sjoerd/seamless/seamless/core/pythreadkernel/transformer.py\", line 112, in update\n",
      "    raise Exception(msg)\n",
      "Exception: Traceback (most recent call last):\n",
      "  File \"/home/sjoerd/seamless/seamless/core/pythreadkernel/transformer.py\", line 28, in execute\n",
      "    result = eval(expression, namespace)\n",
      "  File \"transformer\", line 1, in <module>\n",
      "  File \"./cell-gen-vertexdata.py in pin: .gen_vertexdata.code\", line 4, in transform\n",
      "    data = np.zeros(N, VertexData.dtype)\n",
      "NameError: name 'VertexData' is not defined\n",
      "\n"
     ]
    },
    {
     "name": "stdout",
     "output_type": "stream",
     "text": [
      "*********** ERROR in transformer Seamless transformer: .gen_vertexdata: execution error **************\n"
     ]
    },
    {
     "name": "stderr",
     "output_type": "stream",
     "text": [
      "Traceback (most recent call last):\n",
      "  File \"/home/sjoerd/seamless/seamless/core/pythreadkernel/__init__.py\", line 173, in run\n",
      "    self.update(self.updated, self.semaphore)\n",
      "  File \"/home/sjoerd/seamless/seamless/core/pythreadkernel/transformer.py\", line 112, in update\n",
      "    raise Exception(msg)\n",
      "Exception: Traceback (most recent call last):\n",
      "  File \"/home/sjoerd/seamless/seamless/core/pythreadkernel/transformer.py\", line 28, in execute\n",
      "    result = eval(expression, namespace)\n",
      "  File \"transformer\", line 1, in <module>\n",
      "  File \"./cell-gen-vertexdata.py in pin: .gen_vertexdata.code\", line 4, in transform\n",
      "    data = np.zeros(N, VertexData.dtype)\n",
      "NameError: name 'VertexData' is not defined\n",
      "\n"
     ]
    },
    {
     "name": "stdout",
     "output_type": "stream",
     "text": [
      "*********** ERROR in transformer Seamless transformer: .gen_vertexdata: execution error **************\n"
     ]
    },
    {
     "name": "stderr",
     "output_type": "stream",
     "text": [
      "Traceback (most recent call last):\n",
      "  File \"/home/sjoerd/seamless/seamless/core/pythreadkernel/__init__.py\", line 173, in run\n",
      "    self.update(self.updated, self.semaphore)\n",
      "  File \"/home/sjoerd/seamless/seamless/core/pythreadkernel/transformer.py\", line 112, in update\n",
      "    raise Exception(msg)\n",
      "Exception: Traceback (most recent call last):\n",
      "  File \"/home/sjoerd/seamless/seamless/core/pythreadkernel/transformer.py\", line 28, in execute\n",
      "    result = eval(expression, namespace)\n",
      "  File \"transformer\", line 1, in <module>\n",
      "  File \"./cell-gen-vertexdata.py in pin: .gen_vertexdata.code\", line 4, in transform\n",
      "    data = np.zeros(N, VertexData.dtype)\n",
      "NameError: name 'VertexData' is not defined\n",
      "\n"
     ]
    },
    {
     "name": "stdout",
     "output_type": "stream",
     "text": [
      "*********** ERROR in transformer Seamless transformer: .gen_vertexdata: execution error **************\n"
     ]
    },
    {
     "name": "stderr",
     "output_type": "stream",
     "text": [
      "Traceback (most recent call last):\n",
      "  File \"/home/sjoerd/seamless/seamless/core/pythreadkernel/__init__.py\", line 173, in run\n",
      "    self.update(self.updated, self.semaphore)\n",
      "  File \"/home/sjoerd/seamless/seamless/core/pythreadkernel/transformer.py\", line 112, in update\n",
      "    raise Exception(msg)\n",
      "Exception: Traceback (most recent call last):\n",
      "  File \"/home/sjoerd/seamless/seamless/core/pythreadkernel/transformer.py\", line 28, in execute\n",
      "    result = eval(expression, namespace)\n",
      "  File \"transformer\", line 1, in <module>\n",
      "  File \"./cell-gen-vertexdata.py in pin: .gen_vertexdata.code\", line 4, in transform\n",
      "    data = np.zeros(N, VertexData.dtype)\n",
      "NameError: name 'VertexData' is not defined\n",
      "\n"
     ]
    },
    {
     "name": "stdout",
     "output_type": "stream",
     "text": [
      "*********** ERROR in transformer Seamless transformer: .gen_vertexdata: execution error **************\n"
     ]
    },
    {
     "name": "stderr",
     "output_type": "stream",
     "text": [
      "Traceback (most recent call last):\n",
      "  File \"/home/sjoerd/seamless/seamless/core/pythreadkernel/__init__.py\", line 173, in run\n",
      "    self.update(self.updated, self.semaphore)\n",
      "  File \"/home/sjoerd/seamless/seamless/core/pythreadkernel/transformer.py\", line 112, in update\n",
      "    raise Exception(msg)\n",
      "Exception: Traceback (most recent call last):\n",
      "  File \"/home/sjoerd/seamless/seamless/core/pythreadkernel/transformer.py\", line 28, in execute\n",
      "    result = eval(expression, namespace)\n",
      "  File \"transformer\", line 1, in <module>\n",
      "  File \"./cell-gen-vertexdata.py in pin: .gen_vertexdata.code\", line 4, in transform\n",
      "    data = np.zeros(N, VertexData.dtype)\n",
      "NameError: name 'VertexData' is not defined\n",
      "\n"
     ]
    },
    {
     "name": "stdout",
     "output_type": "stream",
     "text": [
      "*********** ERROR in transformer Seamless transformer: .gen_vertexdata: execution error **************\n"
     ]
    },
    {
     "name": "stderr",
     "output_type": "stream",
     "text": [
      "Traceback (most recent call last):\n",
      "  File \"/home/sjoerd/seamless/seamless/core/pythreadkernel/__init__.py\", line 173, in run\n",
      "    self.update(self.updated, self.semaphore)\n",
      "  File \"/home/sjoerd/seamless/seamless/core/pythreadkernel/transformer.py\", line 112, in update\n",
      "    raise Exception(msg)\n",
      "Exception: Traceback (most recent call last):\n",
      "  File \"/home/sjoerd/seamless/seamless/core/pythreadkernel/transformer.py\", line 28, in execute\n",
      "    result = eval(expression, namespace)\n",
      "  File \"transformer\", line 1, in <module>\n",
      "  File \"./cell-gen-vertexdata.py in pin: .gen_vertexdata.code\", line 4, in transform\n",
      "    data = np.zeros(N, VertexData.dtype)\n",
      "NameError: name 'VertexData' is not defined\n",
      "\n"
     ]
    },
    {
     "name": "stdout",
     "output_type": "stream",
     "text": [
      "*********** ERROR in transformer Seamless transformer: .gen_vertexdata: execution error **************\n"
     ]
    },
    {
     "name": "stderr",
     "output_type": "stream",
     "text": [
      "Traceback (most recent call last):\n",
      "  File \"/home/sjoerd/seamless/seamless/core/pythreadkernel/__init__.py\", line 173, in run\n",
      "    self.update(self.updated, self.semaphore)\n",
      "  File \"/home/sjoerd/seamless/seamless/core/pythreadkernel/transformer.py\", line 112, in update\n",
      "    raise Exception(msg)\n",
      "Exception: Traceback (most recent call last):\n",
      "  File \"/home/sjoerd/seamless/seamless/core/pythreadkernel/transformer.py\", line 28, in execute\n",
      "    result = eval(expression, namespace)\n",
      "  File \"transformer\", line 1, in <module>\n",
      "  File \"./cell-gen-vertexdata.py in pin: .gen_vertexdata.code\", line 4, in transform\n",
      "    data = np.zeros(N, VertexData.dtype)\n",
      "NameError: name 'VertexData' is not defined\n",
      "\n"
     ]
    },
    {
     "name": "stdout",
     "output_type": "stream",
     "text": [
      "*********** ERROR in transformer Seamless transformer: .gen_vertexdata: execution error **************\n"
     ]
    },
    {
     "name": "stderr",
     "output_type": "stream",
     "text": [
      "Traceback (most recent call last):\n",
      "  File \"/home/sjoerd/seamless/seamless/core/pythreadkernel/__init__.py\", line 173, in run\n",
      "    self.update(self.updated, self.semaphore)\n",
      "  File \"/home/sjoerd/seamless/seamless/core/pythreadkernel/transformer.py\", line 112, in update\n",
      "    raise Exception(msg)\n",
      "Exception: Traceback (most recent call last):\n",
      "  File \"/home/sjoerd/seamless/seamless/core/pythreadkernel/transformer.py\", line 28, in execute\n",
      "    result = eval(expression, namespace)\n",
      "  File \"transformer\", line 1, in <module>\n",
      "  File \"./cell-gen-vertexdata.py in pin: .gen_vertexdata.code\", line 4, in transform\n",
      "    data = np.zeros(N, VertexData.dtype)\n",
      "NameError: name 'VertexData' is not defined\n",
      "\n"
     ]
    },
    {
     "name": "stdout",
     "output_type": "stream",
     "text": [
      "*********** ERROR in transformer Seamless transformer: .gen_vertexdata: execution error **************\n"
     ]
    },
    {
     "name": "stderr",
     "output_type": "stream",
     "text": [
      "Traceback (most recent call last):\n",
      "  File \"/home/sjoerd/seamless/seamless/core/pythreadkernel/__init__.py\", line 173, in run\n",
      "    self.update(self.updated, self.semaphore)\n",
      "  File \"/home/sjoerd/seamless/seamless/core/pythreadkernel/transformer.py\", line 112, in update\n",
      "    raise Exception(msg)\n",
      "Exception: Traceback (most recent call last):\n",
      "  File \"/home/sjoerd/seamless/seamless/core/pythreadkernel/transformer.py\", line 28, in execute\n",
      "    result = eval(expression, namespace)\n",
      "  File \"transformer\", line 1, in <module>\n",
      "  File \"./cell-gen-vertexdata.py in pin: .gen_vertexdata.code\", line 4, in transform\n",
      "    data = np.zeros(N, VertexData.dtype)\n",
      "NameError: name 'VertexData' is not defined\n",
      "\n"
     ]
    }
   ],
   "source": [
    "params = ctx.params_gen_vertexdata.value\n",
    "params[\"mask\"] = {\"pin\": \"input\", \"dtype\": \"array\"}\n",
    "ctx.params_gen_vertexdata.set(params)\n",
    "ctx.mask.connect(ctx.gen_vertexdata.mask)"
   ]
  },
  {
   "cell_type": "markdown",
   "metadata": {},
   "source": [
    "**Change the fireworks into exploding letters (step 2)**\n",
    "\n",
    "Replace line 7 in *cell-gen-vertexdata.py* with the following code:\n",
    "\n",
    "```rotmask = np.rot90(mask, 3) #in (x,y) form\n",
    "start_values0 = np.random.random((1000000, 3))\n",
    "p = (start_values0*len(mask)).astype(np.int)[:,:2]\n",
    "mask_values = rotmask[p[:,0], p[:,1]]\n",
    "start_values0 = start_values0[mask_values==0]\n",
    "start_values = 2*start_values0[:N]-1```\n"
   ]
  },
  {
   "cell_type": "markdown",
   "metadata": {},
   "source": [
    "To undo the exploding letters, change back *cell-gen-vertexdata.py*, and then:"
   ]
  },
  {
   "cell_type": "code",
   "execution_count": null,
   "metadata": {
    "collapsed": false
   },
   "outputs": [],
   "source": [
    "params = ctx.params_gen_vertexdata.value\n",
    "params.pop(\"mask\", None)\n",
    "ctx.params_gen_vertexdata.set(params)"
   ]
  },
  {
   "cell_type": "code",
   "execution_count": null,
   "metadata": {
    "collapsed": false
   },
   "outputs": [],
   "source": [
    "ctx.gen_vertexdata.status()"
   ]
  },
  {
   "cell_type": "code",
   "execution_count": 6,
   "metadata": {
    "collapsed": false
   },
   "outputs": [
    {
     "data": {
      "text/plain": [
       "'Type Vec3 {\\n  Float x\\n  Float y\\n  Float z\\n}\\n\\nType VertexData {\\n  Float a_lifetime\\n  Vec3 a_startPosition\\n  Vec3 a_endPosition\\n}\\n'"
      ]
     },
     "execution_count": 6,
     "metadata": {},
     "output_type": "execute_result"
    }
   ],
   "source": [
    "ctx.silk_vertexdata.value"
   ]
  },
  {
   "cell_type": "code",
   "execution_count": null,
   "metadata": {
    "collapsed": true
   },
   "outputs": [],
   "source": []
  }
 ],
 "metadata": {
  "kernelspec": {
   "display_name": "Python 3",
   "language": "python",
   "name": "python3"
  },
  "language_info": {
   "codemirror_mode": {
    "name": "ipython",
    "version": 3
   },
   "file_extension": ".py",
   "mimetype": "text/x-python",
   "name": "python",
   "nbconvert_exporter": "python",
   "pygments_lexer": "ipython3",
   "version": "3.5.2+"
  }
 },
 "nbformat": 4,
 "nbformat_minor": 2
}
