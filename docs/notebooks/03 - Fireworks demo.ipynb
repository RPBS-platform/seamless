{
 "cells": [
  {
   "cell_type": "markdown",
   "metadata": {
    "deletable": true,
    "editable": true
   },
   "source": [
    "# Seamless fireworks demo\n",
    "Example demonstrating simulation of OpenGL-rendered fireworks. Adapted from the Vispy gallery.\n",
    "\n",
    "See the seamless examples directory:\n",
    "- **examples/fireworks/fireworks.py**: script that generates the `fireworks.seamless` context file, used in this notebook\n",
    "- **examples/fireworks/tutorial/steps.ipy**: step-by-step tutorial to set up OpenGL fireworks\n",
    "\n",
    "The `seamless YouTube playlist` https://www.youtube.com/playlist?list=PL6WSTyQSLz08_GQqj-NyshaWnoIZMsqTK\n",
    " contains the following videos\n",
    "- **Demo video** of this notebook\n",
    "- **Step-by-step tutorial** (three parts) \n",
    "\n"
   ]
  },
  {
   "cell_type": "code",
   "execution_count": null,
   "metadata": {
    "collapsed": true,
    "deletable": true,
    "editable": true
   },
   "outputs": [],
   "source": [
    "#  Download fireworks example context\n",
    "import urllib.request\n",
    "url = \"https://raw.githubusercontent.com/sjdv1982/seamless/stable/examples/fireworks/fireworks.seamless\"\n",
    "urllib.request.urlretrieve(url, filename = \"fireworks.seamless\")\n",
    "url = \"https://raw.githubusercontent.com/sjdv1982/seamless/stable/examples/fireworks/orca.png\"\n",
    "urllib.request.urlretrieve(url, filename = \"orca.png\")"
   ]
  },
  {
   "cell_type": "code",
   "execution_count": null,
   "metadata": {
    "collapsed": true,
    "deletable": true,
    "editable": true
   },
   "outputs": [],
   "source": [
    "#  Boilerplate\n",
    "import seamless\n",
    "from seamless import cell, pythoncell, context, reactor, transformer\n",
    "from seamless.lib.gui.basic_editor import edit\n",
    "from seamless.lib.gui.basic_display import display\n",
    "from seamless.lib import link"
   ]
  },
  {
   "cell_type": "code",
   "execution_count": null,
   "metadata": {
    "collapsed": false,
    "deletable": true,
    "editable": true
   },
   "outputs": [],
   "source": [
    "#  Clean up any old contexts, created by repeated execution of this cell\n",
    "try:\n",
    "    ctx.destroy()\n",
    "except NameError:\n",
    "    pass\n",
    "\n",
    "#  Load the fireworks context\n",
    "ctx = seamless.fromfile(\"fireworks.seamless\")"
   ]
  },
  {
   "cell_type": "code",
   "execution_count": null,
   "metadata": {
    "collapsed": true,
    "deletable": true,
    "editable": true
   },
   "outputs": [],
   "source": [
    "#  Piece of code to link a seamless cell and an ipywidget\n",
    "\n",
    "import traitlets\n",
    "from collections import namedtuple\n",
    "import traceback\n",
    "\n",
    "def widgetlink(c, w):\n",
    "    assert isinstance(c, seamless.core.Cell)\n",
    "    assert isinstance(w, traitlets.HasTraits)\n",
    "    assert w.has_trait(\"value\")\n",
    "    handler = lambda d: c.set(d[\"new\"])\n",
    "    value = c.value\n",
    "    if value is not None:\n",
    "        w.value = value\n",
    "    else:\n",
    "        c.set(w.value)\n",
    "    def set_traitlet(value):\n",
    "        try:\n",
    "            w.value = value\n",
    "        except:\n",
    "            traceback.print_exc()\n",
    "    w.observe(handler, names=[\"value\"])\n",
    "    obs = seamless.observer(c, set_traitlet )\n",
    "    result = namedtuple('Widgetlink', [\"unobserve\"])\n",
    "    def unobserve():\n",
    "        nonlocal obs\n",
    "        t[0].unobserve(handler)\n",
    "        del obs  \n",
    "    result.unobserve = unobserve\n",
    "    return result"
   ]
  },
  {
   "cell_type": "code",
   "execution_count": null,
   "metadata": {
    "collapsed": false,
    "deletable": true,
    "editable": true,
    "scrolled": true
   },
   "outputs": [],
   "source": [
    "# Clean up any old widgetlinks, created by repeated execution of this cell\n",
    "try:\n",
    "    for w in widgetlinks:\n",
    "        widget.unobserve()\n",
    "except NameError:\n",
    "    pass\n",
    "\n",
    "from ipywidgets import Layout, Box, FloatSlider, IntSlider, Checkbox, Label\n",
    "\n",
    "layout = Layout(\n",
    "    display='flex',\n",
    "    flex_flow='row',\n",
    "    justify_content='space-between',\n",
    ")\n",
    "\n",
    "from ipywidgets import FloatSlider, IntSlider, Checkbox, HBox\n",
    "from collections import OrderedDict\n",
    "from IPython.display import display as idisplay\n",
    "# Build widgets\n",
    "widgets = OrderedDict()\n",
    "widgets[\"N\"] = IntSlider(min=1, max=20000, description = \"N (number of points)\", layout=layout)\n",
    "widgets[\"gravity\"] = FloatSlider(min=0, max=5, description = \"Gravity\", layout=layout)\n",
    "widgets[\"pointsize\"] = IntSlider(min=1, max=100, description = \"Pointsize\", layout=layout)\n",
    "widgets[\"period\"] = FloatSlider(min=0.01, max=5, description = \"Period (time between explosions)\", layout=layout)\n",
    "widgets[\"shrink_with_age\"] = Checkbox(description = \"Shrink points with age\", layout=layout)\n",
    "\n",
    "widgetlinks = [] # You need to hang on to the object returned by traitlink\n",
    "form_items = []\n",
    "for k,w in widgets.items():\n",
    "    c = getattr(ctx, k)\n",
    "    widgetlinks.append(widgetlink(c, w))\n",
    "    #replace the description with a label-widget pair\n",
    "    row = Box([Label(value=w.description), w], layout=layout)\n",
    "    form_items.append(row)\n",
    "    w.description = \"\"\n",
    "\n",
    "form = Box(form_items, layout=Layout(\n",
    "    display='flex',\n",
    "    flex_flow='column',\n",
    "    border='solid 2px',\n",
    "    align_items='stretch',\n",
    "    width='70%'\n",
    "))\n",
    "form\n"
   ]
  },
  {
   "cell_type": "code",
   "execution_count": null,
   "metadata": {
    "collapsed": false,
    "deletable": true,
    "editable": true
   },
   "outputs": [],
   "source": [
    "#  Replace the randomly generated texture with an image\n",
    "ctx.tex_filename.set(\"orca.png\")\n",
    "ctx.tex_radius.set(100)"
   ]
  },
  {
   "cell_type": "code",
   "execution_count": null,
   "metadata": {
    "collapsed": false,
    "deletable": true,
    "editable": true
   },
   "outputs": [],
   "source": [
    "# Define a mask, drawing a text onto it\n",
    "import numpy as np\n",
    "from PyQt5.QtGui import QImage, QFont, QColor\n",
    "from PyQt5.QtCore import Qt\n",
    "from PyQt5.QtGui import QPainter\n",
    "imsize = 1000\n",
    "img = QImage(imsize, imsize, QImage.Format_Grayscale8)\n",
    "img.fill(Qt.white)\n",
    "\n",
    "text = \"Hello world!\"\n",
    "\n",
    "qp = QPainter()\n",
    "try:\n",
    "    qp.begin(img)\n",
    "    qp.setPen(Qt.black)\n",
    "    font = QFont(\"Arial\", 100)\n",
    "    qp.setFont(font)\n",
    "    mx = img.width()\n",
    "    my = img.height()\n",
    "    qp.drawText(0, 0, mx, my, Qt.AlignCenter,text)\n",
    "finally:\n",
    "    qp.end()\n",
    "mask = np.array(img.bits().asarray(img.byteCount())).reshape(img.width(),img.height())\n",
    "ctx.mask = cell(\"array\").set(mask)"
   ]
  },
  {
   "cell_type": "code",
   "execution_count": null,
   "metadata": {
    "collapsed": false,
    "deletable": true,
    "editable": true
   },
   "outputs": [],
   "source": [
    "#  Connect mask to pin\n",
    "pin = ctx.display_texture.display_numpy.array\n",
    "pin.cell().disconnect(pin)\n",
    "ctx.mask.connect(pin)"
   ]
  },
  {
   "cell_type": "code",
   "execution_count": null,
   "metadata": {
    "collapsed": true,
    "deletable": true,
    "editable": true
   },
   "outputs": [],
   "source": [
    "#  Connect texture to pin (undoing the last cell)\n",
    "pin = ctx.display_texture.display_numpy.array\n",
    "pin.cell().disconnect(pin)\n",
    "ctx.texture.connect(pin)"
   ]
  },
  {
   "cell_type": "markdown",
   "metadata": {
    "deletable": true,
    "editable": true
   },
   "source": [
    "**Change the fireworks into exploding letters (step 1)**"
   ]
  },
  {
   "cell_type": "code",
   "execution_count": null,
   "metadata": {
    "collapsed": false,
    "deletable": true,
    "editable": true
   },
   "outputs": [],
   "source": [
    "params = ctx.params_gen_vertexdata.value\n",
    "params[\"mask\"] = {\"pin\": \"input\", \"dtype\": \"array\"}\n",
    "ctx.params_gen_vertexdata.set(params)\n",
    "ctx.mask.connect(ctx.gen_vertexdata.mask)"
   ]
  },
  {
   "cell_type": "markdown",
   "metadata": {
    "deletable": true,
    "editable": true
   },
   "source": [
    "**Change the fireworks into exploding letters (step 2)**\n",
    "\n",
    "In the GUI above, set the point size to 5\n",
    "\n",
    "In line 8 of *cell-gen-vertexdata.py*, change the dispersion from 0.7 to 0.05\n",
    "\n",
    "Then, replace line 7 with the following code:\n",
    "\n",
    "```rotmask = np.rot90(mask, 3) #in (x,y) form\n",
    "start_values0 = np.random.random((1000000, 3))\n",
    "p = (start_values0*len(mask)).astype(np.int)[:,:2]\n",
    "mask_values = rotmask[p[:,0], p[:,1]]\n",
    "start_values0 = start_values0[mask_values==0]\n",
    "start_values = 2*start_values0[:N]-1```\n",
    "\n"
   ]
  },
  {
   "cell_type": "markdown",
   "metadata": {
    "deletable": true,
    "editable": true
   },
   "source": [
    "To undo the exploding letters, change back *cell-gen-vertexdata.py*, and then:"
   ]
  },
  {
   "cell_type": "code",
   "execution_count": null,
   "metadata": {
    "collapsed": false,
    "deletable": true,
    "editable": true
   },
   "outputs": [],
   "source": [
    "params = ctx.params_gen_vertexdata.value\n",
    "params.pop(\"mask\", None)\n",
    "ctx.params_gen_vertexdata.set(params)"
   ]
  }
 ],
 "metadata": {
  "kernelspec": {
   "display_name": "Python 3",
   "language": "python",
   "name": "python3"
  },
  "language_info": {
   "codemirror_mode": {
    "name": "ipython",
    "version": 3
   },
   "file_extension": ".py",
   "mimetype": "text/x-python",
   "name": "python",
   "nbconvert_exporter": "python",
   "pygments_lexer": "ipython3",
   "version": "3.5.2+"
  }
 },
 "nbformat": 4,
 "nbformat_minor": 2
}
