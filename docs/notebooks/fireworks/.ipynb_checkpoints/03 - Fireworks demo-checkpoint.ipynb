{
 "cells": [
  {
   "cell_type": "markdown",
   "metadata": {
    "deletable": true,
    "editable": true
   },
   "source": [
    "# Seamless fireworks demo\n",
    "Example demonstrating simulation of OpenGL-rendered fireworks. Adapted from the Vispy gallery.\n",
    "\n",
    "See the seamless examples directory:\n",
    "- **examples/fireworks/fireworks.py**: script that generates the `fireworks.seamless` context file, used in this notebook\n",
    "- **examples/fireworks/tutorial/steps.ipy**: step-by-step tutorial to set up OpenGL fireworks\n",
    "\n",
    "The `seamless YouTube playlist` https://www.youtube.com/playlist?list=PL6WSTyQSLz08_GQqj-NyshaWnoIZMsqTK\n",
    " contains the following videos\n",
    "- **Demo video** of this notebook\n",
    "- **Step-by-step tutorial** (three parts) \n",
    "\n"
   ]
  },
  {
   "cell_type": "code",
   "execution_count": null,
   "metadata": {
    "collapsed": true,
    "deletable": true,
    "editable": true
   },
   "outputs": [],
   "source": [
    "#  Download fireworks example context\n",
    "import urllib.request\n",
    "url = \"https://raw.githubusercontent.com/sjdv1982/seamless/master/examples/fireworks/fireworks.seamless\"\n",
    "urllib.request.urlretrieve(url, filename = \"fireworks.seamless\")\n",
    "url = \"https://raw.githubusercontent.com/sjdv1982/seamless/master/examples/fireworks/orca.png\"\n",
    "urllib.request.urlretrieve(url, filename = \"orca.png\")"
   ]
  },
  {
   "cell_type": "code",
   "execution_count": 1,
   "metadata": {
    "collapsed": true
   },
   "outputs": [],
   "source": [
    "#  Boilerplate\n",
    "import seamless\n",
    "from seamless import cell, pythoncell, context, reactor, transformer\n",
    "from seamless.lib.gui.basic_editor import edit\n",
    "from seamless.lib.gui.basic_display import display\n",
    "from seamless.lib import link"
   ]
  },
  {
   "cell_type": "code",
   "execution_count": 2,
   "metadata": {
    "collapsed": false
   },
   "outputs": [
    {
     "name": "stderr",
     "output_type": "stream",
     "text": [
      "WARNING, cell '.params_gen_texture' is different from './params_gen_texture.json'\n",
      "WARNING, cell '.params_gen_uniforms' is different from './params_gen_uniforms.json'\n",
      "WARNING, cell '.params_gen_vertexdata' is different from './params_gen_vertexdata.json'\n",
      "WARNING, cell '.vert_shader' is different from './vert_shader.glsl'\n"
     ]
    },
    {
     "name": "stdout",
     "output_type": "stream",
     "text": [
      "Waiting for: ['.glprogram.rc']\n",
      "Waiting for: ['.gen_vertexdata', '.glprogram.rc']\n",
      "Waiting for: ['.glprogram.rc']\n",
      "WARNING: Loading 'fireworks.seamless' before making connections, could not equilibrate within 5 seconds\n",
      "fireworks.seamless LOADED\n"
     ]
    }
   ],
   "source": [
    "ctx = seamless.fromfile(\"fireworks.seamless\")"
   ]
  },
  {
   "cell_type": "code",
   "execution_count": 3,
   "metadata": {
    "collapsed": true
   },
   "outputs": [],
   "source": [
    "#  Piece of code to link a seamless cell and an ipywidget\n",
    "\n",
    "import traitlets\n",
    "from collections import namedtuple\n",
    "import traceback\n",
    "\n",
    "def widgetlink(c, w):\n",
    "    assert isinstance(c, seamless.core.Cell)\n",
    "    assert isinstance(w, traitlets.HasTraits)\n",
    "    assert w.has_trait(\"value\")\n",
    "    handler = lambda d: c.set(d[\"new\"])\n",
    "    value = c.value\n",
    "    if value is not None:\n",
    "        w.value = value\n",
    "    else:\n",
    "        c.set(w.value)\n",
    "    def set_traitlet(value):\n",
    "        try:\n",
    "            w.value = value\n",
    "        except:\n",
    "            traceback.print_exc()\n",
    "    w.observe(handler, names=[\"value\"])\n",
    "    obs = seamless.observer(c, set_traitlet )\n",
    "    result = namedtuple('Widgetlink', [\"unobserve\"])\n",
    "    def unobserve():\n",
    "        nonlocal obs\n",
    "        t[0].unobserve(handler)\n",
    "        del obs  \n",
    "    result.unobserve = unobserve\n",
    "    return result"
   ]
  },
  {
   "cell_type": "code",
   "execution_count": 4,
   "metadata": {
    "collapsed": false,
    "scrolled": true
   },
   "outputs": [
    {
     "data": {
      "application/vnd.jupyter.widget-view+json": {
       "model_id": "406723784d0e4be8beba3d98c9b4918c",
       "version_major": 2,
       "version_minor": 0
      },
      "text/html": [
       "<p>Failed to display Jupyter Widget of type <code>IntSlider</code>.</p>\n",
       "<p>\n",
       "  If you're reading this message in Jupyter Notebook or JupyterLab, it may mean\n",
       "  that the widgets JavaScript is still loading. If this message persists, it\n",
       "  likely means that the widgets JavaScript library is either not installed or\n",
       "  not enabled. See the <a href=\"https://ipywidgets.readthedocs.io/en/stable/user_install.html\">Jupyter\n",
       "  Widgets Documentation</a> for setup instructions.\n",
       "</p>\n",
       "<p>\n",
       "  If you're reading this message in another notebook frontend (for example, a static\n",
       "  rendering on GitHub or <a href=\"https://nbviewer.jupyter.org/\">NBViewer</a>),\n",
       "  it may mean that your frontend doesn't currently support widgets.\n",
       "</p>\n"
      ],
      "text/plain": [
       "IntSlider(value=10000, description='N (number of points)', max=20000, min=1)"
      ]
     },
     "metadata": {},
     "output_type": "display_data"
    },
    {
     "data": {
      "application/vnd.jupyter.widget-view+json": {
       "model_id": "4fbee061ffa641bd88f68e86f782bae8",
       "version_major": 2,
       "version_minor": 0
      },
      "text/html": [
       "<p>Failed to display Jupyter Widget of type <code>FloatSlider</code>.</p>\n",
       "<p>\n",
       "  If you're reading this message in Jupyter Notebook or JupyterLab, it may mean\n",
       "  that the widgets JavaScript is still loading. If this message persists, it\n",
       "  likely means that the widgets JavaScript library is either not installed or\n",
       "  not enabled. See the <a href=\"https://ipywidgets.readthedocs.io/en/stable/user_install.html\">Jupyter\n",
       "  Widgets Documentation</a> for setup instructions.\n",
       "</p>\n",
       "<p>\n",
       "  If you're reading this message in another notebook frontend (for example, a static\n",
       "  rendering on GitHub or <a href=\"https://nbviewer.jupyter.org/\">NBViewer</a>),\n",
       "  it may mean that your frontend doesn't currently support widgets.\n",
       "</p>\n"
      ],
      "text/plain": [
       "FloatSlider(value=1.0, description='Gravity', max=5.0)"
      ]
     },
     "metadata": {},
     "output_type": "display_data"
    },
    {
     "data": {
      "application/vnd.jupyter.widget-view+json": {
       "model_id": "b524bc8d04654a92a8186b4735af28e9",
       "version_major": 2,
       "version_minor": 0
      },
      "text/html": [
       "<p>Failed to display Jupyter Widget of type <code>IntSlider</code>.</p>\n",
       "<p>\n",
       "  If you're reading this message in Jupyter Notebook or JupyterLab, it may mean\n",
       "  that the widgets JavaScript is still loading. If this message persists, it\n",
       "  likely means that the widgets JavaScript library is either not installed or\n",
       "  not enabled. See the <a href=\"https://ipywidgets.readthedocs.io/en/stable/user_install.html\">Jupyter\n",
       "  Widgets Documentation</a> for setup instructions.\n",
       "</p>\n",
       "<p>\n",
       "  If you're reading this message in another notebook frontend (for example, a static\n",
       "  rendering on GitHub or <a href=\"https://nbviewer.jupyter.org/\">NBViewer</a>),\n",
       "  it may mean that your frontend doesn't currently support widgets.\n",
       "</p>\n"
      ],
      "text/plain": [
       "IntSlider(value=40, description='Pointsize', min=1)"
      ]
     },
     "metadata": {},
     "output_type": "display_data"
    },
    {
     "data": {
      "application/vnd.jupyter.widget-view+json": {
       "model_id": "0c7a78b7011d4d99b1ea63c24fc748a3",
       "version_major": 2,
       "version_minor": 0
      },
      "text/html": [
       "<p>Failed to display Jupyter Widget of type <code>FloatSlider</code>.</p>\n",
       "<p>\n",
       "  If you're reading this message in Jupyter Notebook or JupyterLab, it may mean\n",
       "  that the widgets JavaScript is still loading. If this message persists, it\n",
       "  likely means that the widgets JavaScript library is either not installed or\n",
       "  not enabled. See the <a href=\"https://ipywidgets.readthedocs.io/en/stable/user_install.html\">Jupyter\n",
       "  Widgets Documentation</a> for setup instructions.\n",
       "</p>\n",
       "<p>\n",
       "  If you're reading this message in another notebook frontend (for example, a static\n",
       "  rendering on GitHub or <a href=\"https://nbviewer.jupyter.org/\">NBViewer</a>),\n",
       "  it may mean that your frontend doesn't currently support widgets.\n",
       "</p>\n"
      ],
      "text/plain": [
       "FloatSlider(value=1.5, description='Period (time between explosions)', max=5.0, min=0.01)"
      ]
     },
     "metadata": {},
     "output_type": "display_data"
    },
    {
     "data": {
      "application/vnd.jupyter.widget-view+json": {
       "model_id": "a93d786e7fd945b0803803a33384422b",
       "version_major": 2,
       "version_minor": 0
      },
      "text/html": [
       "<p>Failed to display Jupyter Widget of type <code>Checkbox</code>.</p>\n",
       "<p>\n",
       "  If you're reading this message in Jupyter Notebook or JupyterLab, it may mean\n",
       "  that the widgets JavaScript is still loading. If this message persists, it\n",
       "  likely means that the widgets JavaScript library is either not installed or\n",
       "  not enabled. See the <a href=\"https://ipywidgets.readthedocs.io/en/stable/user_install.html\">Jupyter\n",
       "  Widgets Documentation</a> for setup instructions.\n",
       "</p>\n",
       "<p>\n",
       "  If you're reading this message in another notebook frontend (for example, a static\n",
       "  rendering on GitHub or <a href=\"https://nbviewer.jupyter.org/\">NBViewer</a>),\n",
       "  it may mean that your frontend doesn't currently support widgets.\n",
       "</p>\n"
      ],
      "text/plain": [
       "Checkbox(value=True, description='Shrink points with age')"
      ]
     },
     "metadata": {},
     "output_type": "display_data"
    },
    {
     "name": "stdout",
     "output_type": "stream",
     "text": [
      "Macro object re-evaluation Seamless cell: .period 0 .timer\n",
      "DONE DESTROY\n",
      "CONNECTION: mode 'output', source ('trigger',), dest Seamless cell: .display_texture.cell17\n",
      "CONNECTION: mode 'output', source ('trigger',), dest Seamless cell: .display_texture.cell18\n",
      "Macro object re-evaluation Seamless cell: .period 0 .timer\n",
      "DONE DESTROY\n",
      "CONNECTION: mode 'output', source ('trigger',), dest Seamless cell: .display_texture.cell17\n",
      "CONNECTION: mode 'output', source ('trigger',), dest Seamless cell: .display_texture.cell18\n",
      "Macro object re-evaluation Seamless cell: .period 0 .timer\n",
      "DONE DESTROY\n",
      "CONNECTION: mode 'output', source ('trigger',), dest Seamless cell: .display_texture.cell17\n",
      "CONNECTION: mode 'output', source ('trigger',), dest Seamless cell: .display_texture.cell18\n",
      "Macro object re-evaluation Seamless cell: .period 0 .timer\n",
      "DONE DESTROY\n",
      "CONNECTION: mode 'output', source ('trigger',), dest Seamless cell: .display_texture.cell17\n",
      "CONNECTION: mode 'output', source ('trigger',), dest Seamless cell: .display_texture.cell18\n",
      "Macro object re-evaluation Seamless cell: .period 0 .timer\n",
      "DONE DESTROY\n",
      "CONNECTION: mode 'output', source ('trigger',), dest Seamless cell: .display_texture.cell17\n",
      "CONNECTION: mode 'output', source ('trigger',), dest Seamless cell: .display_texture.cell18\n",
      "Macro object re-evaluation Seamless cell: .period 0 .timer\n",
      "DONE DESTROY\n",
      "CONNECTION: mode 'output', source ('trigger',), dest Seamless cell: .display_texture.cell17\n",
      "CONNECTION: mode 'output', source ('trigger',), dest Seamless cell: .display_texture.cell18\n",
      "Macro object re-evaluation Seamless cell: .period 0 .timer\n",
      "DONE DESTROY\n",
      "CONNECTION: mode 'output', source ('trigger',), dest Seamless cell: .display_texture.cell17\n",
      "CONNECTION: mode 'output', source ('trigger',), dest Seamless cell: .display_texture.cell18\n",
      "Macro object re-evaluation Seamless cell: .period 0 .timer\n",
      "DONE DESTROY\n",
      "CONNECTION: mode 'output', source ('trigger',), dest Seamless cell: .display_texture.cell17\n",
      "CONNECTION: mode 'output', source ('trigger',), dest Seamless cell: .display_texture.cell18\n",
      "Macro object re-evaluation Seamless cell: .period 0 .timer\n",
      "DONE DESTROY\n",
      "CONNECTION: mode 'output', source ('trigger',), dest Seamless cell: .display_texture.cell17\n",
      "CONNECTION: mode 'output', source ('trigger',), dest Seamless cell: .display_texture.cell18\n",
      "Macro object re-evaluation Seamless cell: .period 0 .timer\n",
      "DONE DESTROY\n",
      "CONNECTION: mode 'output', source ('trigger',), dest Seamless cell: .display_texture.cell17\n",
      "CONNECTION: mode 'output', source ('trigger',), dest Seamless cell: .display_texture.cell18\n",
      "Macro object re-evaluation Seamless cell: .period 0 .timer\n",
      "DONE DESTROY\n",
      "CONNECTION: mode 'output', source ('trigger',), dest Seamless cell: .display_texture.cell17\n",
      "CONNECTION: mode 'output', source ('trigger',), dest Seamless cell: .display_texture.cell18\n",
      "Macro object re-evaluation Seamless cell: .period 0 .timer\n",
      "DONE DESTROY\n",
      "CONNECTION: mode 'output', source ('trigger',), dest Seamless cell: .display_texture.cell17\n",
      "CONNECTION: mode 'output', source ('trigger',), dest Seamless cell: .display_texture.cell18\n",
      "Macro object re-evaluation Seamless cell: .period 0 .timer\n",
      "DONE DESTROY\n",
      "CONNECTION: mode 'output', source ('trigger',), dest Seamless cell: .display_texture.cell17\n",
      "CONNECTION: mode 'output', source ('trigger',), dest Seamless cell: .display_texture.cell18\n",
      "Macro object re-evaluation Seamless cell: .period 0 .timer\n",
      "DONE DESTROY\n",
      "CONNECTION: mode 'output', source ('trigger',), dest Seamless cell: .display_texture.cell17\n",
      "CONNECTION: mode 'output', source ('trigger',), dest Seamless cell: .display_texture.cell18\n",
      "Macro object re-evaluation Seamless cell: .period 0 .timer\n",
      "DONE DESTROY\n",
      "CONNECTION: mode 'output', source ('trigger',), dest Seamless cell: .display_texture.cell17\n",
      "CONNECTION: mode 'output', source ('trigger',), dest Seamless cell: .display_texture.cell18\n",
      "Macro object re-evaluation Seamless cell: .period 0 .timer\n",
      "DONE DESTROY\n",
      "CONNECTION: mode 'output', source ('trigger',), dest Seamless cell: .display_texture.cell17\n",
      "CONNECTION: mode 'output', source ('trigger',), dest Seamless cell: .display_texture.cell18\n",
      "Macro object re-evaluation Seamless cell: .period 0 .timer\n",
      "DONE DESTROY\n",
      "CONNECTION: mode 'output', source ('trigger',), dest Seamless cell: .display_texture.cell17\n",
      "CONNECTION: mode 'output', source ('trigger',), dest Seamless cell: .display_texture.cell18\n",
      "Macro object re-evaluation Seamless cell: .period 0 .timer\n",
      "DONE DESTROY\n",
      "CONNECTION: mode 'output', source ('trigger',), dest Seamless cell: .display_texture.cell17\n",
      "CONNECTION: mode 'output', source ('trigger',), dest Seamless cell: .display_texture.cell18\n",
      "Macro object re-evaluation Seamless cell: .period 0 .timer\n",
      "DONE DESTROY\n",
      "CONNECTION: mode 'output', source ('trigger',), dest Seamless cell: .display_texture.cell17\n",
      "CONNECTION: mode 'output', source ('trigger',), dest Seamless cell: .display_texture.cell18\n",
      "Macro object re-evaluation Seamless cell: .period 0 .timer\n",
      "DONE DESTROY\n",
      "CONNECTION: mode 'output', source ('trigger',), dest Seamless cell: .display_texture.cell17\n",
      "CONNECTION: mode 'output', source ('trigger',), dest Seamless cell: .display_texture.cell18\n",
      "Macro object re-evaluation Seamless cell: .period 0 .timer\n",
      "DONE DESTROY\n",
      "CONNECTION: mode 'output', source ('trigger',), dest Seamless cell: .display_texture.cell17\n",
      "CONNECTION: mode 'output', source ('trigger',), dest Seamless cell: .display_texture.cell18\n",
      "Macro object re-evaluation Seamless cell: .period 0 .timer\n",
      "DONE DESTROY\n",
      "CONNECTION: mode 'output', source ('trigger',), dest Seamless cell: .display_texture.cell17\n",
      "CONNECTION: mode 'output', source ('trigger',), dest Seamless cell: .display_texture.cell18\n",
      "Macro object re-evaluation Seamless cell: .period 0 .timer\n",
      "DONE DESTROY\n",
      "CONNECTION: mode 'output', source ('trigger',), dest Seamless cell: .display_texture.cell17\n",
      "CONNECTION: mode 'output', source ('trigger',), dest Seamless cell: .display_texture.cell18\n",
      "Macro object re-evaluation Seamless cell: .period 0 .timer\n",
      "DONE DESTROY\n",
      "CONNECTION: mode 'output', source ('trigger',), dest Seamless cell: .display_texture.cell17\n",
      "CONNECTION: mode 'output', source ('trigger',), dest Seamless cell: .display_texture.cell18\n",
      "Macro object re-evaluation Seamless cell: .period 0 .timer\n",
      "DONE DESTROY\n",
      "CONNECTION: mode 'output', source ('trigger',), dest Seamless cell: .display_texture.cell17\n",
      "CONNECTION: mode 'output', source ('trigger',), dest Seamless cell: .display_texture.cell18\n",
      "Macro object re-evaluation Seamless cell: .period 0 .timer\n",
      "DONE DESTROY\n",
      "CONNECTION: mode 'output', source ('trigger',), dest Seamless cell: .display_texture.cell17\n",
      "CONNECTION: mode 'output', source ('trigger',), dest Seamless cell: .display_texture.cell18\n",
      "Macro object re-evaluation Seamless cell: .period 0 .timer\n",
      "DONE DESTROY\n",
      "CONNECTION: mode 'output', source ('trigger',), dest Seamless cell: .display_texture.cell17\n",
      "CONNECTION: mode 'output', source ('trigger',), dest Seamless cell: .display_texture.cell18\n",
      "Macro object re-evaluation Seamless cell: .period 0 .timer\n",
      "DONE DESTROY\n",
      "CONNECTION: mode 'output', source ('trigger',), dest Seamless cell: .display_texture.cell17\n",
      "CONNECTION: mode 'output', source ('trigger',), dest Seamless cell: .display_texture.cell18\n",
      "Macro object re-evaluation Seamless cell: .period 0 .timer\n",
      "DONE DESTROY\n",
      "CONNECTION: mode 'output', source ('trigger',), dest Seamless cell: .display_texture.cell17\n",
      "CONNECTION: mode 'output', source ('trigger',), dest Seamless cell: .display_texture.cell18\n"
     ]
    }
   ],
   "source": [
    "# Clean up any old widgetlinks, created by repeated execution of this cell\n",
    "try:\n",
    "    for w in widgetlinks:\n",
    "        widget.unobserve()\n",
    "except NameError:\n",
    "    pass\n",
    "\n",
    "from ipywidgets import FloatSlider, IntSlider, Checkbox\n",
    "from collections import OrderedDict\n",
    "from IPython.display import display as idisplay\n",
    "\n",
    "widgets = OrderedDict()\n",
    "widgets[\"N\"] = IntSlider(min=1, max=20000, description = \"N (number of points)\")\n",
    "widgets[\"gravity\"] = FloatSlider(min=0, max=5, description = \"Gravity\")\n",
    "widgets[\"pointsize\"] = IntSlider(min=1, max=100, description = \"Pointsize\")\n",
    "widgets[\"period\"] = FloatSlider(min=0.01, max=5, description = \"Period (time between explosions)\")\n",
    "widgets[\"shrink_with_age\"] = Checkbox(description = \"Shrink points with age\")\n",
    "widgetlinks = [] # You need to hang on to the object returned by traitlink\n",
    "for k,w in widgets.items():\n",
    "    c = getattr(ctx, k)\n",
    "    widgetlinks.append(widgetlink(c, w))\n",
    "    idisplay(w)\n"
   ]
  },
  {
   "cell_type": "code",
   "execution_count": 4,
   "metadata": {
    "collapsed": false
   },
   "outputs": [
    {
     "data": {
      "text/plain": [
       "['N', 'frag_shader', 'gravity', 'params_gen_texture', 'params_gen_uniforms', 'params_gen_vertexdata', 'period', 'pointsize', 'program', 'program_template', 'repaint', 'shrink_with_age', 'silk_vertexdata', 'tex_filename', 'tex_radius', 'texture', 'uniforms', 'vert_shader', 'vertexdata']"
      ]
     },
     "execution_count": 4,
     "metadata": {},
     "output_type": "execute_result"
    }
   ],
   "source": [
    "ctx.CELLS"
   ]
  },
  {
   "cell_type": "code",
   "execution_count": 16,
   "metadata": {
    "collapsed": true
   },
   "outputs": [],
   "source": [
    "IntSlider?"
   ]
  },
  {
   "cell_type": "code",
   "execution_count": 19,
   "metadata": {
    "collapsed": false
   },
   "outputs": [
    {
     "data": {
      "application/vnd.jupyter.widget-view+json": {
       "model_id": "ce5cd5261ccc482488bd2517d0ce238b",
       "version_major": 2,
       "version_minor": 0
      },
      "text/html": [
       "<p>Failed to display Jupyter Widget of type <code>SliderStyle</code>.</p>\n",
       "<p>\n",
       "  If you're reading this message in Jupyter Notebook or JupyterLab, it may mean\n",
       "  that the widgets JavaScript is still loading. If this message persists, it\n",
       "  likely means that the widgets JavaScript library is either not installed or\n",
       "  not enabled. See the <a href=\"https://ipywidgets.readthedocs.io/en/stable/user_install.html\">Jupyter\n",
       "  Widgets Documentation</a> for setup instructions.\n",
       "</p>\n",
       "<p>\n",
       "  If you're reading this message in another notebook frontend (for example, a static\n",
       "  rendering on GitHub or <a href=\"https://nbviewer.jupyter.org/\">NBViewer</a>),\n",
       "  it may mean that your frontend doesn't currently support widgets.\n",
       "</p>\n"
      ],
      "text/plain": [
       "SliderStyle()"
      ]
     },
     "metadata": {},
     "output_type": "display_data"
    }
   ],
   "source": [
    "w=widgets[\"N\"]\n",
    "w.widgets."
   ]
  },
  {
   "cell_type": "code",
   "execution_count": null,
   "metadata": {
    "collapsed": true
   },
   "outputs": [],
   "source": []
  }
 ],
 "metadata": {
  "kernelspec": {
   "display_name": "Python 3",
   "language": "python",
   "name": "python3"
  },
  "language_info": {
   "codemirror_mode": {
    "name": "ipython",
    "version": 3
   },
   "file_extension": ".py",
   "mimetype": "text/x-python",
   "name": "python",
   "nbconvert_exporter": "python",
   "pygments_lexer": "ipython3",
   "version": "3.5.2+"
  }
 },
 "nbformat": 4,
 "nbformat_minor": 2
}
