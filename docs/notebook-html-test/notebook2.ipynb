{
 "cells": [
  {
   "cell_type": "code",
   "execution_count": 5,
   "metadata": {},
   "outputs": [
    {
     "data": {
      "text/html": [
       "<iframe src=\"./index.html\"/>\n"
      ],
      "text/plain": [
       "<IPython.core.display.HTML object>"
      ]
     },
     "metadata": {},
     "output_type": "display_data"
    }
   ],
   "source": [
    "%%html\n",
    "<iframe src=\"./index.html\"/>"
   ]
  },
  {
   "cell_type": "code",
   "execution_count": 17,
   "metadata": {},
   "outputs": [
    {
     "data": {
      "text/html": [
       "<!DOCTYPE html>\n",
       "<html lang=\"en\" >\n",
       "<head>\n",
       "  <meta charset=\"UTF-8\"></meta>\n",
       "  <meta name=\"viewport\" content=\"width=device-width, height=400px, initial-scale=1.0\"></meta>\n",
       "  <title>CodePen - A Pen by  Sjoerd de Vries</title>\n",
       "  \n",
       "\n",
       "</head>\n",
       "<body>\n",
       "<div id=\"test\" height=\"400px\"></div>\n",
       "  <script  src=\"./script.js\"></script>\n",
       "\n",
       "</body>\n",
       "</html>\n"
      ],
      "text/plain": [
       "<IPython.core.display.HTML object>"
      ]
     },
     "metadata": {
      "text/html": {
       "isolated": true
      }
     },
     "output_type": "display_data"
    }
   ],
   "source": [
    "%%html --isolated\n",
    "<!DOCTYPE html>\n",
    "<html lang=\"en\" >\n",
    "<head>\n",
    "  <meta charset=\"UTF-8\"></meta>\n",
    "  <meta name=\"viewport\" content=\"width=device-width, height=400px, initial-scale=1.0\"></meta>\n",
    "  <title>CodePen - A Pen by  Sjoerd de Vries</title>\n",
    "  \n",
    "\n",
    "</head>\n",
    "<body>\n",
    "<div id=\"test\" height=\"400px\"></div>\n",
    "<textarea height=\"400px\"/>\n",
    "  <script  src=\"./script.js\"></script>\n",
    "\n",
    "</body>\n",
    "</html>"
   ]
  },
  {
   "cell_type": "code",
   "execution_count": null,
   "metadata": {},
   "outputs": [],
   "source": []
  }
 ],
 "metadata": {
  "kernelspec": {
   "display_name": "Python 3",
   "language": "python",
   "name": "python3"
  },
  "language_info": {
   "codemirror_mode": {
    "name": "ipython",
    "version": 3
   },
   "file_extension": ".py",
   "mimetype": "text/x-python",
   "name": "python",
   "nbconvert_exporter": "python",
   "pygments_lexer": "ipython3",
   "version": "3.7.5"
  }
 },
 "nbformat": 4,
 "nbformat_minor": 2
}
